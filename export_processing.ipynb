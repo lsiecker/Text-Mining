{
 "cells": [
  {
   "cell_type": "code",
   "execution_count": 9,
   "metadata": {},
   "outputs": [
    {
     "name": "stdout",
     "output_type": "stream",
     "text": [
      "The autoreload extension is already loaded. To reload it, use:\n",
      "  %reload_ext autoreload\n"
     ]
    }
   ],
   "source": [
    "%load_ext autoreload\n",
    "%autoreload 2"
   ]
  },
  {
   "cell_type": "markdown",
   "metadata": {},
   "source": [
    "# Processing Label Studio Exports for Spacy\n",
    "This notebook processes exports from Label Studio for use in Spacy."
   ]
  },
  {
   "cell_type": "code",
   "execution_count": 10,
   "metadata": {},
   "outputs": [],
   "source": [
    "import preprocessor\n",
    "from preprocessor import Preprocessor\n",
    "\n",
    "ROOT_DIR = preprocessor.ROOT_DIR\n",
    "DATA_PATH = preprocessor.DATA_PATH\n",
    "\n",
    "preprocessor = Preprocessor(ROOT_DIR)"
   ]
  },
  {
   "cell_type": "markdown",
   "metadata": {},
   "source": [
    "## 1. Loading the Data\n",
    "### 1.1. Loading JSON export from Label Studio\n",
    "The first step is to load the JSON export from Label Studio. This is done using the `json` library and the predefined function `LoadFile` from the Preprocessor class."
   ]
  },
  {
   "cell_type": "code",
   "execution_count": 11,
   "metadata": {},
   "outputs": [],
   "source": [
    "export_data = preprocessor.loadFile('label_studio_test_notebook_290923.json')"
   ]
  },
  {
   "cell_type": "markdown",
   "metadata": {},
   "source": [
    "The exported data constists of all the annotations from a specific text of all the users. The first annotated text in the exported data file looks something like the following:"
   ]
  },
  {
   "cell_type": "code",
   "execution_count": 12,
   "metadata": {},
   "outputs": [
    {
     "name": "stdout",
     "output_type": "stream",
     "text": [
      "{'id': 70476151, 'annotations': [{'id': 22565484, 'completed_by': {'id': 12641, 'email': 'd.p.m.v.d.hoorn@student.tue.nl', 'first_name': '', 'last_name': ''}, 'result': [{'id': 'tBYLAMaY7Q', 'type': 'labels', 'value': {'end': 18, 'text': 'Chartres Cathedral', 'start': 0, 'labels': ['landmark_name']}, 'origin': 'manual', 'to_name': 'text', 'from_name': 'label'}, {'id': 'rXo1WB9tDL', 'type': 'labels', 'value': {'end': 71, 'text': 'Cathedral of Our Lady of Chartres', 'start': 38, 'labels': ['landmark_name']}, 'origin': 'manual', 'to_name': 'text', 'from_name': 'label'}, {'id': 'jt997QSCPu', 'type': 'labels', 'value': {'end': 96, 'text': 'Catholic church', 'start': 81, 'labels': ['type']}, 'origin': 'manual', 'to_name': 'text', 'from_name': 'label'}, {'id': 'eWtbXE3SqW', 'type': 'labels', 'value': {'end': 108, 'text': 'Chartres', 'start': 100, 'labels': ['location']}, 'origin': 'manual', 'to_name': 'text', 'from_name': 'label'}, {'id': '8FJnNiKvM2', 'type': 'labels', 'value': {'end': 116, 'text': 'France', 'start': 110, 'labels': ['location']}, 'origin': 'manual', 'to_name': 'text', 'from_name': 'label'}, {'id': '5QsMBaCfbf', 'type': 'labels', 'value': {'end': 142, 'text': 'Paris', 'start': 137, 'labels': ['location']}, 'origin': 'manual', 'to_name': 'text', 'from_name': 'label'}, {'id': '98OVH8kqMo', 'type': 'labels', 'value': {'end': 185, 'text': 'the Bishop of Chartres', 'start': 163, 'labels': ['occupation']}, 'origin': 'manual', 'to_name': 'text', 'from_name': 'label'}, {'id': 'XxLRI8VZzB', 'type': 'labels', 'value': {'end': 227, 'text': 'between 1194 and 1220', 'start': 206, 'labels': ['date']}, 'origin': 'manual', 'to_name': 'text', 'from_name': 'label'}, {'id': 'YxUyZexs82', 'type': 'labels', 'value': {'end': 267, 'text': 'five', 'start': 263, 'labels': ['number']}, 'origin': 'manual', 'to_name': 'text', 'from_name': 'label'}, {'id': 'ueq_zsjHGU', 'type': 'labels', 'value': {'end': 336, 'text': 'the Diocese of Chartres', 'start': 313, 'labels': ['people']}, 'origin': 'manual', 'to_name': 'text', 'from_name': 'label'}, {'id': '3VbdkKDmSx', 'type': 'labels', 'value': {'end': 363, 'text': 'episcopal', 'start': 354, 'labels': ['people']}, 'origin': 'manual', 'to_name': 'text', 'from_name': 'label'}, {'id': 'RuMdDve99q', 'type': 'labels', 'value': {'end': 386, 'text': 'in the 4th century', 'start': 368, 'labels': ['date']}, 'origin': 'manual', 'to_name': 'text', 'from_name': 'label'}, {'id': 'fWOLrqi2qp', 'type': 'labels', 'value': {'end': 492, 'text': 'High Gothic and Classic Gothic architecture', 'start': 449, 'labels': ['type']}, 'origin': 'manual', 'to_name': 'text', 'from_name': 'label'}, {'id': '6GiMtw4CRf', 'type': 'labels', 'value': {'end': 527, 'text': 'Romanesque basements', 'start': 507, 'labels': ['component']}, 'origin': 'manual', 'to_name': 'text', 'from_name': 'label'}, {'id': 'PvzmgsR2aX', 'type': 'labels', 'value': {'end': 550, 'text': 'north spire', 'start': 539, 'labels': ['component']}, 'origin': 'manual', 'to_name': 'text', 'from_name': 'label'}, {'id': 'n6jakB7DkB', 'type': 'labels', 'value': {'end': 571, 'text': '1507', 'start': 567, 'labels': ['date']}, 'origin': 'manual', 'to_name': 'text', 'from_name': 'label'}, {'id': 'jYpVAXndk2', 'type': 'labels', 'value': {'end': 575, 'text': '1513', 'start': 571, 'labels': ['date']}, 'origin': 'manual', 'to_name': 'text', 'from_name': 'label'}, {'id': 'Go1V_aF5rE', 'type': 'labels', 'value': {'end': 625, 'text': 'Flamboyant style', 'start': 609, 'labels': ['type']}, 'origin': 'manual', 'to_name': 'text', 'from_name': 'label'}, {'id': '8RhiKr5I8q', 'type': 'labels', 'value': {'end': 205, 'text': 'constructed', 'start': 194, 'labels': ['condition']}, 'origin': 'manual', 'to_name': 'text', 'from_name': 'label'}, {'id': 'V6RYHJdwwv', 'type': 'labels', 'value': {'end': 589, 'text': 'built', 'start': 584, 'labels': ['condition']}, 'origin': 'manual', 'to_name': 'text', 'from_name': 'label'}, {'type': 'relation', 'to_id': 'rXo1WB9tDL', 'labels': ['org:is_similar_to'], 'from_id': 'tBYLAMaY7Q', 'direction': 'right'}, {'type': 'relation', 'to_id': 'jt997QSCPu', 'labels': ['org:is_type'], 'from_id': 'tBYLAMaY7Q', 'direction': 'right'}, {'type': 'relation', 'to_id': 'eWtbXE3SqW', 'labels': ['org:located_in'], 'from_id': 'tBYLAMaY7Q', 'direction': 'right'}, {'type': 'relation', 'to_id': '8FJnNiKvM2', 'labels': ['org:located_in'], 'from_id': 'tBYLAMaY7Q', 'direction': 'right'}, {'type': 'relation', 'to_id': 'fWOLrqi2qp', 'labels': ['org:is_type'], 'from_id': 'tBYLAMaY7Q', 'direction': 'right'}, {'type': 'relation', 'to_id': '6GiMtw4CRf', 'labels': ['org:has_component'], 'from_id': 'tBYLAMaY7Q', 'direction': 'right'}, {'type': 'relation', 'to_id': 'PvzmgsR2aX', 'labels': ['org:has_component'], 'from_id': 'tBYLAMaY7Q', 'direction': 'right'}, {'type': 'relation', 'to_id': 'Go1V_aF5rE', 'labels': ['org:is_type'], 'from_id': 'tBYLAMaY7Q', 'direction': 'right'}, {'type': 'relation', 'to_id': '8RhiKr5I8q', 'labels': ['org:is_condition'], 'from_id': 'tBYLAMaY7Q', 'direction': 'right'}, {'type': 'relation', 'to_id': 'XxLRI8VZzB', 'labels': ['org:happened_on'], 'from_id': '8RhiKr5I8q', 'direction': 'right'}, {'type': 'relation', 'to_id': 'V6RYHJdwwv', 'labels': ['org:is_condition'], 'from_id': 'tBYLAMaY7Q', 'direction': 'right'}, {'type': 'relation', 'to_id': 'n6jakB7DkB', 'labels': ['org:happened_on'], 'from_id': 'V6RYHJdwwv', 'direction': 'right'}, {'type': 'relation', 'to_id': 'jYpVAXndk2', 'labels': ['org:happened_on'], 'from_id': 'V6RYHJdwwv', 'direction': 'right'}], 'reviews': [], 'was_cancelled': False, 'ground_truth': False, 'created_at': '2023-09-28T16:09:00.222565Z', 'updated_at': '2023-09-28T16:09:00.222585Z', 'draft_created_at': '2023-09-28T15:58:17.575724Z', 'lead_time': 748.398, 'prediction': {}, 'result_count': 0, 'unique_id': 'a183b0cc-9fa0-40e0-a7cc-22ab44778db2', 'import_id': None, 'last_action': 'submitted', 'task': 70476151, 'project': 41784, 'updated_by': 12641, 'parent_prediction': None, 'parent_annotation': None, 'last_created_by': 12641}], 'file_upload': 'e25a881a-chartrescathedral.json', 'drafts': [], 'predictions': [], 'agreement': 100.0, 'data': {'text': 'Chartres Cathedral, also known as the Cathedral of Our Lady of Chartres (), is a Catholic church in Chartres, France, about southwest of Paris, and is the seat of the Bishop of Chartres. Mostly constructed between 1194 and 1220, it stands on the site of at least five cathedrals that have occupied the site since the Diocese of Chartres was formed as an episcopal see in the 4th century. It is one of the best-known and most influential examples of High Gothic and Classic Gothic architecture, It stands on Romanesque basements, while its north spire is more recent (15071513) and is built in the more ornate Flamboyant style.', 'title': 'Chartres Cathedral'}, 'meta': {}, 'created_at': '2023-09-28T12:38:37.493671Z', 'updated_at': '2023-09-28T16:09:00.310863Z', 'inner_id': 35, 'total_annotations': 1, 'cancelled_annotations': 0, 'total_predictions': 0, 'comment_count': 0, 'unresolved_comment_count': 0, 'last_comment_updated_at': None, 'project': 41784, 'updated_by': 12641, 'comment_authors': []}\n"
     ]
    }
   ],
   "source": [
    "print(export_data[0])"
   ]
  },
  {
   "cell_type": "markdown",
   "metadata": {},
   "source": [
    "### 1.2 Converting to Spacy training format:\n",
    "To provide custom labels to Spacy, we need to convert the data to the following format:\n",
    "\n",
    "```python\n",
    "training_data = [\n",
    "  (\"Tokyo Tower is 333m tall.\", [(0, 11, \"BUILDING\"), (20, 23, \"HEIGHT\")]),\n",
    "]\n",
    "```\n",
    "\n",
    "The `process_export` function from the preprocessor can fix this for us, it retrieves the training data in the given format, in combination with the labels and their relationship"
   ]
  },
  {
   "cell_type": "code",
   "execution_count": 13,
   "metadata": {},
   "outputs": [],
   "source": [
    "training_data, relation_data = preprocessor.process_export(export_data)"
   ]
  },
  {
   "cell_type": "markdown",
   "metadata": {},
   "source": [
    "### 1.3 Checking results\n",
    "We can print the first 5 relations to check whether it was done correctly."
   ]
  },
  {
   "cell_type": "code",
   "execution_count": 14,
   "metadata": {},
   "outputs": [
    {
     "name": "stdout",
     "output_type": "stream",
     "text": [
      "Labels: ('Chartres Cathedral', 'Cathedral of Our Lady of Chartres')\n",
      "Relations: ['org:is_similar_to']\n",
      "\n",
      "Labels: ('Chartres Cathedral', 'Catholic church')\n",
      "Relations: ['org:is_type']\n",
      "\n",
      "Labels: ('Chartres Cathedral', 'Chartres')\n",
      "Relations: ['org:located_in']\n",
      "\n",
      "Labels: ('Chartres Cathedral', 'France')\n",
      "Relations: ['org:located_in']\n",
      "\n",
      "Labels: ('Chartres Cathedral', 'High Gothic and Classic Gothic architecture')\n",
      "Relations: ['org:is_type']\n",
      "\n"
     ]
    }
   ],
   "source": [
    "for i, (label, relations) in enumerate(relation_data.items()):\n",
    "    if i > 4:\n",
    "        break\n",
    "    print(f\"Labels: {label}\")\n",
    "    print(f\"Relations: {relations}\")\n",
    "    print()"
   ]
  },
  {
   "cell_type": "markdown",
   "metadata": {},
   "source": [
    "The same can be done for the labels, which are stored in a dictionary. Lets only print the first one."
   ]
  },
  {
   "cell_type": "code",
   "execution_count": 15,
   "metadata": {},
   "outputs": [
    {
     "name": "stdout",
     "output_type": "stream",
     "text": [
      "Training data info item 1 \n",
      "text:\n",
      "Chartres Cathedral, also known as the Cathedral of Our Lady of Chartres (), is a Catholic church in Chartres, France, about southwest of Paris, and is the seat of the Bishop of Chartres. Mostly constructed between 1194 and 1220, it stands on the site of at least five cathedrals that have occupied the site since the Diocese of Chartres was formed as an episcopal see in the 4th century. It is one of the best-known and most influential examples of High Gothic and Classic Gothic architecture, It stands on Romanesque basements, while its north spire is more recent (15071513) and is built in the more ornate Flamboyant style.\n",
      "Labels:\n",
      "(0, 18, 'landmark_name')\n",
      "(38, 71, 'landmark_name')\n",
      "(81, 96, 'type')\n",
      "(100, 108, 'location')\n",
      "(110, 116, 'location')\n",
      "(137, 142, 'location')\n",
      "(163, 185, 'occupation')\n",
      "(206, 227, 'date')\n",
      "(263, 267, 'number')\n",
      "(313, 336, 'people')\n",
      "(354, 363, 'people')\n",
      "(368, 386, 'date')\n",
      "(449, 492, 'type')\n",
      "(507, 527, 'component')\n",
      "(539, 550, 'component')\n",
      "(567, 571, 'date')\n",
      "(571, 575, 'date')\n",
      "(609, 625, 'type')\n",
      "(194, 205, 'condition')\n",
      "(584, 589, 'condition')\n"
     ]
    }
   ],
   "source": [
    "print(\"Training data info item 1 \\ntext:\")\n",
    "print(training_data[0][0])\n",
    "print(\"Labels:\")\n",
    "print(*training_data[0][1], sep = \"\\n\")"
   ]
  },
  {
   "cell_type": "markdown",
   "metadata": {},
   "source": [
    "### 1.4 Preparing the data for Spacy\n",
    "The data is now in the correct format, so it can be processed and saved as Spacy training file using the `preprocess_spacy` function from the `Preprocessor` class."
   ]
  },
  {
   "cell_type": "code",
   "execution_count": 20,
   "metadata": {},
   "outputs": [],
   "source": [
    "preprocessor.preprocess_spacy(training_data)"
   ]
  },
  {
   "cell_type": "markdown",
   "metadata": {},
   "source": [
    "<!-- ## 2 Training Spacy model\n",
    "### 2.1 Setup config file\n",
    "The config file is used to configure the training process. It contains the pipeline, the number of iterations, the dropout rate, the batch size and the learning rate. The config file looks like:\n",
    "    \n",
    "```json\n",
    "{\n",
    "\"lang\": \"en\",\n",
    "\"pipeline\": [\"ner\"],\n",
    "\"path.train\": \"./data/train.spacy\",\n",
    "\"path.dev\": \"./data/dev.spacy\",\n",
    "\"ner.early_stopping\": false,\n",
    "\"ner.crf\": false,\n",
    "\"ner.batch_size\": 32,\n",
    "\"ner.learning_rate\": 0.001,\n",
    "\"ner.epochs\": 100\n",
    "}\n",
    "```\t -->"
   ]
  },
  {
   "cell_type": "markdown",
   "metadata": {},
   "source": [
    "<!-- ### 2.2 Training the model\n",
    "To train a Spacy model, the following command line code needs to be run:\n",
    "    \n",
    "```bash\n",
    "python -m spacy train .\\\\spacy_config.cfg --output .\\\\models\\\\\n",
    "```\n",
    "\n",
    "This will train a model using the configuration file `spacy_config.cfg` and save it in the `models` folder.\n",
    "\n",
    "The saved model will consist of a `meta.json` and a binary model file and can be loaded using the `spacy.load` function.  -->"
   ]
  },
  {
   "cell_type": "code",
   "execution_count": null,
   "metadata": {},
   "outputs": [],
   "source": [
    "from spacy.cli.train import train"
   ]
  },
  {
   "cell_type": "code",
   "execution_count": null,
   "metadata": {},
   "outputs": [],
   "source": [
    "!python -m spacy init fill-config data/base_config.cfg data/config.cfg"
   ]
  },
  {
   "cell_type": "code",
   "execution_count": null,
   "metadata": {},
   "outputs": [],
   "source": [
    "!python -m spacy train data/config.cfg --output ./models/output"
   ]
  },
  {
   "cell_type": "code",
   "execution_count": null,
   "metadata": {},
   "outputs": [],
   "source": [
    "train(f\"{DATA_PATH}/config.cfg\", overrides={\"paths.train\": f\"{DATA_PATH}/train.spacy\"})"
   ]
  },
  {
   "cell_type": "code",
   "execution_count": null,
   "metadata": {},
   "outputs": [],
   "source": []
  }
 ],
 "metadata": {
  "kernelspec": {
   "display_name": "Python 3",
   "language": "python",
   "name": "python3"
  },
  "language_info": {
   "codemirror_mode": {
    "name": "ipython",
    "version": 3
   },
   "file_extension": ".py",
   "mimetype": "text/x-python",
   "name": "python",
   "nbconvert_exporter": "python",
   "pygments_lexer": "ipython3",
   "version": "3.10.11"
  },
  "orig_nbformat": 4
 },
 "nbformat": 4,
 "nbformat_minor": 2
}
