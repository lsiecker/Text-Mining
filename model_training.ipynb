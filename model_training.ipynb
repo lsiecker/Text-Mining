{
 "cells": [
  {
   "cell_type": "code",
   "execution_count": 1,
   "metadata": {},
   "outputs": [],
   "source": [
    "%load_ext autoreload\n",
    "%autoreload 2"
   ]
  },
  {
   "cell_type": "markdown",
   "metadata": {},
   "source": [
    "# Processing Label Studio Exports for Spacy\n",
    "This notebook processes exports from Label Studio for use in Spacy."
   ]
  },
  {
   "cell_type": "code",
   "execution_count": 2,
   "metadata": {},
   "outputs": [
    {
     "name": "stderr",
     "output_type": "stream",
     "text": [
      "[nltk_data] Downloading package punkt to\n",
      "[nltk_data]     C:\\Users\\20182640\\AppData\\Roaming\\nltk_data...\n",
      "[nltk_data]   Package punkt is already up-to-date!\n",
      "c:\\Users\\20182640\\.virtualenvs\\Text-Mining-xR8YyNgY\\lib\\site-packages\\spacy\\util.py:910: UserWarning: [W095] Model 'en_core_web_sm' (3.6.0) was trained with spaCy v3.6.0 and may not be 100% compatible with the current version (3.7.0). If you see errors or degraded performance, download a newer compatible model or retrain your custom model with the current spaCy version. For more details and available updates, run: python -m spacy validate\n",
      "  warnings.warn(warn_msg)\n"
     ]
    }
   ],
   "source": [
    "import preprocessor\n",
    "from preprocessor import Preprocessor\n",
    "\n",
    "ROOT_DIR = preprocessor.ROOT_DIR\n",
    "DATA_PATH = preprocessor.DATA_PATH\n",
    "\n",
    "preprocessor = Preprocessor(ROOT_DIR)"
   ]
  },
  {
   "cell_type": "markdown",
   "metadata": {},
   "source": [
    "## 1. Loading the Data\n",
    "### 1.1. Loading JSON export from Label Studio\n",
    "The first step is to load the JSON export from Label Studio. This is done using the `json` library and the predefined function `LoadFile` from the Preprocessor class."
   ]
  },
  {
   "cell_type": "code",
   "execution_count": 3,
   "metadata": {},
   "outputs": [],
   "source": [
    "export_data = preprocessor.loadFile('final_assignment_1.json')\n",
    "\n",
    "# Filter out annotations for which a ground truth exists (drop other annotations for this article as well)\n",
    "training_data_export = [item for item in export_data if any(annotation['ground_truth'] is False for annotation in item['annotations'])]\n",
    "ground_truth_export = preprocessor.loadFile('label_studio_ground_truth_task1.json')"
   ]
  },
  {
   "cell_type": "markdown",
   "metadata": {},
   "source": [
    "The exported data constists of all the annotations from a specific text of all the users. The first annotated text in the exported data file looks something like the following:"
   ]
  },
  {
   "cell_type": "code",
   "execution_count": 4,
   "metadata": {},
   "outputs": [
    {
     "name": "stdout",
     "output_type": "stream",
     "text": [
      "Length of training data:  122\n",
      "{'id': 70476117, 'annotations': [{'id': 22591087, 'completed_by': {'id': 12716, 'email': 'f.a.ensink.op.kemma@student.tue.nl', 'first_name': '', 'last_name': ''}, 'result': [{'id': 'a-cF8klU4-', 'type': 'labels', 'value': {'end': 8, 'text': 'Ephesus', 'start': 1, 'labels': ['landmark_name']}, 'origin': 'manual', 'to_name': 'text', 'from_name': 'label'}, {'id': 'fUvEjMgG3v', 'type': 'labels', 'value': {'end': 73, 'text': 'Ancient Greece', 'start': 59, 'labels': ['location']}, 'origin': 'manual', 'to_name': 'text', 'from_name': 'label'}, {'id': 'lg86acnG1f', 'type': 'labels', 'value': {'end': 127, 'text': 'Seluk', 'start': 122, 'labels': ['location']}, 'origin': 'manual', 'to_name': 'text', 'from_name': 'label'}, {'id': 'WOx1LV2UFN', 'type': 'labels', 'value': {'end': 144, 'text': 'zmir Province', 'start': 131, 'labels': ['location']}, 'origin': 'manual', 'to_name': 'text', 'from_name': 'label'}, {'id': 'laDHrMHSe0', 'type': 'labels', 'value': {'end': 152, 'text': 'Turkey', 'start': 146, 'labels': ['location']}, 'origin': 'manual', 'to_name': 'text', 'from_name': 'label'}, {'id': 'kt_u85sudG', 'type': 'labels', 'value': {'end': 189, 'text': 'in the 10th century BC', 'start': 167, 'labels': ['date']}, 'origin': 'manual', 'to_name': 'text', 'from_name': 'label'}, {'id': 'cCkfjY0VDF', 'type': 'labels', 'value': {'end': 230, 'text': 'Arzawan', 'start': 223, 'labels': ['location']}, 'origin': 'manual', 'to_name': 'text', 'from_name': 'label'}, {'id': '1Cm0EVSfV9', 'type': 'labels', 'value': {'end': 319, 'text': 'one', 'start': 316, 'labels': ['number']}, 'origin': 'manual', 'to_name': 'text', 'from_name': 'label'}, {'id': 'ZnQzkNCX94', 'type': 'labels', 'value': {'end': 329, 'text': 'twelve', 'start': 323, 'labels': ['number']}, 'origin': 'manual', 'to_name': 'text', 'from_name': 'label'}, {'id': '6p6vggEAgh', 'type': 'labels', 'value': {'end': 430, 'text': 'the Roman Republic', 'start': 412, 'labels': ['people']}, 'origin': 'manual', 'to_name': 'text', 'from_name': 'label'}, {'id': 'bqL8y0sjz4', 'type': 'labels', 'value': {'end': 408, 'text': 'under the control', 'start': 391, 'labels': ['condition']}, 'origin': 'manual', 'to_name': 'text', 'from_name': 'label'}, {'id': 'r9rU2u9G7Z', 'type': 'labels', 'value': {'end': 440, 'text': ' in 129 BC', 'start': 430, 'labels': ['date']}, 'origin': 'manual', 'to_name': 'text', 'from_name': 'label'}, {'id': 'Lql35qqL3B', 'type': 'labels', 'value': {'end': 505, 'text': ' Temple of Artemis ', 'start': 486, 'labels': ['component']}, 'origin': 'manual', 'to_name': 'text', 'from_name': 'label'}, {'id': 'CshjNeBfYe', 'type': 'labels', 'value': {'end': 516, 'text': 'completed ', 'start': 506, 'labels': ['condition']}, 'origin': 'manual', 'to_name': 'text', 'from_name': 'label'}, {'id': 'GXLnfgfLxK', 'type': 'labels', 'value': {'end': 528, 'text': 'around 550BC', 'start': 516, 'labels': ['date']}, 'origin': 'manual', 'to_name': 'text', 'from_name': 'label'}, {'id': '1mKIB_rL7k', 'type': 'labels', 'value': {'end': 633, 'text': 'monumental buildings', 'start': 613, 'labels': ['component']}, 'origin': 'manual', 'to_name': 'text', 'from_name': 'label'}, {'id': 'EGyZ6Wil5x', 'type': 'labels', 'value': {'end': 704, 'text': '24,000', 'start': 698, 'labels': ['number']}, 'origin': 'manual', 'to_name': 'text', 'from_name': 'label'}, {'id': 'casDaXFJ2G', 'type': 'labels', 'value': {'end': 716, 'text': 'spectators.', 'start': 705, 'labels': ['people']}, 'origin': 'manual', 'to_name': 'text', 'from_name': 'label'}, {'id': 'h2bQYbg9-2', 'type': 'labels', 'value': {'end': 375, 'text': ' members of the Ionian League', 'start': 346, 'labels': ['condition']}, 'origin': 'manual', 'to_name': 'text', 'from_name': 'label'}, {'id': 'sNmf2oaINY', 'type': 'labels', 'value': {'end': 55, 'text': 'city', 'start': 51, 'labels': ['type']}, 'origin': 'manual', 'to_name': 'text', 'from_name': 'label'}, {'id': 'CJYtVOTPxe', 'type': 'labels', 'value': {'end': 166, 'text': 'built', 'start': 161, 'labels': ['condition']}, 'origin': 'manual', 'to_name': 'text', 'from_name': 'label'}, {'id': '0J7GHRC2-w', 'type': 'labels', 'value': {'end': 275, 'text': 'Attic and Ionian Greek colonists', 'start': 243, 'labels': ['people']}, 'origin': 'manual', 'to_name': 'text', 'from_name': 'label'}, {'id': 'YaALTtHxet', 'type': 'labels', 'value': {'end': 307, 'text': 'During the Classical Greek era', 'start': 277, 'labels': ['date']}, 'origin': 'manual', 'to_name': 'text', 'from_name': 'label'}, {'id': 'EFxxBAAoTo', 'type': 'labels', 'value': {'end': 385, 'text': 'city', 'start': 381, 'labels': ['type']}, 'origin': 'manual', 'to_name': 'text', 'from_name': 'label'}, {'id': 'MDKnNmyP08', 'type': 'labels', 'value': {'end': 449, 'text': 'city', 'start': 445, 'labels': ['type']}, 'origin': 'manual', 'to_name': 'text', 'from_name': 'label'}, {'id': 'BPOkbOP4Lu', 'type': 'labels', 'value': {'end': 678, 'text': 'theatre', 'start': 671, 'labels': ['component']}, 'origin': 'manual', 'to_name': 'text', 'from_name': 'label'}, {'id': 'wHwqedcZqj', 'type': 'labels', 'value': {'end': 664, 'text': 'Library of Celsus', 'start': 647, 'labels': ['component']}, 'origin': 'manual', 'to_name': 'text', 'from_name': 'label'}, {'id': 'qn95mSf6C0', 'type': 'labels', 'value': {'end': 602, 'text': 'designated one of the Seven Wonders of the Ancient World', 'start': 546, 'labels': ['condition']}, 'origin': 'manual', 'to_name': 'text', 'from_name': 'label'}, {'id': 'V-LLAmOfzB', 'type': 'labels', 'value': {'end': 210, 'text': 'site of Apasa', 'start': 197, 'labels': ['location']}, 'origin': 'manual', 'to_name': 'text', 'from_name': 'label'}, {'id': '_zlAgmgxkx', 'type': 'labels', 'value': {'end': 95, 'text': 'coast of Ionia', 'start': 81, 'labels': ['location']}, 'origin': 'manual', 'to_name': 'text', 'from_name': 'label'}, {'type': 'relation', 'to_id': 'fUvEjMgG3v', 'labels': ['org:located_in'], 'from_id': 'a-cF8klU4-', 'direction': 'right'}, {'type': 'relation', 'to_id': 'lg86acnG1f', 'labels': ['org:located_in'], 'from_id': 'a-cF8klU4-', 'direction': 'right'}, {'type': 'relation', 'to_id': 'WOx1LV2UFN', 'labels': ['org:located_in'], 'from_id': 'a-cF8klU4-', 'direction': 'right'}, {'type': 'relation', 'to_id': 'laDHrMHSe0', 'labels': ['org:located_in'], 'from_id': 'a-cF8klU4-', 'direction': 'right'}, {'type': 'relation', 'to_id': 'h2bQYbg9-2', 'labels': ['org:is_condition'], 'from_id': 'a-cF8klU4-', 'direction': 'right'}, {'type': 'relation', 'to_id': 'bqL8y0sjz4', 'labels': ['org:is_condition'], 'from_id': 'a-cF8klU4-', 'direction': 'right'}, {'type': 'relation', 'to_id': 'r9rU2u9G7Z', 'labels': ['org:happened_on'], 'from_id': 'bqL8y0sjz4', 'direction': 'right'}, {'type': 'relation', 'to_id': 'Lql35qqL3B', 'labels': ['org:has_component'], 'from_id': 'a-cF8klU4-', 'direction': 'right'}, {'type': 'relation', 'to_id': '1mKIB_rL7k', 'labels': ['org:has_component'], 'from_id': 'a-cF8klU4-', 'direction': 'right'}, {'type': 'relation', 'to_id': 'CshjNeBfYe', 'labels': ['org:is_condition'], 'from_id': 'Lql35qqL3B', 'direction': 'right'}, {'type': 'relation', 'to_id': 'GXLnfgfLxK', 'labels': ['org:happened_on'], 'from_id': 'CshjNeBfYe', 'direction': 'right'}, {'type': 'relation', 'to_id': 'a-cF8klU4-', 'labels': ['org:is_type'], 'from_id': 'sNmf2oaINY', 'direction': 'left'}, {'type': 'relation', 'to_id': 'CJYtVOTPxe', 'labels': ['org:is_condition'], 'from_id': 'a-cF8klU4-', 'direction': 'right'}, {'type': 'relation', 'to_id': 'EFxxBAAoTo', 'labels': ['org:is_type'], 'from_id': 'a-cF8klU4-', 'direction': 'right'}, {'type': 'relation', 'to_id': 'YaALTtHxet', 'labels': ['org:happened_on'], 'from_id': 'h2bQYbg9-2', 'direction': 'right'}, {'type': 'relation', 'to_id': 'MDKnNmyP08', 'labels': ['org:is_type'], 'from_id': 'a-cF8klU4-', 'direction': 'right'}, {'type': 'relation', 'to_id': 'BPOkbOP4Lu', 'labels': ['org:has_component'], 'from_id': 'a-cF8klU4-', 'direction': 'right'}, {'type': 'relation', 'to_id': 'wHwqedcZqj', 'labels': ['org:has_component'], 'from_id': 'a-cF8klU4-', 'direction': 'right'}, {'type': 'relation', 'to_id': 'qn95mSf6C0', 'labels': ['org:is_condition'], 'from_id': 'Lql35qqL3B', 'direction': 'right'}, {'type': 'relation', 'to_id': '_zlAgmgxkx', 'labels': ['org:located_in'], 'from_id': 'a-cF8klU4-', 'direction': 'right'}], 'reviews': [], 'was_cancelled': False, 'ground_truth': True, 'created_at': '2023-09-29T14:37:21.934927Z', 'updated_at': '2023-10-11T09:25:22.112733Z', 'draft_created_at': '2023-09-29T14:33:09.743687Z', 'lead_time': 1477.8770000000002, 'prediction': {}, 'result_count': 0, 'unique_id': 'cf6a0959-3aeb-41b9-a5af-82122a828578', 'import_id': None, 'last_action': 'updated', 'task': 70476117, 'project': 41784, 'updated_by': 12716, 'parent_prediction': None, 'parent_annotation': None, 'last_created_by': 12716}, {'id': 22583481, 'completed_by': {'id': 12641, 'email': 'd.p.m.v.d.hoorn@student.tue.nl', 'first_name': '', 'last_name': ''}, 'result': [{'id': 'l3Ro_o2G7y', 'type': 'labels', 'value': {'end': 8, 'text': 'Ephesus', 'start': 1, 'labels': ['landmark_name']}, 'origin': 'manual', 'to_name': 'text', 'from_name': 'label'}, {'id': 'hTam4zUQgF', 'type': 'labels', 'value': {'end': 55, 'text': 'city', 'start': 51, 'labels': ['type']}, 'origin': 'manual', 'to_name': 'text', 'from_name': 'label'}, {'id': 'vj5_kUwTSD', 'type': 'labels', 'value': {'end': 73, 'text': 'Ancient Greece', 'start': 59, 'labels': ['people']}, 'origin': 'manual', 'to_name': 'text', 'from_name': 'label'}, {'id': 'NbGXIkXRsA', 'type': 'labels', 'value': {'end': 95, 'text': 'the coast of Ionia', 'start': 77, 'labels': ['location']}, 'origin': 'manual', 'to_name': 'text', 'from_name': 'label'}, {'id': 'vw4ez9gF_N', 'type': 'labels', 'value': {'end': 127, 'text': 'Seluk', 'start': 122, 'labels': ['location']}, 'origin': 'manual', 'to_name': 'text', 'from_name': 'label'}, {'id': 'oweHD-KR7M', 'type': 'labels', 'value': {'end': 144, 'text': 'zmir Province', 'start': 131, 'labels': ['location']}, 'origin': 'manual', 'to_name': 'text', 'from_name': 'label'}, {'id': 'JqcpOR4IUY', 'type': 'labels', 'value': {'end': 152, 'text': 'Turkey', 'start': 146, 'labels': ['location']}, 'origin': 'manual', 'to_name': 'text', 'from_name': 'label'}, {'id': '7ke5lnNCLI', 'type': 'labels', 'value': {'end': 166, 'text': 'built', 'start': 161, 'labels': ['condition']}, 'origin': 'manual', 'to_name': 'text', 'from_name': 'label'}, {'id': 'LDsh3dwE9E', 'type': 'labels', 'value': {'end': 189, 'text': '10th century BC', 'start': 174, 'labels': ['date']}, 'origin': 'manual', 'to_name': 'text', 'from_name': 'label'}, {'id': 'eO6mZoBkfG', 'type': 'labels', 'value': {'end': 275, 'text': 'Attic and Ionian Greek colonists', 'start': 243, 'labels': ['people']}, 'origin': 'manual', 'to_name': 'text', 'from_name': 'label'}, {'id': 'qMXUq6fX9M', 'type': 'labels', 'value': {'end': 210, 'text': 'the site of Apasa', 'start': 193, 'labels': ['location']}, 'origin': 'manual', 'to_name': 'text', 'from_name': 'label'}, {'id': 'F1IcDFQRnm', 'type': 'labels', 'value': {'end': 307, 'text': 'Classical Greek era', 'start': 288, 'labels': ['date']}, 'origin': 'manual', 'to_name': 'text', 'from_name': 'label'}, {'id': 'AA00WBg4Ql', 'type': 'labels', 'value': {'end': 320, 'text': 'one ', 'start': 316, 'labels': ['number']}, 'origin': 'manual', 'to_name': 'text', 'from_name': 'label'}, {'id': 'FyG0XUat9E', 'type': 'labels', 'value': {'end': 329, 'text': 'twelve', 'start': 323, 'labels': ['number']}, 'origin': 'manual', 'to_name': 'text', 'from_name': 'label'}, {'id': 'VDXIDiivxL', 'type': 'labels', 'value': {'end': 230, 'text': 'Arzawan', 'start': 223, 'labels': ['location']}, 'origin': 'manual', 'to_name': 'text', 'from_name': 'label'}, {'id': 'RblanCBHA0', 'type': 'labels', 'value': {'end': 430, 'text': 'Roman Republic', 'start': 416, 'labels': ['people']}, 'origin': 'manual', 'to_name': 'text', 'from_name': 'label'}, {'id': '_j95qXMUEn', 'type': 'labels', 'value': {'end': 440, 'text': '129 BC', 'start': 434, 'labels': ['date']}, 'origin': 'manual', 'to_name': 'text', 'from_name': 'label'}, {'id': 'aQs26Qlw4e', 'type': 'labels', 'value': {'end': 504, 'text': 'Temple of Artemis', 'start': 487, 'labels': ['component']}, 'origin': 'manual', 'to_name': 'text', 'from_name': 'label'}, {'id': 'O7BnPjiDAi', 'type': 'labels', 'value': {'end': 528, 'text': 'around 550BC', 'start': 516, 'labels': ['date']}, 'origin': 'manual', 'to_name': 'text', 'from_name': 'label'}, {'id': 'rU7nyd5N1l', 'type': 'labels', 'value': {'end': 515, 'text': 'completed', 'start': 506, 'labels': ['condition']}, 'origin': 'manual', 'to_name': 'text', 'from_name': 'label'}, {'id': 'mGADuwa8MG', 'type': 'labels', 'value': {'end': 556, 'text': 'designated', 'start': 546, 'labels': ['condition']}, 'origin': 'manual', 'to_name': 'text', 'from_name': 'label'}, {'id': 'GzUM3nmXs-', 'type': 'labels', 'value': {'end': 633, 'text': 'monumental buildings', 'start': 613, 'labels': ['type']}, 'origin': 'manual', 'to_name': 'text', 'from_name': 'label'}, {'id': 'vXRIczf5rV', 'type': 'labels', 'value': {'end': 664, 'text': 'Library of Celsus', 'start': 647, 'labels': ['component']}, 'origin': 'manual', 'to_name': 'text', 'from_name': 'label'}, {'id': 'u5vDKl02ct', 'type': 'labels', 'value': {'end': 678, 'text': 'theatre', 'start': 671, 'labels': ['component']}, 'origin': 'manual', 'to_name': 'text', 'from_name': 'label'}, {'id': 'deK2tqbwjB', 'type': 'labels', 'value': {'end': 602, 'text': 'one of the Seven Wonders of the Ancient World', 'start': 557, 'labels': ['condition']}, 'origin': 'manual', 'to_name': 'text', 'from_name': 'label'}, {'id': 'tpocPI_sN3', 'type': 'labels', 'value': {'end': 715, 'text': 'spectators', 'start': 705, 'labels': ['people']}, 'origin': 'manual', 'to_name': 'text', 'from_name': 'label'}, {'id': 'vJoiVYcoRL', 'type': 'labels', 'value': {'end': 704, 'text': '24,000', 'start': 698, 'labels': ['number']}, 'origin': 'manual', 'to_name': 'text', 'from_name': 'label'}, {'type': 'relation', 'to_id': 'hTam4zUQgF', 'labels': ['org:is_type'], 'from_id': 'l3Ro_o2G7y', 'direction': 'right'}, {'type': 'relation', 'to_id': '7ke5lnNCLI', 'labels': ['org:is_condition'], 'from_id': 'l3Ro_o2G7y', 'direction': 'right'}, {'type': 'relation', 'to_id': 'LDsh3dwE9E', 'labels': ['org:happened_on'], 'from_id': '7ke5lnNCLI', 'direction': 'right'}, {'type': 'relation', 'to_id': 'eO6mZoBkfG', 'labels': ['org:created_by'], 'from_id': 'l3Ro_o2G7y', 'direction': 'right'}, {'type': 'relation', 'to_id': 'qMXUq6fX9M', 'labels': ['org:located_in'], 'from_id': 'l3Ro_o2G7y', 'direction': 'right'}, {'type': 'relation', 'to_id': 'aQs26Qlw4e', 'labels': ['org:has_component'], 'from_id': 'l3Ro_o2G7y', 'direction': 'right'}, {'type': 'relation', 'to_id': 'vXRIczf5rV', 'labels': ['org:has_component'], 'from_id': 'l3Ro_o2G7y', 'direction': 'right'}, {'type': 'relation', 'to_id': 'u5vDKl02ct', 'labels': ['org:has_component'], 'from_id': 'l3Ro_o2G7y', 'direction': 'right'}], 'reviews': [], 'was_cancelled': False, 'ground_truth': False, 'created_at': '2023-09-29T09:53:46.077038Z', 'updated_at': '2023-09-29T09:53:46.077057Z', 'draft_created_at': '2023-09-29T09:45:19.013592Z', 'lead_time': 520.454, 'prediction': {}, 'result_count': 0, 'unique_id': '58ce8c78-ac04-4ecd-b16a-a8892bee8a3e', 'import_id': None, 'last_action': 'submitted', 'task': 70476117, 'project': 41784, 'updated_by': 12641, 'parent_prediction': None, 'parent_annotation': None, 'last_created_by': 12641}, {'id': 22641728, 'completed_by': {'id': 12687, 'email': 'marlougielen@gmail.com', 'first_name': '', 'last_name': ''}, 'result': [{'id': 'kOQ_kmIuD1', 'type': 'labels', 'value': {'end': 56, 'text': 'city ', 'start': 51, 'labels': ['type']}, 'origin': 'manual', 'to_name': 'text', 'from_name': 'label'}, {'id': 'v3hgj0k0kp', 'type': 'labels', 'value': {'end': 337, 'text': 'cities ', 'start': 330, 'labels': ['type']}, 'origin': 'manual', 'to_name': 'text', 'from_name': 'label'}, {'id': 'IVC04elaO2', 'type': 'labels', 'value': {'end': 602, 'text': 'one of the Seven Wonders of the Ancient World', 'start': 557, 'labels': ['type']}, 'origin': 'manual', 'to_name': 'text', 'from_name': 'label'}, {'id': 'uVurmXz1pv', 'type': 'labels', 'value': {'end': 633, 'text': 'monumental buildings', 'start': 613, 'labels': ['component']}, 'origin': 'manual', 'to_name': 'text', 'from_name': 'label'}, {'id': 'dfKW_UPcVr', 'type': 'labels', 'value': {'end': 664, 'text': 'Library of Celsus', 'start': 647, 'labels': ['component']}, 'origin': 'manual', 'to_name': 'text', 'from_name': 'label'}, {'id': '0xaQOPi_Wt', 'type': 'labels', 'value': {'end': 678, 'text': 'theatre', 'start': 671, 'labels': ['component']}, 'origin': 'manual', 'to_name': 'text', 'from_name': 'label'}, {'id': 'T0TiynwHVF', 'type': 'labels', 'value': {'end': 73, 'text': 'Ancient Greece', 'start': 59, 'labels': ['location']}, 'origin': 'manual', 'to_name': 'text', 'from_name': 'label'}, {'id': 'Af-aO_be67', 'type': 'labels', 'value': {'end': 95, 'text': 'the coast of Ionia', 'start': 77, 'labels': ['location']}, 'origin': 'manual', 'to_name': 'text', 'from_name': 'label'}, {'id': 'QbpKgMPxU_', 'type': 'labels', 'value': {'end': 128, 'text': 'Seluk ', 'start': 122, 'labels': ['location']}, 'origin': 'manual', 'to_name': 'text', 'from_name': 'label'}, {'id': '6VjDCV-LSp', 'type': 'labels', 'value': {'end': 144, 'text': 'zmir Province', 'start': 131, 'labels': ['location']}, 'origin': 'manual', 'to_name': 'text', 'from_name': 'label'}, {'id': 'OWbMQmQZ7N', 'type': 'labels', 'value': {'end': 152, 'text': 'Turkey', 'start': 146, 'labels': ['location']}, 'origin': 'manual', 'to_name': 'text', 'from_name': 'label'}, {'id': 'f_HAl6lPMq', 'type': 'labels', 'value': {'end': 210, 'text': 'site of Apasa', 'start': 197, 'labels': ['location']}, 'origin': 'manual', 'to_name': 'text', 'from_name': 'label'}, {'id': 'Pey_YdcMlS', 'type': 'labels', 'value': {'end': 238, 'text': 'Arzawan capital', 'start': 223, 'labels': ['location']}, 'origin': 'manual', 'to_name': 'text', 'from_name': 'label'}, {'id': 'xI54Fafi4M', 'type': 'labels', 'value': {'end': 275, 'text': 'Attic and Ionian Greek colonists', 'start': 243, 'labels': ['people']}, 'origin': 'manual', 'to_name': 'text', 'from_name': 'label'}, {'id': 'jtzaBH4Nip', 'type': 'labels', 'value': {'end': 355, 'text': 'members ', 'start': 347, 'labels': ['occupation']}, 'origin': 'manual', 'to_name': 'text', 'from_name': 'label'}, {'id': 'Dhyl34UqsR', 'type': 'labels', 'value': {'end': 715, 'text': 'spectators', 'start': 705, 'labels': ['occupation']}, 'origin': 'manual', 'to_name': 'text', 'from_name': 'label'}, {'id': 'JsuiMttZIC', 'type': 'labels', 'value': {'end': 430, 'text': 'Roman Republic', 'start': 416, 'labels': ['people']}, 'origin': 'manual', 'to_name': 'text', 'from_name': 'label'}, {'id': '4n2C54Jal3', 'type': 'labels', 'value': {'end': 440, 'text': ' in 129 BC', 'start': 430, 'labels': ['date']}, 'origin': 'manual', 'to_name': 'text', 'from_name': 'label'}, {'id': 'R44gZXWo2j', 'type': 'labels', 'value': {'end': 189, 'text': 'in the 10th century BC', 'start': 167, 'labels': ['date']}, 'origin': 'manual', 'to_name': 'text', 'from_name': 'label'}, {'id': 'aqEfvJGO1w', 'type': 'labels', 'value': {'end': 307, 'text': ' During the Classical Greek era', 'start': 276, 'labels': ['date']}, 'origin': 'manual', 'to_name': 'text', 'from_name': 'label'}, {'id': '_09DH4yKU3', 'type': 'labels', 'value': {'end': 528, 'text': 'around 550BC', 'start': 516, 'labels': ['date']}, 'origin': 'manual', 'to_name': 'text', 'from_name': 'label'}, {'id': '40_tYp9Au2', 'type': 'labels', 'value': {'end': 704, 'text': '24,000', 'start': 698, 'labels': ['number']}, 'origin': 'manual', 'to_name': 'text', 'from_name': 'label'}, {'id': 'm1RjtWDh-B', 'type': 'labels', 'value': {'end': 330, 'text': 'twelve ', 'start': 323, 'labels': ['number']}, 'origin': 'manual', 'to_name': 'text', 'from_name': 'label'}, {'id': 'gB2RvJfp3r', 'type': 'labels', 'value': {'end': 320, 'text': 'one ', 'start': 316, 'labels': ['number']}, 'origin': 'manual', 'to_name': 'text', 'from_name': 'label'}, {'id': '35_RgG8DCh', 'type': 'labels', 'value': {'end': 375, 'text': 'Ionian League', 'start': 362, 'labels': ['people']}, 'origin': 'manual', 'to_name': 'text', 'from_name': 'label'}, {'id': '1nUPo7mDE3', 'type': 'labels', 'value': {'end': 121, 'text': 'present-day', 'start': 110, 'labels': ['date']}, 'origin': 'manual', 'to_name': 'text', 'from_name': 'label'}, {'id': 'ytd19lQw0U', 'type': 'labels', 'value': {'end': 516, 'text': 'completed ', 'start': 506, 'labels': ['condition']}, 'origin': 'manual', 'to_name': 'text', 'from_name': 'label'}, {'id': 'oIpfqwYCQY', 'type': 'labels', 'value': {'end': 167, 'text': 'built ', 'start': 161, 'labels': ['condition']}, 'origin': 'manual', 'to_name': 'text', 'from_name': 'label'}, {'id': 'tjHO6pu1nM', 'type': 'labels', 'value': {'end': 430, 'text': 'under the control of the Roman Republic', 'start': 391, 'labels': ['condition']}, 'origin': 'manual', 'to_name': 'text', 'from_name': 'label'}, {'id': 'bEHnjWzebr', 'type': 'labels', 'value': {'end': 461, 'text': 'famous ', 'start': 454, 'labels': ['condition']}, 'origin': 'manual', 'to_name': 'text', 'from_name': 'label'}, {'id': 'nN55bNbT3M', 'type': 'labels', 'value': {'end': 9, 'text': 'Ephesus ', 'start': 1, 'labels': ['landmark_name']}, 'origin': 'manual', 'to_name': 'text', 'from_name': 'label'}, {'id': 'U6RGVIpUjT', 'type': 'labels', 'value': {'end': 450, 'text': 'city ', 'start': 445, 'labels': ['type']}, 'origin': 'manual', 'to_name': 'text', 'from_name': 'label'}, {'id': 'xtk6m5SxZE', 'type': 'labels', 'value': {'end': 386, 'text': 'city ', 'start': 381, 'labels': ['type']}, 'origin': 'manual', 'to_name': 'text', 'from_name': 'label'}, {'type': 'relation', 'to_id': 'xI54Fafi4M', 'labels': ['org:created_by'], 'from_id': 'nN55bNbT3M', 'direction': 'right'}, {'type': 'relation', 'to_id': 'kOQ_kmIuD1', 'labels': ['org:is_type'], 'from_id': 'nN55bNbT3M', 'direction': 'right'}, {'type': 'relation', 'to_id': 'v3hgj0k0kp', 'labels': ['org:is_type'], 'from_id': 'nN55bNbT3M', 'direction': 'right'}, {'type': 'relation', 'to_id': 'T0TiynwHVF', 'labels': ['org:located_in'], 'from_id': 'nN55bNbT3M', 'direction': 'right'}, {'type': 'relation', 'to_id': 'Af-aO_be67', 'labels': ['org:located_in'], 'from_id': 'nN55bNbT3M', 'direction': 'right'}, {'type': 'relation', 'to_id': 'f_HAl6lPMq', 'labels': ['org:located_in'], 'from_id': 'nN55bNbT3M', 'direction': 'right'}, {'type': 'relation', 'to_id': 'Pey_YdcMlS', 'labels': ['org:located_in'], 'from_id': 'nN55bNbT3M', 'direction': 'right'}, {'type': 'relation', 'to_id': 'OWbMQmQZ7N', 'labels': ['org:located_in'], 'from_id': 'nN55bNbT3M', 'direction': 'right'}, {'type': 'relation', 'to_id': '6VjDCV-LSp', 'labels': ['org:located_in'], 'from_id': 'nN55bNbT3M', 'direction': 'right'}, {'type': 'relation', 'to_id': 'uVurmXz1pv', 'labels': ['org:has_component'], 'from_id': 'nN55bNbT3M', 'direction': 'right'}, {'type': 'relation', 'to_id': 'dfKW_UPcVr', 'labels': ['org:has_component'], 'from_id': 'nN55bNbT3M', 'direction': 'right'}, {'type': 'relation', 'to_id': '0xaQOPi_Wt', 'labels': ['org:has_component'], 'from_id': 'nN55bNbT3M', 'direction': 'right'}, {'type': 'relation', 'to_id': 'R44gZXWo2j', 'labels': ['org:happened_on'], 'from_id': 'oIpfqwYCQY', 'direction': 'right'}, {'type': 'relation', 'to_id': '_09DH4yKU3', 'labels': ['org:happened_on'], 'from_id': 'ytd19lQw0U', 'direction': 'right'}, {'type': 'relation', 'to_id': '4n2C54Jal3', 'labels': ['org:happened_on'], 'from_id': 'tjHO6pu1nM', 'direction': 'right'}, {'type': 'relation', 'to_id': 'xtk6m5SxZE', 'labels': ['org:is_type'], 'from_id': 'nN55bNbT3M', 'direction': 'right'}, {'type': 'relation', 'to_id': 'U6RGVIpUjT', 'labels': ['org:is_type'], 'from_id': 'nN55bNbT3M', 'direction': 'right'}], 'reviews': [], 'was_cancelled': False, 'ground_truth': False, 'created_at': '2023-10-02T13:13:03.646878Z', 'updated_at': '2023-10-04T09:34:54.057594Z', 'draft_created_at': '2023-10-02T13:04:23.932839Z', 'lead_time': 839.1879999999999, 'prediction': {}, 'result_count': 0, 'unique_id': '5d07ce2a-5c1f-4270-9419-826a1132e7f3', 'import_id': None, 'last_action': 'updated', 'task': 70476117, 'project': 41784, 'updated_by': 12687, 'parent_prediction': None, 'parent_annotation': None, 'last_created_by': 12687}, {'id': 22629460, 'completed_by': {'id': 12485, 'email': 'l.r.siecker@student.tue.nl', 'first_name': 'Luc', 'last_name': 'Siecker'}, 'result': [{'id': 'NGoGCdY4Mr', 'type': 'labels', 'value': {'end': 8, 'text': 'Ephesus', 'start': 1, 'labels': ['landmark_name']}, 'origin': 'manual', 'to_name': 'text', 'from_name': 'label'}, {'id': 'smwmA5Ofvl', 'type': 'labels', 'value': {'end': 55, 'text': 'city', 'start': 51, 'labels': ['type']}, 'origin': 'manual', 'to_name': 'text', 'from_name': 'label'}, {'id': 'eMn5ovu-q9', 'type': 'labels', 'value': {'end': 73, 'text': 'in Ancient Greece', 'start': 56, 'labels': ['location']}, 'origin': 'manual', 'to_name': 'text', 'from_name': 'label'}, {'id': 'XypjjOYYWL', 'type': 'labels', 'value': {'end': 95, 'text': 'on the coast of Ionia', 'start': 74, 'labels': ['location']}, 'origin': 'manual', 'to_name': 'text', 'from_name': 'label'}, {'id': 'fzfahtS8TS', 'type': 'labels', 'value': {'end': 127, 'text': 'Seluk', 'start': 122, 'labels': ['location']}, 'origin': 'manual', 'to_name': 'text', 'from_name': 'label'}, {'id': 'Ta3raV4I0g', 'type': 'labels', 'value': {'end': 144, 'text': 'in zmir Province', 'start': 128, 'labels': ['location']}, 'origin': 'manual', 'to_name': 'text', 'from_name': 'label'}, {'id': 'ol7SjwJo_x', 'type': 'labels', 'value': {'end': 152, 'text': 'Turkey', 'start': 146, 'labels': ['location']}, 'origin': 'manual', 'to_name': 'text', 'from_name': 'label'}, {'id': 'PHbl28FP21', 'type': 'labels', 'value': {'end': 167, 'text': 'built ', 'start': 161, 'labels': ['condition']}, 'origin': 'manual', 'to_name': 'text', 'from_name': 'label'}, {'id': 'JPPoxqH8So', 'type': 'labels', 'value': {'end': 189, 'text': 'in the 10th century BC', 'start': 167, 'labels': ['date']}, 'origin': 'manual', 'to_name': 'text', 'from_name': 'label'}, {'id': 'ZJlnM04LD9', 'type': 'labels', 'value': {'end': 210, 'text': 'on the site of Apasa', 'start': 190, 'labels': ['location']}, 'origin': 'manual', 'to_name': 'text', 'from_name': 'label'}, {'id': 'uW_vfM7nhe', 'type': 'labels', 'value': {'end': 238, 'text': 'Arzawan capital', 'start': 223, 'labels': ['location']}, 'origin': 'manual', 'to_name': 'text', 'from_name': 'label'}, {'id': 'swUnRWb6pE', 'type': 'labels', 'value': {'end': 275, 'text': 'Attic and Ionian Greek colonists', 'start': 243, 'labels': ['people']}, 'origin': 'manual', 'to_name': 'text', 'from_name': 'label'}, {'id': '35hF2t2Pd1', 'type': 'labels', 'value': {'end': 307, 'text': 'During the Classical Greek era', 'start': 277, 'labels': ['date']}, 'origin': 'manual', 'to_name': 'text', 'from_name': 'label'}, {'id': 'sjIHDWXZ_b', 'type': 'labels', 'value': {'end': 337, 'text': 'cities ', 'start': 330, 'labels': ['type']}, 'origin': 'manual', 'to_name': 'text', 'from_name': 'label'}, {'id': 'tr_mOgw3L4', 'type': 'labels', 'value': {'end': 330, 'text': 'twelve ', 'start': 323, 'labels': ['number']}, 'origin': 'manual', 'to_name': 'text', 'from_name': 'label'}, {'id': 'fpwKnelat-', 'type': 'labels', 'value': {'end': 320, 'text': 'one ', 'start': 316, 'labels': ['number']}, 'origin': 'manual', 'to_name': 'text', 'from_name': 'label'}, {'id': 'xdOCaxek2H', 'type': 'labels', 'value': {'end': 355, 'text': 'members ', 'start': 347, 'labels': ['occupation']}, 'origin': 'manual', 'to_name': 'text', 'from_name': 'label'}, {'id': '-8Ke7UENqj', 'type': 'labels', 'value': {'end': 375, 'text': 'Ionian League', 'start': 362, 'labels': ['people']}, 'origin': 'manual', 'to_name': 'text', 'from_name': 'label'}, {'id': 'kmlg7nKU9N', 'type': 'labels', 'value': {'end': 385, 'text': 'city', 'start': 381, 'labels': ['type']}, 'origin': 'manual', 'to_name': 'text', 'from_name': 'label'}, {'id': 'R25zEmX4Jy', 'type': 'labels', 'value': {'end': 430, 'text': 'under the control of the Roman Republic', 'start': 391, 'labels': ['condition']}, 'origin': 'manual', 'to_name': 'text', 'from_name': 'label'}, {'id': 'f--SrPVcc9', 'type': 'labels', 'value': {'end': 440, 'text': '129 BC', 'start': 434, 'labels': ['date']}, 'origin': 'manual', 'to_name': 'text', 'from_name': 'label'}, {'id': 'lHrwP-mYER', 'type': 'labels', 'value': {'end': 449, 'text': 'city', 'start': 445, 'labels': ['type']}, 'origin': 'manual', 'to_name': 'text', 'from_name': 'label'}, {'id': 'upbKChpbdC', 'type': 'labels', 'value': {'end': 504, 'text': 'Temple of Artemis', 'start': 487, 'labels': ['component']}, 'origin': 'manual', 'to_name': 'text', 'from_name': 'label'}, {'id': 'aVBtB17bYu', 'type': 'labels', 'value': {'end': 515, 'text': 'completed', 'start': 506, 'labels': ['condition']}, 'origin': 'manual', 'to_name': 'text', 'from_name': 'label'}, {'id': 'RkWWovOADC', 'type': 'labels', 'value': {'end': 528, 'text': 'around 550BC', 'start': 516, 'labels': ['date']}, 'origin': 'manual', 'to_name': 'text', 'from_name': 'label'}, {'id': 'zEpxNXVCLs', 'type': 'labels', 'value': {'end': 602, 'text': 'designated one of the Seven Wonders of the Ancient World', 'start': 546, 'labels': ['condition']}, 'origin': 'manual', 'to_name': 'text', 'from_name': 'label'}, {'id': 'JIr7S-EaLA', 'type': 'labels', 'value': {'end': 633, 'text': 'monumental buildings', 'start': 613, 'labels': ['component']}, 'origin': 'manual', 'to_name': 'text', 'from_name': 'label'}, {'id': 'gZctTNMCrM', 'type': 'labels', 'value': {'end': 664, 'text': ' Library of Celsus', 'start': 646, 'labels': ['component']}, 'origin': 'manual', 'to_name': 'text', 'from_name': 'label'}, {'id': '_7qmtHC8Z-', 'type': 'labels', 'value': {'end': 678, 'text': 'theatre', 'start': 671, 'labels': ['component']}, 'origin': 'manual', 'to_name': 'text', 'from_name': 'label'}, {'id': 'ZYhaRfv0EY', 'type': 'labels', 'value': {'end': 715, 'text': 'capable of holding 24,000 spectators', 'start': 679, 'labels': ['condition']}, 'origin': 'manual', 'to_name': 'text', 'from_name': 'label'}, {'type': 'relation', 'to_id': 'smwmA5Ofvl', 'labels': ['org:is_type'], 'from_id': 'NGoGCdY4Mr', 'direction': 'right'}, {'type': 'relation', 'to_id': 'eMn5ovu-q9', 'labels': ['org:located_in'], 'from_id': 'NGoGCdY4Mr', 'direction': 'right'}, {'type': 'relation', 'to_id': 'XypjjOYYWL', 'labels': ['org:located_in'], 'from_id': 'NGoGCdY4Mr', 'direction': 'right'}, {'type': 'relation', 'to_id': 'fzfahtS8TS', 'labels': ['org:located_in'], 'from_id': 'NGoGCdY4Mr', 'direction': 'right'}, {'type': 'relation', 'to_id': 'Ta3raV4I0g', 'labels': ['org:located_in'], 'from_id': 'NGoGCdY4Mr', 'direction': 'right'}, {'type': 'relation', 'to_id': 'ol7SjwJo_x', 'labels': ['org:located_in'], 'from_id': 'NGoGCdY4Mr', 'direction': 'right'}, {'type': 'relation', 'to_id': 'PHbl28FP21', 'labels': ['org:is_condition'], 'from_id': 'NGoGCdY4Mr', 'direction': 'right'}, {'type': 'relation', 'to_id': 'JPPoxqH8So', 'labels': ['org:happened_on'], 'from_id': 'PHbl28FP21', 'direction': 'right'}, {'type': 'relation', 'to_id': 'kmlg7nKU9N', 'labels': ['org:is_type'], 'from_id': 'NGoGCdY4Mr', 'direction': 'right'}, {'type': 'relation', 'to_id': 'R25zEmX4Jy', 'labels': ['org:is_condition'], 'from_id': 'NGoGCdY4Mr', 'direction': 'right'}, {'type': 'relation', 'to_id': 'f--SrPVcc9', 'labels': ['org:happened_on'], 'from_id': 'R25zEmX4Jy', 'direction': 'right'}, {'type': 'relation', 'to_id': 'lHrwP-mYER', 'labels': ['org:is_type'], 'from_id': 'NGoGCdY4Mr', 'direction': 'right'}, {'type': 'relation', 'to_id': 'upbKChpbdC', 'labels': ['org:has_component'], 'from_id': 'NGoGCdY4Mr', 'direction': 'right'}, {'type': 'relation', 'to_id': 'aVBtB17bYu', 'labels': ['org:is_condition'], 'from_id': 'upbKChpbdC', 'direction': 'right'}, {'type': 'relation', 'to_id': 'RkWWovOADC', 'labels': ['org:happened_on'], 'from_id': 'aVBtB17bYu', 'direction': 'right'}, {'type': 'relation', 'to_id': 'zEpxNXVCLs', 'labels': ['org:is_condition'], 'from_id': 'upbKChpbdC', 'direction': 'right'}, {'type': 'relation', 'to_id': 'JIr7S-EaLA', 'labels': ['org:has_component'], 'from_id': 'NGoGCdY4Mr', 'direction': 'right'}, {'type': 'relation', 'to_id': 'gZctTNMCrM', 'labels': ['org:has_component'], 'from_id': 'NGoGCdY4Mr', 'direction': 'right'}, {'type': 'relation', 'to_id': '_7qmtHC8Z-', 'labels': ['org:has_component'], 'from_id': 'NGoGCdY4Mr', 'direction': 'right'}, {'type': 'relation', 'to_id': 'ZYhaRfv0EY', 'labels': ['org:is_condition'], 'from_id': '_7qmtHC8Z-', 'direction': 'right'}], 'reviews': [], 'was_cancelled': False, 'ground_truth': False, 'created_at': '2023-10-02T08:10:08.295964Z', 'updated_at': '2023-10-02T08:10:08.295986Z', 'draft_created_at': '2023-10-02T08:03:44.596696Z', 'lead_time': 394.317, 'prediction': {}, 'result_count': 0, 'unique_id': '004a721e-bf03-46bd-aa07-a4aa9d08449d', 'import_id': None, 'last_action': 'submitted', 'task': 70476117, 'project': 41784, 'updated_by': 12485, 'parent_prediction': None, 'parent_annotation': None, 'last_created_by': 12485}, {'id': 22619123, 'completed_by': {'id': 12634, 'email': 'n.p.g.t.v.beuningen@student.tue.nl', 'first_name': '', 'last_name': ''}, 'result': [{'id': 'kJh8kr8x53', 'type': 'labels', 'value': {'end': 8, 'text': 'Ephesus', 'start': 1, 'labels': ['landmark_name']}, 'origin': 'manual', 'to_name': 'text', 'from_name': 'label'}, {'id': 'UtZyOLV1UW', 'type': 'labels', 'value': {'end': 55, 'text': 'city', 'start': 51, 'labels': ['type']}, 'origin': 'manual', 'to_name': 'text', 'from_name': 'label'}, {'id': 'G543lcMx-y', 'type': 'labels', 'value': {'end': 73, 'text': 'Ancient Greece', 'start': 59, 'labels': ['location']}, 'origin': 'manual', 'to_name': 'text', 'from_name': 'label'}, {'id': 'RZ976Sd8xk', 'type': 'labels', 'value': {'end': 95, 'text': 'on the coast of Ionia', 'start': 74, 'labels': ['location']}, 'origin': 'manual', 'to_name': 'text', 'from_name': 'label'}, {'id': 's_Ts2emylz', 'type': 'labels', 'value': {'end': 127, 'text': 'southwest of present-day Seluk', 'start': 97, 'labels': ['location']}, 'origin': 'manual', 'to_name': 'text', 'from_name': 'label'}, {'id': 'k5VaGB3Tsc', 'type': 'labels', 'value': {'end': 144, 'text': 'zmir Province', 'start': 131, 'labels': ['location']}, 'origin': 'manual', 'to_name': 'text', 'from_name': 'label'}, {'id': 'VPC45P1hGl', 'type': 'labels', 'value': {'end': 152, 'text': 'Turkey', 'start': 146, 'labels': ['location']}, 'origin': 'manual', 'to_name': 'text', 'from_name': 'label'}, {'id': 'TAAb_wWaB6', 'type': 'labels', 'value': {'end': 166, 'text': 'built', 'start': 161, 'labels': ['condition']}, 'origin': 'manual', 'to_name': 'text', 'from_name': 'label'}, {'id': 'w08Ip8MHGX', 'type': 'labels', 'value': {'end': 189, 'text': 'in the 10th century BC', 'start': 167, 'labels': ['date']}, 'origin': 'manual', 'to_name': 'text', 'from_name': 'label'}, {'id': 'Onv_U8TIt9', 'type': 'labels', 'value': {'end': 210, 'text': 'Apasa', 'start': 205, 'labels': ['location']}, 'origin': 'manual', 'to_name': 'text', 'from_name': 'label'}, {'id': 'dgsnVP1ehM', 'type': 'labels', 'value': {'end': 238, 'text': 'the former Arzawan capital', 'start': 212, 'labels': ['condition']}, 'origin': 'manual', 'to_name': 'text', 'from_name': 'label'}, {'id': 'Y4zCqDPlGj', 'type': 'labels', 'value': {'end': 275, 'text': 'Attic and Ionian Greek colonists', 'start': 243, 'labels': ['people']}, 'origin': 'manual', 'to_name': 'text', 'from_name': 'label'}, {'id': '6Ni5mDWKjt', 'type': 'labels', 'value': {'end': 307, 'text': 'During the Classical Greek era', 'start': 277, 'labels': ['date']}, 'origin': 'manual', 'to_name': 'text', 'from_name': 'label'}, {'id': 'EqfIjT-ZV-', 'type': 'labels', 'value': {'end': 375, 'text': 'members of the Ionian League', 'start': 347, 'labels': ['condition']}, 'origin': 'manual', 'to_name': 'text', 'from_name': 'label'}, {'id': 'Qm6ifSRFk4', 'type': 'labels', 'value': {'end': 319, 'text': 'one', 'start': 316, 'labels': ['number']}, 'origin': 'manual', 'to_name': 'text', 'from_name': 'label'}, {'id': 'hS4450GcPJ', 'type': 'labels', 'value': {'end': 329, 'text': 'twelve', 'start': 323, 'labels': ['number']}, 'origin': 'manual', 'to_name': 'text', 'from_name': 'label'}, {'id': 'wcasW6NF0J', 'type': 'labels', 'value': {'end': 336, 'text': 'cities', 'start': 330, 'labels': ['type']}, 'origin': 'manual', 'to_name': 'text', 'from_name': 'label'}, {'id': 'imo_QaTZ8v', 'type': 'labels', 'value': {'end': 385, 'text': 'The city', 'start': 377, 'labels': ['type']}, 'origin': 'manual', 'to_name': 'text', 'from_name': 'label'}, {'id': 'TxoTa_1SRH', 'type': 'labels', 'value': {'end': 430, 'text': 'the Roman Republic', 'start': 412, 'labels': ['location']}, 'origin': 'manual', 'to_name': 'text', 'from_name': 'label'}, {'id': 'dPbmthpzhM', 'type': 'labels', 'value': {'end': 408, 'text': 'under the control', 'start': 391, 'labels': ['condition']}, 'origin': 'manual', 'to_name': 'text', 'from_name': 'label'}, {'id': 'Nmqir4_fR_', 'type': 'labels', 'value': {'end': 440, 'text': 'in 129 BC', 'start': 431, 'labels': ['date']}, 'origin': 'manual', 'to_name': 'text', 'from_name': 'label'}, {'id': 'LkPduK59j6', 'type': 'labels', 'value': {'end': 449, 'text': 'The city', 'start': 441, 'labels': ['type']}, 'origin': 'manual', 'to_name': 'text', 'from_name': 'label'}, {'id': 'Vf_jsge6nj', 'type': 'labels', 'value': {'end': 460, 'text': 'famous', 'start': 454, 'labels': ['condition']}, 'origin': 'manual', 'to_name': 'text', 'from_name': 'label'}, {'id': 'zHqfRCsMP1', 'type': 'labels', 'value': {'end': 471, 'text': 'in its day', 'start': 461, 'labels': ['date']}, 'origin': 'manual', 'to_name': 'text', 'from_name': 'label'}, {'id': 'uTp9LVylOf', 'type': 'labels', 'value': {'end': 504, 'text': 'Temple of Artemis', 'start': 487, 'labels': ['location']}, 'origin': 'manual', 'to_name': 'text', 'from_name': 'label'}, {'id': 'NpeotnSYt9', 'type': 'labels', 'value': {'end': 515, 'text': 'completed', 'start': 506, 'labels': ['condition']}, 'origin': 'manual', 'to_name': 'text', 'from_name': 'label'}, {'id': 'jiHf1DuHCq', 'type': 'labels', 'value': {'end': 528, 'text': 'around 550BC', 'start': 516, 'labels': ['date']}, 'origin': 'manual', 'to_name': 'text', 'from_name': 'label'}, {'id': 'U5cwxGQIgU', 'type': 'labels', 'value': {'end': 602, 'text': 'one of the Seven Wonders of the Ancient World', 'start': 557, 'labels': ['condition']}, 'origin': 'manual', 'to_name': 'text', 'from_name': 'label'}, {'id': 'nfVpseqW1A', 'type': 'labels', 'value': {'end': 633, 'text': 'monumental buildings', 'start': 613, 'labels': ['component']}, 'origin': 'manual', 'to_name': 'text', 'from_name': 'label'}, {'id': '7dqu1TFnPb', 'type': 'labels', 'value': {'end': 664, 'text': 'the Library of Celsus', 'start': 643, 'labels': ['component']}, 'origin': 'manual', 'to_name': 'text', 'from_name': 'label'}, {'id': 'sv7gKIE6Ri', 'type': 'labels', 'value': {'end': 678, 'text': 'theatre', 'start': 671, 'labels': ['component']}, 'origin': 'manual', 'to_name': 'text', 'from_name': 'label'}, {'id': 'HSWOcBiUpc', 'type': 'labels', 'value': {'end': 715, 'text': 'spectators', 'start': 705, 'labels': ['people']}, 'origin': 'manual', 'to_name': 'text', 'from_name': 'label'}, {'id': 'dOnMMq9Z2R', 'type': 'labels', 'value': {'end': 704, 'text': '24,000', 'start': 698, 'labels': ['number']}, 'origin': 'manual', 'to_name': 'text', 'from_name': 'label'}, {'type': 'relation', 'to_id': 'UtZyOLV1UW', 'labels': ['org:is_type'], 'from_id': 'kJh8kr8x53', 'direction': 'right'}, {'type': 'relation', 'to_id': 'G543lcMx-y', 'labels': ['org:located_in'], 'from_id': 'kJh8kr8x53', 'direction': 'right'}, {'type': 'relation', 'to_id': 'RZ976Sd8xk', 'labels': ['org:located_in'], 'from_id': 'kJh8kr8x53', 'direction': 'right'}, {'type': 'relation', 'to_id': 's_Ts2emylz', 'labels': ['org:located_in'], 'from_id': 'kJh8kr8x53', 'direction': 'right'}, {'type': 'relation', 'to_id': 'k5VaGB3Tsc', 'labels': ['org:located_in'], 'from_id': 'kJh8kr8x53', 'direction': 'right'}, {'type': 'relation', 'to_id': 'VPC45P1hGl', 'labels': ['org:located_in'], 'from_id': 'kJh8kr8x53', 'direction': 'right'}, {'type': 'relation', 'to_id': 'TAAb_wWaB6', 'labels': ['org:is_condition'], 'from_id': 'kJh8kr8x53', 'direction': 'right'}, {'type': 'relation', 'to_id': 'w08Ip8MHGX', 'labels': ['org:happened_on'], 'from_id': 'TAAb_wWaB6', 'direction': 'right'}, {'type': 'relation', 'to_id': 'Onv_U8TIt9', 'labels': ['org:located_in'], 'from_id': 'kJh8kr8x53', 'direction': 'right'}, {'type': 'relation', 'to_id': 'dgsnVP1ehM', 'labels': ['org:is_condition'], 'from_id': 'Onv_U8TIt9', 'direction': 'right'}, {'type': 'relation', 'to_id': '6Ni5mDWKjt', 'labels': ['org:happened_on'], 'from_id': 'EqfIjT-ZV-', 'direction': 'right'}, {'type': 'relation', 'to_id': 'UtZyOLV1UW', 'labels': ['org:is_similar_to'], 'from_id': 'imo_QaTZ8v', 'direction': 'right'}, {'type': 'relation', 'to_id': 'UtZyOLV1UW', 'labels': ['org:is_similar_to'], 'from_id': 'wcasW6NF0J', 'direction': 'right'}, {'type': 'relation', 'to_id': 'dPbmthpzhM', 'labels': ['org:is_condition'], 'from_id': 'kJh8kr8x53', 'direction': 'right'}, {'type': 'relation', 'to_id': 'TxoTa_1SRH', 'labels': ['org:located_in'], 'from_id': 'kJh8kr8x53', 'direction': 'right'}, {'type': 'relation', 'to_id': 'Vf_jsge6nj', 'labels': ['org:is_condition'], 'from_id': 'kJh8kr8x53', 'direction': 'right'}, {'type': 'relation', 'to_id': 'UtZyOLV1UW', 'labels': ['org:is_similar_to'], 'from_id': 'LkPduK59j6', 'direction': 'right'}, {'type': 'relation', 'to_id': 'Nmqir4_fR_', 'labels': ['org:happened_on'], 'from_id': 'dPbmthpzhM', 'direction': 'right'}, {'type': 'relation', 'to_id': 'zHqfRCsMP1', 'labels': ['org:happened_on'], 'from_id': 'Vf_jsge6nj', 'direction': 'right'}, {'type': 'relation', 'to_id': 'NpeotnSYt9', 'labels': ['org:is_condition'], 'from_id': 'uTp9LVylOf', 'direction': 'right'}, {'type': 'relation', 'to_id': 'U5cwxGQIgU', 'labels': ['org:is_condition'], 'from_id': 'uTp9LVylOf', 'direction': 'right'}, {'type': 'relation', 'to_id': 'nfVpseqW1A', 'labels': ['org:has_component'], 'from_id': 'kJh8kr8x53', 'direction': 'right'}, {'type': 'relation', 'to_id': '7dqu1TFnPb', 'labels': ['org:has_component'], 'from_id': 'kJh8kr8x53', 'direction': 'right'}, {'type': 'relation', 'to_id': 'sv7gKIE6Ri', 'labels': ['org:has_component'], 'from_id': 'kJh8kr8x53', 'direction': 'right'}], 'reviews': [], 'was_cancelled': False, 'ground_truth': False, 'created_at': '2023-10-01T07:51:09.041502Z', 'updated_at': '2023-10-01T07:51:09.041522Z', 'draft_created_at': '2023-10-01T07:41:55.045843Z', 'lead_time': 562.179, 'prediction': {}, 'result_count': 0, 'unique_id': 'ea356fb7-d6ff-45ad-913b-b1da9cf7847c', 'import_id': None, 'last_action': 'submitted', 'task': 70476117, 'project': 41784, 'updated_by': 12634, 'parent_prediction': None, 'parent_annotation': None, 'last_created_by': 12634}], 'file_upload': 'e749cd48-ephesus.json', 'drafts': [{'id': 4727664, 'user': 'l.r.siecker@student.tue.nl', 'created_username': 'Luc Siecker l.r.siecker@student.tue.nl, 12485', 'created_ago': '1\\xa0week, 2\\xa0days', 'result': [{'id': 'NGoGCdY4Mr', 'type': 'labels', 'value': {'end': 8, 'text': 'Ephesus', 'start': 1, 'labels': ['landmark_name']}, 'origin': 'manual', 'to_name': 'text', 'from_name': 'label'}, {'id': 'smwmA5Ofvl', 'type': 'labels', 'value': {'end': 55, 'text': 'city', 'start': 51, 'labels': ['type']}, 'origin': 'manual', 'to_name': 'text', 'from_name': 'label'}, {'id': 'eMn5ovu-q9', 'type': 'labels', 'value': {'end': 73, 'text': 'in Ancient Greece', 'start': 56, 'labels': ['location']}, 'origin': 'manual', 'to_name': 'text', 'from_name': 'label'}, {'id': 'XypjjOYYWL', 'type': 'labels', 'value': {'end': 95, 'text': 'on the coast of Ionia', 'start': 74, 'labels': ['location']}, 'origin': 'manual', 'to_name': 'text', 'from_name': 'label'}, {'id': 'fzfahtS8TS', 'type': 'labels', 'value': {'end': 127, 'text': 'Seluk', 'start': 122, 'labels': ['location']}, 'origin': 'manual', 'to_name': 'text', 'from_name': 'label'}, {'id': 'Ta3raV4I0g', 'type': 'labels', 'value': {'end': 144, 'text': 'in zmir Province', 'start': 128, 'labels': ['location']}, 'origin': 'manual', 'to_name': 'text', 'from_name': 'label'}, {'id': 'ol7SjwJo_x', 'type': 'labels', 'value': {'end': 152, 'text': 'Turkey', 'start': 146, 'labels': ['location']}, 'origin': 'manual', 'to_name': 'text', 'from_name': 'label'}, {'id': 'PHbl28FP21', 'type': 'labels', 'value': {'end': 167, 'text': 'built ', 'start': 161, 'labels': ['condition']}, 'origin': 'manual', 'to_name': 'text', 'from_name': 'label'}, {'id': 'JPPoxqH8So', 'type': 'labels', 'value': {'end': 189, 'text': 'in the 10th century BC', 'start': 167, 'labels': ['date']}, 'origin': 'manual', 'to_name': 'text', 'from_name': 'label'}, {'id': 'ZJlnM04LD9', 'type': 'labels', 'value': {'end': 210, 'text': 'on the site of Apasa', 'start': 190, 'labels': ['location']}, 'origin': 'manual', 'to_name': 'text', 'from_name': 'label'}, {'id': 'uW_vfM7nhe', 'type': 'labels', 'value': {'end': 238, 'text': 'Arzawan capital', 'start': 223, 'labels': ['location']}, 'origin': 'manual', 'to_name': 'text', 'from_name': 'label'}, {'id': 'swUnRWb6pE', 'type': 'labels', 'value': {'end': 275, 'text': 'Attic and Ionian Greek colonists', 'start': 243, 'labels': ['people']}, 'origin': 'manual', 'to_name': 'text', 'from_name': 'label'}, {'id': '35hF2t2Pd1', 'type': 'labels', 'value': {'end': 307, 'text': 'During the Classical Greek era', 'start': 277, 'labels': ['date']}, 'origin': 'manual', 'to_name': 'text', 'from_name': 'label'}, {'id': 'sjIHDWXZ_b', 'type': 'labels', 'value': {'end': 337, 'text': 'cities ', 'start': 330, 'labels': ['type']}, 'origin': 'manual', 'to_name': 'text', 'from_name': 'label'}, {'id': 'tr_mOgw3L4', 'type': 'labels', 'value': {'end': 330, 'text': 'twelve ', 'start': 323, 'labels': ['number']}, 'origin': 'manual', 'to_name': 'text', 'from_name': 'label'}, {'id': 'fpwKnelat-', 'type': 'labels', 'value': {'end': 320, 'text': 'one ', 'start': 316, 'labels': ['number']}, 'origin': 'manual', 'to_name': 'text', 'from_name': 'label'}, {'id': 'xdOCaxek2H', 'type': 'labels', 'value': {'end': 355, 'text': 'members ', 'start': 347, 'labels': ['occupation']}, 'origin': 'manual', 'to_name': 'text', 'from_name': 'label'}, {'id': '-8Ke7UENqj', 'type': 'labels', 'value': {'end': 375, 'text': 'Ionian League', 'start': 362, 'labels': ['people']}, 'origin': 'manual', 'to_name': 'text', 'from_name': 'label'}, {'id': 'kmlg7nKU9N', 'type': 'labels', 'value': {'end': 385, 'text': 'city', 'start': 381, 'labels': ['type']}, 'origin': 'manual', 'to_name': 'text', 'from_name': 'label'}, {'id': 'R25zEmX4Jy', 'type': 'labels', 'value': {'end': 430, 'text': 'under the control of the Roman Republic', 'start': 391, 'labels': ['condition']}, 'origin': 'manual', 'to_name': 'text', 'from_name': 'label'}, {'id': 'f--SrPVcc9', 'type': 'labels', 'value': {'end': 440, 'text': '129 BC', 'start': 434, 'labels': ['date']}, 'origin': 'manual', 'to_name': 'text', 'from_name': 'label'}, {'id': 'lHrwP-mYER', 'type': 'labels', 'value': {'end': 449, 'text': 'city', 'start': 445, 'labels': ['type']}, 'origin': 'manual', 'to_name': 'text', 'from_name': 'label'}, {'id': 'upbKChpbdC', 'type': 'labels', 'value': {'end': 504, 'text': 'Temple of Artemis', 'start': 487, 'labels': ['component']}, 'origin': 'manual', 'to_name': 'text', 'from_name': 'label'}, {'id': 'aVBtB17bYu', 'type': 'labels', 'value': {'end': 515, 'text': 'completed', 'start': 506, 'labels': ['condition']}, 'origin': 'manual', 'to_name': 'text', 'from_name': 'label'}, {'id': 'RkWWovOADC', 'type': 'labels', 'value': {'end': 528, 'text': 'around 550BC', 'start': 516, 'labels': ['date']}, 'origin': 'manual', 'to_name': 'text', 'from_name': 'label'}, {'id': 'zEpxNXVCLs', 'type': 'labels', 'value': {'end': 602, 'text': 'designated one of the Seven Wonders of the Ancient World', 'start': 546, 'labels': ['condition']}, 'origin': 'manual', 'to_name': 'text', 'from_name': 'label'}, {'id': 'JIr7S-EaLA', 'type': 'labels', 'value': {'end': 633, 'text': 'monumental buildings', 'start': 613, 'labels': ['component']}, 'origin': 'manual', 'to_name': 'text', 'from_name': 'label'}, {'id': 'gZctTNMCrM', 'type': 'labels', 'value': {'end': 664, 'text': ' Library of Celsus', 'start': 646, 'labels': ['component']}, 'origin': 'manual', 'to_name': 'text', 'from_name': 'label'}, {'id': '_7qmtHC8Z-', 'type': 'labels', 'value': {'end': 678, 'text': 'theatre', 'start': 671, 'labels': ['component']}, 'origin': 'manual', 'to_name': 'text', 'from_name': 'label'}, {'id': 'ZYhaRfv0EY', 'type': 'labels', 'value': {'end': 715, 'text': 'capable of holding 24,000 spectators', 'start': 679, 'labels': ['condition']}, 'origin': 'manual', 'to_name': 'text', 'from_name': 'label'}, {'type': 'relation', 'to_id': 'smwmA5Ofvl', 'labels': ['org:is_type'], 'from_id': 'NGoGCdY4Mr', 'direction': 'right'}, {'type': 'relation', 'to_id': 'eMn5ovu-q9', 'labels': ['org:located_in'], 'from_id': 'NGoGCdY4Mr', 'direction': 'right'}, {'type': 'relation', 'to_id': 'XypjjOYYWL', 'labels': ['org:located_in'], 'from_id': 'NGoGCdY4Mr', 'direction': 'right'}, {'type': 'relation', 'to_id': 'fzfahtS8TS', 'labels': ['org:located_in'], 'from_id': 'NGoGCdY4Mr', 'direction': 'right'}, {'type': 'relation', 'to_id': 'Ta3raV4I0g', 'labels': ['org:located_in'], 'from_id': 'NGoGCdY4Mr', 'direction': 'right'}, {'type': 'relation', 'to_id': 'ol7SjwJo_x', 'labels': ['org:located_in'], 'from_id': 'NGoGCdY4Mr', 'direction': 'right'}, {'type': 'relation', 'to_id': 'PHbl28FP21', 'labels': ['org:is_condition'], 'from_id': 'NGoGCdY4Mr', 'direction': 'right'}, {'type': 'relation', 'to_id': 'JPPoxqH8So', 'labels': ['org:happened_on'], 'from_id': 'PHbl28FP21', 'direction': 'right'}, {'type': 'relation', 'to_id': 'kmlg7nKU9N', 'labels': ['org:is_type'], 'from_id': 'NGoGCdY4Mr', 'direction': 'right'}, {'type': 'relation', 'to_id': 'R25zEmX4Jy', 'labels': ['org:is_condition'], 'from_id': 'NGoGCdY4Mr', 'direction': 'right'}, {'type': 'relation', 'to_id': 'f--SrPVcc9', 'labels': ['org:happened_on'], 'from_id': 'R25zEmX4Jy', 'direction': 'right'}, {'type': 'relation', 'to_id': 'lHrwP-mYER', 'labels': ['org:is_type'], 'from_id': 'NGoGCdY4Mr', 'direction': 'right'}, {'type': 'relation', 'to_id': 'upbKChpbdC', 'labels': ['org:has_component'], 'from_id': 'NGoGCdY4Mr', 'direction': 'right'}, {'type': 'relation', 'to_id': 'aVBtB17bYu', 'labels': ['org:is_condition'], 'from_id': 'upbKChpbdC', 'direction': 'right'}, {'type': 'relation', 'to_id': 'RkWWovOADC', 'labels': ['org:happened_on'], 'from_id': 'aVBtB17bYu', 'direction': 'right'}, {'type': 'relation', 'to_id': 'zEpxNXVCLs', 'labels': ['org:is_condition'], 'from_id': 'upbKChpbdC', 'direction': 'right'}, {'type': 'relation', 'to_id': 'JIr7S-EaLA', 'labels': ['org:has_component'], 'from_id': 'NGoGCdY4Mr', 'direction': 'right'}, {'type': 'relation', 'to_id': 'gZctTNMCrM', 'labels': ['org:has_component'], 'from_id': 'NGoGCdY4Mr', 'direction': 'right'}, {'type': 'relation', 'to_id': '_7qmtHC8Z-', 'labels': ['org:has_component'], 'from_id': 'NGoGCdY4Mr', 'direction': 'right'}, {'type': 'relation', 'to_id': 'ZYhaRfv0EY', 'labels': ['org:is_condition'], 'from_id': '_7qmtHC8Z-', 'direction': 'right'}], 'lead_time': 1017.8050000000001, 'was_postponed': False, 'import_id': None, 'created_at': '2023-10-11T09:11:56.370707Z', 'updated_at': '2023-10-11T09:19:07.299979Z', 'task': 70476117, 'annotation': 22629460}], 'predictions': [], 'agreement': 65.94881669230801, 'data': {'text': ' Ephesus (; ; ; may ultimately derive from ) was a city in Ancient Greece on the coast of Ionia, southwest of present-day Seluk in zmir Province, Turkey. It was built in the 10th century BC on the site of Apasa, the former Arzawan capital, by Attic and Ionian Greek colonists. During the Classical Greek era, it was one of twelve cities that were members of the Ionian League. The city came under the control of the Roman Republic in 129 BC.The city was famous in its day for the nearby Temple of Artemis (completed around 550BC), which has been designated one of the Seven Wonders of the Ancient World. Its many monumental buildings included the Library of Celsus and a theatre capable of holding 24,000 spectators.', 'title': 'Ephesus'}, 'meta': {}, 'created_at': '2023-09-28T12:38:37.492355Z', 'updated_at': '2023-10-11T09:25:22.196377Z', 'inner_id': 1, 'total_annotations': 5, 'cancelled_annotations': 0, 'total_predictions': 0, 'comment_count': 0, 'unresolved_comment_count': 0, 'last_comment_updated_at': None, 'project': 41784, 'updated_by': 12716, 'comment_authors': []}\n"
     ]
    }
   ],
   "source": [
    "print(\"Length of training data: \", len(training_data_export))\n",
    "print(training_data_export[0])"
   ]
  },
  {
   "cell_type": "markdown",
   "metadata": {},
   "source": [
    "### 1.2 Converting to Spacy training format:\n",
    "To provide custom labels to Spacy, we need to convert the data to the following format:\n",
    "\n",
    "```python\n",
    "training_data = [\n",
    "  (\"Tokyo Tower is 333m tall.\", [(0, 11, \"BUILDING\"), (20, 23, \"HEIGHT\")]),\n",
    "]\n",
    "```\n",
    "\n",
    "The `process_export` function from the preprocessor can fix this for us, it retrieves the training data in the given format, in combination with the labels and their relationship"
   ]
  },
  {
   "cell_type": "code",
   "execution_count": 5,
   "metadata": {},
   "outputs": [],
   "source": [
    "# empty annotations.jsonl file\n",
    "import os\n",
    "\n",
    "save_path = os.path.join(ROOT_DIR, \"rel_model/assets\", \"annotations.jsonl\")\n",
    "with open(save_path, \"w\") as file:\n",
    "    file.write(\"\")\n",
    "\n",
    "training_data, training_relations = preprocessor.process_export_sentences(training_data_export)\n",
    "validation_data, validation_relations = preprocessor.process_export_sentences(ground_truth_export, ground_truth = True)"
   ]
  },
  {
   "cell_type": "markdown",
   "metadata": {},
   "source": [
    "### 1.3 Checking results\n",
    "We can print the first 5 relations to check whether it was done correctly."
   ]
  },
  {
   "cell_type": "markdown",
   "metadata": {},
   "source": [
    "The same can be done for the labels, which are stored in a dictionary. Lets only print the first one."
   ]
  },
  {
   "cell_type": "code",
   "execution_count": 6,
   "metadata": {},
   "outputs": [
    {
     "name": "stdout",
     "output_type": "stream",
     "text": [
      "Training data info item 1 \n",
      "text:\n",
      " Ephesus (; ; ; may ultimately derive from ) was a city in Ancient Greece on the coast of Ionia, southwest of present-day Seluk in zmir Province, Turkey.\n",
      "Labels:\n",
      "[1, 9, 'landmark_name']\n",
      "\n",
      " Validation data info item 1 \n",
      "text:\n",
      " Ephesus (; ; ; may ultimately derive from ) was a city in Ancient Greece on the coast of Ionia, southwest of present-day Seluk in zmir Province, Turkey.\n",
      "Labels:\n",
      "[1, 8, 'landmark_name']\n"
     ]
    }
   ],
   "source": [
    "print(\"Training data info item 1 \\ntext:\")\n",
    "print(training_data[0][0])\n",
    "print(\"Labels:\")\n",
    "print(*training_data[0][1][\"entities\"], sep = \"\\n\")\n",
    "\n",
    "print(\"\\n Validation data info item 1 \\ntext:\")\n",
    "print(validation_data[0][0])\n",
    "print(\"Labels:\")\n",
    "print(*validation_data[0][1][\"entities\"], sep = \"\\n\")"
   ]
  },
  {
   "cell_type": "markdown",
   "metadata": {},
   "source": [
    "### 1.4 Preparing the data for Spacy\n",
    "The data is now in the correct format, so it can be processed and saved as Spacy training file using the `preprocess_spacy` function from the `Preprocessor` class."
   ]
  },
  {
   "cell_type": "code",
   "execution_count": 7,
   "metadata": {},
   "outputs": [],
   "source": [
    "preprocessor.preprocess_json(training_data = training_data, validation_data = validation_data)"
   ]
  },
  {
   "cell_type": "code",
   "execution_count": 8,
   "metadata": {},
   "outputs": [],
   "source": [
    "preprocessor.preprocess_json_rel(relational_annotations = training_relations)"
   ]
  },
  {
   "cell_type": "markdown",
   "metadata": {},
   "source": [
    "# 2 Training the Spacy Model on on the training file\n",
    "\n",
    "Start with importing all the spacy modules\n"
   ]
  },
  {
   "cell_type": "markdown",
   "metadata": {},
   "source": [
    "### 2.1 Spacy before training with custom labels"
   ]
  },
  {
   "cell_type": "code",
   "execution_count": 10,
   "metadata": {},
   "outputs": [
    {
     "name": "stderr",
     "output_type": "stream",
     "text": [
      "c:\\Users\\20182640\\.virtualenvs\\Text-Mining-xR8YyNgY\\lib\\site-packages\\spacy\\util.py:910: UserWarning: [W095] Model 'en_core_web_sm' (3.6.0) was trained with spaCy v3.6.0 and may not be 100% compatible with the current version (3.7.0). If you see errors or degraded performance, download a newer compatible model or retrain your custom model with the current spaCy version. For more details and available updates, run: python -m spacy validate\n",
      "  warnings.warn(warn_msg)\n"
     ]
    },
    {
     "name": "stdout",
     "output_type": "stream",
     "text": [
      "['tok2vec', 'tagger', 'parser', 'attribute_ruler', 'lemmatizer', 'ner']\n"
     ]
    },
    {
     "data": {
      "text/html": [
       "<span class=\"tex2jax_ignore\"><div class=\"entities\" style=\"line-height: 2.5; direction: ltr\"> \n",
       "<mark class=\"entity\" style=\"background: #aa9cfc; padding: 0.45em 0.6em; margin: 0 0.25em; line-height: 1; border-radius: 0.35em;\">\n",
       "    Ephesus\n",
       "    <span style=\"font-size: 0.8em; font-weight: bold; line-height: 1; border-radius: 0.35em; vertical-align: middle; margin-left: 0.5rem\">PERSON</span>\n",
       "</mark>\n",
       " (; ; ; may ultimately derive from ) was a city in \n",
       "<mark class=\"entity\" style=\"background: #7aecec; padding: 0.45em 0.6em; margin: 0 0.25em; line-height: 1; border-radius: 0.35em;\">\n",
       "    Ancient Greece\n",
       "    <span style=\"font-size: 0.8em; font-weight: bold; line-height: 1; border-radius: 0.35em; vertical-align: middle; margin-left: 0.5rem\">ORG</span>\n",
       "</mark>\n",
       " on the coast of \n",
       "<mark class=\"entity\" style=\"background: #7aecec; padding: 0.45em 0.6em; margin: 0 0.25em; line-height: 1; border-radius: 0.35em;\">\n",
       "    Ionia\n",
       "    <span style=\"font-size: 0.8em; font-weight: bold; line-height: 1; border-radius: 0.35em; vertical-align: middle; margin-left: 0.5rem\">ORG</span>\n",
       "</mark>\n",
       ", southwest of \n",
       "<mark class=\"entity\" style=\"background: #bfe1d9; padding: 0.45em 0.6em; margin: 0 0.25em; line-height: 1; border-radius: 0.35em;\">\n",
       "    present-day\n",
       "    <span style=\"font-size: 0.8em; font-weight: bold; line-height: 1; border-radius: 0.35em; vertical-align: middle; margin-left: 0.5rem\">DATE</span>\n",
       "</mark>\n",
       " \n",
       "<mark class=\"entity\" style=\"background: #aa9cfc; padding: 0.45em 0.6em; margin: 0 0.25em; line-height: 1; border-radius: 0.35em;\">\n",
       "    Seluk\n",
       "    <span style=\"font-size: 0.8em; font-weight: bold; line-height: 1; border-radius: 0.35em; vertical-align: middle; margin-left: 0.5rem\">PERSON</span>\n",
       "</mark>\n",
       " in \n",
       "<mark class=\"entity\" style=\"background: #feca74; padding: 0.45em 0.6em; margin: 0 0.25em; line-height: 1; border-radius: 0.35em;\">\n",
       "    zmir Province\n",
       "    <span style=\"font-size: 0.8em; font-weight: bold; line-height: 1; border-radius: 0.35em; vertical-align: middle; margin-left: 0.5rem\">GPE</span>\n",
       "</mark>\n",
       ", \n",
       "<mark class=\"entity\" style=\"background: #feca74; padding: 0.45em 0.6em; margin: 0 0.25em; line-height: 1; border-radius: 0.35em;\">\n",
       "    Turkey\n",
       "    <span style=\"font-size: 0.8em; font-weight: bold; line-height: 1; border-radius: 0.35em; vertical-align: middle; margin-left: 0.5rem\">GPE</span>\n",
       "</mark>\n",
       ".</div></span>"
      ],
      "text/plain": [
       "<IPython.core.display.HTML object>"
      ]
     },
     "metadata": {},
     "output_type": "display_data"
    }
   ],
   "source": [
    "import spacy\n",
    "from spacy import displacy\n",
    "\n",
    "example_text = training_data[0][0]\n",
    "\n",
    "nlp = spacy.load(\"en_core_web_sm\")\n",
    "doc = nlp(example_text)\n",
    "\n",
    "print(nlp.pipe_names)\n",
    "\n",
    "displacy.render(doc, style=\"ent\")"
   ]
  },
  {
   "cell_type": "markdown",
   "metadata": {},
   "source": [
    "### 2.2 Training a spacy NER model\n",
    "Training of a spacy model usually is done via the command line. This is the reason for the following no so understandable lines of code. There are a few steps in the training process:\n",
    "1. The spacy model needs a config file and all necessary files are in the spacy folder\n",
    "2. The model needs training data, which was exported in this file above to the spacy folder\n",
    "3. After training the model is evaluated and the results are printed for training and evaluation"
   ]
  },
  {
   "cell_type": "code",
   "execution_count": 11,
   "metadata": {},
   "outputs": [
    {
     "data": {
      "text/plain": [
       "False"
      ]
     },
     "execution_count": 11,
     "metadata": {},
     "output_type": "execute_result"
    }
   ],
   "source": [
    "# If GPU is availabel, use it for training\n",
    "spacy.prefer_gpu()"
   ]
  },
  {
   "cell_type": "code",
   "execution_count": 12,
   "metadata": {},
   "outputs": [
    {
     "name": "stderr",
     "output_type": "stream",
     "text": [
      "d:\\TUe\\2AMM30 - Text Mining\\Text-Mining\\ner_model\\scripts\\convert.py:22: UserWarning: Skipping entity [1, 9, landmark_name] in the following text because the character span 'Ephesus ' does not align with token boundaries:\n",
      "\n",
      "' Ephesus (; ; ; may ultimately derive from ) was a city in Ancient Greece on the coast of Ionia, southwest of present-day Seluk in zmir Province, Turkey.'\n",
      "\n",
      "  warnings.warn(msg)\n",
      "d:\\TUe\\2AMM30 - Text Mining\\Text-Mining\\ner_model\\scripts\\convert.py:22: UserWarning: Skipping entity [45, 55, date] in the following text because the character span 'since 1993' does not align with token boundaries:\n",
      "\n",
      "'It is listed as a UNESCO World Heritage Site since 1993.Name.Engelsberg Ironworks is named after Englika.'\n",
      "\n",
      "  warnings.warn(msg)\n",
      "d:\\TUe\\2AMM30 - Text Mining\\Text-Mining\\ner_model\\scripts\\convert.py:22: UserWarning: Skipping entity [4, 9, type] in the following text because the character span 'site ' does not align with token boundaries:\n",
      "\n",
      "'The site includes Durham Castle, Durham Cathedral, Durham University, Palace Green and University College, Durham.'\n",
      "\n",
      "  warnings.warn(msg)\n",
      "d:\\TUe\\2AMM30 - Text Mining\\Text-Mining\\ner_model\\scripts\\convert.py:22: UserWarning: Skipping entity [20, 29, number] in the following text because the character span 'hundreds ' does not align with token boundaries:\n",
      "\n",
      "'It is named for the hundreds of paintings of hands stenciled, in multiple collages, on the rock walls.'\n",
      "\n",
      "  warnings.warn(msg)\n",
      "d:\\TUe\\2AMM30 - Text Mining\\Text-Mining\\ner_model\\scripts\\convert.py:22: UserWarning: Skipping entity [4, 8, type] in the following text because the character span 'art ' does not align with token boundaries:\n",
      "\n",
      "'The art was created in several waves between 7,300 BC and 700 AD, during the Archaic period of pre-Columbian South America.'\n",
      "\n",
      "  warnings.warn(msg)\n",
      "d:\\TUe\\2AMM30 - Text Mining\\Text-Mining\\ner_model\\scripts\\convert.py:22: UserWarning: Skipping entity [49, 69, component] in the following text because the character span 'remains of bone pipe' does not align with token boundaries:\n",
      "\n",
      "'The age of the paintings was calculated from the remains of bone pipes used for spraying the paint on the wall of the cave to create the artwork, radiocarbon dating of the artwork, and stratigraphic dating.'\n",
      "\n",
      "  warnings.warn(msg)\n",
      "d:\\TUe\\2AMM30 - Text Mining\\Text-Mining\\ner_model\\scripts\\convert.py:22: UserWarning: Skipping entity [31, 37, number] in the following text because the character span 'seven ' does not align with token boundaries:\n",
      "\n",
      "'In total, the site consists of seven component parts  Kintrishi-Mtirala and Ispani in Adjara, Grigoleti and Imnati in Guria, and Pitshora, Nabada, and Churia in Samegrelo-Zemo Svaneti.'\n",
      "\n",
      "  warnings.warn(msg)\n",
      "d:\\TUe\\2AMM30 - Text Mining\\Text-Mining\\ner_model\\scripts\\convert.py:22: UserWarning: Skipping entity [0, 5, landmark_name] in the following text because the character span 'They ' does not align with token boundaries:\n",
      "\n",
      "'They represent the work of the Pskov School that drew from the Byzantine and Novgorod traditions, fused them with the local vernacular tradition, and adjusted the architecture to the use of local resources.'\n",
      "\n",
      "  warnings.warn(msg)\n",
      "d:\\TUe\\2AMM30 - Text Mining\\Text-Mining\\ner_model\\scripts\\convert.py:22: UserWarning: Skipping entity [7, 19, condition] in the following text because the character span 'established ' does not align with token boundaries:\n",
      "\n",
      "'It was established in 1973 as the Royal Chitwan National Park and was granted the status of a World Heritage Site in 1984.'\n",
      "\n",
      "  warnings.warn(msg)\n",
      "d:\\TUe\\2AMM30 - Text Mining\\Text-Mining\\ner_model\\scripts\\convert.py:22: UserWarning: Skipping entity [47, 97, landmark_name] in the following text because the character span 'Tiger Conservation Unit (TCU) Chitwan-Parsa-Valmik' does not align with token boundaries:\n",
      "\n",
      "'The coherent protected area of represents the \"Tiger Conservation Unit (TCU) Chitwan-Parsa-Valmiki\", which covers a huge block of alluvial grasslands and subtropical moist deciduous forests.'\n",
      "\n",
      "  warnings.warn(msg)\n",
      "d:\\TUe\\2AMM30 - Text Mining\\Text-Mining\\ner_model\\scripts\\convert.py:22: UserWarning: Skipping entity [3, 59, landmark_name] in the following text because the character span ' Capital Cities and Tombs of the Ancient Koguryo Kingdom' does not align with token boundaries:\n",
      "\n",
      "\"The Capital Cities and Tombs of the Ancient Koguryo Kingdom is an UNESCO World Heritage Site which includes a number of archaeological sites currently in Ji'an, Jilin Province and Huanren, Liaoning Province in Northeast China.\"\n",
      "\n",
      "  warnings.warn(msg)\n",
      "d:\\TUe\\2AMM30 - Text Mining\\Text-Mining\\ner_model\\scripts\\convert.py:22: UserWarning: Skipping entity [4, 9, type] in the following text because the character span 'park ' does not align with token boundaries:\n",
      "\n",
      "'The park was named a World Heritage Site by UNESCO.History.Canaima National Park was established on 12 June 1962.As early as 1990, the countries that participate in the Amazonian Cooperation Treaty had recommended expanding the Canaima National Park southward to connect it with Monte Roraima National Park in Brazil, with coordinated management of tourism, research and conservation.'\n",
      "\n",
      "  warnings.warn(msg)\n",
      "d:\\TUe\\2AMM30 - Text Mining\\Text-Mining\\ner_model\\scripts\\convert.py:22: UserWarning: Skipping entity [3, 10, type] in the following text because the character span ' forest' does not align with token boundaries:\n",
      "\n",
      "\"The forest is home to 800 European bison, Europe's heaviest land animal.\"\n",
      "\n",
      "  warnings.warn(msg)\n",
      "d:\\TUe\\2AMM30 - Text Mining\\Text-Mining\\ner_model\\scripts\\convert.py:22: UserWarning: Skipping entity [4, 12, landmark_name] in the following text because the character span 'estates ' does not align with token boundaries:\n",
      "\n",
      "'The estates also provide exceptional examples of new urban and architectural typologies, featuring fresh design solutions, as well as technical and aesthetic innovations.'\n",
      "\n",
      "  warnings.warn(msg)\n",
      "d:\\TUe\\2AMM30 - Text Mining\\Text-Mining\\ner_model\\scripts\\convert.py:22: UserWarning: Skipping entity [16, 21, landmark_name] in the following text because the character span 'park ' does not align with token boundaries:\n",
      "\n",
      "'The area of the park is , making it the largest European hillside park, and second largest park on a hill slope in the world.'\n",
      "\n",
      "  warnings.warn(msg)\n",
      "d:\\TUe\\2AMM30 - Text Mining\\Text-Mining\\ner_model\\scripts\\convert.py:22: UserWarning: Skipping entity [0, 13, condition] in the following text because the character span 'Construction ' does not align with token boundaries:\n",
      "\n",
      "'Construction of the \"Bergpark\", or \"mountain park\", began in 1689 at the behest of the Landgraves of Hesse-Kassel and took about 150 years.'\n",
      "\n",
      "  warnings.warn(msg)\n",
      "d:\\TUe\\2AMM30 - Text Mining\\Text-Mining\\ner_model\\scripts\\convert.py:22: UserWarning: Skipping entity [4, 9, landmark_name] in the following text because the character span 'park ' does not align with token boundaries:\n",
      "\n",
      "'The park is open to the public today.'\n",
      "\n",
      "  warnings.warn(msg)\n",
      "d:\\TUe\\2AMM30 - Text Mining\\Text-Mining\\ner_model\\scripts\\convert.py:22: UserWarning: Skipping entity [13, 21, landmark_name] in the following text because the character span 'complex ' does not align with token boundaries:\n",
      "\n",
      "'However, the complex lacks in visitor information.'\n",
      "\n",
      "  warnings.warn(msg)\n",
      "d:\\TUe\\2AMM30 - Text Mining\\Text-Mining\\ner_model\\scripts\\convert.py:22: UserWarning: Skipping entity [13, 22, type] in the following text because the character span 'exhibits ' does not align with token boundaries:\n",
      "\n",
      "'There are no exhibits or brochures available to learn more about this large space or guides at hand to provide further details, so people either need to go on a tour or explore on their own.History of Bahla Fort.The fort is believed to have been built between the 12th and 15th century by the Banu Nebhan tribe who inhabited the area at the time and were known for controlling the trade of frankincense at the time.'\n",
      "\n",
      "  warnings.warn(msg)\n",
      "d:\\TUe\\2AMM30 - Text Mining\\Text-Mining\\ner_model\\scripts\\convert.py:22: UserWarning: Skipping entity [0, 6, landmark_name] in the following text because the character span 'Bagan ' does not align with token boundaries:\n",
      "\n",
      "'Bagan (, ; formerly Pagan) is an ancient city and a UNESCO World Heritage Site in the Mandalay Region of Myanmar.'\n",
      "\n",
      "  warnings.warn(msg)\n",
      "d:\\TUe\\2AMM30 - Text Mining\\Text-Mining\\ner_model\\scripts\\convert.py:22: UserWarning: Skipping entity [27, 63, date] in the following text because the character span ' between the 11th and 13th centuries' does not align with token boundaries:\n",
      "\n",
      "\"During the kingdom's height between the 11th and 13th centuries, more than 10,000 Buddhist temples, pagodas and monasteries were constructed in the Bagan plains alone, of which the remains of over 2200 temples and pagodas survive.\"\n",
      "\n",
      "  warnings.warn(msg)\n",
      "d:\\TUe\\2AMM30 - Text Mining\\Text-Mining\\ner_model\\scripts\\convert.py:22: UserWarning: Skipping entity [0, 8, landmark_name] in the following text because the character span 'Babylon ' does not align with token boundaries:\n",
      "\n",
      "'Babylon is an ancient city located on the lower Euphrates river in southern Mesopotamia.'\n",
      "\n",
      "  warnings.warn(msg)\n",
      "d:\\TUe\\2AMM30 - Text Mining\\Text-Mining\\ner_model\\scripts\\convert.py:22: UserWarning: Skipping entity [0, 8, landmark_name] in the following text because the character span 'Baalbek ' does not align with token boundaries:\n",
      "\n",
      "\"Baalbek (; ; Syriac-Aramaic: ) is a city located east of the Litani River in Lebanon's Beqaa Valley, about northeast of Beirut.\"\n",
      "\n",
      "  warnings.warn(msg)\n",
      "d:\\TUe\\2AMM30 - Text Mining\\Text-Mining\\ner_model\\scripts\\convert.py:22: UserWarning: Skipping entity [0, 3, landmark_name] in the following text because the character span 'It ' does not align with token boundaries:\n",
      "\n",
      "'It is the capital of Baalbek-Hermel Governorate.'\n",
      "\n",
      "  warnings.warn(msg)\n",
      "d:\\TUe\\2AMM30 - Text Mining\\Text-Mining\\ner_model\\scripts\\convert.py:22: UserWarning: Skipping entity [4, 14, type] in the following text because the character span 'cathedral ' does not align with token boundaries:\n",
      "\n",
      "'The cathedral is the seat of the Bishop of Amiens.'\n",
      "\n",
      "  warnings.warn(msg)\n",
      "d:\\TUe\\2AMM30 - Text Mining\\Text-Mining\\ner_model\\scripts\\convert.py:22: UserWarning: Skipping entity [0, 7, landmark_name] in the following text because the character span 'Amiens ' does not align with token boundaries:\n",
      "\n",
      "'Amiens is a classic example of the High Gothic style of Gothic architecture.'\n",
      "\n",
      "  warnings.warn(msg)\n",
      "d:\\TUe\\2AMM30 - Text Mining\\Text-Mining\\ner_model\\scripts\\convert.py:22: UserWarning: Skipping entity [48, 56, date] in the following text because the character span ' in 1997' does not align with token boundaries:\n",
      "\n",
      "'It was inscribed as a UNESCO World Heritage Site in 1997 and expanded in 2001.'\n",
      "\n",
      "  warnings.warn(msg)\n",
      "d:\\TUe\\2AMM30 - Text Mining\\Text-Mining\\ner_model\\scripts\\convert.py:22: UserWarning: Skipping entity [20, 36, component] in the following text because the character span 'rich decoration ' does not align with token boundaries:\n",
      "\n",
      "'These tombs feature rich decoration of stone statues and carvings and tiles with dragon motifs, illustrating the development of the funerary architecture of the Qing dynasty.'\n",
      "\n",
      "  warnings.warn(msg)\n",
      "d:\\TUe\\2AMM30 - Text Mining\\Text-Mining\\ner_model\\scripts\\convert.py:22: UserWarning: Skipping entity [49, 52, number] in the following text because the character span '300' does not align with token boundaries:\n",
      "\n",
      "'<mapframe text=\"Map of Ilulissat Icefjord\" width=300 height=300 zoom=7 latitude=69.15 longitude=-50.2>'\n",
      "\n",
      "  warnings.warn(msg)\n",
      "d:\\TUe\\2AMM30 - Text Mining\\Text-Mining\\ner_model\\scripts\\convert.py:22: UserWarning: Skipping entity [0, 9, landmark_name] in the following text because the character span 'Humboldt ' does not align with token boundaries:\n",
      "\n",
      "'Humboldt is a national park in Queensland, Australia, approximately 110km southeast of Emerald.'\n",
      "\n",
      "  warnings.warn(msg)\n",
      "d:\\TUe\\2AMM30 - Text Mining\\Text-Mining\\ner_model\\scripts\\convert.py:22: UserWarning: Skipping entity [58, 62, date] in the following text because the character span '1982' does not align with token boundaries:\n",
      "\n",
      "'This quarter was named a World Heritage Site by UNESCO in 1982.Built on the site of an Etruscan settlement, Florence, the symbol of the Renaissance, rose to economic and cultural pre-eminence under the Medici in the 15th and 16th centuries.'\n",
      "\n",
      "  warnings.warn(msg)\n",
      "d:\\TUe\\2AMM30 - Text Mining\\Text-Mining\\ner_model\\scripts\\convert.py:22: UserWarning: Skipping entity [48, 54, number] in the following text because the character span ' 2,500' does not align with token boundaries:\n",
      "\n",
      "'A peak on the opposite side of the river is over 2,500 meters high.'\n",
      "\n",
      "  warnings.warn(msg)\n",
      "d:\\TUe\\2AMM30 - Text Mining\\Text-Mining\\ner_model\\scripts\\convert.py:22: UserWarning: Skipping entity [67, 89, date] in the following text because the character span ' between 1999 and 2004' does not align with token boundaries:\n",
      "\n",
      "\"The park was inscribed on UNESCO's List of World Heritage in Danger between 1999 and 2004 because of insecurity and a lack of resources in the park.\"\n",
      "\n",
      "  warnings.warn(msg)\n",
      "d:\\TUe\\2AMM30 - Text Mining\\Text-Mining\\ner_model\\scripts\\convert.py:22: UserWarning: Skipping entity [6, 15, condition] in the following text because the character span 'situated ' does not align with token boundaries:\n",
      "\n",
      "'It is situated in the southwestern Rila Mountains, south of the capital Sofia in the deep valley of the Rilska River (\"Rila River\") at an elevation of above sea level, inside of Rila Monastery Nature Park.'\n",
      "\n",
      "  warnings.warn(msg)\n",
      "d:\\TUe\\2AMM30 - Text Mining\\Text-Mining\\ner_model\\scripts\\convert.py:22: UserWarning: Skipping entity [4, 14, type] in the following text because the character span 'monastery ' does not align with token boundaries:\n",
      "\n",
      "\"The monastery is named after its founder, the hermit Ivan of Rila (876  946 AD), and houses around 60 monks.Founded in the 10th century, the Rila Monastery is regarded as one of Bulgaria's most important cultural, historical and architectural monuments and is a key tourist attraction for both Bulgaria and Southern Europe.\"\n",
      "\n",
      "  warnings.warn(msg)\n",
      "d:\\TUe\\2AMM30 - Text Mining\\Text-Mining\\ner_model\\scripts\\convert.py:22: UserWarning: Skipping entity [4, 14, type] in the following text because the character span 'monastery ' does not align with token boundaries:\n",
      "\n",
      "'The monastery is depicted on the reverse of the 1 lev banknote, issued in 1999.'\n",
      "\n",
      "  warnings.warn(msg)\n",
      "d:\\TUe\\2AMM30 - Text Mining\\Text-Mining\\ner_model\\scripts\\convert.py:22: UserWarning: Skipping entity [3, 22, landmark_name] in the following text because the character span ' Old Towns of Djenn' does not align with token boundaries:\n",
      "\n",
      "'The Old Towns of Djenn (, ) is an archaeological and urban ensemble located in the city of Djenn, in Mali.'\n",
      "\n",
      "  warnings.warn(msg)\n",
      "d:\\TUe\\2AMM30 - Text Mining\\Text-Mining\\ner_model\\scripts\\convert.py:22: UserWarning: Skipping entity [22, 41, landmark_name] in the following text because the character span ' Okavango Grassland' does not align with token boundaries:\n",
      "\n",
      "'The Okavango Delta (or Okavango Grassland; formerly spelled \"Okovango\" or \"Okovanggo\") in Botswana is a vast inland delta formed where the Okavango River reaches a tectonic trough at an altitude of 9301,000 m in the central part of the endorheic basin of the Kalahari.'\n",
      "\n",
      "  warnings.warn(msg)\n",
      "d:\\TUe\\2AMM30 - Text Mining\\Text-Mining\\ner_model\\scripts\\convert.py:22: UserWarning: Skipping entity [4, 9, landmark_name] in the following text because the character span 'park ' does not align with token boundaries:\n",
      "\n",
      "'The park is an area of significant volcanic activity.'\n",
      "\n",
      "  warnings.warn(msg)\n",
      "d:\\TUe\\2AMM30 - Text Mining\\Text-Mining\\ner_model\\scripts\\convert.py:22: UserWarning: Skipping entity [0, 9, component] in the following text because the character span 'Features ' does not align with token boundaries:\n",
      "\n",
      "'Features within the park include the Valley of Desolation, a region of boiling mud ponds and small geysers; the Boiling Lake; Titou Gorge; and Emerald Pool.'\n",
      "\n",
      "  warnings.warn(msg)\n",
      "d:\\TUe\\2AMM30 - Text Mining\\Text-Mining\\ner_model\\scripts\\convert.py:22: UserWarning: Skipping entity [4, 13, component] in the following text because the character span 'mountain ' does not align with token boundaries:\n",
      "\n",
      "'The mountain is the second-highest peak in Dominica, being exceeded only by Morne Diablotins ().'\n",
      "\n",
      "  warnings.warn(msg)\n",
      "d:\\TUe\\2AMM30 - Text Mining\\Text-Mining\\ner_model\\scripts\\convert.py:22: UserWarning: Skipping entity [0, 7, landmark_name] in the following text because the character span 'Masada ' does not align with token boundaries:\n",
      "\n",
      "'Masada ( \\', \"fortress\") is an ancient fortification in the Southern District of Israel situated on top of an isolated rock plateau, akin to a mesa.'\n",
      "\n",
      "  warnings.warn(msg)\n",
      "d:\\TUe\\2AMM30 - Text Mining\\Text-Mining\\ner_model\\scripts\\convert.py:22: UserWarning: Skipping entity [0, 3, landmark_name] in the following text because the character span 'It ' does not align with token boundaries:\n",
      "\n",
      "'It is located on the eastern edge of the Judaean Desert, overlooking the Dead Sea east of Arad.Herod the Great built two palaces for himself on the mountain and fortified Masada between 37 and 31 BCE.According to Josephus, the siege of Masada by Roman troops from 73 to 74 CE, at the end of the First JewishRoman War, ended in the mass suicide of the 960 Sicarii rebels who were hiding there.'\n",
      "\n",
      "  warnings.warn(msg)\n",
      "d:\\TUe\\2AMM30 - Text Mining\\Text-Mining\\ner_model\\scripts\\convert.py:22: UserWarning: Skipping entity [0, 3, landmark_name] in the following text because the character span 'It ' does not align with token boundaries:\n",
      "\n",
      "'It protects a diverse number of ecosystems including lowland rainforests, cloud forests and Andean grasslands.History.Man National Park was established by decree on 29 May 1973; during the dictatorship of General Juan Velasco.'\n",
      "\n",
      "  warnings.warn(msg)\n",
      "d:\\TUe\\2AMM30 - Text Mining\\Text-Mining\\ner_model\\scripts\\convert.py:22: UserWarning: Skipping entity [0, 3, landmark_name] in the following text because the character span 'It ' does not align with token boundaries:\n",
      "\n",
      "'It covers an area of 42.47km, approximately 9% of the total area of Andorra, and is part of the second largest watershed basin in Andorra.'\n",
      "\n",
      "  warnings.warn(msg)\n",
      "d:\\TUe\\2AMM30 - Text Mining\\Text-Mining\\ner_model\\scripts\\convert.py:22: UserWarning: Skipping entity [4, 9, landmark_name] in the following text because the character span 'site ' does not align with token boundaries:\n",
      "\n",
      "'The site includes 3 contiguous national parks within the humid tropical forests of Central Africa: Nouabal-Ndoki National Park in Congo, Lobk National Park in Cameroon, and Dzanga-Ndoki National Park in Central African Republic.'\n",
      "\n",
      "  warnings.warn(msg)\n",
      "d:\\TUe\\2AMM30 - Text Mining\\Text-Mining\\ner_model\\scripts\\convert.py:22: UserWarning: Skipping entity [13, 25, people] in the following text because the character span 'populations ' does not align with token boundaries:\n",
      "\n",
      "\"In addition, populations of critically endangered plant species such as Mukulungu are protected within the site's borders.\"\n",
      "\n",
      "  warnings.warn(msg)\n",
      "d:\\TUe\\2AMM30 - Text Mining\\Text-Mining\\ner_model\\scripts\\convert.py:22: UserWarning: Skipping entity [4, 9, landmark_name] in the following text because the character span 'park ' does not align with token boundaries:\n",
      "\n",
      "'The park contains two active volcanoes (Tungurahua and Sangay), one extinct volcano El Altar (Kapak Urku).'\n",
      "\n",
      "  warnings.warn(msg)\n",
      "d:\\TUe\\2AMM30 - Text Mining\\Text-Mining\\ner_model\\scripts\\convert.py:22: UserWarning: Skipping entity [0, 4, number] in the following text because the character span '327 ' does not align with token boundaries:\n",
      "\n",
      "'327 lakes feed into a vast wetland system covering .'\n",
      "\n",
      "  warnings.warn(msg)\n",
      "d:\\TUe\\2AMM30 - Text Mining\\Text-Mining\\ner_model\\scripts\\convert.py:22: UserWarning: Skipping entity [4, 8, number] in the following text because the character span 'two ' does not align with token boundaries:\n",
      "\n",
      "'The two villages and their monasteries are similar in many ways, and lie in plain view of each other on a dissected plateau formation, separated by a deep crack formed by a small river flowing into the Debed river.'\n",
      "\n",
      "  warnings.warn(msg)\n",
      "d:\\TUe\\2AMM30 - Text Mining\\Text-Mining\\ner_model\\scripts\\convert.py:22: UserWarning: Skipping entity [4, 12, landmark_name] in the following text because the character span 'reserve ' does not align with token boundaries:\n",
      "\n",
      "'The reserve is located in the Trans-Mexican Volcanic Belt pine-oak forests ecoregion on the border of Michoacn and State of Mexico, 100km (62 miles), northwest of Mexico City.'\n",
      "\n",
      "  warnings.warn(msg)\n",
      "d:\\TUe\\2AMM30 - Text Mining\\Text-Mining\\ner_model\\scripts\\convert.py:22: UserWarning: Skipping entity [0, 9, number] in the following text because the character span 'Millions ' does not align with token boundaries:\n",
      "\n",
      "'Millions of butterflies arrive in the reserve annually.'\n",
      "\n",
      "  warnings.warn(msg)\n",
      "d:\\TUe\\2AMM30 - Text Mining\\Text-Mining\\ner_model\\scripts\\convert.py:22: UserWarning: Skipping entity [0, 12, animal] in the following text because the character span 'Butterflies ' does not align with token boundaries:\n",
      "\n",
      "'Butterflies only inhabit a fraction of the 56,000 hectares of the reserve from OctoberMarch.'\n",
      "\n",
      "  warnings.warn(msg)\n",
      "d:\\TUe\\2AMM30 - Text Mining\\Text-Mining\\ner_model\\scripts\\convert.py:22: UserWarning: Skipping entity [0, 8, condition] in the following text because the character span 'Erected ' does not align with token boundaries:\n",
      "\n",
      "'Erected in the 16th century in the late Brick Gothic style, it is one of the few remaining architectural monuments of the former PolishLithuanian Commonwealth in contemporary Belarus.History.Duke Juryj Ivanavi Illini () began construction of the castle near the village of Mir after the turn of the 16th century in the Belarusian Gothic style.'\n",
      "\n",
      "  warnings.warn(msg)\n",
      "d:\\TUe\\2AMM30 - Text Mining\\Text-Mining\\ner_model\\scripts\\convert.py:22: UserWarning: Skipping entity [0, 5, number] in the following text because the character span 'Five ' does not align with token boundaries:\n",
      "\n",
      "'Five towers surrounded the courtyard of the citadel, the walls of which formed a square of on each side.'\n",
      "\n",
      "  warnings.warn(msg)\n",
      "d:\\TUe\\2AMM30 - Text Mining\\Text-Mining\\ner_model\\scripts\\convert.py:22: UserWarning: Skipping entity [0, 8, condition] in the following text because the character span 'Created ' does not align with token boundaries:\n",
      "\n",
      "'Created in 1985 by the Government of Quebec, Miguasha was designated a World Heritage Site in 1999 in recognition of its wealth of fossils, which display a crucial time during the evolution of life on Earth.'\n",
      "\n",
      "  warnings.warn(msg)\n",
      "d:\\TUe\\2AMM30 - Text Mining\\Text-Mining\\ner_model\\scripts\\convert.py:22: UserWarning: Skipping entity [21, 26, landmark_name] in the following text because the character span 'site ' does not align with token boundaries:\n",
      "\n",
      "'Other names for this site are the Miguasha Fossil Site, the Bay of Escuminac Fossil Site, the Upper Devonian Escuminac Formation, and the Hugh-Miller Cliffs.'\n",
      "\n",
      "  warnings.warn(msg)\n",
      "d:\\TUe\\2AMM30 - Text Mining\\Text-Mining\\ner_model\\scripts\\convert.py:22: UserWarning: Skipping entity [0, 3, landmark_name] in the following text because the character span 'It ' does not align with token boundaries:\n",
      "\n",
      "\"It is also sometimes referred to on fossil specimens as 'Scaumenac Bay' or 'Scaumenac Bay P.Q.'\"\n",
      "\n",
      "  warnings.warn(msg)\n",
      "d:\\TUe\\2AMM30 - Text Mining\\Text-Mining\\ner_model\\scripts\\convert.py:22: UserWarning: Skipping entity [0, 8, landmark_name] in the following text because the character span 'Meteora ' does not align with token boundaries:\n",
      "\n",
      "'Meteora is located near the town of Kalabaka at the northwestern edge of the Plain of Thessaly near the Pineios river and Pindus Mountains.'\n",
      "\n",
      "  warnings.warn(msg)\n",
      "d:\\TUe\\2AMM30 - Text Mining\\Text-Mining\\ner_model\\scripts\\convert.py:22: UserWarning: Skipping entity [0, 3, landmark_name] in the following text because the character span 'It ' does not align with token boundaries:\n",
      "\n",
      "'It has been a UNESCO World Heritage Site since 1979.The Medina contains some 700 monuments, including palaces, mosques, mausoleums, madrasas and fountains dating from the Almohad and the Hafsid periods.History.Founded in 698 around the original core of the Zitouna Mosque, the Medina of Tunis developed throughout the Middle Ages.'\n",
      "\n",
      "  warnings.warn(msg)\n",
      "d:\\TUe\\2AMM30 - Text Mining\\Text-Mining\\ner_model\\scripts\\convert.py:22: UserWarning: Skipping entity [30, 37, component] in the following text because the character span 'mosque ' does not align with token boundaries:\n",
      "\n",
      "'The main axis was between the mosque and the centre of government to the west in the kasbah.'\n",
      "\n",
      "  warnings.warn(msg)\n",
      "d:\\TUe\\2AMM30 - Text Mining\\Text-Mining\\ner_model\\scripts\\convert.py:22: UserWarning: Skipping entity [0, 11, condition] in the following text because the character span 'Expansions ' does not align with token boundaries:\n",
      "\n",
      "'Expansions to the north and south divided the main Medina into two suburbs north (Bab Souika) and south (Bab El Jazira).'\n",
      "\n",
      "  warnings.warn(msg)\n",
      "d:\\TUe\\2AMM30 - Text Mining\\Text-Mining\\ner_model\\scripts\\convert.py:22: UserWarning: Skipping entity [6, 10, number] in the following text because the character span 'one ' does not align with token boundaries:\n",
      "\n",
      "\"It is one of Poland's World Heritage Sites (added in 1997).\"\n",
      "\n",
      "  warnings.warn(msg)\n",
      "d:\\TUe\\2AMM30 - Text Mining\\Text-Mining\\ner_model\\scripts\\convert.py:22: UserWarning: Skipping entity [0, 19, landmark_name] in the following text because the character span 'Urnes Stave Church ' does not align with token boundaries:\n",
      "\n",
      "'Urnes Stave Church () is a 12th-century stave church at Ornes, along the Lustrafjorden in the municipality of Luster in Vestland county, Norway.The church sits on the eastern side of the fjord, directly across the fjord from the village of Solvorn and about east of the village of Hafslo.'\n",
      "\n",
      "  warnings.warn(msg)\n",
      "d:\\TUe\\2AMM30 - Text Mining\\Text-Mining\\ner_model\\scripts\\convert.py:22: UserWarning: Skipping entity [0, 3, landmark_name] in the following text because the character span 'It ' does not align with token boundaries:\n",
      "\n",
      "'It was built at the end of the fifteenth century and is designated as a UNESCO World Heritage Site.UNESCO describes the tomb as a fine example of the monumental mud-building traditions of the West African Sahel.'\n",
      "\n",
      "  warnings.warn(msg)\n",
      "d:\\TUe\\2AMM30 - Text Mining\\Text-Mining\\ner_model\\scripts\\convert.py:22: UserWarning: Skipping entity [4, 12, landmark_name] in the following text because the character span 'complex ' does not align with token boundaries:\n",
      "\n",
      "'The complex includes the pyramidal tomb, two mosques, a cemetery and an assembly ground.'\n",
      "\n",
      "  warnings.warn(msg)\n",
      "d:\\TUe\\2AMM30 - Text Mining\\Text-Mining\\ner_model\\scripts\\convert.py:22: UserWarning: Skipping entity [0, 8, occupation] in the following text because the character span 'Emperor ' does not align with token boundaries:\n",
      "\n",
      "'Emperor Trajan named the city in commemoration of his mother Marcia, eldest sister Ulpia Marciana, and father Marcus Ulpius Traianus.Located in modern-day Algeria, about east of the city of Batna, the ruins are noteworthy for representing one of the best extant examples of the grid plan as used in Roman town planning.'\n",
      "\n",
      "  warnings.warn(msg)\n",
      "d:\\TUe\\2AMM30 - Text Mining\\Text-Mining\\ner_model\\scripts\\convert.py:22: UserWarning: Skipping entity [3, 17, type] in the following text because the character span ' copper statue' does not align with token boundaries:\n",
      "\n",
      "'The copper statue, a gift from the people of France, was designed by French sculptor Frdric Auguste Bartholdi and its metal framework was built by Gustave Eiffel.'\n",
      "\n",
      "  warnings.warn(msg)\n",
      "d:\\TUe\\2AMM30 - Text Mining\\Text-Mining\\ner_model\\scripts\\convert.py:22: UserWarning: Skipping entity [4, 11, landmark_name] in the following text because the character span 'statue ' does not align with token boundaries:\n",
      "\n",
      "'The statue was dedicated on October 28, 1886.The statue is a figure of Libertas, the Roman Goddess of Liberty.'\n",
      "\n",
      "  warnings.warn(msg)\n",
      "d:\\TUe\\2AMM30 - Text Mining\\Text-Mining\\ner_model\\scripts\\convert.py:22: UserWarning: Skipping entity [4, 9, type] in the following text because the character span 'site ' does not align with token boundaries:\n",
      "\n",
      "'The site comprises seven clusters Phase I: Libo Karst, Shilin Karst, and Wulong Karst inscribed in 2007, and Phase II: Guilin Karst, Shibing Karst, Jinfoshan Karst, and Huanjiang Karst inscribed in 2014.'\n",
      "\n",
      "  warnings.warn(msg)\n"
     ]
    },
    {
     "name": "stdout",
     "output_type": "stream",
     "text": [
      "ner_model/assets/train.spacy\n",
      "ner_model/assets/dev.spacy\n"
     ]
    },
    {
     "name": "stderr",
     "output_type": "stream",
     "text": [
      "d:\\TUe\\2AMM30 - Text Mining\\Text-Mining\\ner_model\\scripts\\convert.py:22: UserWarning: Skipping entity [3, 35, landmark_name] in the following text because the character span ' Monastery of Saint John of Rila' does not align with token boundaries:\n",
      "\n",
      "'The Monastery of Saint John of Rila, also known as Rila Monastery \"Sveti Ivan Rilski\" (), is the largest and most famous Eastern Orthodox monastery in Bulgaria.'\n",
      "\n",
      "  warnings.warn(msg)\n",
      "d:\\TUe\\2AMM30 - Text Mining\\Text-Mining\\ner_model\\scripts\\convert.py:22: UserWarning: Skipping entity [3, 27, landmark_name] in the following text because the character span ' Villa Romana del Casale' does not align with token boundaries:\n",
      "\n",
      "'The Villa Romana del Casale (Sicilian: \"Villa Rumana d Casali\") is a large and elaborate Roman villa or palace located about 3km from the town of Piazza Armerina, Sicily.'\n",
      "\n",
      "  warnings.warn(msg)\n"
     ]
    }
   ],
   "source": [
    "from ner_model.scripts.convert import convert as ner_convert\n",
    "\n",
    "ner_convert(\"en\", \"ner_model/assets/train.json\", \"ner_model/assets/train.spacy\")\n",
    "ner_convert(\"en\", \"ner_model/assets/dev.json\", \"ner_model/assets/dev.spacy\")"
   ]
  },
  {
   "cell_type": "code",
   "execution_count": 13,
   "metadata": {},
   "outputs": [
    {
     "name": "stdout",
     "output_type": "stream",
     "text": [
      "ℹ Saving to output directory: ner_model\\training\n",
      "ℹ Using CPU\n",
      "\u001b[1m\n",
      "=========================== Initializing pipeline ===========================\u001b[0m\n"
     ]
    },
    {
     "name": "stderr",
     "output_type": "stream",
     "text": [
      "c:\\Users\\20182640\\.virtualenvs\\Text-Mining-xR8YyNgY\\lib\\site-packages\\spacy\\util.py:910: UserWarning: [W095] Model 'en_core_web_sm' (3.6.0) was trained with spaCy v3.6.0 and may not be 100% compatible with the current version (3.7.0). If you see errors or degraded performance, download a newer compatible model or retrain your custom model with the current spaCy version. For more details and available updates, run: python -m spacy validate\n",
      "  warnings.warn(warn_msg)\n"
     ]
    },
    {
     "name": "stdout",
     "output_type": "stream",
     "text": [
      "✔ Initialized pipeline\n",
      "\u001b[1m\n",
      "============================= Training pipeline =============================\u001b[0m\n",
      "ℹ Pipeline: ['tok2vec', 'tagger', 'parser', 'attribute_ruler', 'lemmatizer',\n",
      "'ner']\n",
      "ℹ Initial learn rate: 0.001\n",
      "E    #       LOSS TOK2VEC  LOSS TAGGER  LOSS PARSER  LOSS NER  LEMMA_ACC  ENTS_F  ENTS_P  ENTS_R  SPEED   SCORE \n",
      "---  ------  ------------  -----------  -----------  --------  ---------  ------  ------  ------  ------  ------\n",
      "  0       0          0.00         0.00         0.00     22.09       0.00    0.00    0.00    0.00  5829.28    0.00\n",
      "  0     100          0.00         0.00         0.00    590.47       0.00    0.00    0.00    0.00  8189.41    0.00\n",
      "  1     200          0.00         0.00         0.00    622.22       0.00    9.76   44.44    5.48  8072.70    0.02\n",
      "  1     300          0.00         0.00         0.00    751.54       0.00   25.81   60.00   16.44  8266.03    0.06\n",
      "  2     400          0.00         0.00         0.00    707.21       0.00   29.70   53.57   20.55  8411.67    0.07\n",
      "  3     500          0.00         0.00         0.00    622.20       0.00   39.62   63.64   28.77  7653.22    0.10\n",
      "  4     600          0.00         0.00         0.00    665.07       0.00   42.86   61.54   32.88  8946.39    0.10\n",
      "  5     700          0.00         0.00         0.00    836.93       0.00   42.86   61.54   32.88  8294.26    0.10\n",
      "  6     800          0.00         0.00         0.00    765.41       0.00   49.56   70.00   38.36  8009.13    0.12\n",
      "  8     900          0.00         0.00         0.00    858.99       0.00   47.79   67.50   36.99  7409.46    0.11\n",
      "  9    1000          0.00         0.00         0.00   1049.58       0.00   55.17   74.42   43.84  8936.12    0.13\n",
      " 11    1100          0.00         0.00         0.00   1057.94       0.00   59.02   73.47   49.32  8987.75    0.14\n",
      " 13    1200          0.00         0.00         0.00   1047.30       0.00   64.06   74.55   56.16  8868.89    0.15\n",
      "✔ Saved pipeline to output directory\n",
      "ner_model\\training\\model-last\n"
     ]
    }
   ],
   "source": [
    "from spacy.cli.train import train\n",
    "\n",
    "train(\"ner_model/configs/config.cfg\", output_path=\"ner_model/training/\", overrides={\"paths.train\": \"ner_model/corpus/train.spacy\", \"paths.dev\": \"ner_model/corpus/dev.spacy\"})"
   ]
  },
  {
   "cell_type": "code",
   "execution_count": 14,
   "metadata": {},
   "outputs": [
    {
     "data": {
      "text/plain": [
       "{'token_acc': 1.0,\n",
       " 'token_p': 1.0,\n",
       " 'token_r': 1.0,\n",
       " 'token_f': 1.0,\n",
       " 'tag_acc': None,\n",
       " 'sents_p': None,\n",
       " 'sents_r': None,\n",
       " 'sents_f': None,\n",
       " 'dep_uas': None,\n",
       " 'dep_las': None,\n",
       " 'dep_las_per_type': None,\n",
       " 'pos_acc': None,\n",
       " 'morph_acc': None,\n",
       " 'morph_micro_p': None,\n",
       " 'morph_micro_r': None,\n",
       " 'morph_micro_f': None,\n",
       " 'morph_per_feat': None,\n",
       " 'lemma_acc': None,\n",
       " 'ents_p': 0.7454545454545455,\n",
       " 'ents_r': 0.5616438356164384,\n",
       " 'ents_f': 0.640625,\n",
       " 'ents_per_type': {'landmark_name': {'p': 0.7857142857142857,\n",
       "   'r': 0.88,\n",
       "   'f': 0.830188679245283},\n",
       "  'date': {'p': 0.75, 'r': 0.6666666666666666, 'f': 0.7058823529411765},\n",
       "  'number': {'p': 1.0, 'r': 0.6666666666666666, 'f': 0.8},\n",
       "  'people': {'p': 0.0, 'r': 0.0, 'f': 0.0},\n",
       "  'component': {'p': 0.5, 'r': 0.14285714285714285, 'f': 0.22222222222222224},\n",
       "  'location': {'p': 1.0, 'r': 0.375, 'f': 0.5454545454545454},\n",
       "  'type': {'p': 0.5454545454545454,\n",
       "   'r': 0.42857142857142855,\n",
       "   'f': 0.4799999999999999},\n",
       "  'animal': {'p': 0.0, 'r': 0.0, 'f': 0.0},\n",
       "  'condition': {'p': 1.0, 'r': 0.2, 'f': 0.33333333333333337}},\n",
       " 'speed': 5483.066016026134}"
      ]
     },
     "execution_count": 14,
     "metadata": {},
     "output_type": "execute_result"
    }
   ],
   "source": [
    "from spacy.cli.evaluate import evaluate\n",
    "\n",
    "evaluate(\"ner_model/training/model-best\", \"ner_model/corpus/dev.spacy\", output=\"ner_model/training/metrics.json\")"
   ]
  },
  {
   "cell_type": "markdown",
   "metadata": {},
   "source": [
    "### 2.2 Visualizing the results\n",
    "The model is now trained. This model can be loaded into spacy and an example text can be visualized with the NER."
   ]
  },
  {
   "cell_type": "code",
   "execution_count": 15,
   "metadata": {},
   "outputs": [
    {
     "data": {
      "text/html": [
       "<span class=\"tex2jax_ignore\"><div class=\"entities\" style=\"line-height: 2.5; direction: ltr\">[' Ephesus (; ; ; may ultimately derive from ) was a city in Ancient Greece on the coast of Ionia, southwest of present-day Seluk in zmir Province, Turkey.', 'It was built in the 10th century BC on the site of Apasa, the former Arzawan capital, by Attic and Ionian Greek colonists.', 'During the Classical Greek era, it was one of twelve cities that were members of the Ionian League.', 'The city came under the control of the Roman Republic in 129 BC.The city was famous in its day for the nearby Temple of Artemis (completed around 550BC), which has been designated one of the Seven Wonders of the Ancient World.', 'Its many monumental buildings included the Library of Celsus and a theatre capable of holding 24,000 spectators.', 'Engelsberg Ironworks () is an ironworks in &quot;ngelsberg&quot;, a village in Fagersta Municipality in Vstmanland, Sweden.', &quot;It was \n",
       "<mark class=\"entity\" style=\"background: lightblue; padding: 0.45em 0.6em; margin: 0 0.25em; line-height: 1; border-radius: 0.35em;\">\n",
       "    built\n",
       "    <span style=\"font-size: 0.8em; font-weight: bold; line-height: 1; border-radius: 0.35em; vertical-align: middle; margin-left: 0.5rem\">condition</span>\n",
       "</mark>\n",
       " in 1681 by Per Larsson Gyllenhk (1645-1706) and developed into one of the world's most modern ironworks in the period 17001800.&quot;, 'It is listed as a UNESCO World Heritage Site since 1993.Name.Engelsberg Ironworks is named after Englika.', 'Englika, who was born in Germany, began producing iron in Engelsberg in the 14th century.History.The history of iron production in the region dates back to at least 13th century.', 'The local peasants both mined the ore and produced the iron using primitive furnaces.', 'The \n",
       "<mark class=\"entity\" style=\"background: lightred; padding: 0.45em 0.6em; margin: 0 0.25em; line-height: 1; border-radius: 0.35em;\">\n",
       "    Emas National Park\n",
       "    <span style=\"font-size: 0.8em; font-weight: bold; line-height: 1; border-radius: 0.35em; vertical-align: middle; margin-left: 0.5rem\">landmark_name</span>\n",
       "</mark>\n",
       " (, literally meaning &quot;Rhea National Park&quot;) is a national park and a UNESCO World Heritage Site in the states of Gois and Mato Grosso do Sul in Brazil.Description.The National Park is located between the states of Gois and Mato Grosso do Sul in the Center-West Region of Brazil, between 1750\\'1815\\'S and 5239\\'5310\\'W.', 'It covers of cerrado savannah.', 'The \n",
       "<mark class=\"entity\" style=\"background: #ddd; padding: 0.45em 0.6em; margin: 0 0.25em; line-height: 1; border-radius: 0.35em;\">\n",
       "    park\n",
       "    <span style=\"font-size: 0.8em; font-weight: bold; line-height: 1; border-radius: 0.35em; vertical-align: middle; margin-left: 0.5rem\">type</span>\n",
       "</mark>\n",
       " is in the Pantanal Biosphere Reserve, which also includes the Pantanal, Chapada dos Guimares and Serra da Bodoquena national parks, and the Serra de Santa Brbara, Nascentes do Rio Taquari and Pantanal de Rio Negro state parks.', 'Ellora Caves are a multi-religious rock-cut cave complex with inscriptions dating from the period 6th century CE onwards, located in the Aurangabad District of Maharashtra, India.', 'There are over 100 caves at the site, all excavated from the basalt cliffs in the Charanandri Hills, 34 of which are open to public.', 'These consist of \n",
       "<mark class=\"entity\" style=\"background: #ddd; padding: 0.45em 0.6em; margin: 0 0.25em; line-height: 1; border-radius: 0.35em;\">\n",
       "    17\n",
       "    <span style=\"font-size: 0.8em; font-weight: bold; line-height: 1; border-radius: 0.35em; vertical-align: middle; margin-left: 0.5rem\">number</span>\n",
       "</mark>\n",
       " Hindu (caves 1329), 12 Buddhist (caves 112) and 5 Jain (caves 3034) caves.', 'Each group represents deities and mythologies prevalent in the 1st millennium CE, as well as monasteries of each respective religion.', 'They were built close to one another and illustrate the religious harmony that existed in \n",
       "<mark class=\"entity\" style=\"background: lightyellow; padding: 0.45em 0.6em; margin: 0 0.25em; line-height: 1; border-radius: 0.35em;\">\n",
       "    ancient India\n",
       "    <span style=\"font-size: 0.8em; font-weight: bold; line-height: 1; border-radius: 0.35em; vertical-align: middle; margin-left: 0.5rem\">location</span>\n",
       "</mark>\n",
       ".', 'Because of their exceptional architecture of \n",
       "<mark class=\"entity\" style=\"background: lightyellow; padding: 0.45em 0.6em; margin: 0 0.25em; line-height: 1; border-radius: 0.35em;\">\n",
       "    ancient India\n",
       "    <span style=\"font-size: 0.8em; font-weight: bold; line-height: 1; border-radius: 0.35em; vertical-align: middle; margin-left: 0.5rem\">location</span>\n",
       "</mark>\n",
       ", the Ellora Caves were inscribed on the UNESCO World Heritage List in 1983.', 'The Elephanta Caves are a collection of cave temples predominantly dedicated to the Hindu god Shiva, which have been designated a UNESCO World Heritage Site.']</div></span>"
      ],
      "text/plain": [
       "<IPython.core.display.HTML object>"
      ]
     },
     "metadata": {},
     "output_type": "display_data"
    },
    {
     "name": "stdout",
     "output_type": "stream",
     "text": [
      "built condition\n",
      "Emas National Park landmark_name\n",
      "park type\n",
      "17 number\n",
      "ancient India location\n",
      "ancient India location\n"
     ]
    }
   ],
   "source": [
    "options = {\n",
    "    \"colors\": {\"location\": \"lightyellow\",\n",
    "               \"person_name\": \"lightgreen\",\n",
    "               \"landmark_name\": \"lightred\",\n",
    "               \"condition\": \"lightblue\"}\n",
    "}\n",
    "\n",
    "# Now test teh newly created spacy model on a sample text and visualize it using spacy\n",
    "nlp = spacy.load(\"ner_model/training/model-best/\")\n",
    "\n",
    "example_text = str([text[0] for i, text in enumerate(training_data[:20]) if text != \"\"])\n",
    "doc = nlp(example_text)\n",
    "\n",
    "displacy.render(doc, style=\"ent\", jupyter=True, options=options)\n",
    "\n",
    "# Show the tokens, their labels and their entities\n",
    "for ent in doc.ents:\n",
    "    print(ent.text, ent.label_)"
   ]
  },
  {
   "cell_type": "markdown",
   "metadata": {},
   "source": [
    "### 2.3 Training the Spacy Custom REL component"
   ]
  },
  {
   "cell_type": "code",
   "execution_count": 27,
   "metadata": {},
   "outputs": [
    {
     "ename": "ValueError",
     "evalue": "[E090] Extension 'rel' already exists on Doc. To overwrite the existing extension, set `force=True` on `Doc.set_extension`.",
     "output_type": "error",
     "traceback": [
      "\u001b[1;31m---------------------------------------------------------------------------\u001b[0m",
      "\u001b[1;31mValueError\u001b[0m                                Traceback (most recent call last)",
      "\u001b[1;32md:\\TUe\\2AMM30 - Text Mining\\Text-Mining\\model_training.ipynb Cell 27\u001b[0m line \u001b[0;36m3\n\u001b[0;32m      <a href='vscode-notebook-cell:/d%3A/TUe/2AMM30%20-%20Text%20Mining/Text-Mining/model_training.ipynb#X45sZmlsZQ%3D%3D?line=0'>1</a>\u001b[0m \u001b[39mfrom\u001b[39;00m \u001b[39mrel_model\u001b[39;00m\u001b[39m.\u001b[39;00m\u001b[39mscripts\u001b[39;00m\u001b[39m.\u001b[39;00m\u001b[39mparse_data\u001b[39;00m \u001b[39mimport\u001b[39;00m main \u001b[39mas\u001b[39;00m rel_convert\n\u001b[1;32m----> <a href='vscode-notebook-cell:/d%3A/TUe/2AMM30%20-%20Text%20Mining/Text-Mining/model_training.ipynb#X45sZmlsZQ%3D%3D?line=2'>3</a>\u001b[0m rel_convert(json_loc\u001b[39m=\u001b[39;49m\u001b[39m\"\u001b[39;49m\u001b[39mrel_model/assets/annotations.json\u001b[39;49m\u001b[39m\"\u001b[39;49m, train_file\u001b[39m=\u001b[39;49m\u001b[39m\"\u001b[39;49m\u001b[39mrel_model/data/train.spacy\u001b[39;49m\u001b[39m\"\u001b[39;49m, dev_file\u001b[39m=\u001b[39;49m\u001b[39m\"\u001b[39;49m\u001b[39mrel_model/data/dev.spacy\u001b[39;49m\u001b[39m\"\u001b[39;49m)\n",
      "File \u001b[1;32md:\\TUe\\2AMM30 - Text Mining\\Text-Mining\\rel_model\\scripts\\parse_data.py:31\u001b[0m, in \u001b[0;36mmain\u001b[1;34m(json_loc, train_file, dev_file)\u001b[0m\n\u001b[0;32m     29\u001b[0m \u001b[39mdef\u001b[39;00m \u001b[39mmain\u001b[39m(json_loc: Path, train_file: Path, dev_file: Path):\n\u001b[0;32m     30\u001b[0m \u001b[39m    \u001b[39m\u001b[39m\"\"\"Creating the corpus from the Prodigy annotations.\"\"\"\u001b[39;00m\n\u001b[1;32m---> 31\u001b[0m     Doc\u001b[39m.\u001b[39;49mset_extension(\u001b[39m\"\u001b[39;49m\u001b[39mrel\u001b[39;49m\u001b[39m\"\u001b[39;49m, default\u001b[39m=\u001b[39;49m{})\n\u001b[0;32m     32\u001b[0m     vocab \u001b[39m=\u001b[39m Vocab()\n\u001b[0;32m     34\u001b[0m     docs \u001b[39m=\u001b[39m {\u001b[39m\"\u001b[39m\u001b[39mtrain\u001b[39m\u001b[39m\"\u001b[39m: [], \u001b[39m\"\u001b[39m\u001b[39mdev\u001b[39m\u001b[39m\"\u001b[39m: [], \u001b[39m\"\u001b[39m\u001b[39mtest\u001b[39m\u001b[39m\"\u001b[39m: []}\n",
      "File \u001b[1;32mc:\\Users\\20182640\\.virtualenvs\\Text-Mining-xR8YyNgY\\lib\\site-packages\\spacy\\tokens\\doc.pyx:163\u001b[0m, in \u001b[0;36mspacy.tokens.doc.Doc.set_extension\u001b[1;34m()\u001b[0m\n",
      "\u001b[1;31mValueError\u001b[0m: [E090] Extension 'rel' already exists on Doc. To overwrite the existing extension, set `force=True` on `Doc.set_extension`."
     ]
    }
   ],
   "source": [
    "from rel_model.scripts.parse_data import main as rel_convert\n",
    "\n",
    "rel_convert(json_loc=\"rel_model/assets/annotations.json\", train_file=\"rel_model/data/train.spacy\", dev_file=\"rel_model/data/dev.spacy\")"
   ]
  },
  {
   "cell_type": "code",
   "execution_count": 57,
   "metadata": {},
   "outputs": [
    {
     "ename": "AttributeError",
     "evalue": "'_contextvars.ContextVar' object has no attribute 'args'",
     "output_type": "error",
     "traceback": [
      "\u001b[1;31m---------------------------------------------------------------------------\u001b[0m",
      "\u001b[1;31mAttributeError\u001b[0m                            Traceback (most recent call last)",
      "\u001b[1;32md:\\TUe\\2AMM30 - Text Mining\\Text-Mining\\model_training.ipynb Cell 28\u001b[0m line \u001b[0;36m7\n\u001b[0;32m      <a href='vscode-notebook-cell:/d%3A/TUe/2AMM30%20-%20Text%20Mining/Text-Mining/model_training.ipynb#X46sZmlsZQ%3D%3D?line=4'>5</a>\u001b[0m     train_cli(config_path\u001b[39m=\u001b[39m\u001b[39m\"\u001b[39m\u001b[39mrel_model/configs/rel_trf.cfg\u001b[39m\u001b[39m\"\u001b[39m, output_path\u001b[39m=\u001b[39m\u001b[39m\"\u001b[39m\u001b[39mrel_model/training/\u001b[39m\u001b[39m\"\u001b[39m, code_path\u001b[39m=\u001b[39m\u001b[39m\"\u001b[39m\u001b[39mrel_model/scripts/custom_functions.py\u001b[39m\u001b[39m\"\u001b[39m, ctx\u001b[39m=\u001b[39mContextVar(\u001b[39m\"\u001b[39m\u001b[39margs\u001b[39m\u001b[39m\"\u001b[39m, default\u001b[39m=\u001b[39m\u001b[39m0\u001b[39m))\n\u001b[0;32m      <a href='vscode-notebook-cell:/d%3A/TUe/2AMM30%20-%20Text%20Mining/Text-Mining/model_training.ipynb#X46sZmlsZQ%3D%3D?line=5'>6</a>\u001b[0m \u001b[39melse\u001b[39;00m:\n\u001b[1;32m----> <a href='vscode-notebook-cell:/d%3A/TUe/2AMM30%20-%20Text%20Mining/Text-Mining/model_training.ipynb#X46sZmlsZQ%3D%3D?line=6'>7</a>\u001b[0m     train_cli(config_path\u001b[39m=\u001b[39;49m\u001b[39m\"\u001b[39;49m\u001b[39mrel_model/configs/rel_tok2vec.cfg\u001b[39;49m\u001b[39m\"\u001b[39;49m, output_path\u001b[39m=\u001b[39;49m\u001b[39m\"\u001b[39;49m\u001b[39mrel_model/training/\u001b[39;49m\u001b[39m\"\u001b[39;49m, code_path\u001b[39m=\u001b[39;49m\u001b[39m\"\u001b[39;49m\u001b[39mrel_model/scripts/custom_functions.py\u001b[39;49m\u001b[39m\"\u001b[39;49m, ctx\u001b[39m=\u001b[39;49mContextVar(\u001b[39m\"\u001b[39;49m\u001b[39margs\u001b[39;49m\u001b[39m\"\u001b[39;49m, default\u001b[39m=\u001b[39;49m\u001b[39m-\u001b[39;49m\u001b[39m1\u001b[39;49m))\n",
      "File \u001b[1;32mc:\\Users\\20182640\\.virtualenvs\\Text-Mining-xR8YyNgY\\lib\\site-packages\\spacy\\cli\\train.py:52\u001b[0m, in \u001b[0;36mtrain_cli\u001b[1;34m(ctx, config_path, output_path, code_path, verbose, use_gpu)\u001b[0m\n\u001b[0;32m     50\u001b[0m \u001b[39mif\u001b[39;00m verbose:\n\u001b[0;32m     51\u001b[0m     util\u001b[39m.\u001b[39mlogger\u001b[39m.\u001b[39msetLevel(logging\u001b[39m.\u001b[39mDEBUG)\n\u001b[1;32m---> 52\u001b[0m overrides \u001b[39m=\u001b[39m parse_config_overrides(ctx\u001b[39m.\u001b[39;49margs)\n\u001b[0;32m     53\u001b[0m import_code(code_path)\n\u001b[0;32m     54\u001b[0m train(config_path, output_path, use_gpu\u001b[39m=\u001b[39muse_gpu, overrides\u001b[39m=\u001b[39moverrides)\n",
      "\u001b[1;31mAttributeError\u001b[0m: '_contextvars.ContextVar' object has no attribute 'args'"
     ]
    }
   ],
   "source": [
    "from contextvars import ContextVar\n",
    "from spacy.cli.train import train_cli\n",
    "\n",
    "if spacy.prefer_gpu():\n",
    "    train_cli(config_path=\"rel_model/configs/rel_trf.cfg\", output_path=\"rel_model/training/\", code_path=\"rel_model/scripts/custom_functions.py\", ctx=ContextVar(\"args\", default=0))\n",
    "else:\n",
    "    train_cli(config_path=\"rel_model/configs/rel_tok2vec.cfg\", output_path=\"rel_model/training/\", code_path=\"rel_model/scripts/custom_functions.py\", ctx=ContextVar(\"args\", default=-1))"
   ]
  },
  {
   "cell_type": "code",
   "execution_count": 42,
   "metadata": {},
   "outputs": [
    {
     "ename": "ModuleNotFoundError",
     "evalue": "No module named 'rel_pipe'",
     "output_type": "error",
     "traceback": [
      "\u001b[1;31m---------------------------------------------------------------------------\u001b[0m",
      "\u001b[1;31mModuleNotFoundError\u001b[0m                       Traceback (most recent call last)",
      "\u001b[1;32md:\\TUe\\2AMM30 - Text Mining\\Text-Mining\\model_training.ipynb Cell 29\u001b[0m line \u001b[0;36m1\n\u001b[1;32m----> <a href='vscode-notebook-cell:/d%3A/TUe/2AMM30%20-%20Text%20Mining/Text-Mining/model_training.ipynb#X51sZmlsZQ%3D%3D?line=0'>1</a>\u001b[0m \u001b[39mfrom\u001b[39;00m \u001b[39mrel_model\u001b[39;00m\u001b[39m.\u001b[39;00m\u001b[39mscripts\u001b[39;00m\u001b[39m.\u001b[39;00m\u001b[39mevaluate\u001b[39;00m \u001b[39mimport\u001b[39;00m main \u001b[39mas\u001b[39;00m rel_evaluate\n\u001b[0;32m      <a href='vscode-notebook-cell:/d%3A/TUe/2AMM30%20-%20Text%20Mining/Text-Mining/model_training.ipynb#X51sZmlsZQ%3D%3D?line=2'>3</a>\u001b[0m rel_evaluate(\u001b[39m\"\u001b[39m\u001b[39mrel_model/training/model-best\u001b[39m\u001b[39m\"\u001b[39m, \u001b[39m\"\u001b[39m\u001b[39mrel_model/data/dev.spacy\u001b[39m\u001b[39m\"\u001b[39m, output\u001b[39m=\u001b[39m\u001b[39m\"\u001b[39m\u001b[39mrel_model/training/metrics.json\u001b[39m\u001b[39m\"\u001b[39m)\n",
      "File \u001b[1;32md:\\TUe\\2AMM30 - Text Mining\\Text-Mining\\rel_model\\scripts\\evaluate.py:9\u001b[0m\n\u001b[0;32m      6\u001b[0m \u001b[39mfrom\u001b[39;00m \u001b[39mspacy\u001b[39;00m\u001b[39m.\u001b[39;00m\u001b[39mtraining\u001b[39;00m\u001b[39m.\u001b[39;00m\u001b[39mexample\u001b[39;00m \u001b[39mimport\u001b[39;00m Example\n\u001b[0;32m      8\u001b[0m \u001b[39m# make the factory work\u001b[39;00m\n\u001b[1;32m----> 9\u001b[0m \u001b[39mfrom\u001b[39;00m \u001b[39mrel_pipe\u001b[39;00m \u001b[39mimport\u001b[39;00m make_relation_extractor, score_relations\n\u001b[0;32m     11\u001b[0m \u001b[39m# make the config work\u001b[39;00m\n\u001b[0;32m     12\u001b[0m \u001b[39mfrom\u001b[39;00m \u001b[39mrel_model\u001b[39;00m \u001b[39mimport\u001b[39;00m create_relation_model, create_classification_layer, create_instances, create_tensors\n",
      "\u001b[1;31mModuleNotFoundError\u001b[0m: No module named 'rel_pipe'"
     ]
    }
   ],
   "source": [
    "from rel_model.scripts.evaluate import main as rel_evaluate\n",
    "\n",
    "rel_evaluate(\"rel_model/training/model-best\", \"rel_model/data/dev.spacy\", output=\"rel_model/training/metrics.json\")"
   ]
  }
 ],
 "metadata": {
  "kernelspec": {
   "display_name": "Python 3",
   "language": "python",
   "name": "python3"
  },
  "language_info": {
   "codemirror_mode": {
    "name": "ipython",
    "version": 3
   },
   "file_extension": ".py",
   "mimetype": "text/x-python",
   "name": "python",
   "nbconvert_exporter": "python",
   "pygments_lexer": "ipython3",
   "version": "3.10.11"
  },
  "orig_nbformat": 4
 },
 "nbformat": 4,
 "nbformat_minor": 2
}
