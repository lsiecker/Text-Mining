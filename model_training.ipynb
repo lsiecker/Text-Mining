{
 "cells": [
  {
   "cell_type": "code",
   "execution_count": 44,
   "metadata": {},
   "outputs": [
    {
     "name": "stdout",
     "output_type": "stream",
     "text": [
      "The autoreload extension is already loaded. To reload it, use:\n",
      "  %reload_ext autoreload\n"
     ]
    }
   ],
   "source": [
    "%load_ext autoreload\n",
    "%autoreload 2"
   ]
  },
  {
   "cell_type": "markdown",
   "metadata": {},
   "source": [
    "# Processing Label Studio Exports for Spacy\n",
    "This notebook processes exports from Label Studio for use in Spacy."
   ]
  },
  {
   "cell_type": "code",
   "execution_count": 45,
   "metadata": {},
   "outputs": [],
   "source": [
    "import preprocessor\n",
    "from preprocessor import Preprocessor\n",
    "\n",
    "ROOT_DIR = preprocessor.ROOT_DIR\n",
    "DATA_PATH = preprocessor.DATA_PATH\n",
    "\n",
    "preprocessor = Preprocessor(ROOT_DIR)"
   ]
  },
  {
   "cell_type": "markdown",
   "metadata": {},
   "source": [
    "## 1. Loading the Data\n",
    "### 1.1. Loading JSON export from Label Studio\n",
    "The first step is to load the JSON export from Label Studio. This is done using the `json` library and the predefined function `LoadFile` from the Preprocessor class."
   ]
  },
  {
   "cell_type": "code",
   "execution_count": 46,
   "metadata": {},
   "outputs": [],
   "source": [
    "# export_data = preprocessor.loadFile('label_studio_test_notebook_231002.json')\n",
    "export_data = preprocessor.loadFile('label_studio_test_notebook_290923.json')"
   ]
  },
  {
   "cell_type": "markdown",
   "metadata": {},
   "source": [
    "The exported data constists of all the annotations from a specific text of all the users. The first annotated text in the exported data file looks something like the following:"
   ]
  },
  {
   "cell_type": "code",
   "execution_count": 47,
   "metadata": {},
   "outputs": [
    {
     "name": "stdout",
     "output_type": "stream",
     "text": [
      "{'id': 70476151, 'annotations': [{'id': 22565484, 'completed_by': {'id': 12641, 'email': 'd.p.m.v.d.hoorn@student.tue.nl', 'first_name': '', 'last_name': ''}, 'result': [{'id': 'tBYLAMaY7Q', 'type': 'labels', 'value': {'end': 18, 'text': 'Chartres Cathedral', 'start': 0, 'labels': ['landmark_name']}, 'origin': 'manual', 'to_name': 'text', 'from_name': 'label'}, {'id': 'rXo1WB9tDL', 'type': 'labels', 'value': {'end': 71, 'text': 'Cathedral of Our Lady of Chartres', 'start': 38, 'labels': ['landmark_name']}, 'origin': 'manual', 'to_name': 'text', 'from_name': 'label'}, {'id': 'jt997QSCPu', 'type': 'labels', 'value': {'end': 96, 'text': 'Catholic church', 'start': 81, 'labels': ['type']}, 'origin': 'manual', 'to_name': 'text', 'from_name': 'label'}, {'id': 'eWtbXE3SqW', 'type': 'labels', 'value': {'end': 108, 'text': 'Chartres', 'start': 100, 'labels': ['location']}, 'origin': 'manual', 'to_name': 'text', 'from_name': 'label'}, {'id': '8FJnNiKvM2', 'type': 'labels', 'value': {'end': 116, 'text': 'France', 'start': 110, 'labels': ['location']}, 'origin': 'manual', 'to_name': 'text', 'from_name': 'label'}, {'id': '5QsMBaCfbf', 'type': 'labels', 'value': {'end': 142, 'text': 'Paris', 'start': 137, 'labels': ['location']}, 'origin': 'manual', 'to_name': 'text', 'from_name': 'label'}, {'id': '98OVH8kqMo', 'type': 'labels', 'value': {'end': 185, 'text': 'the Bishop of Chartres', 'start': 163, 'labels': ['occupation']}, 'origin': 'manual', 'to_name': 'text', 'from_name': 'label'}, {'id': 'XxLRI8VZzB', 'type': 'labels', 'value': {'end': 227, 'text': 'between 1194 and 1220', 'start': 206, 'labels': ['date']}, 'origin': 'manual', 'to_name': 'text', 'from_name': 'label'}, {'id': 'YxUyZexs82', 'type': 'labels', 'value': {'end': 267, 'text': 'five', 'start': 263, 'labels': ['number']}, 'origin': 'manual', 'to_name': 'text', 'from_name': 'label'}, {'id': 'ueq_zsjHGU', 'type': 'labels', 'value': {'end': 336, 'text': 'the Diocese of Chartres', 'start': 313, 'labels': ['people']}, 'origin': 'manual', 'to_name': 'text', 'from_name': 'label'}, {'id': '3VbdkKDmSx', 'type': 'labels', 'value': {'end': 363, 'text': 'episcopal', 'start': 354, 'labels': ['people']}, 'origin': 'manual', 'to_name': 'text', 'from_name': 'label'}, {'id': 'RuMdDve99q', 'type': 'labels', 'value': {'end': 386, 'text': 'in the 4th century', 'start': 368, 'labels': ['date']}, 'origin': 'manual', 'to_name': 'text', 'from_name': 'label'}, {'id': 'fWOLrqi2qp', 'type': 'labels', 'value': {'end': 492, 'text': 'High Gothic and Classic Gothic architecture', 'start': 449, 'labels': ['type']}, 'origin': 'manual', 'to_name': 'text', 'from_name': 'label'}, {'id': '6GiMtw4CRf', 'type': 'labels', 'value': {'end': 527, 'text': 'Romanesque basements', 'start': 507, 'labels': ['component']}, 'origin': 'manual', 'to_name': 'text', 'from_name': 'label'}, {'id': 'PvzmgsR2aX', 'type': 'labels', 'value': {'end': 550, 'text': 'north spire', 'start': 539, 'labels': ['component']}, 'origin': 'manual', 'to_name': 'text', 'from_name': 'label'}, {'id': 'n6jakB7DkB', 'type': 'labels', 'value': {'end': 571, 'text': '1507', 'start': 567, 'labels': ['date']}, 'origin': 'manual', 'to_name': 'text', 'from_name': 'label'}, {'id': 'jYpVAXndk2', 'type': 'labels', 'value': {'end': 575, 'text': '1513', 'start': 571, 'labels': ['date']}, 'origin': 'manual', 'to_name': 'text', 'from_name': 'label'}, {'id': 'Go1V_aF5rE', 'type': 'labels', 'value': {'end': 625, 'text': 'Flamboyant style', 'start': 609, 'labels': ['type']}, 'origin': 'manual', 'to_name': 'text', 'from_name': 'label'}, {'id': '8RhiKr5I8q', 'type': 'labels', 'value': {'end': 205, 'text': 'constructed', 'start': 194, 'labels': ['condition']}, 'origin': 'manual', 'to_name': 'text', 'from_name': 'label'}, {'id': 'V6RYHJdwwv', 'type': 'labels', 'value': {'end': 589, 'text': 'built', 'start': 584, 'labels': ['condition']}, 'origin': 'manual', 'to_name': 'text', 'from_name': 'label'}, {'type': 'relation', 'to_id': 'rXo1WB9tDL', 'labels': ['org:is_similar_to'], 'from_id': 'tBYLAMaY7Q', 'direction': 'right'}, {'type': 'relation', 'to_id': 'jt997QSCPu', 'labels': ['org:is_type'], 'from_id': 'tBYLAMaY7Q', 'direction': 'right'}, {'type': 'relation', 'to_id': 'eWtbXE3SqW', 'labels': ['org:located_in'], 'from_id': 'tBYLAMaY7Q', 'direction': 'right'}, {'type': 'relation', 'to_id': '8FJnNiKvM2', 'labels': ['org:located_in'], 'from_id': 'tBYLAMaY7Q', 'direction': 'right'}, {'type': 'relation', 'to_id': 'fWOLrqi2qp', 'labels': ['org:is_type'], 'from_id': 'tBYLAMaY7Q', 'direction': 'right'}, {'type': 'relation', 'to_id': '6GiMtw4CRf', 'labels': ['org:has_component'], 'from_id': 'tBYLAMaY7Q', 'direction': 'right'}, {'type': 'relation', 'to_id': 'PvzmgsR2aX', 'labels': ['org:has_component'], 'from_id': 'tBYLAMaY7Q', 'direction': 'right'}, {'type': 'relation', 'to_id': 'Go1V_aF5rE', 'labels': ['org:is_type'], 'from_id': 'tBYLAMaY7Q', 'direction': 'right'}, {'type': 'relation', 'to_id': '8RhiKr5I8q', 'labels': ['org:is_condition'], 'from_id': 'tBYLAMaY7Q', 'direction': 'right'}, {'type': 'relation', 'to_id': 'XxLRI8VZzB', 'labels': ['org:happened_on'], 'from_id': '8RhiKr5I8q', 'direction': 'right'}, {'type': 'relation', 'to_id': 'V6RYHJdwwv', 'labels': ['org:is_condition'], 'from_id': 'tBYLAMaY7Q', 'direction': 'right'}, {'type': 'relation', 'to_id': 'n6jakB7DkB', 'labels': ['org:happened_on'], 'from_id': 'V6RYHJdwwv', 'direction': 'right'}, {'type': 'relation', 'to_id': 'jYpVAXndk2', 'labels': ['org:happened_on'], 'from_id': 'V6RYHJdwwv', 'direction': 'right'}], 'reviews': [], 'was_cancelled': False, 'ground_truth': False, 'created_at': '2023-09-28T16:09:00.222565Z', 'updated_at': '2023-09-28T16:09:00.222585Z', 'draft_created_at': '2023-09-28T15:58:17.575724Z', 'lead_time': 748.398, 'prediction': {}, 'result_count': 0, 'unique_id': 'a183b0cc-9fa0-40e0-a7cc-22ab44778db2', 'import_id': None, 'last_action': 'submitted', 'task': 70476151, 'project': 41784, 'updated_by': 12641, 'parent_prediction': None, 'parent_annotation': None, 'last_created_by': 12641}], 'file_upload': 'e25a881a-chartrescathedral.json', 'drafts': [], 'predictions': [], 'agreement': 100.0, 'data': {'text': 'Chartres Cathedral, also known as the Cathedral of Our Lady of Chartres (), is a Catholic church in Chartres, France, about southwest of Paris, and is the seat of the Bishop of Chartres. Mostly constructed between 1194 and 1220, it stands on the site of at least five cathedrals that have occupied the site since the Diocese of Chartres was formed as an episcopal see in the 4th century. It is one of the best-known and most influential examples of High Gothic and Classic Gothic architecture, It stands on Romanesque basements, while its north spire is more recent (15071513) and is built in the more ornate Flamboyant style.', 'title': 'Chartres Cathedral'}, 'meta': {}, 'created_at': '2023-09-28T12:38:37.493671Z', 'updated_at': '2023-09-28T16:09:00.310863Z', 'inner_id': 35, 'total_annotations': 1, 'cancelled_annotations': 0, 'total_predictions': 0, 'comment_count': 0, 'unresolved_comment_count': 0, 'last_comment_updated_at': None, 'project': 41784, 'updated_by': 12641, 'comment_authors': []}\n"
     ]
    }
   ],
   "source": [
    "print(export_data[0])"
   ]
  },
  {
   "cell_type": "markdown",
   "metadata": {},
   "source": [
    "### 1.2 Converting to Spacy training format:\n",
    "To provide custom labels to Spacy, we need to convert the data to the following format:\n",
    "\n",
    "```python\n",
    "training_data = [\n",
    "  (\"Tokyo Tower is 333m tall.\", [(0, 11, \"BUILDING\"), (20, 23, \"HEIGHT\")]),\n",
    "]\n",
    "```\n",
    "\n",
    "The `process_export` function from the preprocessor can fix this for us, it retrieves the training data in the given format, in combination with the labels and their relationship"
   ]
  },
  {
   "cell_type": "code",
   "execution_count": 48,
   "metadata": {},
   "outputs": [],
   "source": [
    "training_data, relation_data = preprocessor.process_export(export_data)"
   ]
  },
  {
   "cell_type": "markdown",
   "metadata": {},
   "source": [
    "### 1.3 Checking results\n",
    "We can print the first 5 relations to check whether it was done correctly."
   ]
  },
  {
   "cell_type": "code",
   "execution_count": 49,
   "metadata": {},
   "outputs": [
    {
     "name": "stdout",
     "output_type": "stream",
     "text": [
      "Labels: ('Chartres Cathedral', 'Cathedral of Our Lady of Chartres')\n",
      "Relations: ['org:is_similar_to']\n",
      "\n",
      "Labels: ('Chartres Cathedral', 'Catholic church')\n",
      "Relations: ['org:is_type']\n",
      "\n",
      "Labels: ('Chartres Cathedral', 'Chartres')\n",
      "Relations: ['org:located_in']\n",
      "\n",
      "Labels: ('Chartres Cathedral', 'France')\n",
      "Relations: ['org:located_in']\n",
      "\n",
      "Labels: ('Chartres Cathedral', 'High Gothic and Classic Gothic architecture')\n",
      "Relations: ['org:is_type']\n",
      "\n"
     ]
    }
   ],
   "source": [
    "for i, (label, relations) in enumerate(relation_data.items()):\n",
    "    if i > 4:\n",
    "        break\n",
    "    print(f\"Labels: {label}\")\n",
    "    print(f\"Relations: {relations}\")\n",
    "    print()"
   ]
  },
  {
   "cell_type": "markdown",
   "metadata": {},
   "source": [
    "The same can be done for the labels, which are stored in a dictionary. Lets only print the first one."
   ]
  },
  {
   "cell_type": "code",
   "execution_count": 50,
   "metadata": {},
   "outputs": [
    {
     "name": "stdout",
     "output_type": "stream",
     "text": [
      "Training data info item 1 \n",
      "text:\n",
      "Chartres Cathedral, also known as the Cathedral of Our Lady of Chartres (), is a Catholic church in Chartres, France, about southwest of Paris, and is the seat of the Bishop of Chartres. Mostly constructed between 1194 and 1220, it stands on the site of at least five cathedrals that have occupied the site since the Diocese of Chartres was formed as an episcopal see in the 4th century. It is one of the best-known and most influential examples of High Gothic and Classic Gothic architecture, It stands on Romanesque basements, while its north spire is more recent (15071513) and is built in the more ornate Flamboyant style.\n",
      "Labels:\n",
      "(0, 18, 'landmark_name')\n"
     ]
    }
   ],
   "source": [
    "print(\"Training data info item 1 \\ntext:\")\n",
    "print(training_data[0][0])\n",
    "print(\"Labels:\")\n",
    "print(*training_data[0][1], sep = \"\\n\")"
   ]
  },
  {
   "cell_type": "markdown",
   "metadata": {},
   "source": [
    "### 1.4 Preparing the data for Spacy\n",
    "The data is now in the correct format, so it can be processed and saved as Spacy training file using the `preprocess_spacy` function from the `Preprocessor` class."
   ]
  },
  {
   "cell_type": "code",
   "execution_count": 51,
   "metadata": {},
   "outputs": [
    {
     "name": "stdout",
     "output_type": "stream",
     "text": [
      "(British expedition.,) people\n",
      "(after the end of the Second World War,) date\n",
      "(Paris,) location\n",
      "(snakes,) animal\n",
      "(Humboldt,) landmark_name\n",
      "(Roman period,) date\n",
      "(Central Island,) component\n",
      "(Lepcis Magna,) location\n",
      "(episcopal,) people\n",
      "(148,) number\n",
      "(sixth or fifth century B.C.,) date\n",
      "(Lake Turkana National Parks,) landmark_name\n",
      "(Phoenician settlers,) people\n",
      "(Phoenician trading-post,) type\n",
      "(Catholic church,) type\n",
      "(Queensland,) location\n",
      "(Lake Turkana National Parks,) landmark_name\n",
      "(2001,) date\n",
      "(Chartres Cathedral,) landmark_name\n",
      "(Tripoli,) location\n",
      "(constructed,) condition\n",
      "(the Bishop of Chartres,) occupation\n",
      "(Sibiloi National Park,) component\n",
      "(Cathedral of Our Lady of Chartres,) landmark_name\n",
      "(Numidian Kingdom of Massinissa,) location\n",
      "(Chartres,) location\n",
      "(built,) condition\n",
      "(The archaeological site of Sabratha,) landmark_name\n",
      "(Flamboyant style,) type\n",
      "(north spire,) component\n",
      "(the period of the British Military Administration,) date\n",
      "(seventh century A.D.,) date\n",
      "(Sabratha,) location\n",
      "(Emerald,) location\n",
      "(national park,) type\n",
      "(national parks,) type\n",
      "(Lake Turkana,) location\n",
      "(Nile crocodile,) animal\n",
      "(the African hinterland,) people\n",
      "(Humboldt,) landmark_name\n",
      "(Comet River water catchment,) location\n",
      "(Libya,) location\n",
      "(40,) number\n",
      "(High Gothic and Classic Gothic architecture,) type\n",
      "(in the 4th century,) date\n",
      "(Kenya,) location\n",
      "(France,) location\n",
      "(Brigalow Belt bioregion,) location\n",
      "(Koobi Fora deposits,) component\n",
      "(migratory birds,) animal\n",
      "(Australia,) location\n",
      "(Romanesque basements,) component\n",
      "(278,) number\n",
      "(South Island,) component\n",
      "(km,) unit\n"
     ]
    }
   ],
   "source": [
    "preprocessor.preprocess_spacy(training_data, warn = False)"
   ]
  },
  {
   "cell_type": "markdown",
   "metadata": {},
   "source": [
    "# 2 Training the Spacy Model on on the training file\n",
    "\n",
    "Start with importing all the spacy modules\n"
   ]
  },
  {
   "cell_type": "code",
   "execution_count": 52,
   "metadata": {},
   "outputs": [
    {
     "data": {
      "text/plain": [
       "False"
      ]
     },
     "execution_count": 52,
     "metadata": {},
     "output_type": "execute_result"
    }
   ],
   "source": [
    "import spacy\n",
    "from spacy import displacy\n",
    "import spacy\n",
    "from spacy.cli.train import train\n",
    "\n",
    "# If GPU is availabel, use it for training\n",
    "spacy.prefer_gpu()"
   ]
  },
  {
   "cell_type": "markdown",
   "metadata": {},
   "source": [
    "### 2.1 Spacy before training with custom labels"
   ]
  },
  {
   "cell_type": "code",
   "execution_count": 53,
   "metadata": {},
   "outputs": [
    {
     "name": "stdout",
     "output_type": "stream",
     "text": [
      "['tok2vec', 'tagger', 'parser', 'attribute_ruler', 'lemmatizer', 'ner']\n"
     ]
    },
    {
     "data": {
      "text/html": [
       "<span class=\"tex2jax_ignore\"><div class=\"entities\" style=\"line-height: 2.5; direction: ltr\">The archaeological site of \n",
       "<mark class=\"entity\" style=\"background: #feca74; padding: 0.45em 0.6em; margin: 0 0.25em; line-height: 1; border-radius: 0.35em;\">\n",
       "    Sabratha\n",
       "    <span style=\"font-size: 0.8em; font-weight: bold; line-height: 1; border-radius: 0.35em; vertical-align: middle; margin-left: 0.5rem\">GPE</span>\n",
       "</mark>\n",
       " is an excavated \n",
       "<mark class=\"entity\" style=\"background: #c887fb; padding: 0.45em 0.6em; margin: 0 0.25em; line-height: 1; border-radius: 0.35em;\">\n",
       "    Numidian\n",
       "    <span style=\"font-size: 0.8em; font-weight: bold; line-height: 1; border-radius: 0.35em; vertical-align: middle; margin-left: 0.5rem\">NORP</span>\n",
       "</mark>\n",
       " and later \n",
       "<mark class=\"entity\" style=\"background: #c887fb; padding: 0.45em 0.6em; margin: 0 0.25em; line-height: 1; border-radius: 0.35em;\">\n",
       "    Roman\n",
       "    <span style=\"font-size: 0.8em; font-weight: bold; line-height: 1; border-radius: 0.35em; vertical-align: middle; margin-left: 0.5rem\">NORP</span>\n",
       "</mark>\n",
       " city situed near \n",
       "<mark class=\"entity\" style=\"background: #bfe1d9; padding: 0.45em 0.6em; margin: 0 0.25em; line-height: 1; border-radius: 0.35em;\">\n",
       "    present-day\n",
       "    <span style=\"font-size: 0.8em; font-weight: bold; line-height: 1; border-radius: 0.35em; vertical-align: middle; margin-left: 0.5rem\">DATE</span>\n",
       "</mark>\n",
       " \n",
       "<mark class=\"entity\" style=\"background: #feca74; padding: 0.45em 0.6em; margin: 0 0.25em; line-height: 1; border-radius: 0.35em;\">\n",
       "    Sabratha\n",
       "    <span style=\"font-size: 0.8em; font-weight: bold; line-height: 1; border-radius: 0.35em; vertical-align: middle; margin-left: 0.5rem\">GPE</span>\n",
       "</mark>\n",
       ", \n",
       "<mark class=\"entity\" style=\"background: #feca74; padding: 0.45em 0.6em; margin: 0 0.25em; line-height: 1; border-radius: 0.35em;\">\n",
       "    Libya\n",
       "    <span style=\"font-size: 0.8em; font-weight: bold; line-height: 1; border-radius: 0.35em; vertical-align: middle; margin-left: 0.5rem\">GPE</span>\n",
       "</mark>\n",
       ". It was a \n",
       "<mark class=\"entity\" style=\"background: #c887fb; padding: 0.45em 0.6em; margin: 0 0.25em; line-height: 1; border-radius: 0.35em;\">\n",
       "    Phoenician\n",
       "    <span style=\"font-size: 0.8em; font-weight: bold; line-height: 1; border-radius: 0.35em; vertical-align: middle; margin-left: 0.5rem\">NORP</span>\n",
       "</mark>\n",
       " trading-post that served as an outlet for the products of the \n",
       "<mark class=\"entity\" style=\"background: #c887fb; padding: 0.45em 0.6em; margin: 0 0.25em; line-height: 1; border-radius: 0.35em;\">\n",
       "    African\n",
       "    <span style=\"font-size: 0.8em; font-weight: bold; line-height: 1; border-radius: 0.35em; vertical-align: middle; margin-left: 0.5rem\">NORP</span>\n",
       "</mark>\n",
       " hinterland, and later part of the short-lived \n",
       "<mark class=\"entity\" style=\"background: #feca74; padding: 0.45em 0.6em; margin: 0 0.25em; line-height: 1; border-radius: 0.35em;\">\n",
       "    Numidian Kingdom of Massinissa\n",
       "    <span style=\"font-size: 0.8em; font-weight: bold; line-height: 1; border-radius: 0.35em; vertical-align: middle; margin-left: 0.5rem\">GPE</span>\n",
       "</mark>\n",
       " before being \n",
       "<mark class=\"entity\" style=\"background: #aa9cfc; padding: 0.45em 0.6em; margin: 0 0.25em; line-height: 1; border-radius: 0.35em;\">\n",
       "    Romanized\n",
       "    <span style=\"font-size: 0.8em; font-weight: bold; line-height: 1; border-radius: 0.35em; vertical-align: middle; margin-left: 0.5rem\">PERSON</span>\n",
       "</mark>\n",
       " and rebuilt in \n",
       "<mark class=\"entity\" style=\"background: #bfe1d9; padding: 0.45em 0.6em; margin: 0 0.25em; line-height: 1; border-radius: 0.35em;\">\n",
       "    the 2nd and 3rd centuries\n",
       "    <span style=\"font-size: 0.8em; font-weight: bold; line-height: 1; border-radius: 0.35em; vertical-align: middle; margin-left: 0.5rem\">DATE</span>\n",
       "</mark>\n",
       " A.D.History.\n",
       "<mark class=\"entity\" style=\"background: #feca74; padding: 0.45em 0.6em; margin: 0 0.25em; line-height: 1; border-radius: 0.35em;\">\n",
       "    Sabratha\n",
       "    <span style=\"font-size: 0.8em; font-weight: bold; line-height: 1; border-radius: 0.35em; vertical-align: middle; margin-left: 0.5rem\">GPE</span>\n",
       "</mark>\n",
       ", on the coast of \n",
       "<mark class=\"entity\" style=\"background: #feca74; padding: 0.45em 0.6em; margin: 0 0.25em; line-height: 1; border-radius: 0.35em;\">\n",
       "    Libya\n",
       "    <span style=\"font-size: 0.8em; font-weight: bold; line-height: 1; border-radius: 0.35em; vertical-align: middle; margin-left: 0.5rem\">GPE</span>\n",
       "</mark>\n",
       " \n",
       "<mark class=\"entity\" style=\"background: #e4e7d2; padding: 0.45em 0.6em; margin: 0 0.25em; line-height: 1; border-radius: 0.35em;\">\n",
       "    40 km\n",
       "    <span style=\"font-size: 0.8em; font-weight: bold; line-height: 1; border-radius: 0.35em; vertical-align: middle; margin-left: 0.5rem\">QUANTITY</span>\n",
       "</mark>\n",
       ", to the west of modern \n",
       "<mark class=\"entity\" style=\"background: #feca74; padding: 0.45em 0.6em; margin: 0 0.25em; line-height: 1; border-radius: 0.35em;\">\n",
       "    Tripoli\n",
       "    <span style=\"font-size: 0.8em; font-weight: bold; line-height: 1; border-radius: 0.35em; vertical-align: middle; margin-left: 0.5rem\">GPE</span>\n",
       "</mark>\n",
       ", was founded by \n",
       "<mark class=\"entity\" style=\"background: #c887fb; padding: 0.45em 0.6em; margin: 0 0.25em; line-height: 1; border-radius: 0.35em;\">\n",
       "    Phoenician\n",
       "    <span style=\"font-size: 0.8em; font-weight: bold; line-height: 1; border-radius: 0.35em; vertical-align: middle; margin-left: 0.5rem\">NORP</span>\n",
       "</mark>\n",
       " settlers in \n",
       "<mark class=\"entity\" style=\"background: #bfe1d9; padding: 0.45em 0.6em; margin: 0 0.25em; line-height: 1; border-radius: 0.35em;\">\n",
       "    the sixth or fifth century\n",
       "    <span style=\"font-size: 0.8em; font-weight: bold; line-height: 1; border-radius: 0.35em; vertical-align: middle; margin-left: 0.5rem\">DATE</span>\n",
       "</mark>\n",
       " \n",
       "<mark class=\"entity\" style=\"background: #feca74; padding: 0.45em 0.6em; margin: 0 0.25em; line-height: 1; border-radius: 0.35em;\">\n",
       "    B.C.\n",
       "    <span style=\"font-size: 0.8em; font-weight: bold; line-height: 1; border-radius: 0.35em; vertical-align: middle; margin-left: 0.5rem\">GPE</span>\n",
       "</mark>\n",
       " and grew to be a prosperous town during much of the \n",
       "<mark class=\"entity\" style=\"background: #c887fb; padding: 0.45em 0.6em; margin: 0 0.25em; line-height: 1; border-radius: 0.35em;\">\n",
       "    Roman\n",
       "    <span style=\"font-size: 0.8em; font-weight: bold; line-height: 1; border-radius: 0.35em; vertical-align: middle; margin-left: 0.5rem\">NORP</span>\n",
       "</mark>\n",
       " period, though it did not long survive the coming of the \n",
       "<mark class=\"entity\" style=\"background: #c887fb; padding: 0.45em 0.6em; margin: 0 0.25em; line-height: 1; border-radius: 0.35em;\">\n",
       "    Arabs\n",
       "    <span style=\"font-size: 0.8em; font-weight: bold; line-height: 1; border-radius: 0.35em; vertical-align: middle; margin-left: 0.5rem\">NORP</span>\n",
       "</mark>\n",
       " in \n",
       "<mark class=\"entity\" style=\"background: #bfe1d9; padding: 0.45em 0.6em; margin: 0 0.25em; line-height: 1; border-radius: 0.35em;\">\n",
       "    the seventh century\n",
       "    <span style=\"font-size: 0.8em; font-weight: bold; line-height: 1; border-radius: 0.35em; vertical-align: middle; margin-left: 0.5rem\">DATE</span>\n",
       "</mark>\n",
       " A.D. Today it ranks alongside \n",
       "<mark class=\"entity\" style=\"background: #aa9cfc; padding: 0.45em 0.6em; margin: 0 0.25em; line-height: 1; border-radius: 0.35em;\">\n",
       "    Lepcis Magna\n",
       "    <span style=\"font-size: 0.8em; font-weight: bold; line-height: 1; border-radius: 0.35em; vertical-align: middle; margin-left: 0.5rem\">PERSON</span>\n",
       "</mark>\n",
       " as one of the major classical sites of the region. The' modern exploration of the ruins was begun in \n",
       "<mark class=\"entity\" style=\"background: #bfe1d9; padding: 0.45em 0.6em; margin: 0 0.25em; line-height: 1; border-radius: 0.35em;\">\n",
       "    1926\n",
       "    <span style=\"font-size: 0.8em; font-weight: bold; line-height: 1; border-radius: 0.35em; vertical-align: middle; margin-left: 0.5rem\">DATE</span>\n",
       "</mark>\n",
       " during the \n",
       "<mark class=\"entity\" style=\"background: #c887fb; padding: 0.45em 0.6em; margin: 0 0.25em; line-height: 1; border-radius: 0.35em;\">\n",
       "    Italian\n",
       "    <span style=\"font-size: 0.8em; font-weight: bold; line-height: 1; border-radius: 0.35em; vertical-align: middle; margin-left: 0.5rem\">NORP</span>\n",
       "</mark>\n",
       " colonial period and in the ensuing \n",
       "<mark class=\"entity\" style=\"background: #bfe1d9; padding: 0.45em 0.6em; margin: 0 0.25em; line-height: 1; border-radius: 0.35em;\">\n",
       "    years\n",
       "    <span style=\"font-size: 0.8em; font-weight: bold; line-height: 1; border-radius: 0.35em; vertical-align: middle; margin-left: 0.5rem\">DATE</span>\n",
       "</mark>\n",
       " much of the heart of the town was laid bare. During the period of \n",
       "<mark class=\"entity\" style=\"background: #7aecec; padding: 0.45em 0.6em; margin: 0 0.25em; line-height: 1; border-radius: 0.35em;\">\n",
       "    the British Military Administration\n",
       "    <span style=\"font-size: 0.8em; font-weight: bold; line-height: 1; border-radius: 0.35em; vertical-align: middle; margin-left: 0.5rem\">ORG</span>\n",
       "</mark>\n",
       " immediately after \n",
       "<mark class=\"entity\" style=\"background: #bfe1d9; padding: 0.45em 0.6em; margin: 0 0.25em; line-height: 1; border-radius: 0.35em;\">\n",
       "    the end of the\n",
       "    <span style=\"font-size: 0.8em; font-weight: bold; line-height: 1; border-radius: 0.35em; vertical-align: middle; margin-left: 0.5rem\">DATE</span>\n",
       "</mark>\n",
       " Second \n",
       "<mark class=\"entity\" style=\"background: #ffeb80; padding: 0.45em 0.6em; margin: 0 0.25em; line-height: 1; border-radius: 0.35em;\">\n",
       "    World War\n",
       "    <span style=\"font-size: 0.8em; font-weight: bold; line-height: 1; border-radius: 0.35em; vertical-align: middle; margin-left: 0.5rem\">EVENT</span>\n",
       "</mark>\n",
       ", \n",
       "<mark class=\"entity\" style=\"background: #bfe1d9; padding: 0.45em 0.6em; margin: 0 0.25em; line-height: 1; border-radius: 0.35em;\">\n",
       "    three seasons\n",
       "    <span style=\"font-size: 0.8em; font-weight: bold; line-height: 1; border-radius: 0.35em; vertical-align: middle; margin-left: 0.5rem\">DATE</span>\n",
       "</mark>\n",
       " of work were carried out by a \n",
       "<mark class=\"entity\" style=\"background: #c887fb; padding: 0.45em 0.6em; margin: 0 0.25em; line-height: 1; border-radius: 0.35em;\">\n",
       "    British\n",
       "    <span style=\"font-size: 0.8em; font-weight: bold; line-height: 1; border-radius: 0.35em; vertical-align: middle; margin-left: 0.5rem\">NORP</span>\n",
       "</mark>\n",
       " expedition.</div></span>"
      ],
      "text/plain": [
       "<IPython.core.display.HTML object>"
      ]
     },
     "metadata": {},
     "output_type": "display_data"
    }
   ],
   "source": [
    "example_text = training_data[0][0]\n",
    "\n",
    "nlp = spacy.load(\"en_core_web_sm\")\n",
    "doc = nlp(example_text)\n",
    "\n",
    "print(nlp.pipe_names)\n",
    "\n",
    "displacy.render(doc, style=\"ent\")"
   ]
  },
  {
   "cell_type": "markdown",
   "metadata": {},
   "source": [
    "### 2.2 Training a spacy model\n",
    "Training of a spacy model usually is done via the command line. This is the reason for the following no so understandable lines of code. There are a few steps in the training process:\n",
    "1. The spacy model needs a config file and all necessary files are in the spacy folder\n",
    "2. The model needs training data, which was exported in this file above to the spacy folder\n",
    "3. After training the model is evaluated and the results are printed for training and evaluation"
   ]
  },
  {
   "cell_type": "code",
   "execution_count": 54,
   "metadata": {},
   "outputs": [
    {
     "data": {
      "text/plain": [
       "CompletedProcess(args='spacy project run create-config', returncode=0)"
      ]
     },
     "execution_count": 54,
     "metadata": {},
     "output_type": "execute_result"
    }
   ],
   "source": [
    "import subprocess\n",
    "\n",
    "subprocess.run(\"spacy project run create-config\", cwd=\"spacy\")"
   ]
  },
  {
   "cell_type": "code",
   "execution_count": 58,
   "metadata": {},
   "outputs": [
    {
     "name": "stdout",
     "output_type": "stream",
     "text": [
      "\u001b[38;5;3m⚠ Your project configuration file includes a `spacy_version` key, which\n",
      "is now deprecated. Weasel will not validate your version of spaCy.\u001b[0m\n",
      "\u001b[1m\n",
      "=================================== train ===================================\u001b[0m\n",
      "\u001b[38;5;4mℹ Skipping 'train': nothing changed\u001b[0m\n",
      "\n"
     ]
    }
   ],
   "source": [
    "result = subprocess.run(\"spacy project run train\", cwd=\"spacy\", shell=True, check=True, stdout=subprocess.PIPE, stderr=subprocess.PIPE, text=True, encoding=\"utf-8\")\n",
    "print(result.stdout)"
   ]
  },
  {
   "cell_type": "code",
   "execution_count": 59,
   "metadata": {},
   "outputs": [
    {
     "name": "stdout",
     "output_type": "stream",
     "text": [
      "\u001b[38;5;3mâš  Your project configuration file includes a `spacy_version` key, which\n",
      "is now deprecated. Weasel will not validate your version of spaCy.\u001b[0m\n",
      "\u001b[1m\n",
      "================================== evaluate ==================================\u001b[0m\n",
      "\u001b[38;5;4mâ„¹ Skipping 'evaluate': nothing changed\u001b[0m\n",
      "\n"
     ]
    }
   ],
   "source": [
    "result = subprocess.run(\"spacy project run evaluate\", cwd=\"spacy\", shell=True, check=True, stdout=subprocess.PIPE, stderr=subprocess.PIPE, text=True)\n",
    "print(result.stdout)"
   ]
  },
  {
   "cell_type": "markdown",
   "metadata": {},
   "source": [
    "### 2.2 Visualizing the results\n",
    "The model is now trained. This model can be loaded into spacy and an example text can be visualized with the NER."
   ]
  },
  {
   "cell_type": "code",
   "execution_count": 57,
   "metadata": {},
   "outputs": [
    {
     "name": "stdout",
     "output_type": "stream",
     "text": [
      "Tokens: ['The', 'archaeological', 'site', 'of', 'Sabratha', 'is', 'an', 'excavated', 'Numidian', 'and', 'later', 'Roman', 'city', 'situed', 'near', 'present', '-', 'day', 'Sabratha', ',', 'Libya', '.', 'It', 'was', 'a', 'Phoenician', 'trading', '-', 'post', 'that', 'served', 'as', 'an', 'outlet', 'for', 'the', 'products', 'of', 'the', 'African', 'hinterland', ',', 'and', 'later', 'part', 'of', 'the', 'short', '-', 'lived', 'Numidian', 'Kingdom', 'of', 'Massinissa', 'before', 'being', 'Romanized', 'and', 'rebuilt', 'in', 'the', '2nd', 'and', '3rd', 'centuries', 'A.D.History', '.', 'Sabratha', ',', 'on', 'the', 'coast', 'of', 'Libya', '40', 'km', ',', 'to', 'the', 'west', 'of', 'modern', 'Tripoli', ',', 'was', 'founded', 'by', 'Phoenician', 'settlers', 'in', 'the', 'sixth', 'or', 'fifth', 'century', 'B.C.', 'and', 'grew', 'to', 'be', 'a', 'prosperous', 'town', 'during', 'much', 'of', 'the', 'Roman', 'period', ',', 'though', 'it', 'did', 'not', 'long', 'survive', 'the', 'coming', 'of', 'the', 'Arabs', 'in', 'the', 'seventh', 'century', 'A.D.', 'Today', 'it', 'ranks', 'alongside', 'Lepcis', 'Magna', 'as', 'one', 'of', 'the', 'major', 'classical', 'sites', 'of', 'the', 'region', '.', 'The', \"'\", 'modern', 'exploration', 'of', 'the', 'ruins', 'was', 'begun', 'in', '1926', 'during', 'the', 'Italian', 'colonial', 'period', 'and', 'in', 'the', 'ensuing', 'years', 'much', 'of', 'the', 'heart', 'of', 'the', 'town', 'was', 'laid', 'bare', '.', 'During', 'the', 'period', 'of', 'the', 'British', 'Military', 'Administration', 'immediately', 'after', 'the', 'end', 'of', 'the', 'Second', 'World', 'War', ',', 'three', 'seasons', 'of', 'work', 'were', 'carried', 'out', 'by', 'a', 'British', 'expedition', '.']\n"
     ]
    },
    {
     "data": {
      "text/html": [
       "<span class=\"tex2jax_ignore\"><div class=\"entities\" style=\"line-height: 2.5; direction: ltr\">The archaeological site of Sabratha is an excavated Numidian and later Roman city situed near present-day Sabratha, Libya. It was a Phoenician trading-post that served as an outlet for the products of the African hinterland, and later part of the short-lived Numidian Kingdom of Massinissa before being Romanized and rebuilt in the 2nd and 3rd centuries A.D.History.Sabratha, on the coast of Libya 40 km, to the west of modern Tripoli, was founded by Phoenician settlers in the sixth or fifth century B.C. and grew to be a prosperous town during much of the Roman period, though it did not long survive the coming of the Arabs in the seventh century A.D. Today it ranks alongside Lepcis Magna as one of the major classical sites of the region. The' modern exploration of the ruins was begun in 1926 during the Italian colonial period and in the ensuing years much of the heart of the town was laid bare. During the period of the British Military Administration immediately after the end of the Second World War, three seasons of work were carried out by a British expedition.</div></span>"
      ],
      "text/plain": [
       "<IPython.core.display.HTML object>"
      ]
     },
     "metadata": {},
     "output_type": "display_data"
    }
   ],
   "source": [
    "# Now test teh newly created spacy model on a sample text and visualize it using spacy\n",
    "nlp = spacy.load(\"spacy/training/model-last/\")\n",
    "\n",
    "example_text = training_data[0][0]\n",
    "\n",
    "doc = nlp(example_text)\n",
    "\n",
    "# View the tokenized text\n",
    "print(\"Tokens:\", [token.text for token in doc])\n",
    "\n",
    "displacy.render(doc, style=\"ent\")\n",
    "\n",
    "# Show the tokens, their labels and their entities\n",
    "for ent in doc.ents:\n",
    "    print(ent.text, ent.label_)\n"
   ]
  }
 ],
 "metadata": {
  "kernelspec": {
   "display_name": "Python 3",
   "language": "python",
   "name": "python3"
  },
  "language_info": {
   "codemirror_mode": {
    "name": "ipython",
    "version": 3
   },
   "file_extension": ".py",
   "mimetype": "text/x-python",
   "name": "python",
   "nbconvert_exporter": "python",
   "pygments_lexer": "ipython3",
   "version": "3.10.11"
  },
  "orig_nbformat": 4
 },
 "nbformat": 4,
 "nbformat_minor": 2
}
