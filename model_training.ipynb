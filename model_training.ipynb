{
 "cells": [
  {
   "cell_type": "code",
   "execution_count": 1,
   "metadata": {},
   "outputs": [],
   "source": [
    "%load_ext autoreload\n",
    "%autoreload 2"
   ]
  },
  {
   "cell_type": "markdown",
   "metadata": {},
   "source": [
    "# Processing Label Studio Exports for Spacy\n",
    "This notebook processes exports from Label Studio for use in Spacy."
   ]
  },
  {
   "cell_type": "code",
   "execution_count": 2,
   "metadata": {},
   "outputs": [],
   "source": [
    "import preprocessor\n",
    "from preprocessor import Preprocessor\n",
    "\n",
    "ROOT_DIR = preprocessor.ROOT_DIR\n",
    "DATA_PATH = preprocessor.DATA_PATH\n",
    "\n",
    "preprocessor = Preprocessor(ROOT_DIR)"
   ]
  },
  {
   "cell_type": "markdown",
   "metadata": {},
   "source": [
    "## 1. Loading the Data\n",
    "### 1.1. Loading JSON export from Label Studio\n",
    "The first step is to load the JSON export from Label Studio. This is done using the `json` library and the predefined function `LoadFile` from the Preprocessor class."
   ]
  },
  {
   "cell_type": "code",
   "execution_count": 3,
   "metadata": {},
   "outputs": [],
   "source": [
    "export_data = preprocessor.loadFile('label_studio_test_notebook_231002.json')"
   ]
  },
  {
   "cell_type": "markdown",
   "metadata": {},
   "source": [
    "The exported data constists of all the annotations from a specific text of all the users. The first annotated text in the exported data file looks something like the following:"
   ]
  },
  {
   "cell_type": "code",
   "execution_count": 4,
   "metadata": {},
   "outputs": [
    {
     "name": "stdout",
     "output_type": "stream",
     "text": [
      "{'id': 70476117, 'annotations': [{'id': 22629460, 'completed_by': {'id': 12485, 'email': 'l.r.siecker@student.tue.nl', 'first_name': 'Luc', 'last_name': 'Siecker'}, 'result': [{'id': 'NGoGCdY4Mr', 'type': 'labels', 'value': {'end': 8, 'text': 'Ephesus', 'start': 1, 'labels': ['landmark_name']}, 'origin': 'manual', 'to_name': 'text', 'from_name': 'label'}, {'id': 'smwmA5Ofvl', 'type': 'labels', 'value': {'end': 55, 'text': 'city', 'start': 51, 'labels': ['type']}, 'origin': 'manual', 'to_name': 'text', 'from_name': 'label'}, {'id': 'eMn5ovu-q9', 'type': 'labels', 'value': {'end': 73, 'text': 'in Ancient Greece', 'start': 56, 'labels': ['location']}, 'origin': 'manual', 'to_name': 'text', 'from_name': 'label'}, {'id': 'XypjjOYYWL', 'type': 'labels', 'value': {'end': 95, 'text': 'on the coast of Ionia', 'start': 74, 'labels': ['location']}, 'origin': 'manual', 'to_name': 'text', 'from_name': 'label'}, {'id': 'fzfahtS8TS', 'type': 'labels', 'value': {'end': 127, 'text': 'Seluk', 'start': 122, 'labels': ['location']}, 'origin': 'manual', 'to_name': 'text', 'from_name': 'label'}, {'id': 'Ta3raV4I0g', 'type': 'labels', 'value': {'end': 144, 'text': 'in zmir Province', 'start': 128, 'labels': ['location']}, 'origin': 'manual', 'to_name': 'text', 'from_name': 'label'}, {'id': 'ol7SjwJo_x', 'type': 'labels', 'value': {'end': 152, 'text': 'Turkey', 'start': 146, 'labels': ['location']}, 'origin': 'manual', 'to_name': 'text', 'from_name': 'label'}, {'id': 'PHbl28FP21', 'type': 'labels', 'value': {'end': 167, 'text': 'built ', 'start': 161, 'labels': ['condition']}, 'origin': 'manual', 'to_name': 'text', 'from_name': 'label'}, {'id': 'JPPoxqH8So', 'type': 'labels', 'value': {'end': 189, 'text': 'in the 10th century BC', 'start': 167, 'labels': ['date']}, 'origin': 'manual', 'to_name': 'text', 'from_name': 'label'}, {'id': 'ZJlnM04LD9', 'type': 'labels', 'value': {'end': 210, 'text': 'on the site of Apasa', 'start': 190, 'labels': ['location']}, 'origin': 'manual', 'to_name': 'text', 'from_name': 'label'}, {'id': 'uW_vfM7nhe', 'type': 'labels', 'value': {'end': 238, 'text': 'Arzawan capital', 'start': 223, 'labels': ['location']}, 'origin': 'manual', 'to_name': 'text', 'from_name': 'label'}, {'id': 'swUnRWb6pE', 'type': 'labels', 'value': {'end': 275, 'text': 'Attic and Ionian Greek colonists', 'start': 243, 'labels': ['people']}, 'origin': 'manual', 'to_name': 'text', 'from_name': 'label'}, {'id': '35hF2t2Pd1', 'type': 'labels', 'value': {'end': 307, 'text': 'During the Classical Greek era', 'start': 277, 'labels': ['date']}, 'origin': 'manual', 'to_name': 'text', 'from_name': 'label'}, {'id': 'sjIHDWXZ_b', 'type': 'labels', 'value': {'end': 337, 'text': 'cities ', 'start': 330, 'labels': ['type']}, 'origin': 'manual', 'to_name': 'text', 'from_name': 'label'}, {'id': 'tr_mOgw3L4', 'type': 'labels', 'value': {'end': 330, 'text': 'twelve ', 'start': 323, 'labels': ['number']}, 'origin': 'manual', 'to_name': 'text', 'from_name': 'label'}, {'id': 'fpwKnelat-', 'type': 'labels', 'value': {'end': 320, 'text': 'one ', 'start': 316, 'labels': ['number']}, 'origin': 'manual', 'to_name': 'text', 'from_name': 'label'}, {'id': 'xdOCaxek2H', 'type': 'labels', 'value': {'end': 355, 'text': 'members ', 'start': 347, 'labels': ['occupation']}, 'origin': 'manual', 'to_name': 'text', 'from_name': 'label'}, {'id': '-8Ke7UENqj', 'type': 'labels', 'value': {'end': 375, 'text': 'Ionian League', 'start': 362, 'labels': ['people']}, 'origin': 'manual', 'to_name': 'text', 'from_name': 'label'}, {'id': 'kmlg7nKU9N', 'type': 'labels', 'value': {'end': 385, 'text': 'city', 'start': 381, 'labels': ['type']}, 'origin': 'manual', 'to_name': 'text', 'from_name': 'label'}, {'id': 'R25zEmX4Jy', 'type': 'labels', 'value': {'end': 430, 'text': 'under the control of the Roman Republic', 'start': 391, 'labels': ['condition']}, 'origin': 'manual', 'to_name': 'text', 'from_name': 'label'}, {'id': 'f--SrPVcc9', 'type': 'labels', 'value': {'end': 440, 'text': '129 BC', 'start': 434, 'labels': ['date']}, 'origin': 'manual', 'to_name': 'text', 'from_name': 'label'}, {'id': 'lHrwP-mYER', 'type': 'labels', 'value': {'end': 449, 'text': 'city', 'start': 445, 'labels': ['type']}, 'origin': 'manual', 'to_name': 'text', 'from_name': 'label'}, {'id': 'upbKChpbdC', 'type': 'labels', 'value': {'end': 504, 'text': 'Temple of Artemis', 'start': 487, 'labels': ['component']}, 'origin': 'manual', 'to_name': 'text', 'from_name': 'label'}, {'id': 'aVBtB17bYu', 'type': 'labels', 'value': {'end': 515, 'text': 'completed', 'start': 506, 'labels': ['condition']}, 'origin': 'manual', 'to_name': 'text', 'from_name': 'label'}, {'id': 'RkWWovOADC', 'type': 'labels', 'value': {'end': 528, 'text': 'around 550BC', 'start': 516, 'labels': ['date']}, 'origin': 'manual', 'to_name': 'text', 'from_name': 'label'}, {'id': 'zEpxNXVCLs', 'type': 'labels', 'value': {'end': 602, 'text': 'designated one of the Seven Wonders of the Ancient World', 'start': 546, 'labels': ['condition']}, 'origin': 'manual', 'to_name': 'text', 'from_name': 'label'}, {'id': 'JIr7S-EaLA', 'type': 'labels', 'value': {'end': 633, 'text': 'monumental buildings', 'start': 613, 'labels': ['component']}, 'origin': 'manual', 'to_name': 'text', 'from_name': 'label'}, {'id': 'gZctTNMCrM', 'type': 'labels', 'value': {'end': 664, 'text': ' Library of Celsus', 'start': 646, 'labels': ['component']}, 'origin': 'manual', 'to_name': 'text', 'from_name': 'label'}, {'id': '_7qmtHC8Z-', 'type': 'labels', 'value': {'end': 678, 'text': 'theatre', 'start': 671, 'labels': ['component']}, 'origin': 'manual', 'to_name': 'text', 'from_name': 'label'}, {'id': 'ZYhaRfv0EY', 'type': 'labels', 'value': {'end': 715, 'text': 'capable of holding 24,000 spectators', 'start': 679, 'labels': ['condition']}, 'origin': 'manual', 'to_name': 'text', 'from_name': 'label'}, {'type': 'relation', 'to_id': 'smwmA5Ofvl', 'labels': ['org:is_type'], 'from_id': 'NGoGCdY4Mr', 'direction': 'right'}, {'type': 'relation', 'to_id': 'eMn5ovu-q9', 'labels': ['org:located_in'], 'from_id': 'NGoGCdY4Mr', 'direction': 'right'}, {'type': 'relation', 'to_id': 'XypjjOYYWL', 'labels': ['org:located_in'], 'from_id': 'NGoGCdY4Mr', 'direction': 'right'}, {'type': 'relation', 'to_id': 'fzfahtS8TS', 'labels': ['org:located_in'], 'from_id': 'NGoGCdY4Mr', 'direction': 'right'}, {'type': 'relation', 'to_id': 'Ta3raV4I0g', 'labels': ['org:located_in'], 'from_id': 'NGoGCdY4Mr', 'direction': 'right'}, {'type': 'relation', 'to_id': 'ol7SjwJo_x', 'labels': ['org:located_in'], 'from_id': 'NGoGCdY4Mr', 'direction': 'right'}, {'type': 'relation', 'to_id': 'PHbl28FP21', 'labels': ['org:is_condition'], 'from_id': 'NGoGCdY4Mr', 'direction': 'right'}, {'type': 'relation', 'to_id': 'JPPoxqH8So', 'labels': ['org:happened_on'], 'from_id': 'PHbl28FP21', 'direction': 'right'}, {'type': 'relation', 'to_id': 'kmlg7nKU9N', 'labels': ['org:is_type'], 'from_id': 'NGoGCdY4Mr', 'direction': 'right'}, {'type': 'relation', 'to_id': 'R25zEmX4Jy', 'labels': ['org:is_condition'], 'from_id': 'NGoGCdY4Mr', 'direction': 'right'}, {'type': 'relation', 'to_id': 'f--SrPVcc9', 'labels': ['org:happened_on'], 'from_id': 'R25zEmX4Jy', 'direction': 'right'}, {'type': 'relation', 'to_id': 'lHrwP-mYER', 'labels': ['org:is_type'], 'from_id': 'NGoGCdY4Mr', 'direction': 'right'}, {'type': 'relation', 'to_id': 'upbKChpbdC', 'labels': ['org:has_component'], 'from_id': 'NGoGCdY4Mr', 'direction': 'right'}, {'type': 'relation', 'to_id': 'aVBtB17bYu', 'labels': ['org:is_condition'], 'from_id': 'upbKChpbdC', 'direction': 'right'}, {'type': 'relation', 'to_id': 'RkWWovOADC', 'labels': ['org:happened_on'], 'from_id': 'aVBtB17bYu', 'direction': 'right'}, {'type': 'relation', 'to_id': 'zEpxNXVCLs', 'labels': ['org:is_condition'], 'from_id': 'upbKChpbdC', 'direction': 'right'}, {'type': 'relation', 'to_id': 'JIr7S-EaLA', 'labels': ['org:has_component'], 'from_id': 'NGoGCdY4Mr', 'direction': 'right'}, {'type': 'relation', 'to_id': 'gZctTNMCrM', 'labels': ['org:has_component'], 'from_id': 'NGoGCdY4Mr', 'direction': 'right'}, {'type': 'relation', 'to_id': '_7qmtHC8Z-', 'labels': ['org:has_component'], 'from_id': 'NGoGCdY4Mr', 'direction': 'right'}, {'type': 'relation', 'to_id': 'ZYhaRfv0EY', 'labels': ['org:is_condition'], 'from_id': '_7qmtHC8Z-', 'direction': 'right'}], 'reviews': [], 'was_cancelled': False, 'ground_truth': False, 'created_at': '2023-10-02T08:10:08.295964Z', 'updated_at': '2023-10-02T08:10:08.295986Z', 'draft_created_at': '2023-10-02T08:03:44.596696Z', 'lead_time': 394.317, 'prediction': {}, 'result_count': 0, 'unique_id': '004a721e-bf03-46bd-aa07-a4aa9d08449d', 'import_id': None, 'last_action': 'submitted', 'task': 70476117, 'project': 41784, 'updated_by': 12485, 'parent_prediction': None, 'parent_annotation': None, 'last_created_by': 12485}, {'id': 22619123, 'completed_by': {'id': 12634, 'email': 'n.p.g.t.v.beuningen@student.tue.nl', 'first_name': '', 'last_name': ''}, 'result': [{'id': 'kJh8kr8x53', 'type': 'labels', 'value': {'end': 8, 'text': 'Ephesus', 'start': 1, 'labels': ['landmark_name']}, 'origin': 'manual', 'to_name': 'text', 'from_name': 'label'}, {'id': 'UtZyOLV1UW', 'type': 'labels', 'value': {'end': 55, 'text': 'city', 'start': 51, 'labels': ['type']}, 'origin': 'manual', 'to_name': 'text', 'from_name': 'label'}, {'id': 'G543lcMx-y', 'type': 'labels', 'value': {'end': 73, 'text': 'Ancient Greece', 'start': 59, 'labels': ['location']}, 'origin': 'manual', 'to_name': 'text', 'from_name': 'label'}, {'id': 'RZ976Sd8xk', 'type': 'labels', 'value': {'end': 95, 'text': 'on the coast of Ionia', 'start': 74, 'labels': ['location']}, 'origin': 'manual', 'to_name': 'text', 'from_name': 'label'}, {'id': 's_Ts2emylz', 'type': 'labels', 'value': {'end': 127, 'text': 'southwest of present-day Seluk', 'start': 97, 'labels': ['location']}, 'origin': 'manual', 'to_name': 'text', 'from_name': 'label'}, {'id': 'k5VaGB3Tsc', 'type': 'labels', 'value': {'end': 144, 'text': 'zmir Province', 'start': 131, 'labels': ['location']}, 'origin': 'manual', 'to_name': 'text', 'from_name': 'label'}, {'id': 'VPC45P1hGl', 'type': 'labels', 'value': {'end': 152, 'text': 'Turkey', 'start': 146, 'labels': ['location']}, 'origin': 'manual', 'to_name': 'text', 'from_name': 'label'}, {'id': 'TAAb_wWaB6', 'type': 'labels', 'value': {'end': 166, 'text': 'built', 'start': 161, 'labels': ['condition']}, 'origin': 'manual', 'to_name': 'text', 'from_name': 'label'}, {'id': 'w08Ip8MHGX', 'type': 'labels', 'value': {'end': 189, 'text': 'in the 10th century BC', 'start': 167, 'labels': ['date']}, 'origin': 'manual', 'to_name': 'text', 'from_name': 'label'}, {'id': 'Onv_U8TIt9', 'type': 'labels', 'value': {'end': 210, 'text': 'Apasa', 'start': 205, 'labels': ['location']}, 'origin': 'manual', 'to_name': 'text', 'from_name': 'label'}, {'id': 'dgsnVP1ehM', 'type': 'labels', 'value': {'end': 238, 'text': 'the former Arzawan capital', 'start': 212, 'labels': ['condition']}, 'origin': 'manual', 'to_name': 'text', 'from_name': 'label'}, {'id': 'Y4zCqDPlGj', 'type': 'labels', 'value': {'end': 275, 'text': 'Attic and Ionian Greek colonists', 'start': 243, 'labels': ['people']}, 'origin': 'manual', 'to_name': 'text', 'from_name': 'label'}, {'id': '6Ni5mDWKjt', 'type': 'labels', 'value': {'end': 307, 'text': 'During the Classical Greek era', 'start': 277, 'labels': ['date']}, 'origin': 'manual', 'to_name': 'text', 'from_name': 'label'}, {'id': 'EqfIjT-ZV-', 'type': 'labels', 'value': {'end': 375, 'text': 'members of the Ionian League', 'start': 347, 'labels': ['condition']}, 'origin': 'manual', 'to_name': 'text', 'from_name': 'label'}, {'id': 'Qm6ifSRFk4', 'type': 'labels', 'value': {'end': 319, 'text': 'one', 'start': 316, 'labels': ['number']}, 'origin': 'manual', 'to_name': 'text', 'from_name': 'label'}, {'id': 'hS4450GcPJ', 'type': 'labels', 'value': {'end': 329, 'text': 'twelve', 'start': 323, 'labels': ['number']}, 'origin': 'manual', 'to_name': 'text', 'from_name': 'label'}, {'id': 'wcasW6NF0J', 'type': 'labels', 'value': {'end': 336, 'text': 'cities', 'start': 330, 'labels': ['type']}, 'origin': 'manual', 'to_name': 'text', 'from_name': 'label'}, {'id': 'imo_QaTZ8v', 'type': 'labels', 'value': {'end': 385, 'text': 'The city', 'start': 377, 'labels': ['type']}, 'origin': 'manual', 'to_name': 'text', 'from_name': 'label'}, {'id': 'TxoTa_1SRH', 'type': 'labels', 'value': {'end': 430, 'text': 'the Roman Republic', 'start': 412, 'labels': ['location']}, 'origin': 'manual', 'to_name': 'text', 'from_name': 'label'}, {'id': 'dPbmthpzhM', 'type': 'labels', 'value': {'end': 408, 'text': 'under the control', 'start': 391, 'labels': ['condition']}, 'origin': 'manual', 'to_name': 'text', 'from_name': 'label'}, {'id': 'Nmqir4_fR_', 'type': 'labels', 'value': {'end': 440, 'text': 'in 129 BC', 'start': 431, 'labels': ['date']}, 'origin': 'manual', 'to_name': 'text', 'from_name': 'label'}, {'id': 'LkPduK59j6', 'type': 'labels', 'value': {'end': 449, 'text': 'The city', 'start': 441, 'labels': ['type']}, 'origin': 'manual', 'to_name': 'text', 'from_name': 'label'}, {'id': 'Vf_jsge6nj', 'type': 'labels', 'value': {'end': 460, 'text': 'famous', 'start': 454, 'labels': ['condition']}, 'origin': 'manual', 'to_name': 'text', 'from_name': 'label'}, {'id': 'zHqfRCsMP1', 'type': 'labels', 'value': {'end': 471, 'text': 'in its day', 'start': 461, 'labels': ['date']}, 'origin': 'manual', 'to_name': 'text', 'from_name': 'label'}, {'id': 'uTp9LVylOf', 'type': 'labels', 'value': {'end': 504, 'text': 'Temple of Artemis', 'start': 487, 'labels': ['location']}, 'origin': 'manual', 'to_name': 'text', 'from_name': 'label'}, {'id': 'NpeotnSYt9', 'type': 'labels', 'value': {'end': 515, 'text': 'completed', 'start': 506, 'labels': ['condition']}, 'origin': 'manual', 'to_name': 'text', 'from_name': 'label'}, {'id': 'jiHf1DuHCq', 'type': 'labels', 'value': {'end': 528, 'text': 'around 550BC', 'start': 516, 'labels': ['date']}, 'origin': 'manual', 'to_name': 'text', 'from_name': 'label'}, {'id': 'U5cwxGQIgU', 'type': 'labels', 'value': {'end': 602, 'text': 'one of the Seven Wonders of the Ancient World', 'start': 557, 'labels': ['condition']}, 'origin': 'manual', 'to_name': 'text', 'from_name': 'label'}, {'id': 'nfVpseqW1A', 'type': 'labels', 'value': {'end': 633, 'text': 'monumental buildings', 'start': 613, 'labels': ['component']}, 'origin': 'manual', 'to_name': 'text', 'from_name': 'label'}, {'id': '7dqu1TFnPb', 'type': 'labels', 'value': {'end': 664, 'text': 'the Library of Celsus', 'start': 643, 'labels': ['component']}, 'origin': 'manual', 'to_name': 'text', 'from_name': 'label'}, {'id': 'sv7gKIE6Ri', 'type': 'labels', 'value': {'end': 678, 'text': 'theatre', 'start': 671, 'labels': ['component']}, 'origin': 'manual', 'to_name': 'text', 'from_name': 'label'}, {'id': 'HSWOcBiUpc', 'type': 'labels', 'value': {'end': 715, 'text': 'spectators', 'start': 705, 'labels': ['people']}, 'origin': 'manual', 'to_name': 'text', 'from_name': 'label'}, {'id': 'dOnMMq9Z2R', 'type': 'labels', 'value': {'end': 704, 'text': '24,000', 'start': 698, 'labels': ['number']}, 'origin': 'manual', 'to_name': 'text', 'from_name': 'label'}, {'type': 'relation', 'to_id': 'UtZyOLV1UW', 'labels': ['org:is_type'], 'from_id': 'kJh8kr8x53', 'direction': 'right'}, {'type': 'relation', 'to_id': 'G543lcMx-y', 'labels': ['org:located_in'], 'from_id': 'kJh8kr8x53', 'direction': 'right'}, {'type': 'relation', 'to_id': 'RZ976Sd8xk', 'labels': ['org:located_in'], 'from_id': 'kJh8kr8x53', 'direction': 'right'}, {'type': 'relation', 'to_id': 's_Ts2emylz', 'labels': ['org:located_in'], 'from_id': 'kJh8kr8x53', 'direction': 'right'}, {'type': 'relation', 'to_id': 'k5VaGB3Tsc', 'labels': ['org:located_in'], 'from_id': 'kJh8kr8x53', 'direction': 'right'}, {'type': 'relation', 'to_id': 'VPC45P1hGl', 'labels': ['org:located_in'], 'from_id': 'kJh8kr8x53', 'direction': 'right'}, {'type': 'relation', 'to_id': 'TAAb_wWaB6', 'labels': ['org:is_condition'], 'from_id': 'kJh8kr8x53', 'direction': 'right'}, {'type': 'relation', 'to_id': 'w08Ip8MHGX', 'labels': ['org:happened_on'], 'from_id': 'TAAb_wWaB6', 'direction': 'right'}, {'type': 'relation', 'to_id': 'Onv_U8TIt9', 'labels': ['org:located_in'], 'from_id': 'kJh8kr8x53', 'direction': 'right'}, {'type': 'relation', 'to_id': 'dgsnVP1ehM', 'labels': ['org:is_condition'], 'from_id': 'Onv_U8TIt9', 'direction': 'right'}, {'type': 'relation', 'to_id': '6Ni5mDWKjt', 'labels': ['org:happened_on'], 'from_id': 'EqfIjT-ZV-', 'direction': 'right'}, {'type': 'relation', 'to_id': 'UtZyOLV1UW', 'labels': ['org:is_similar_to'], 'from_id': 'imo_QaTZ8v', 'direction': 'right'}, {'type': 'relation', 'to_id': 'UtZyOLV1UW', 'labels': ['org:is_similar_to'], 'from_id': 'wcasW6NF0J', 'direction': 'right'}, {'type': 'relation', 'to_id': 'dPbmthpzhM', 'labels': ['org:is_condition'], 'from_id': 'kJh8kr8x53', 'direction': 'right'}, {'type': 'relation', 'to_id': 'TxoTa_1SRH', 'labels': ['org:located_in'], 'from_id': 'kJh8kr8x53', 'direction': 'right'}, {'type': 'relation', 'to_id': 'Vf_jsge6nj', 'labels': ['org:is_condition'], 'from_id': 'kJh8kr8x53', 'direction': 'right'}, {'type': 'relation', 'to_id': 'UtZyOLV1UW', 'labels': ['org:is_similar_to'], 'from_id': 'LkPduK59j6', 'direction': 'right'}, {'type': 'relation', 'to_id': 'Nmqir4_fR_', 'labels': ['org:happened_on'], 'from_id': 'dPbmthpzhM', 'direction': 'right'}, {'type': 'relation', 'to_id': 'zHqfRCsMP1', 'labels': ['org:happened_on'], 'from_id': 'Vf_jsge6nj', 'direction': 'right'}, {'type': 'relation', 'to_id': 'NpeotnSYt9', 'labels': ['org:is_condition'], 'from_id': 'uTp9LVylOf', 'direction': 'right'}, {'type': 'relation', 'to_id': 'U5cwxGQIgU', 'labels': ['org:is_condition'], 'from_id': 'uTp9LVylOf', 'direction': 'right'}, {'type': 'relation', 'to_id': 'nfVpseqW1A', 'labels': ['org:has_component'], 'from_id': 'kJh8kr8x53', 'direction': 'right'}, {'type': 'relation', 'to_id': '7dqu1TFnPb', 'labels': ['org:has_component'], 'from_id': 'kJh8kr8x53', 'direction': 'right'}, {'type': 'relation', 'to_id': 'sv7gKIE6Ri', 'labels': ['org:has_component'], 'from_id': 'kJh8kr8x53', 'direction': 'right'}], 'reviews': [], 'was_cancelled': False, 'ground_truth': False, 'created_at': '2023-10-01T07:51:09.041502Z', 'updated_at': '2023-10-01T07:51:09.041522Z', 'draft_created_at': '2023-10-01T07:41:55.045843Z', 'lead_time': 562.179, 'prediction': {}, 'result_count': 0, 'unique_id': 'ea356fb7-d6ff-45ad-913b-b1da9cf7847c', 'import_id': None, 'last_action': 'submitted', 'task': 70476117, 'project': 41784, 'updated_by': 12634, 'parent_prediction': None, 'parent_annotation': None, 'last_created_by': 12634}, {'id': 22591087, 'completed_by': {'id': 12716, 'email': 'f.a.ensink.op.kemma@student.tue.nl', 'first_name': '', 'last_name': ''}, 'result': [{'id': 'a-cF8klU4-', 'type': 'labels', 'value': {'end': 8, 'text': 'Ephesus', 'start': 1, 'labels': ['landmark_name']}, 'origin': 'manual', 'to_name': 'text', 'from_name': 'label'}, {'id': '9s0uHeHAdu', 'type': 'labels', 'value': {'end': 55, 'text': ' a city', 'start': 48, 'labels': ['type']}, 'origin': 'manual', 'to_name': 'text', 'from_name': 'label'}, {'id': 'fUvEjMgG3v', 'type': 'labels', 'value': {'end': 73, 'text': 'Ancient Greece', 'start': 59, 'labels': ['location']}, 'origin': 'manual', 'to_name': 'text', 'from_name': 'label'}, {'id': '4flTjYLDrw', 'type': 'labels', 'value': {'end': 95, 'text': 'the coast of Ionia', 'start': 77, 'labels': ['location']}, 'origin': 'manual', 'to_name': 'text', 'from_name': 'label'}, {'id': 'lg86acnG1f', 'type': 'labels', 'value': {'end': 127, 'text': 'Seluk', 'start': 122, 'labels': ['location']}, 'origin': 'manual', 'to_name': 'text', 'from_name': 'label'}, {'id': 'WOx1LV2UFN', 'type': 'labels', 'value': {'end': 144, 'text': 'zmir Province', 'start': 131, 'labels': ['location']}, 'origin': 'manual', 'to_name': 'text', 'from_name': 'label'}, {'id': 'laDHrMHSe0', 'type': 'labels', 'value': {'end': 152, 'text': 'Turkey', 'start': 146, 'labels': ['location']}, 'origin': 'manual', 'to_name': 'text', 'from_name': 'label'}, {'id': 'tQP0hv3ljz', 'type': 'labels', 'value': {'end': 166, 'text': 'was built', 'start': 157, 'labels': ['condition']}, 'origin': 'manual', 'to_name': 'text', 'from_name': 'label'}, {'id': 'kt_u85sudG', 'type': 'labels', 'value': {'end': 189, 'text': 'in the 10th century BC', 'start': 167, 'labels': ['date']}, 'origin': 'manual', 'to_name': 'text', 'from_name': 'label'}, {'id': 'ncjpvWwpO2', 'type': 'labels', 'value': {'end': 210, 'text': ' the site of Apasa', 'start': 192, 'labels': ['location']}, 'origin': 'manual', 'to_name': 'text', 'from_name': 'label'}, {'id': 'cCkfjY0VDF', 'type': 'labels', 'value': {'end': 230, 'text': 'Arzawan', 'start': 223, 'labels': ['location']}, 'origin': 'manual', 'to_name': 'text', 'from_name': 'label'}, {'id': 'qoV45Q0sUF', 'type': 'labels', 'value': {'end': 276, 'text': 'Attic and Ionian Greek colonists.', 'start': 243, 'labels': ['people']}, 'origin': 'manual', 'to_name': 'text', 'from_name': 'label'}, {'id': 'I-GTeXxAda', 'type': 'labels', 'value': {'end': 307, 'text': 'the Classical Greek era', 'start': 284, 'labels': ['date']}, 'origin': 'manual', 'to_name': 'text', 'from_name': 'label'}, {'id': '1Cm0EVSfV9', 'type': 'labels', 'value': {'end': 319, 'text': 'one', 'start': 316, 'labels': ['number']}, 'origin': 'manual', 'to_name': 'text', 'from_name': 'label'}, {'id': 'ZnQzkNCX94', 'type': 'labels', 'value': {'end': 329, 'text': 'twelve', 'start': 323, 'labels': ['number']}, 'origin': 'manual', 'to_name': 'text', 'from_name': 'label'}, {'id': 'SUbZiLutRu', 'type': 'labels', 'value': {'end': 385, 'text': 'The city', 'start': 377, 'labels': ['type']}, 'origin': 'manual', 'to_name': 'text', 'from_name': 'label'}, {'id': '6p6vggEAgh', 'type': 'labels', 'value': {'end': 430, 'text': 'the Roman Republic', 'start': 412, 'labels': ['people']}, 'origin': 'manual', 'to_name': 'text', 'from_name': 'label'}, {'id': 'bqL8y0sjz4', 'type': 'labels', 'value': {'end': 408, 'text': 'under the control', 'start': 391, 'labels': ['condition']}, 'origin': 'manual', 'to_name': 'text', 'from_name': 'label'}, {'id': 'r9rU2u9G7Z', 'type': 'labels', 'value': {'end': 440, 'text': ' in 129 BC', 'start': 430, 'labels': ['date']}, 'origin': 'manual', 'to_name': 'text', 'from_name': 'label'}, {'id': 'Opr9AB31SV', 'type': 'labels', 'value': {'end': 449, 'text': 'The city', 'start': 441, 'labels': ['type']}, 'origin': 'manual', 'to_name': 'text', 'from_name': 'label'}, {'id': 'Lql35qqL3B', 'type': 'labels', 'value': {'end': 505, 'text': ' Temple of Artemis ', 'start': 486, 'labels': ['component']}, 'origin': 'manual', 'to_name': 'text', 'from_name': 'label'}, {'id': 'CshjNeBfYe', 'type': 'labels', 'value': {'end': 516, 'text': 'completed ', 'start': 506, 'labels': ['condition']}, 'origin': 'manual', 'to_name': 'text', 'from_name': 'label'}, {'id': 'mOkVVj4eHm', 'type': 'labels', 'value': {'end': 557, 'text': 'designated ', 'start': 546, 'labels': ['condition']}, 'origin': 'manual', 'to_name': 'text', 'from_name': 'label'}, {'id': 'QpXVr0_DsB', 'type': 'labels', 'value': {'end': 602, 'text': 'one of the Seven Wonders of the Ancient World', 'start': 557, 'labels': ['condition']}, 'origin': 'manual', 'to_name': 'text', 'from_name': 'label'}, {'id': 'GXLnfgfLxK', 'type': 'labels', 'value': {'end': 528, 'text': 'around 550BC', 'start': 516, 'labels': ['date']}, 'origin': 'manual', 'to_name': 'text', 'from_name': 'label'}, {'id': '1mKIB_rL7k', 'type': 'labels', 'value': {'end': 633, 'text': 'monumental buildings', 'start': 613, 'labels': ['component']}, 'origin': 'manual', 'to_name': 'text', 'from_name': 'label'}, {'id': 'dLGm5FiXmg', 'type': 'labels', 'value': {'end': 665, 'text': 'the Library of Celsus ', 'start': 643, 'labels': ['component']}, 'origin': 'manual', 'to_name': 'text', 'from_name': 'label'}, {'id': 'vApd3gg6fW', 'type': 'labels', 'value': {'end': 678, 'text': 'a theatre', 'start': 669, 'labels': ['component']}, 'origin': 'manual', 'to_name': 'text', 'from_name': 'label'}, {'id': 'EGyZ6Wil5x', 'type': 'labels', 'value': {'end': 704, 'text': '24,000', 'start': 698, 'labels': ['number']}, 'origin': 'manual', 'to_name': 'text', 'from_name': 'label'}, {'id': 'casDaXFJ2G', 'type': 'labels', 'value': {'end': 716, 'text': 'spectators.', 'start': 705, 'labels': ['people']}, 'origin': 'manual', 'to_name': 'text', 'from_name': 'label'}, {'id': 'h2bQYbg9-2', 'type': 'labels', 'value': {'end': 375, 'text': ' members of the Ionian League', 'start': 346, 'labels': ['condition']}, 'origin': 'manual', 'to_name': 'text', 'from_name': 'label'}, {'type': 'relation', 'to_id': '9s0uHeHAdu', 'labels': ['org:is_type'], 'from_id': 'a-cF8klU4-', 'direction': 'right'}, {'type': 'relation', 'to_id': 'fUvEjMgG3v', 'labels': ['org:located_in'], 'from_id': 'a-cF8klU4-', 'direction': 'right'}, {'type': 'relation', 'to_id': '4flTjYLDrw', 'labels': ['org:located_in'], 'from_id': 'a-cF8klU4-', 'direction': 'right'}, {'type': 'relation', 'to_id': 'lg86acnG1f', 'labels': ['org:located_in'], 'from_id': 'a-cF8klU4-', 'direction': 'right'}, {'type': 'relation', 'to_id': 'WOx1LV2UFN', 'labels': ['org:located_in'], 'from_id': 'a-cF8klU4-', 'direction': 'right'}, {'type': 'relation', 'to_id': 'laDHrMHSe0', 'labels': ['org:located_in'], 'from_id': 'a-cF8klU4-', 'direction': 'right'}, {'type': 'relation', 'to_id': 'tQP0hv3ljz', 'labels': ['org:is_condition'], 'from_id': 'a-cF8klU4-', 'direction': 'right'}, {'type': 'relation', 'to_id': 'kt_u85sudG', 'labels': ['org:happened_on'], 'from_id': 'tQP0hv3ljz', 'direction': 'right'}, {'type': 'relation', 'to_id': 'I-GTeXxAda', 'labels': ['org:happened_on'], 'from_id': 'h2bQYbg9-2', 'direction': 'right'}, {'type': 'relation', 'to_id': 'h2bQYbg9-2', 'labels': ['org:is_condition'], 'from_id': 'a-cF8klU4-', 'direction': 'right'}, {'type': 'relation', 'to_id': 'SUbZiLutRu', 'labels': ['org:is_type'], 'from_id': 'a-cF8klU4-', 'direction': 'right'}, {'type': 'relation', 'to_id': 'bqL8y0sjz4', 'labels': ['org:is_condition'], 'from_id': 'a-cF8klU4-', 'direction': 'right'}, {'type': 'relation', 'to_id': 'r9rU2u9G7Z', 'labels': ['org:happened_on'], 'from_id': 'bqL8y0sjz4', 'direction': 'right'}, {'type': 'relation', 'to_id': 'Lql35qqL3B', 'labels': ['org:has_component'], 'from_id': 'a-cF8klU4-', 'direction': 'right'}, {'type': 'relation', 'to_id': '1mKIB_rL7k', 'labels': ['org:has_component'], 'from_id': 'a-cF8klU4-', 'direction': 'right'}, {'type': 'relation', 'to_id': 'dLGm5FiXmg', 'labels': ['org:has_component'], 'from_id': 'a-cF8klU4-', 'direction': 'right'}, {'type': 'relation', 'to_id': 'vApd3gg6fW', 'labels': ['org:has_component'], 'from_id': 'a-cF8klU4-', 'direction': 'right'}, {'type': 'relation', 'to_id': 'CshjNeBfYe', 'labels': ['org:is_condition'], 'from_id': 'Lql35qqL3B', 'direction': 'right'}, {'type': 'relation', 'to_id': 'GXLnfgfLxK', 'labels': ['org:happened_on'], 'from_id': 'CshjNeBfYe', 'direction': 'right'}], 'reviews': [], 'was_cancelled': False, 'ground_truth': False, 'created_at': '2023-09-29T14:37:21.934927Z', 'updated_at': '2023-09-29T14:41:44.039616Z', 'draft_created_at': '2023-09-29T14:33:09.743687Z', 'lead_time': 523.6800000000001, 'prediction': {}, 'result_count': 0, 'unique_id': 'cf6a0959-3aeb-41b9-a5af-82122a828578', 'import_id': None, 'last_action': 'updated', 'task': 70476117, 'project': 41784, 'updated_by': 12716, 'parent_prediction': None, 'parent_annotation': None, 'last_created_by': 12716}, {'id': 22583481, 'completed_by': {'id': 12641, 'email': 'd.p.m.v.d.hoorn@student.tue.nl', 'first_name': '', 'last_name': ''}, 'result': [{'id': 'l3Ro_o2G7y', 'type': 'labels', 'value': {'end': 8, 'text': 'Ephesus', 'start': 1, 'labels': ['landmark_name']}, 'origin': 'manual', 'to_name': 'text', 'from_name': 'label'}, {'id': 'hTam4zUQgF', 'type': 'labels', 'value': {'end': 55, 'text': 'city', 'start': 51, 'labels': ['type']}, 'origin': 'manual', 'to_name': 'text', 'from_name': 'label'}, {'id': 'vj5_kUwTSD', 'type': 'labels', 'value': {'end': 73, 'text': 'Ancient Greece', 'start': 59, 'labels': ['people']}, 'origin': 'manual', 'to_name': 'text', 'from_name': 'label'}, {'id': 'NbGXIkXRsA', 'type': 'labels', 'value': {'end': 95, 'text': 'the coast of Ionia', 'start': 77, 'labels': ['location']}, 'origin': 'manual', 'to_name': 'text', 'from_name': 'label'}, {'id': 'vw4ez9gF_N', 'type': 'labels', 'value': {'end': 127, 'text': 'Seluk', 'start': 122, 'labels': ['location']}, 'origin': 'manual', 'to_name': 'text', 'from_name': 'label'}, {'id': 'oweHD-KR7M', 'type': 'labels', 'value': {'end': 144, 'text': 'zmir Province', 'start': 131, 'labels': ['location']}, 'origin': 'manual', 'to_name': 'text', 'from_name': 'label'}, {'id': 'JqcpOR4IUY', 'type': 'labels', 'value': {'end': 152, 'text': 'Turkey', 'start': 146, 'labels': ['location']}, 'origin': 'manual', 'to_name': 'text', 'from_name': 'label'}, {'id': '7ke5lnNCLI', 'type': 'labels', 'value': {'end': 166, 'text': 'built', 'start': 161, 'labels': ['condition']}, 'origin': 'manual', 'to_name': 'text', 'from_name': 'label'}, {'id': 'LDsh3dwE9E', 'type': 'labels', 'value': {'end': 189, 'text': '10th century BC', 'start': 174, 'labels': ['date']}, 'origin': 'manual', 'to_name': 'text', 'from_name': 'label'}, {'id': 'eO6mZoBkfG', 'type': 'labels', 'value': {'end': 275, 'text': 'Attic and Ionian Greek colonists', 'start': 243, 'labels': ['people']}, 'origin': 'manual', 'to_name': 'text', 'from_name': 'label'}, {'id': 'qMXUq6fX9M', 'type': 'labels', 'value': {'end': 210, 'text': 'the site of Apasa', 'start': 193, 'labels': ['location']}, 'origin': 'manual', 'to_name': 'text', 'from_name': 'label'}, {'id': 'F1IcDFQRnm', 'type': 'labels', 'value': {'end': 307, 'text': 'Classical Greek era', 'start': 288, 'labels': ['date']}, 'origin': 'manual', 'to_name': 'text', 'from_name': 'label'}, {'id': 'AA00WBg4Ql', 'type': 'labels', 'value': {'end': 320, 'text': 'one ', 'start': 316, 'labels': ['number']}, 'origin': 'manual', 'to_name': 'text', 'from_name': 'label'}, {'id': 'FyG0XUat9E', 'type': 'labels', 'value': {'end': 329, 'text': 'twelve', 'start': 323, 'labels': ['number']}, 'origin': 'manual', 'to_name': 'text', 'from_name': 'label'}, {'id': 'VDXIDiivxL', 'type': 'labels', 'value': {'end': 230, 'text': 'Arzawan', 'start': 223, 'labels': ['location']}, 'origin': 'manual', 'to_name': 'text', 'from_name': 'label'}, {'id': 'RblanCBHA0', 'type': 'labels', 'value': {'end': 430, 'text': 'Roman Republic', 'start': 416, 'labels': ['people']}, 'origin': 'manual', 'to_name': 'text', 'from_name': 'label'}, {'id': '_j95qXMUEn', 'type': 'labels', 'value': {'end': 440, 'text': '129 BC', 'start': 434, 'labels': ['date']}, 'origin': 'manual', 'to_name': 'text', 'from_name': 'label'}, {'id': 'aQs26Qlw4e', 'type': 'labels', 'value': {'end': 504, 'text': 'Temple of Artemis', 'start': 487, 'labels': ['component']}, 'origin': 'manual', 'to_name': 'text', 'from_name': 'label'}, {'id': 'O7BnPjiDAi', 'type': 'labels', 'value': {'end': 528, 'text': 'around 550BC', 'start': 516, 'labels': ['date']}, 'origin': 'manual', 'to_name': 'text', 'from_name': 'label'}, {'id': 'rU7nyd5N1l', 'type': 'labels', 'value': {'end': 515, 'text': 'completed', 'start': 506, 'labels': ['condition']}, 'origin': 'manual', 'to_name': 'text', 'from_name': 'label'}, {'id': 'mGADuwa8MG', 'type': 'labels', 'value': {'end': 556, 'text': 'designated', 'start': 546, 'labels': ['condition']}, 'origin': 'manual', 'to_name': 'text', 'from_name': 'label'}, {'id': 'GzUM3nmXs-', 'type': 'labels', 'value': {'end': 633, 'text': 'monumental buildings', 'start': 613, 'labels': ['type']}, 'origin': 'manual', 'to_name': 'text', 'from_name': 'label'}, {'id': 'vXRIczf5rV', 'type': 'labels', 'value': {'end': 664, 'text': 'Library of Celsus', 'start': 647, 'labels': ['component']}, 'origin': 'manual', 'to_name': 'text', 'from_name': 'label'}, {'id': 'u5vDKl02ct', 'type': 'labels', 'value': {'end': 678, 'text': 'theatre', 'start': 671, 'labels': ['component']}, 'origin': 'manual', 'to_name': 'text', 'from_name': 'label'}, {'id': 'deK2tqbwjB', 'type': 'labels', 'value': {'end': 602, 'text': 'one of the Seven Wonders of the Ancient World', 'start': 557, 'labels': ['condition']}, 'origin': 'manual', 'to_name': 'text', 'from_name': 'label'}, {'id': 'tpocPI_sN3', 'type': 'labels', 'value': {'end': 715, 'text': 'spectators', 'start': 705, 'labels': ['people']}, 'origin': 'manual', 'to_name': 'text', 'from_name': 'label'}, {'id': 'vJoiVYcoRL', 'type': 'labels', 'value': {'end': 704, 'text': '24,000', 'start': 698, 'labels': ['number']}, 'origin': 'manual', 'to_name': 'text', 'from_name': 'label'}, {'type': 'relation', 'to_id': 'hTam4zUQgF', 'labels': ['org:is_type'], 'from_id': 'l3Ro_o2G7y', 'direction': 'right'}, {'type': 'relation', 'to_id': '7ke5lnNCLI', 'labels': ['org:is_condition'], 'from_id': 'l3Ro_o2G7y', 'direction': 'right'}, {'type': 'relation', 'to_id': 'LDsh3dwE9E', 'labels': ['org:happened_on'], 'from_id': '7ke5lnNCLI', 'direction': 'right'}, {'type': 'relation', 'to_id': 'eO6mZoBkfG', 'labels': ['org:created_by'], 'from_id': 'l3Ro_o2G7y', 'direction': 'right'}, {'type': 'relation', 'to_id': 'qMXUq6fX9M', 'labels': ['org:located_in'], 'from_id': 'l3Ro_o2G7y', 'direction': 'right'}, {'type': 'relation', 'to_id': 'aQs26Qlw4e', 'labels': ['org:has_component'], 'from_id': 'l3Ro_o2G7y', 'direction': 'right'}, {'type': 'relation', 'to_id': 'vXRIczf5rV', 'labels': ['org:has_component'], 'from_id': 'l3Ro_o2G7y', 'direction': 'right'}, {'type': 'relation', 'to_id': 'u5vDKl02ct', 'labels': ['org:has_component'], 'from_id': 'l3Ro_o2G7y', 'direction': 'right'}], 'reviews': [], 'was_cancelled': False, 'ground_truth': False, 'created_at': '2023-09-29T09:53:46.077038Z', 'updated_at': '2023-09-29T09:53:46.077057Z', 'draft_created_at': '2023-09-29T09:45:19.013592Z', 'lead_time': 520.454, 'prediction': {}, 'result_count': 0, 'unique_id': '58ce8c78-ac04-4ecd-b16a-a8892bee8a3e', 'import_id': None, 'last_action': 'submitted', 'task': 70476117, 'project': 41784, 'updated_by': 12641, 'parent_prediction': None, 'parent_annotation': None, 'last_created_by': 12641}], 'file_upload': 'e749cd48-ephesus.json', 'drafts': [], 'predictions': [], 'agreement': 64.36610956416877, 'data': {'text': ' Ephesus (; ; ; may ultimately derive from ) was a city in Ancient Greece on the coast of Ionia, southwest of present-day Seluk in zmir Province, Turkey. It was built in the 10th century BC on the site of Apasa, the former Arzawan capital, by Attic and Ionian Greek colonists. During the Classical Greek era, it was one of twelve cities that were members of the Ionian League. The city came under the control of the Roman Republic in 129 BC.The city was famous in its day for the nearby Temple of Artemis (completed around 550BC), which has been designated one of the Seven Wonders of the Ancient World. Its many monumental buildings included the Library of Celsus and a theatre capable of holding 24,000 spectators.', 'title': 'Ephesus'}, 'meta': {}, 'created_at': '2023-09-28T12:38:37.492355Z', 'updated_at': '2023-10-02T08:10:08.380646Z', 'inner_id': 1, 'total_annotations': 4, 'cancelled_annotations': 0, 'total_predictions': 0, 'comment_count': 0, 'unresolved_comment_count': 0, 'last_comment_updated_at': None, 'project': 41784, 'updated_by': 12485, 'comment_authors': []}\n"
     ]
    }
   ],
   "source": [
    "print(export_data[0])"
   ]
  },
  {
   "cell_type": "markdown",
   "metadata": {},
   "source": [
    "### 1.2 Converting to Spacy training format:\n",
    "To provide custom labels to Spacy, we need to convert the data to the following format:\n",
    "\n",
    "```python\n",
    "training_data = [\n",
    "  (\"Tokyo Tower is 333m tall.\", [(0, 11, \"BUILDING\"), (20, 23, \"HEIGHT\")]),\n",
    "]\n",
    "```\n",
    "\n",
    "The `process_export` function from the preprocessor can fix this for us, it retrieves the training data in the given format, in combination with the labels and their relationship"
   ]
  },
  {
   "cell_type": "code",
   "execution_count": 5,
   "metadata": {},
   "outputs": [],
   "source": [
    "training_data, relation_data = preprocessor.process_export(export_data)"
   ]
  },
  {
   "cell_type": "markdown",
   "metadata": {},
   "source": [
    "### 1.3 Checking results\n",
    "We can print the first 5 relations to check whether it was done correctly."
   ]
  },
  {
   "cell_type": "code",
   "execution_count": 6,
   "metadata": {},
   "outputs": [
    {
     "name": "stdout",
     "output_type": "stream",
     "text": [
      "Labels: ('Ephesus', 'city')\n",
      "Relations: ['org:is_type']\n",
      "\n",
      "Labels: ('Ephesus', 'in Ancient Greece')\n",
      "Relations: ['org:located_in']\n",
      "\n",
      "Labels: ('Ephesus', 'on the coast of Ionia')\n",
      "Relations: ['org:located_in']\n",
      "\n",
      "Labels: ('Ephesus', 'Seluk')\n",
      "Relations: ['org:located_in']\n",
      "\n",
      "Labels: ('Ephesus', 'in zmir Province')\n",
      "Relations: ['org:located_in']\n",
      "\n"
     ]
    }
   ],
   "source": [
    "for i, (label, relations) in enumerate(relation_data.items()):\n",
    "    if i > 4:\n",
    "        break\n",
    "    print(f\"Labels: {label}\")\n",
    "    print(f\"Relations: {relations}\")\n",
    "    print()"
   ]
  },
  {
   "cell_type": "markdown",
   "metadata": {},
   "source": [
    "The same can be done for the labels, which are stored in a dictionary. Lets only print the first one."
   ]
  },
  {
   "cell_type": "code",
   "execution_count": 7,
   "metadata": {},
   "outputs": [
    {
     "name": "stdout",
     "output_type": "stream",
     "text": [
      "Training data info item 1 \n",
      "text:\n",
      " Ephesus (; ; ; may ultimately derive from ) was a city in Ancient Greece on the coast of Ionia, southwest of present-day Seluk in zmir Province, Turkey. It was built in the 10th century BC on the site of Apasa, the former Arzawan capital, by Attic and Ionian Greek colonists. During the Classical Greek era, it was one of twelve cities that were members of the Ionian League. The city came under the control of the Roman Republic in 129 BC.The city was famous in its day for the nearby Temple of Artemis (completed around 550BC), which has been designated one of the Seven Wonders of the Ancient World. Its many monumental buildings included the Library of Celsus and a theatre capable of holding 24,000 spectators.\n",
      "Labels:\n",
      "(1, 8, 'landmark_name')\n"
     ]
    }
   ],
   "source": [
    "print(\"Training data info item 1 \\ntext:\")\n",
    "print(training_data[0][0])\n",
    "print(\"Labels:\")\n",
    "print(*training_data[0][1], sep = \"\\n\")"
   ]
  },
  {
   "cell_type": "markdown",
   "metadata": {},
   "source": [
    "### 1.4 Preparing the data for Spacy\n",
    "The data is now in the correct format, so it can be processed and saved as Spacy training file using the `preprocess_spacy` function from the `Preprocessor` class."
   ]
  },
  {
   "cell_type": "code",
   "execution_count": 8,
   "metadata": {},
   "outputs": [],
   "source": [
    "preprocessor.preprocess_spacy(training_data)"
   ]
  },
  {
   "cell_type": "markdown",
   "metadata": {},
   "source": [
    "<!-- ## 2 Training Spacy model\n",
    "### 2.1 Setup config file\n",
    "The config file is used to configure the training process. It contains the pipeline, the number of iterations, the dropout rate, the batch size and the learning rate. The config file looks like:\n",
    "    \n",
    "```json\n",
    "{\n",
    "\"lang\": \"en\",\n",
    "\"pipeline\": [\"ner\"],\n",
    "\"path.train\": \"./data/train.spacy\",\n",
    "\"path.dev\": \"./data/dev.spacy\",\n",
    "\"ner.early_stopping\": false,\n",
    "\"ner.crf\": false,\n",
    "\"ner.batch_size\": 32,\n",
    "\"ner.learning_rate\": 0.001,\n",
    "\"ner.epochs\": 100\n",
    "}\n",
    "```\t -->"
   ]
  },
  {
   "cell_type": "markdown",
   "metadata": {},
   "source": [
    "<!-- ### 2.2 Training the model\n",
    "To train a Spacy model, the following command line code needs to be run:\n",
    "    \n",
    "```bash\n",
    "python -m spacy train .\\\\spacy_config.cfg --output .\\\\models\\\\\n",
    "```\n",
    "\n",
    "This will train a model using the configuration file `spacy_config.cfg` and save it in the `models` folder.\n",
    "\n",
    "The saved model will consist of a `meta.json` and a binary model file and can be loaded using the `spacy.load` function.  -->"
   ]
  },
  {
   "cell_type": "code",
   "execution_count": 9,
   "metadata": {},
   "outputs": [],
   "source": [
    "from spacy.cli.train import train\n",
    "from spacy.cli import debug_data"
   ]
  },
  {
   "cell_type": "code",
   "execution_count": 10,
   "metadata": {},
   "outputs": [
    {
     "name": "stdout",
     "output_type": "stream",
     "text": [
      "\u001b[38;5;4mℹ Saving to output directory: models\\spacy_model\u001b[0m\n",
      "\u001b[38;5;4mℹ Using CPU\u001b[0m\n",
      "\u001b[1m\n",
      "=========================== Initializing pipeline ===========================\u001b[0m\n",
      "\u001b[38;5;2m✔ Initialized pipeline\u001b[0m\n",
      "\u001b[1m\n",
      "============================= Training pipeline =============================\u001b[0m\n",
      "\u001b[38;5;4mℹ Pipeline: ['ner']\u001b[0m\n",
      "\u001b[38;5;4mℹ Initial learn rate: 0.001\u001b[0m\n",
      "E    #       LOSS NER  ENTS_F  ENTS_P  ENTS_R  SCORE \n",
      "---  ------  --------  ------  ------  ------  ------\n",
      "  0       0    102.63    0.00    0.00    0.00    0.00\n"
     ]
    }
   ],
   "source": [
    "train(f\"{DATA_PATH}/config.cfg\", \n",
    "      output_path=\"models/spacy_model\", \n",
    "      overrides={\"paths.train\": f\"{DATA_PATH}/train.spacy\", \n",
    "                 \"paths.dev\": f\"{DATA_PATH}/dev.spacy\", \n",
    "                 \"paths.test\": f\"{DATA_PATH}/dev.spacy\"})"
   ]
  },
  {
   "cell_type": "code",
   "execution_count": null,
   "metadata": {},
   "outputs": [],
   "source": [
    "debug_data(f\"{DATA_PATH}/config.cfg\", \n",
    "           config_overrides={\n",
    "               \"paths.train\": f\"{DATA_PATH}/train.spacy\", \n",
    "               \"paths.dev\": f\"{DATA_PATH}/dev.spacy\", \n",
    "               \"paths.test\": f\"{DATA_PATH}/dev.spacy\"})"
   ]
  },
  {
   "cell_type": "code",
   "execution_count": null,
   "metadata": {},
   "outputs": [],
   "source": [
    "# Now test teh newly created spacy model on a sample text and visualize it using spacy\n",
    "import spacy\n",
    "from spacy import displacy\n",
    "\n",
    "nlp = spacy.load(\"models/spacy_model/model-best/\")\n",
    "\n",
    "text = \"The Cathedral Basilica of Our Lady of Amiens (), or simply Amiens Cathedral, is a Roman Catholic church. The cathedral is the seat of the Bishop of Amiens. It is situated on a slight ridge overlooking the River Somme in Amiens, the administrative capital of the Picardy region of France, some north of Paris.The cathedral was built almost entirely between 1220 and , a remarkably short period of time for a Gothic cathedral, giving it an unusual unity of style. Amiens is a classic example of the High Gothic style of Gothic architecture. It also has some features of the later Rayonnant style in the enlarged high windows of the choir, added in the mid-1250s.\"\n",
    "\n",
    "doc = nlp(text)\n",
    "\n",
    "displacy.render(doc, style=\"ent\", jupyter=True)\n"
   ]
  }
 ],
 "metadata": {
  "kernelspec": {
   "display_name": "Python 3",
   "language": "python",
   "name": "python3"
  },
  "language_info": {
   "codemirror_mode": {
    "name": "ipython",
    "version": 3
   },
   "file_extension": ".py",
   "mimetype": "text/x-python",
   "name": "python",
   "nbconvert_exporter": "python",
   "pygments_lexer": "ipython3",
   "version": "3.10.11"
  },
  "orig_nbformat": 4
 },
 "nbformat": 4,
 "nbformat_minor": 2
}
