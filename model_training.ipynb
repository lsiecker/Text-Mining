{
 "cells": [
  {
   "cell_type": "code",
   "execution_count": 29,
   "metadata": {},
   "outputs": [
    {
     "name": "stdout",
     "output_type": "stream",
     "text": [
      "The autoreload extension is already loaded. To reload it, use:\n",
      "  %reload_ext autoreload\n"
     ]
    },
    {
     "name": "stderr",
     "output_type": "stream",
     "text": [
      "[nltk_data] Downloading package punkt to\n",
      "[nltk_data]     C:\\Users\\20182640\\AppData\\Roaming\\nltk_data...\n",
      "[nltk_data]   Package punkt is already up-to-date!\n"
     ]
    }
   ],
   "source": [
    "%load_ext autoreload\n",
    "%autoreload 2"
   ]
  },
  {
   "cell_type": "markdown",
   "metadata": {},
   "source": [
    "# Processing Label Studio Exports for Spacy\n",
    "This notebook processes exports from Label Studio for use in Spacy."
   ]
  },
  {
   "cell_type": "code",
   "execution_count": 30,
   "metadata": {},
   "outputs": [],
   "source": [
    "import preprocessor\n",
    "from preprocessor import Preprocessor\n",
    "\n",
    "ROOT_DIR = preprocessor.ROOT_DIR\n",
    "DATA_PATH = preprocessor.DATA_PATH\n",
    "\n",
    "preprocessor = Preprocessor(ROOT_DIR)"
   ]
  },
  {
   "cell_type": "markdown",
   "metadata": {},
   "source": [
    "## 1. Loading the Data\n",
    "### 1.1. Loading JSON export from Label Studio\n",
    "The first step is to load the JSON export from Label Studio. This is done using the `json` library and the predefined function `LoadFile` from the Preprocessor class."
   ]
  },
  {
   "cell_type": "code",
   "execution_count": 31,
   "metadata": {},
   "outputs": [],
   "source": [
    "export_data = preprocessor.loadFile('final_assignment_1.json')\n",
    "\n",
    "# Filter out annotations for which a ground truth exists (drop other annotations for this article as well)\n",
    "training_data_export = [item for item in export_data if all(annotation['ground_truth'] is False for annotation in item['annotations'])]\n",
    "ground_truth_export = preprocessor.loadFile('label_studio_ground_truth_task1.json')"
   ]
  },
  {
   "cell_type": "markdown",
   "metadata": {},
   "source": [
    "The exported data constists of all the annotations from a specific text of all the users. The first annotated text in the exported data file looks something like the following:"
   ]
  },
  {
   "cell_type": "code",
   "execution_count": 32,
   "metadata": {},
   "outputs": [
    {
     "name": "stdout",
     "output_type": "stream",
     "text": [
      "Length of training data:  102\n",
      "{'id': 70476118, 'annotations': [{'id': 23190706, 'completed_by': {'id': 12634, 'email': 'n.p.g.t.v.beuningen@student.tue.nl', 'first_name': '', 'last_name': ''}, 'result': [{'id': 'fLVAxBL9tN', 'type': 'labels', 'value': {'end': 20, 'text': 'Engelsberg Ironworks', 'start': 0, 'labels': ['landmark_name']}, 'origin': 'manual', 'to_name': 'text', 'from_name': 'label'}, {'id': 'FvaT_3g4g6', 'type': 'labels', 'value': {'end': 39, 'text': 'ironworks', 'start': 30, 'labels': ['type']}, 'origin': 'manual', 'to_name': 'text', 'from_name': 'label'}, {'id': 'Kw8qk6PrU_', 'type': 'labels', 'value': {'end': 53, 'text': 'ngelsberg', 'start': 44, 'labels': ['location']}, 'origin': 'manual', 'to_name': 'text', 'from_name': 'label'}, {'id': 'Ywe08mn0Fw', 'type': 'labels', 'value': {'end': 90, 'text': 'Fagersta Municipality', 'start': 69, 'labels': ['location']}, 'origin': 'manual', 'to_name': 'text', 'from_name': 'label'}, {'id': 'e3U09m2Wlj', 'type': 'labels', 'value': {'end': 104, 'text': 'Vstmanland', 'start': 94, 'labels': ['location']}, 'origin': 'manual', 'to_name': 'text', 'from_name': 'label'}, {'id': 'kGERm-qOZa', 'type': 'labels', 'value': {'end': 112, 'text': 'Sweden', 'start': 106, 'labels': ['location']}, 'origin': 'manual', 'to_name': 'text', 'from_name': 'label'}, {'id': '4vk4qfOILD', 'type': 'labels', 'value': {'end': 126, 'text': 'built', 'start': 121, 'labels': ['condition']}, 'origin': 'manual', 'to_name': 'text', 'from_name': 'label'}, {'id': 'lWAVqa-wd8', 'type': 'labels', 'value': {'end': 134, 'text': 'in 1681', 'start': 127, 'labels': ['date']}, 'origin': 'manual', 'to_name': 'text', 'from_name': 'label'}, {'id': 'PdfY0Qx4vp', 'type': 'labels', 'value': {'end': 158, 'text': 'Per Larsson Gyllenhk', 'start': 138, 'labels': ['person_name']}, 'origin': 'manual', 'to_name': 'text', 'from_name': 'label'}, {'id': 'YQiC4LiTy8', 'type': 'labels', 'value': {'end': 169, 'text': '1645-1706', 'start': 160, 'labels': ['date']}, 'origin': 'manual', 'to_name': 'text', 'from_name': 'label'}, {'id': 'EtBTqTVm8K', 'type': 'labels', 'value': {'end': 220, 'text': \"one of the world's most modern\", 'start': 190, 'labels': ['condition']}, 'origin': 'manual', 'to_name': 'text', 'from_name': 'label'}, {'id': 'tt1IYZg7rQ', 'type': 'labels', 'value': {'end': 230, 'text': 'ironworks', 'start': 221, 'labels': ['type']}, 'origin': 'manual', 'to_name': 'text', 'from_name': 'label'}, {'id': 'wFBgjgSpBL', 'type': 'labels', 'value': {'end': 253, 'text': '17001800', 'start': 245, 'labels': ['date']}, 'origin': 'manual', 'to_name': 'text', 'from_name': 'label'}, {'id': 'kMyTUIeSGi', 'type': 'labels', 'value': {'end': 310, 'text': 'since 1993', 'start': 300, 'labels': ['date']}, 'origin': 'manual', 'to_name': 'text', 'from_name': 'label'}, {'id': 'PPJUBIdAHY', 'type': 'labels', 'value': {'end': 336, 'text': 'Engelsberg Ironworks', 'start': 316, 'labels': ['landmark_name']}, 'origin': 'manual', 'to_name': 'text', 'from_name': 'label'}, {'id': 'gIK2ocg03g', 'type': 'labels', 'value': {'end': 359, 'text': 'Englika', 'start': 352, 'labels': ['person_name']}, 'origin': 'manual', 'to_name': 'text', 'from_name': 'label'}, {'id': 'FWGfh-zhtf', 'type': 'labels', 'value': {'end': 368, 'text': 'Englika', 'start': 361, 'labels': ['person_name']}, 'origin': 'manual', 'to_name': 'text', 'from_name': 'label'}, {'id': 'U40dx1JyHM', 'type': 'labels', 'value': {'end': 393, 'text': 'Germany', 'start': 386, 'labels': ['location']}, 'origin': 'manual', 'to_name': 'text', 'from_name': 'label'}, {'id': 'KX9FbRpC13', 'type': 'labels', 'value': {'end': 415, 'text': 'iron', 'start': 411, 'labels': ['component']}, 'origin': 'manual', 'to_name': 'text', 'from_name': 'label'}, {'id': 'vWr2p8wZSX', 'type': 'labels', 'value': {'end': 429, 'text': 'Engelsberg', 'start': 419, 'labels': ['landmark_name']}, 'origin': 'manual', 'to_name': 'text', 'from_name': 'label'}, {'id': 'pXv1BdiF8M', 'type': 'labels', 'value': {'end': 449, 'text': 'in the 14th century', 'start': 430, 'labels': ['date']}, 'origin': 'manual', 'to_name': 'text', 'from_name': 'label'}, {'id': 'ltrR1EKtd1', 'type': 'labels', 'value': {'end': 538, 'text': 'at least 13th century', 'start': 517, 'labels': ['date']}, 'origin': 'manual', 'to_name': 'text', 'from_name': 'label'}, {'id': '2o21qqTCQR', 'type': 'labels', 'value': {'end': 558, 'text': 'local peasants', 'start': 544, 'labels': ['people']}, 'origin': 'manual', 'to_name': 'text', 'from_name': 'label'}, {'id': 'f8mBYpHd7V', 'type': 'labels', 'value': {'end': 624, 'text': ' primitive furnaces', 'start': 605, 'labels': ['component']}, 'origin': 'manual', 'to_name': 'text', 'from_name': 'label'}, {'id': 'ERaxvaJNzh', 'type': 'labels', 'value': {'end': 577, 'text': 'ore', 'start': 574, 'labels': ['component']}, 'origin': 'manual', 'to_name': 'text', 'from_name': 'label'}, {'id': 'jpyxibzEvP', 'type': 'labels', 'value': {'end': 599, 'text': 'iron', 'start': 595, 'labels': ['component']}, 'origin': 'manual', 'to_name': 'text', 'from_name': 'label'}, {'id': 'DoWqOcnd_w', 'type': 'labels', 'value': {'end': 477, 'text': 'iron', 'start': 473, 'labels': ['component']}, 'origin': 'manual', 'to_name': 'text', 'from_name': 'label'}, {'id': 'KG9HJ0oduT', 'type': 'labels', 'value': {'end': 116, 'text': 'It', 'start': 114, 'labels': ['landmark_name']}, 'origin': 'manual', 'to_name': 'text', 'from_name': 'label'}, {'id': 'oN-IEemWyu', 'type': 'labels', 'value': {'end': 569, 'text': 'mined', 'start': 564, 'labels': ['condition']}, 'origin': 'manual', 'to_name': 'text', 'from_name': 'label'}, {'id': 'SdL6NpUSz2', 'type': 'labels', 'value': {'end': 590, 'text': 'produced', 'start': 582, 'labels': ['condition']}, 'origin': 'manual', 'to_name': 'text', 'from_name': 'label'}, {'type': 'relation', 'to_id': 'FvaT_3g4g6', 'labels': ['org:is_type'], 'from_id': 'fLVAxBL9tN', 'direction': 'right'}, {'type': 'relation', 'to_id': 'Kw8qk6PrU_', 'labels': ['org:located_in'], 'from_id': 'fLVAxBL9tN', 'direction': 'right'}, {'type': 'relation', 'to_id': 'Ywe08mn0Fw', 'labels': ['org:located_in'], 'from_id': 'fLVAxBL9tN', 'direction': 'right'}, {'type': 'relation', 'to_id': 'e3U09m2Wlj', 'labels': ['org:located_in'], 'from_id': 'fLVAxBL9tN', 'direction': 'right'}, {'type': 'relation', 'to_id': 'kGERm-qOZa', 'labels': ['org:located_in'], 'from_id': 'fLVAxBL9tN', 'direction': 'right'}, {'type': 'relation', 'to_id': 'lWAVqa-wd8', 'labels': ['org:happened_on'], 'from_id': '4vk4qfOILD', 'direction': 'right'}, {'type': 'relation', 'to_id': 'tt1IYZg7rQ', 'labels': ['org:is_type'], 'from_id': 'fLVAxBL9tN', 'direction': 'right'}, {'type': 'relation', 'to_id': 'wFBgjgSpBL', 'labels': ['org:happened_on'], 'from_id': 'EtBTqTVm8K', 'direction': 'right'}, {'type': 'relation', 'to_id': '4vk4qfOILD', 'labels': ['org:is_condition'], 'from_id': 'KG9HJ0oduT', 'direction': 'right'}, {'type': 'relation', 'to_id': 'PdfY0Qx4vp', 'labels': ['org:created_by'], 'from_id': 'KG9HJ0oduT', 'direction': 'right'}, {'type': 'relation', 'to_id': 'EtBTqTVm8K', 'labels': ['org:is_condition'], 'from_id': 'KG9HJ0oduT', 'direction': 'right'}, {'type': 'relation', 'to_id': 'tt1IYZg7rQ', 'labels': ['org:is_type'], 'from_id': 'KG9HJ0oduT', 'direction': 'right'}, {'type': 'relation', 'to_id': 'fLVAxBL9tN', 'labels': ['org:is_similar_to'], 'from_id': 'KG9HJ0oduT', 'direction': 'right'}, {'type': 'relation', 'to_id': 'fLVAxBL9tN', 'labels': ['org:is_similar_to'], 'from_id': 'PPJUBIdAHY', 'direction': 'right'}, {'type': 'relation', 'to_id': 'KX9FbRpC13', 'labels': ['org:has_component'], 'from_id': 'vWr2p8wZSX', 'direction': 'right'}, {'type': 'relation', 'to_id': 'DoWqOcnd_w', 'labels': ['org:has_component'], 'from_id': 'vWr2p8wZSX', 'direction': 'right'}, {'type': 'relation', 'to_id': 'ERaxvaJNzh', 'labels': ['org:has_component'], 'from_id': 'vWr2p8wZSX', 'direction': 'right'}, {'type': 'relation', 'to_id': 'jpyxibzEvP', 'labels': ['org:has_component'], 'from_id': 'vWr2p8wZSX', 'direction': 'right'}, {'type': 'relation', 'to_id': 'f8mBYpHd7V', 'labels': ['org:has_component'], 'from_id': 'vWr2p8wZSX', 'direction': 'right'}, {'type': 'relation', 'to_id': 'oN-IEemWyu', 'labels': ['org:is_condition'], 'from_id': 'ERaxvaJNzh', 'direction': 'right'}, {'type': 'relation', 'to_id': 'SdL6NpUSz2', 'labels': ['org:is_condition'], 'from_id': 'jpyxibzEvP', 'direction': 'right'}], 'reviews': [], 'was_cancelled': False, 'ground_truth': False, 'created_at': '2023-10-12T19:16:05.761058Z', 'updated_at': '2023-10-12T19:16:05.761079Z', 'draft_created_at': '2023-10-12T19:06:11.353924Z', 'lead_time': 611.387, 'prediction': {}, 'result_count': 0, 'unique_id': '0ed9f096-3e7c-450f-96f4-ed75df4c14b2', 'import_id': None, 'last_action': 'submitted', 'task': 70476118, 'project': 41784, 'updated_by': 12634, 'parent_prediction': None, 'parent_annotation': None, 'last_created_by': 12634}], 'file_upload': 'a7ab8cd7-engelsbergironworks.json', 'drafts': [], 'predictions': [], 'agreement': 100.0, 'data': {'text': 'Engelsberg Ironworks () is an ironworks in \"ngelsberg\", a village in Fagersta Municipality in Vstmanland, Sweden. It was built in 1681 by Per Larsson Gyllenhk (1645-1706) and developed into one of the world\\'s most modern ironworks in the period 17001800. It is listed as a UNESCO World Heritage Site since 1993.Name.Engelsberg Ironworks is named after Englika. Englika, who was born in Germany, began producing iron in Engelsberg in the 14th century.History.The history of iron production in the region dates back to at least 13th century. The local peasants both mined the ore and produced the iron using primitive furnaces.', 'title': 'Engelsberg Ironworks'}, 'meta': {}, 'created_at': '2023-09-28T12:38:37.492424Z', 'updated_at': '2023-10-12T19:16:05.851405Z', 'inner_id': 2, 'total_annotations': 1, 'cancelled_annotations': 0, 'total_predictions': 0, 'comment_count': 0, 'unresolved_comment_count': 0, 'last_comment_updated_at': None, 'project': 41784, 'updated_by': 12634, 'comment_authors': []}\n"
     ]
    }
   ],
   "source": [
    "print(\"Length of training data: \", len(training_data_export))\n",
    "print(training_data_export[0])"
   ]
  },
  {
   "cell_type": "markdown",
   "metadata": {},
   "source": [
    "### 1.2 Converting to Spacy training format:\n",
    "To provide custom labels to Spacy, we need to convert the data to the following format:\n",
    "\n",
    "```python\n",
    "training_data = [\n",
    "  (\"Tokyo Tower is 333m tall.\", [(0, 11, \"BUILDING\"), (20, 23, \"HEIGHT\")]),\n",
    "]\n",
    "```\n",
    "\n",
    "The `process_export` function from the preprocessor can fix this for us, it retrieves the training data in the given format, in combination with the labels and their relationship"
   ]
  },
  {
   "cell_type": "code",
   "execution_count": 33,
   "metadata": {},
   "outputs": [],
   "source": [
    "training_data, training_relations = preprocessor.process_export_sentences(training_data_export)\n",
    "validation_data, validation_relations = preprocessor.process_export_sentences(ground_truth_export)"
   ]
  },
  {
   "cell_type": "markdown",
   "metadata": {},
   "source": [
    "### 1.3 Checking results\n",
    "We can print the first 5 relations to check whether it was done correctly."
   ]
  },
  {
   "cell_type": "code",
   "execution_count": 34,
   "metadata": {},
   "outputs": [
    {
     "name": "stdout",
     "output_type": "stream",
     "text": [
      "Labels: ('Engelsberg Ironworks', 'ironworks')\n",
      "Relations: ['org:is_type']\n",
      "\n",
      "Labels: ('Engelsberg Ironworks', 'ngelsberg')\n",
      "Relations: ['org:located_in']\n",
      "\n",
      "Labels: ('Engelsberg Ironworks', 'Fagersta Municipality')\n",
      "Relations: ['org:located_in']\n",
      "\n",
      "Labels: ('Engelsberg Ironworks', 'Vstmanland')\n",
      "Relations: ['org:located_in']\n",
      "\n",
      "Labels: ('Engelsberg Ironworks', 'Sweden')\n",
      "Relations: ['org:located_in']\n",
      "\n"
     ]
    }
   ],
   "source": [
    "for i, (label, relations) in enumerate(training_relations.items()):\n",
    "    if i > 4:\n",
    "        break\n",
    "    print(f\"Labels: {label}\")\n",
    "    print(f\"Relations: {relations}\")\n",
    "    print()"
   ]
  },
  {
   "cell_type": "markdown",
   "metadata": {},
   "source": [
    "The same can be done for the labels, which are stored in a dictionary. Lets only print the first one."
   ]
  },
  {
   "cell_type": "code",
   "execution_count": 35,
   "metadata": {},
   "outputs": [
    {
     "name": "stdout",
     "output_type": "stream",
     "text": [
      "Training data info item 1 \n",
      "text:\n",
      "Engelsberg Ironworks () is an ironworks in \"ngelsberg\", a village in Fagersta Municipality in Vstmanland, Sweden.\n",
      "Labels:\n",
      "[0, 20, 'landmark_name']\n",
      "\n",
      " Validation data info item 1 \n",
      "text:\n",
      " Ephesus (; ; ; may ultimately derive from ) was a city in Ancient Greece on the coast of Ionia, southwest of present-day Seluk in zmir Province, Turkey.\n",
      "Labels:\n",
      "[1, 8, 'landmark_name']\n"
     ]
    }
   ],
   "source": [
    "print(\"Training data info item 1 \\ntext:\")\n",
    "print(training_data[0][0])\n",
    "print(\"Labels:\")\n",
    "print(*training_data[0][1][\"entities\"], sep = \"\\n\")\n",
    "\n",
    "print(\"\\n Validation data info item 1 \\ntext:\")\n",
    "print(validation_data[0][0])\n",
    "print(\"Labels:\")\n",
    "print(*validation_data[0][1][\"entities\"], sep = \"\\n\")"
   ]
  },
  {
   "cell_type": "markdown",
   "metadata": {},
   "source": [
    "### 1.4 Preparing the data for Spacy\n",
    "The data is now in the correct format, so it can be processed and saved as Spacy training file using the `preprocess_spacy` function from the `Preprocessor` class."
   ]
  },
  {
   "cell_type": "code",
   "execution_count": 37,
   "metadata": {},
   "outputs": [
    {
     "name": "stderr",
     "output_type": "stream",
     "text": [
      "[nltk_data] Downloading package punkt to\n",
      "[nltk_data]     C:\\Users\\20182640\\AppData\\Roaming\\nltk_data...\n",
      "[nltk_data]   Package punkt is already up-to-date!\n"
     ]
    }
   ],
   "source": [
    "# preprocessor.preprocess_spacy(training_data, warn = False)\n",
    "preprocessor.preprocess_json(training_data = training_data, validation_data = validation_data)"
   ]
  },
  {
   "cell_type": "markdown",
   "metadata": {},
   "source": [
    "# 2 Training the Spacy Model on on the training file\n",
    "\n",
    "Start with importing all the spacy modules\n"
   ]
  },
  {
   "cell_type": "code",
   "execution_count": 38,
   "metadata": {},
   "outputs": [
    {
     "data": {
      "text/plain": [
       "False"
      ]
     },
     "execution_count": 38,
     "metadata": {},
     "output_type": "execute_result"
    }
   ],
   "source": [
    "import spacy\n",
    "from spacy import displacy\n",
    "import spacy\n",
    "from spacy.cli.train import train\n",
    "\n",
    "# If GPU is availabel, use it for training\n",
    "spacy.prefer_gpu()"
   ]
  },
  {
   "cell_type": "markdown",
   "metadata": {},
   "source": [
    "### 2.1 Spacy before training with custom labels"
   ]
  },
  {
   "cell_type": "code",
   "execution_count": 39,
   "metadata": {},
   "outputs": [
    {
     "name": "stdout",
     "output_type": "stream",
     "text": [
      "['tok2vec', 'tagger', 'parser', 'attribute_ruler', 'lemmatizer', 'ner']\n"
     ]
    },
    {
     "data": {
      "text/html": [
       "<span class=\"tex2jax_ignore\"><div class=\"entities\" style=\"line-height: 2.5; direction: ltr\">\n",
       "<mark class=\"entity\" style=\"background: #aa9cfc; padding: 0.45em 0.6em; margin: 0 0.25em; line-height: 1; border-radius: 0.35em;\">\n",
       "    Engelsberg Ironworks\n",
       "    <span style=\"font-size: 0.8em; font-weight: bold; line-height: 1; border-radius: 0.35em; vertical-align: middle; margin-left: 0.5rem\">PERSON</span>\n",
       "</mark>\n",
       " () is an ironworks in &quot;\n",
       "<mark class=\"entity\" style=\"background: #aa9cfc; padding: 0.45em 0.6em; margin: 0 0.25em; line-height: 1; border-radius: 0.35em;\">\n",
       "    ngelsberg\n",
       "    <span style=\"font-size: 0.8em; font-weight: bold; line-height: 1; border-radius: 0.35em; vertical-align: middle; margin-left: 0.5rem\">PERSON</span>\n",
       "</mark>\n",
       "&quot;, a village in \n",
       "<mark class=\"entity\" style=\"background: #feca74; padding: 0.45em 0.6em; margin: 0 0.25em; line-height: 1; border-radius: 0.35em;\">\n",
       "    Fagersta Municipality\n",
       "    <span style=\"font-size: 0.8em; font-weight: bold; line-height: 1; border-radius: 0.35em; vertical-align: middle; margin-left: 0.5rem\">GPE</span>\n",
       "</mark>\n",
       " in \n",
       "<mark class=\"entity\" style=\"background: #feca74; padding: 0.45em 0.6em; margin: 0 0.25em; line-height: 1; border-radius: 0.35em;\">\n",
       "    Vstmanland\n",
       "    <span style=\"font-size: 0.8em; font-weight: bold; line-height: 1; border-radius: 0.35em; vertical-align: middle; margin-left: 0.5rem\">GPE</span>\n",
       "</mark>\n",
       ", \n",
       "<mark class=\"entity\" style=\"background: #feca74; padding: 0.45em 0.6em; margin: 0 0.25em; line-height: 1; border-radius: 0.35em;\">\n",
       "    Sweden\n",
       "    <span style=\"font-size: 0.8em; font-weight: bold; line-height: 1; border-radius: 0.35em; vertical-align: middle; margin-left: 0.5rem\">GPE</span>\n",
       "</mark>\n",
       ".</div></span>"
      ],
      "text/plain": [
       "<IPython.core.display.HTML object>"
      ]
     },
     "metadata": {},
     "output_type": "display_data"
    }
   ],
   "source": [
    "example_text = training_data[0][0]\n",
    "\n",
    "nlp = spacy.load(\"en_core_web_sm\")\n",
    "doc = nlp(example_text)\n",
    "\n",
    "print(nlp.pipe_names)\n",
    "\n",
    "displacy.render(doc, style=\"ent\")"
   ]
  },
  {
   "cell_type": "markdown",
   "metadata": {},
   "source": [
    "### 2.2 Training a spacy model\n",
    "Training of a spacy model usually is done via the command line. This is the reason for the following no so understandable lines of code. There are a few steps in the training process:\n",
    "1. The spacy model needs a config file and all necessary files are in the spacy folder\n",
    "2. The model needs training data, which was exported in this file above to the spacy folder\n",
    "3. After training the model is evaluated and the results are printed for training and evaluation"
   ]
  },
  {
   "cell_type": "code",
   "execution_count": 40,
   "metadata": {},
   "outputs": [
    {
     "data": {
      "text/plain": [
       "CompletedProcess(args='spacy project run convert', returncode=0)"
      ]
     },
     "execution_count": 40,
     "metadata": {},
     "output_type": "execute_result"
    }
   ],
   "source": [
    "import subprocess\n",
    "\n",
    "subprocess.run(\"spacy project run convert\", cwd=\"ner_model\")\n",
    "\n",
    "# subprocess.run(\"spacy project run create-config\", cwd=\"ner_model\")"
   ]
  },
  {
   "cell_type": "code",
   "execution_count": 41,
   "metadata": {},
   "outputs": [
    {
     "name": "stdout",
     "output_type": "stream",
     "text": [
      "⚠ Your project configuration file includes a `spacy_version` key, which is now\n",
      "deprecated. Weasel will not validate your version of spaCy.\n",
      "\u001b[1m\n",
      "=================================== train ===================================\u001b[0m\n",
      "Running command: 'C:\\Users\\20182640\\.virtualenvs\\Text-Mining-xR8YyNgY\\Scripts\\python.exe' -m spacy train configs/config.cfg --output training/ --paths.train corpus/train.spacy --paths.dev corpus/dev.spacy\n",
      "ℹ Saving to output directory: training\n",
      "ℹ Using CPU\n",
      "\u001b[1m\n",
      "=========================== Initializing pipeline ===========================\u001b[0m\n",
      "✔ Initialized pipeline\n",
      "\u001b[1m\n",
      "============================= Training pipeline =============================\u001b[0m\n",
      "ℹ Pipeline: ['tok2vec', 'tagger', 'parser', 'attribute_ruler', 'lemmatizer',\n",
      "'ner']\n",
      "ℹ Initial learn rate: 0.001\n",
      "E    #       LOSS TOK2VEC  LOSS TAGGER  LOSS PARSER  LOSS NER  LEMMA_ACC  ENTS_F  ENTS_P  ENTS_R  SPEED   SCORE \n",
      "---  ------  ------------  -----------  -----------  --------  ---------  ------  ------  ------  ------  ------\n",
      "  0       0          0.00         0.00         0.00     23.18       0.00    0.00    0.00    0.00  5761.03    0.00\n",
      "  0     100          0.00         0.00         0.00    595.55       0.00    0.00    0.00    0.00  8143.99    0.00\n",
      "  1     200          0.00         0.00         0.00    799.97       0.00    0.00    0.00    0.00  7752.11    0.00\n",
      "  2     300          0.00         0.00         0.00    631.54       0.00   26.80   54.17   17.81  3974.33    0.06\n",
      "  3     400          0.00         0.00         0.00    588.95       0.00   33.66   60.71   23.29  4696.69    0.08\n",
      "  4     500          0.00         0.00         0.00    615.93       0.00   28.04   44.12   20.55  4432.03    0.07\n",
      "  5     600          0.00         0.00         0.00    653.43       0.00   35.85   57.58   26.03  3834.90    0.09\n",
      "  6     700          0.00         0.00         0.00    653.19       0.00   34.55   51.35   26.03  3374.46    0.08\n",
      "  8     800          0.00         0.00         0.00    827.20       0.00   36.21   48.84   28.77  4375.59    0.09\n",
      " 10     900          0.00         0.00         0.00    892.90       0.00   38.98   51.11   31.51  3239.86    0.09\n",
      " 11    1000          0.00         0.00         0.00    927.99       0.00   37.61   50.00   30.14  3870.54    0.09\n",
      " 13    1100          0.00         0.00         0.00    997.83       0.00   38.66   50.00   31.51  4447.24    0.09\n",
      "✔ Saved pipeline to output directory\n",
      "training\\model-last\n",
      "\n"
     ]
    }
   ],
   "source": [
    "result = subprocess.run(\"spacy project run train\", cwd=\"ner_model\", shell=True, check=True, stdout=subprocess.PIPE, stderr=subprocess.PIPE, text=True, encoding=\"utf-8\")\n",
    "print(result.stdout)"
   ]
  },
  {
   "cell_type": "code",
   "execution_count": 42,
   "metadata": {},
   "outputs": [
    {
     "name": "stdout",
     "output_type": "stream",
     "text": [
      "⚠ Your project configuration file includes a `spacy_version` key, which is now\n",
      "deprecated. Weasel will not validate your version of spaCy.\n",
      "\u001b[1m\n",
      "================================== evaluate ==================================\u001b[0m\n",
      "Running command: 'C:\\Users\\20182640\\.virtualenvs\\Text-Mining-xR8YyNgY\\Scripts\\python.exe' -m spacy evaluate training/model-best corpus/dev.spacy --output training/metrics.json\n",
      "ℹ Using CPU\n",
      "\u001b[1m\n",
      "================================== Results ==================================\u001b[0m\n",
      "\n",
      "TOK      100.00\n",
      "TAG      -     \n",
      "POS      -     \n",
      "MORPH    -     \n",
      "LEMMA    -     \n",
      "UAS      -     \n",
      "LAS      -     \n",
      "NER P    51.11 \n",
      "NER R    31.51 \n",
      "NER F    38.98 \n",
      "SENT P   -     \n",
      "SENT R   -     \n",
      "SENT F   -     \n",
      "SPEED    3967  \n",
      "\n",
      "\u001b[1m\n",
      "=============================== NER (per type) ===============================\u001b[0m\n",
      "\n",
      "                    P       R       F\n",
      "landmark_name   62.96   68.00   65.38\n",
      "date            60.00   33.33   42.86\n",
      "number          33.33   33.33   33.33\n",
      "type            25.00   14.29   18.18\n",
      "people           0.00    0.00    0.00\n",
      "component        0.00    0.00    0.00\n",
      "location         0.00    0.00    0.00\n",
      "animal           0.00    0.00    0.00\n",
      "condition        0.00    0.00    0.00\n",
      "\n",
      "✔ Saved results to training\\metrics.json\n",
      "\n"
     ]
    }
   ],
   "source": [
    "result = subprocess.run(\"spacy project run evaluate\", cwd=\"ner_model\", shell=True, check=True, stdout=subprocess.PIPE, stderr=subprocess.PIPE, text=True, encoding=\"utf-8\")\n",
    "print(result.stdout)"
   ]
  },
  {
   "cell_type": "markdown",
   "metadata": {},
   "source": [
    "### 2.2 Visualizing the results\n",
    "The model is now trained. This model can be loaded into spacy and an example text can be visualized with the NER."
   ]
  },
  {
   "cell_type": "code",
   "execution_count": 43,
   "metadata": {},
   "outputs": [
    {
     "data": {
      "text/html": [
       "<span class=\"tex2jax_ignore\"><div class=\"entities\" style=\"line-height: 2.5; direction: ltr\">['Engelsberg Ironworks () is an ironworks in &quot;ngelsberg&quot;, a village in Fagersta Municipality in Vstmanland, Sweden.', &quot;It was built in 1681 by Per Larsson Gyllenhk (1645-1706) and developed into one of the world's most modern ironworks in the period 17001800.&quot;, 'It is listed as a UNESCO World Heritage Site since 1993.Name.Engelsberg Ironworks is named after Englika.', 'Englika, who was born in Germany, began producing iron in Engelsberg in the 14th century.History.The history of iron production in the region dates back to at least 13th century.', 'The local peasants both mined the ore and produced the iron using primitive furnaces.', 'The \n",
       "<mark class=\"entity\" style=\"background: lightred; padding: 0.45em 0.6em; margin: 0 0.25em; line-height: 1; border-radius: 0.35em;\">\n",
       "    Emas National Park\n",
       "    <span style=\"font-size: 0.8em; font-weight: bold; line-height: 1; border-radius: 0.35em; vertical-align: middle; margin-left: 0.5rem\">landmark_name</span>\n",
       "</mark>\n",
       " (, literally meaning &quot;Rhea National Park&quot;) is a national park and a UNESCO World Heritage Site in the states of Gois and Mato Grosso do Sul in Brazil.Description.The National Park is located between the states of Gois and Mato Grosso do Sul in the Center-West Region of Brazil, between 1750\\'1815\\'S and 5239\\'5310\\'W.', 'It covers of cerrado savannah.', 'The \n",
       "<mark class=\"entity\" style=\"background: #ddd; padding: 0.45em 0.6em; margin: 0 0.25em; line-height: 1; border-radius: 0.35em;\">\n",
       "    park\n",
       "    <span style=\"font-size: 0.8em; font-weight: bold; line-height: 1; border-radius: 0.35em; vertical-align: middle; margin-left: 0.5rem\">type</span>\n",
       "</mark>\n",
       " is in the Pantanal Biosphere Reserve, which also includes the Pantanal, Chapada dos Guimares and Serra da Bodoquena national parks, and the Serra de Santa Brbara, Nascentes do Rio Taquari and Pantanal de Rio Negro state parks.', 'Ellora Caves are a multi-religious rock-cut cave complex with inscriptions dating from the period 6th century CE onwards, located in the Aurangabad District of Maharashtra, India.', 'There are over 100 caves at the site, all excavated from the basalt cliffs in the Charanandri Hills, 34 of which are open to public.', 'These consist of \n",
       "<mark class=\"entity\" style=\"background: #ddd; padding: 0.45em 0.6em; margin: 0 0.25em; line-height: 1; border-radius: 0.35em;\">\n",
       "    17\n",
       "    <span style=\"font-size: 0.8em; font-weight: bold; line-height: 1; border-radius: 0.35em; vertical-align: middle; margin-left: 0.5rem\">number</span>\n",
       "</mark>\n",
       " Hindu (caves 1329), 12 Buddhist (caves 112) and 5 Jain (caves 3034) caves.', 'Each group represents deities and mythologies prevalent in the 1st millennium CE, as well as monasteries of each respective religion.', 'They were built close to one another and illustrate the religious harmony that existed in ancient India.', 'Because of their exceptional architecture of ancient India, the Ellora Caves were inscribed on the UNESCO World Heritage List in 1983.', 'The Elephanta Caves are a collection of cave temples predominantly dedicated to the Hindu god Shiva, which have been designated a UNESCO World Heritage Site.', 'They are on Elephanta Island, or &quot;Gharapuri&quot; (literally meaning &quot;the city of caves&quot;), in Mumbai Harbour, east of Mumbai in the Indian state of Mahrshtra.', 'The island, about west of the Jawaharlal Nehru Port, consists of five Hindu caves, a few Buddhist stupa mounds that date back to the 2nd century BCE, and two Buddhist caves with water tanks.', 'East Rennell is the southern portion of Rennell Island in the Solomon Islands which is designated a UNESCO World Heritage Site.', &quot;Rennell is the largest raised coral atoll in the world and the area in East Rennell surrounding Lake Tegano contains many endemic species.In 2013, the World Heritage Committee added East Rennell to the List of World Heritage in Danger because of the threat of logging activities to the site's outstanding universal value.Site.Rennell is situated in the Western Pacific and is the southernmost of the Solomon Islands, being some .&quot;, 'It is the largest uplifted coral atoll in the world, occupying .', &quot;It is mostly clad in dense forest and in the centre of the south end of the island is Lake Tegano (also known as Te Nggano), which was at one time the atoll's lagoon; the surface of the lake is at sea level and the water is brackish.&quot;, 'It is surrounded by cliffs and contains a number of small limestone islands.', 'East Rennell, designated as a World Heritage Site in 1998, is at the southern end of the island; the site includes Lake Tegano, the land surrounding it, and the marine areas stretching for three nautical miles from the island.', 'The site is unspoiled, prone to damage by cyclones, and is &quot;considered to be a true natural laboratory for scientific study.&quot;', 'Doana National Park or Parque Nacional y Natural de Doana is a natural reserve in Andaluca, southern Spain, in the provinces of Huelva (most of its territory), Cdiz and Seville.', 'The \n",
       "<mark class=\"entity\" style=\"background: #ddd; padding: 0.45em 0.6em; margin: 0 0.25em; line-height: 1; border-radius: 0.35em;\">\n",
       "    park\n",
       "    <span style=\"font-size: 0.8em; font-weight: bold; line-height: 1; border-radius: 0.35em; vertical-align: middle; margin-left: 0.5rem\">type</span>\n",
       "</mark>\n",
       " is an area of marshes, shallow streams, and sand dunes in Las Marismas, the delta where the Guadalquivir River flows into the Atlantic Ocean.', 'It was established as a nature reserve in 1969 when the World Wildlife Fund joined with the Spanish government and purchased a section of marshes to protect it.', 'The eco-system has been under constant threat by the draining of the marshes, the use of river water to boost agricultural production by irrigating land along the coast, water pollution by upriver mining, and the expansion of tourist facilities.', 'It is named after wife of the 7th Duke of Medina Sidonia.', 'The \n",
       "<mark class=\"entity\" style=\"background: lightred; padding: 0.45em 0.6em; margin: 0 0.25em; line-height: 1; border-radius: 0.35em;\">\n",
       "    Djoudj National Bird Sanctuary\n",
       "    <span style=\"font-size: 0.8em; font-weight: bold; line-height: 1; border-radius: 0.35em; vertical-align: middle; margin-left: 0.5rem\">landmark_name</span>\n",
       "</mark>\n",
       " (, ) lies on the southeast bank of the Senegal River in Senegal, in northern Biffeche, north east of St-Louis.It provides a variety of wetland habitats which prove very popular with migrating birds, many of which have just crossed the Sahara.', 'Of almost \n",
       "<mark class=\"entity\" style=\"background: #ddd; padding: 0.45em 0.6em; margin: 0 0.25em; line-height: 1; border-radius: 0.35em;\">\n",
       "    400\n",
       "    <span style=\"font-size: 0.8em; font-weight: bold; line-height: 1; border-radius: 0.35em; vertical-align: middle; margin-left: 0.5rem\">number</span>\n",
       "</mark>\n",
       " species of birds, the most visible are pelicans and flamingos.', 'Less conspicuous are the aquatic warblers migrating here from Europe; for these, the park is the single most important wintering site yet discovered.', 'A wide range of wildlife also inhabits the park, which is designated a World Heritage Site.', &quot;The site was added to the list of World Heritage in Danger in 2000 due to the introduction of the invasive giant salvinia plant, which threatens to choke out the park's native vegetation.&quot;, 'However it was removed from the list in 2006.', 'Djmila (), formerly Cuicul, is a small mountain village in Algeria, near the northern coast east of Algiers, where some of the best preserved Roman ruins in North Africa are found.', 'It is situated in the region bordering the Constantinois and Petite Kabylie (Basse Kabylie).In 1982, Djmila became a UNESCO World Heritage Site for its unique adaptation of Roman architecture to a mountain environment.', 'Significant buildings in ancient Cuicul include a theatre, two fora, temples, basilicas, arches, streets, and houses.', 'The exceptionally well preserved ruins surround the forum of the Harsh, a large paved square with an entry marked by a majestic arch.', 'Dja Faunal Reserve (), located in southeastern Cameroon, is a UNESCO World Heritage Site inscribed in 1987.', 'Causes of inscription include diversity of species present in the park, the presence of five threatened species of mammal, and lack of disturbance within the park.', 'It is managed by Dja Conservation Services (DCS), which is led by a conservator.', 'The \n",
       "<mark class=\"entity\" style=\"background: lightred; padding: 0.45em 0.6em; margin: 0 0.25em; line-height: 1; border-radius: 0.35em;\">\n",
       "    Reserve\n",
       "    <span style=\"font-size: 0.8em; font-weight: bold; line-height: 1; border-radius: 0.35em; vertical-align: middle; margin-left: 0.5rem\">landmark_name</span>\n",
       "</mark>\n",
       " receives significant support for its management from many projects funded by international partners and supporters of conservation in Cameroon.', 'Dinosaur Provincial Park is a UNESCO World Heritage Site situated a two hour drive east of Calgary, Alberta, Canada; or , about a half-hour drive northeast of Brooks.The \n",
       "<mark class=\"entity\" style=\"background: #ddd; padding: 0.45em 0.6em; margin: 0 0.25em; line-height: 1; border-radius: 0.35em;\">\n",
       "    park\n",
       "    <span style=\"font-size: 0.8em; font-weight: bold; line-height: 1; border-radius: 0.35em; vertical-align: middle; margin-left: 0.5rem\">type</span>\n",
       "</mark>\n",
       " is situated in the Red Deer River valley, which is noted for its striking badland topography, and abundance of dinosaur fossils.', 'The \n",
       "<mark class=\"entity\" style=\"background: #ddd; padding: 0.45em 0.6em; margin: 0 0.25em; line-height: 1; border-radius: 0.35em;\">\n",
       "    park\n",
       "    <span style=\"font-size: 0.8em; font-weight: bold; line-height: 1; border-radius: 0.35em; vertical-align: middle; margin-left: 0.5rem\">type</span>\n",
       "</mark>\n",
       " is well known for being one of the richest dinosaur fossil locales in the world.', 'Fifty-eight dinosaur species have been discovered at the park and more than 500 specimens have been removed and exhibited in museums around the globe.', 'The renowned fossil assemblage of nearly 500 species of life, from microscopic fern spores to large carnivorous dinosaurs, justified its becoming a World Heritage Site in 1979.', 'The Dilmun Burial Mounds () are a UNESCO World Heritage Site comprising necropolis areas on the main island of Bahrain dating back to the Dilmun and the Umm al-Nar culture.', 'Bahrain has been known since ancient times as an island with a very large number of burials, the (originally) quite a number of square kilometres of mounds were said to be one of the largest cemeteries in the ancient world.', 'The \n",
       "<mark class=\"entity\" style=\"background: #ddd; padding: 0.45em 0.6em; margin: 0 0.25em; line-height: 1; border-radius: 0.35em;\">\n",
       "    cemeteries\n",
       "    <span style=\"font-size: 0.8em; font-weight: bold; line-height: 1; border-radius: 0.35em; vertical-align: middle; margin-left: 0.5rem\">type</span>\n",
       "</mark>\n",
       " are concentrated in the north of the island, on the hard stony areas slightly above the arable farming soils  the south of the island is mainly sandy and desert-like.', 'Recent studies have shown that the estimated/approximately \n",
       "<mark class=\"entity\" style=\"background: #ddd; padding: 0.45em 0.6em; margin: 0 0.25em; line-height: 1; border-radius: 0.35em;\">\n",
       "    350,000\n",
       "    <span style=\"font-size: 0.8em; font-weight: bold; line-height: 1; border-radius: 0.35em; vertical-align: middle; margin-left: 0.5rem\">number</span>\n",
       "</mark>\n",
       " ancient grave mounds could have been solely produced by the local population over a number of thousands of years.', 'The graves are not all of the same era, or of exactly the same styles, and can vary considerably in size in different areas of the moundfield.', 'Research, under the auspices of the Bahrain National Museum (with the Bahrain Historical and Archaeological Society taking a keen interest), is still continuing, to establish a firm timeline for all these variations and continuations, as well as considering the implications for the society or societies that produced them.', 'Desembarco del Granma National Park () is a national park in south-western Cuba, stretching across the Niquero and Piln municipalities in what is now Granma Province.', 'The name of the park means &quot;Landing of the Granma&quot; and refers to the yacht in which Fidel Castro, Che Guevara, Ral Castro, and 79 of their supporters sailed from Mexico to Cuba in 1956 and incited the Cuban Revolution.', 'The National park is well known for its karst topography and coastal cliffs.The national park has a total area of 32,576 ha, of which 26,180 ha are terrestrial and 6,396 ha are marine.', 'In 1999, it was listed by UNESCO as a World Heritage Site because of its uplifted marine terraces and pristine sea cliffs.', 'Derwent Valley Mills is a World Heritage Site along the River Derwent in Derbyshire, England, designated in December 2001.', 'It is administered by the Derwent Valley Mills Partnership.', &quot;The modern factory, or 'mill', system was born here in the 18th century to accommodate the new technology for spinning cotton developed by Richard Arkwright.&quot;, 'The system was adopted throughout the valley, and later spread so that by 1788 there were over 200Arkwright-type mills in Britain.', &quot;Arkwright's inventions and system of organising labour was exported to Europe and the United States.&quot;, 'The island of Delos (; ; Attic: , Doric: ), near Mykonos, near the centre of the Cyclades archipelago, is one of the most important mythological, historical, and archaeological sites in Greece.', 'The excavations in the island are among the most extensive in the Mediterranean; ongoing work takes place under the direction of the Ephorate of Antiquities of Cyclades, and many of the artifacts found are on display at the Archaeological Museum of Delos and the National Archaeological Museum of Athens.Delos had a position as a holy sanctuary for a millennium before Olympian Greek mythology made it the birthplace of Apollo and Artemis.', 'From its Sacred Harbour, the horizon shows the three conical mounds that have identified landscapes sacred to a goddess (presumably Athena) - in other sites: one, retaining its Pre-Greek name Mount Cynthus, is crowned with a sanctuary of Zeus.', &quot;The Decorated Farmhouses of Hlsingland () is a World Heritage Site inscribed on 1 July 2012 as Sweden's fifteenth entry on the list.&quot;, 'Seven farmhouses erected in the 19th century were eventually selected to represent the most distinguished and well preserved examples of local architectural and decorative tradition.Preparations for a nomination began during the 1990s.', 'The initial nomination was a heterogeneous collection of farmhouses and environments connected to agrarian culture in Hlsingland.', 'Fifteen sites, including an entire village were represented.', 'The first nomination was rejected at the conference in Sevilla in 2009, with the suggestion of curating a narrower selection of sites.', 'In the second and successful nomination, there was a pronounced focus on local traditions on decoratively painted interiors, as reflected by the World Heritage Site\\'s english title &quot;Decorated farmhouses of Hlsingland.&quot;', 'The Dazu Rock Carvings () are a series of Chinese religious sculptures and carvings and UNESCO World Heritage Site located in Dazu District, Chongqing, China.', 'The carvings date back as far as the 7th century AD, depicting and influenced by Buddhist, Confucian and Taoist beliefs.', 'Some are in rock-cut cave shrines, in the usual Chinese Buddhist style, but many others are rock reliefs carved into the open rock faces.', 'Listed as a World Heritage Site in 1999, the Dazu Rock Carvings are made up of 75 protected sites containing some 50,000 statues, with over 100,000 Chinese characters forming inscriptions and epigraphs.', 'The sites are located in Chongqing Municipality within the steep hillsides throughout Dazu District, located about 165 kilometers west of the urban area of Chongqing.', 'The highlights of the rock grotto are found on Mount Baoding and Mount Beishan.', 'The \n",
       "<mark class=\"entity\" style=\"background: lightred; padding: 0.45em 0.6em; margin: 0 0.25em; line-height: 1; border-radius: 0.35em;\">\n",
       "    Danube Delta\n",
       "    <span style=\"font-size: 0.8em; font-weight: bold; line-height: 1; border-radius: 0.35em; vertical-align: middle; margin-left: 0.5rem\">landmark_name</span>\n",
       "</mark>\n",
       " (, ; , ) is the second largest river delta in Europe, after the Volga Delta, and is the best preserved on the continent.', 'The greater part of the Danube Delta lies in Romania (Tulcea County), with a small part in Ukraine (Odesa Oblast).', 'Its approximate surface area is , of which is in Romania.', 'With the lagoons of RazimSinoe ( with water surface), located south of the main delta, the total area of the Danube Delta is .', 'The RazimSinoe lagoon complex is geologically and ecologically related to the delta proper; the combined territory is listed as a World Heritage Site.', 'The Curonian (Courish) Spit (; ; ; ) is a long, thin, curved sand-dune spit that separates the Curonian Lagoon from the Baltic Sea.', 'Its southern portion lies within \n",
       "<mark class=\"entity\" style=\"background: lightyellow; padding: 0.45em 0.6em; margin: 0 0.25em; line-height: 1; border-radius: 0.35em;\">\n",
       "    Kaliningrad Oblast\n",
       "    <span style=\"font-size: 0.8em; font-weight: bold; line-height: 1; border-radius: 0.35em; vertical-align: middle; margin-left: 0.5rem\">location</span>\n",
       "</mark>\n",
       ", Russia, and its northern within southwestern Klaipda County, Lithuania.', 'It is a UNESCO World Heritage Site shared by Lithuania and Russia.Geography.The Curonian Spit stretches from the Sambia Peninsula on the south to its northern tip next to a narrow strait, across which is the port city of Klaipda on the mainland of Lithuania.', 'The northern long stretch of the Curonian Spit peninsula belongs to Klaipda County, Lithuania, while the rest is part of the Kaliningrad Oblast, Russia.', 'The width of the spit varies from a minimum of in \n",
       "<mark class=\"entity\" style=\"background: lightyellow; padding: 0.45em 0.6em; margin: 0 0.25em; line-height: 1; border-radius: 0.35em;\">\n",
       "    Russia\n",
       "    <span style=\"font-size: 0.8em; font-weight: bold; line-height: 1; border-radius: 0.35em; vertical-align: middle; margin-left: 0.5rem\">location</span>\n",
       "</mark>\n",
       " (near the village of Lesnoy) to a maximum of in \n",
       "<mark class=\"entity\" style=\"background: lightyellow; padding: 0.45em 0.6em; margin: 0 0.25em; line-height: 1; border-radius: 0.35em;\">\n",
       "    Lithuania\n",
       "    <span style=\"font-size: 0.8em; font-weight: bold; line-height: 1; border-radius: 0.35em; vertical-align: middle; margin-left: 0.5rem\">location</span>\n",
       "</mark>\n",
       " (just north of Nida).', 'Crespi d\\'Adda is a village in northern Italian and hamlet (&quot;frazione&quot;) of Capriate San Gervasio, a municipality in the province of Bergamo, Lombardy.', 'It is a historic settlement and an outstanding example of the 19th and early 20th-century &quot;company towns&quot; built in Europe and North America by enlightened industrialists to meet the workers\\' needs.', 'The site is still intact and is partly used for industrial purposes, although changing economic and social conditions now threaten its survival.', &quot;Since 1995 it has been on UNESCO's list of World Heritage Sites.&quot;, &quot;Founded in 1527 and located in the northwestern Falcn state of Venezuela, the city of Coro and its Port, La Vela de Coro in the Caribbean Sea, was added to the list of UNESCO World Heritage sites in 1993, the first for its country.History.World Heritage site.Coro and its Port's addition to UNESCO's World Heritage list in 1993 was supported by several criteria.&quot;, &quot;The \n",
       "<mark class=\"entity\" style=\"background: #ddd; padding: 0.45em 0.6em; margin: 0 0.25em; line-height: 1; border-radius: 0.35em;\">\n",
       "    city\n",
       "    <span style=\"font-size: 0.8em; font-weight: bold; line-height: 1; border-radius: 0.35em; vertical-align: middle; margin-left: 0.5rem\">type</span>\n",
       "</mark>\n",
       "'s historic buildings were constructed using traditional indigenous mud building techniques, including bahareque, adobe, and tapia (criteria iv).&quot;, &quot;One of Latin America's oldest colonial towns, much of the original layout and structures have been retained.&quot;, &quot;Due to its role as the domain of the Welsers, a prominent German banking and merchant family, between the years 1528 and 1546, Coro's street plan mirrors those of medieval German cities.&quot;, 'The Cornwall and West Devon Mining Landscape is a World Heritage Site which includes select mining landscapes in Cornwall and West Devon in the south west of England.', 'The site was added to the World Heritage List during the 30th Session of the UNESCO World Heritage Committee in Vilnius, July 2006.', 'Following plans in 2011 to restart mining at South Crofty, and to build a supermarket at Hayle Harbour, the World Heritage Committee drafted a decision in 2014 to put the site on the List of World Heritage in Danger, but this was rejected at the 38th Committee Session at Doha, Qatar (July 2014), in favour of a follow-up Reactive Monitoring Mission.', 'Cordouan lighthouse () is an active lighthouse located at sea, near the mouth of the Gironde estuary in France.', 'At a height of , it is the tenth-tallest &quot;traditional lighthouse&quot; in the world.The Tour de Cordouan, the \\'Patriarch of Lighthouses\\' is by far the oldest lighthouse in France, with construction starting in 1584 and finishing in 1611.', 'Designed by leading Paris architect , the lighthouse is something of a Renaissance masterpiece, drawing inspiration from Roman mausoleums, and the palaces, cathedrals, and forts of the Renaissance.', 'Three stories were added in the 18th century.', &quot;The \n",
       "<mark class=\"entity\" style=\"background: lightred; padding: 0.45em 0.6em; margin: 0 0.25em; line-height: 1; border-radius: 0.35em;\">\n",
       "    Como National Park\n",
       "    <span style=\"font-size: 0.8em; font-weight: bold; line-height: 1; border-radius: 0.35em; vertical-align: middle; margin-left: 0.5rem\">landmark_name</span>\n",
       "</mark>\n",
       " () is a Biosphere Reserve and UNESCO World Heritage Site in the Zanzan and Savanes districts of northeastern Cte d'Ivoire.&quot;, 'It is the largest protected area in West Africa, with an area of , and ranges from the humid Guinea savanna to the dry Sudanian zone.', 'This steep climatic northsouth gradient allows the park to harbor a multitude of habitats with a remarkable diversity of life.', 'Some animal and plant species even find their last sanctuary in some of the different savanna types, gallery forests, riparian grasslands, rock outcrops, or forest islands.', &quot;Cologne Cathedral (, , officially ', English: Cathedral Church of Saint Peter) is a cathedral in Cologne, North Rhine-Westphalia belonging to the Catholic Church.&quot;, 'It is the seat of the Archbishop of Cologne and of the administration of the Archdiocese of Cologne.', 'It is a renowned monument of German Catholicism and Gothic architecture and was declared a World Heritage Site in 1996.', &quot;It is \n",
       "<mark class=\"entity\" style=\"background: lightyellow; padding: 0.45em 0.6em; margin: 0 0.25em; line-height: 1; border-radius: 0.35em;\">\n",
       "    Germany\n",
       "    <span style=\"font-size: 0.8em; font-weight: bold; line-height: 1; border-radius: 0.35em; vertical-align: middle; margin-left: 0.5rem\">location</span>\n",
       "</mark>\n",
       "'s most visited landmark, attracting an average of 20,000 people a day.&quot;, 'At , the cathedral is the tallest twin-spired church in the world, the second tallest church in Europe after Ulm Minster, and the third tallest church of any kind in the world.', &quot;The Colchic Rainforests and Wetlands is a UNESCO World Heritage Site in Georgia, which comprises parts of the Colchis Lowland along some 80 km of western Georgia's Black Sea coastline.&quot;, 'It was inscribed by UNESCO on \n",
       "<mark class=\"entity\" style=\"background: #bfe1d9; padding: 0.45em 0.6em; margin: 0 0.25em; line-height: 1; border-radius: 0.35em;\">\n",
       "    26 July 2021\n",
       "    <span style=\"font-size: 0.8em; font-weight: bold; line-height: 1; border-radius: 0.35em; vertical-align: middle; margin-left: 0.5rem\">date</span>\n",
       "</mark>\n",
       ", becoming the first site in Georgia to be added to the list for its natural attributes.', 'The site contains a wide array of ancient rainforest and wetland ecosystems, harboring many threatened and endangered species.', 'Description.The World Heritage site includes a series of ecosystems such as deciduous rainforests and wetlands, percolation bogs and other mire types, located at a range of altitudes from the sea level to more than 2,500 metres above it.', 'In total, the site consists of seven component parts  Kintrishi-Mtirala and Ispani in Adjara, Grigoleti and Imnati in Guria, and Pitshora, Nabada, and Churia in Samegrelo-Zemo Svaneti.', 'They are administered in Georgia as parts of the Kolkheti National Park, Kintrishi Strict Nature Reserve, Kobuleti Protected Areas, and Mtirala National Park.', 'The total area of the site is 31,253 ha, with the buffer zone of 26,850 ha.', 'The Classical Gardens of Suzhou (Chinese: ; pinyin: &quot;Szhu yunln&quot;; Suzhounese (Wugniu): &quot;sou1-tseu1 yoe2-lin2&quot;) are a group of gardens in the city of Suzhou, in Jiangsu, China, which have been added to the UNESCO World Heritage List.Spanning a period of almost one thousand years, from the Northern Song to the late Qing dynasties (11th-19th century), these gardens, most of them built by scholars, standardized many of the key features of classical Chinese garden design with constructed landscapes mimicking natural scenery of rocks, hills and rivers with strategically located pavilions and pagodas.', 'Churches of the Pskov School of Architecture is a UNESCO World Heritage Site, listed in 2019.', 'The site comprises ten churches or monasteries and related buildings around the city of Pskov in the Russian Federation.', 'They represent the work of the Pskov School that drew from the Byzantine and Novgorod traditions, fused them with the local vernacular tradition, and adjusted the architecture to the use of local resources.', 'The \n",
       "<mark class=\"entity\" style=\"background: lightred; padding: 0.45em 0.6em; margin: 0 0.25em; line-height: 1; border-radius: 0.35em;\">\n",
       "    churches\n",
       "    <span style=\"font-size: 0.8em; font-weight: bold; line-height: 1; border-radius: 0.35em; vertical-align: middle; margin-left: 0.5rem\">landmark_name</span>\n",
       "</mark>\n",
       " date from the 12th to the early 17th century, with the peak of this style in the 15th and 16th centuries.', 'The architects from Pskov worked on monuments in several Russian cities, including Moscow, Kazan, and Sviyazhsk.', 'The north of the \n",
       "<mark class=\"entity\" style=\"background: lightyellow; padding: 0.45em 0.6em; margin: 0 0.25em; line-height: 1; border-radius: 0.35em;\">\n",
       "    Moldavia\n",
       "    <span style=\"font-size: 0.8em; font-weight: bold; line-height: 1; border-radius: 0.35em; vertical-align: middle; margin-left: 0.5rem\">location</span>\n",
       "</mark>\n",
       " region in Romania preserves numerous religious buildings as a testimony of the Moldavian architectural style developed in the Principality of Moldavia starting from the 14th century.Of these, eight Romanian Orthodox Churches located in Suceava County and built from the late 15th century to the late 16th century are listed by UNESCO as a World Heritage Site, since 1993.', 'Church of the Resurrection within the Sucevia Monastery was added to the site in 2010.', 'The churches have their external walls covered in authentic and unique fresco paintings, representing complete cycles of religious themes.', &quot;The \n",
       "<mark class=\"entity\" style=\"background: lightred; padding: 0.45em 0.6em; margin: 0 0.25em; line-height: 1; border-radius: 0.35em;\">\n",
       "    Churches of Chilo\n",
       "    <span style=\"font-size: 0.8em; font-weight: bold; line-height: 1; border-radius: 0.35em; vertical-align: middle; margin-left: 0.5rem\">landmark_name</span>\n",
       "</mark>\n",
       " in Chile's Chilo Archipelago are a unique architectural phenomenon in the Americas and one of the most prominent styles of Chilota architecture.&quot;, 'Unlike classical Spanish colonial architecture, the churches of Chilo are made entirely in native timber with extensive use of wood shingles.', &quot;The \n",
       "<mark class=\"entity\" style=\"background: #ddd; padding: 0.45em 0.6em; margin: 0 0.25em; line-height: 1; border-radius: 0.35em;\">\n",
       "    churches\n",
       "    <span style=\"font-size: 0.8em; font-weight: bold; line-height: 1; border-radius: 0.35em; vertical-align: middle; margin-left: 0.5rem\">type</span>\n",
       "</mark>\n",
       " were built from materials to resist the Chilo Archipelago's humid and rainy oceanic climate.Built in the 18th and 19th centuries when Chilo Archipelago was still a part of the Spanish Crown possessions, the churches represent the fusion of Spanish Jesuit culture and local native population's skill and traditions; an excellent example of mestizo culture.&quot;, 'Chitwan National Park is the first national park of Nepal.', 'It was established in 1973 as the Royal Chitwan National Park and was granted the status of a World Heritage Site in 1984.', 'It covers an area of in the subtropical Inner Terai lowlands of south-central Nepal in Nawalpur, Chitwan, Makwanpur and Parsa Districts.', 'It ranges in elevation from about in the river valleys to in the Sivalik Hills.In the north and west of the protected area the Narayani-Rapti river system forms a natural boundary to human settlements.', 'Adjacent to the east of Chitwan National Park is Parsa National Park, contiguous in the south is the Indian Tiger Reserve Valmiki National Park.', 'The coherent protected area of represents the &quot;Tiger Conservation Unit (TCU) Chitwan-Parsa-Valmiki&quot;, which covers a huge block of alluvial grasslands and subtropical moist deciduous forests.', 'Champaner-Pavagadh Archaeological Park, a UNESCO World Heritage Site, is located in Panchmahal district in Gujarat, India.', 'It is located around the historical city of Champaner, a city which was founded by Vanraj Chavda, the most prominent king of the Chavda Dynasty, in the eighth century.', 'He named it after the name of his friend and general Champa, also known later as Champaraj.', 'The heritage site is studded with forts with bastions starting from the hills of Pavagadh, and extending into the city of Champaner.', &quot;The \n",
       "<mark class=\"entity\" style=\"background: #ddd; padding: 0.45em 0.6em; margin: 0 0.25em; line-height: 1; border-radius: 0.35em;\">\n",
       "    park\n",
       "    <span style=\"font-size: 0.8em; font-weight: bold; line-height: 1; border-radius: 0.35em; vertical-align: middle; margin-left: 0.5rem\">type</span>\n",
       "</mark>\n",
       "'s landscape includes archaeological, historic and living cultural heritage monuments such as chalcolithic sites, a hill fortress of an early Hindu capital, and remains of the 16th-century capital of the state of Gujarat.&quot;, 'There are palaces, entrance gates and arches, mosques, tombs and temples, residential complexes, agricultural structures and water installations such as stepwells and tanks, dating from the eighth to the 14th centuries.', 'The Kalika Mata Temple, located on top of the high Pavagadh Hill, is an important Hindu shrine in the region, attracting large numbers of pilgrims throughout the year.', 'The Central Suriname Nature Reserve () is a conservation unit in Suriname.It preserves an area of tropical rainforest.', 'The reserve is in pristine condition.History.The Central Suriname Nature Reserve was created in 1998 by Conservation International and the government of Suriname from the fusion of three existing nature reserves: Ralleighvallen, Tafelberg and Eilerts de Haan gebergte.', 'It was designated a UNESCO World Heritage Site in 2000 for its pristine tropical rainforest ecosystem.The forest received material support from Microsoft co-founder Jeff Harbers.', 'Central Highlands of Sri Lanka is a recognised World Heritage Site in Sri Lanka.', 'The site comprises the Peak Wilderness Protected Area, the Horton Plains National Park and the Knuckles Conservation Forest.', 'These are rain forests, where the elevation reaches above sea level.', 'The region harbors a variety of mammal species including the bear monkey, &quot;Trachypithecus vetulus monticola&quot;, (a subspecies of purple-faced langur) and the Horton Plains slender loris, &quot;Loris tardigradus nycticeboides&quot;, (a subspecies of red slender loris).', 'The Caves of Aggtelek Karst and Slovak Karst are a series of over 1000 karst caves spread out over a total area of along the border of Hungary and Slovakia.', 'With an exceptional diversity of karst structures and complex cave systems developing from both temperate and tropical processes, the caves and surrounding areas were inscribed as a UNESCO World Heritage Site in 1995.', 'Background.This UNESCO World Heritage Site includes \n",
       "<mark class=\"entity\" style=\"background: #ddd; padding: 0.45em 0.6em; margin: 0 0.25em; line-height: 1; border-radius: 0.35em;\">\n",
       "    seven\n",
       "    <span style=\"font-size: 0.8em; font-weight: bold; line-height: 1; border-radius: 0.35em; vertical-align: middle; margin-left: 0.5rem\">number</span>\n",
       "</mark>\n",
       " components, three of which are in Hungary, and four in Slovakia.', 'In Hungary, the components include Aggtelek, Szendr-Rudabnya Hill, and Esztramoill.', 'The components in \n",
       "<mark class=\"entity\" style=\"background: lightyellow; padding: 0.45em 0.6em; margin: 0 0.25em; line-height: 1; border-radius: 0.35em;\">\n",
       "    Slovakia\n",
       "    <span style=\"font-size: 0.8em; font-weight: bold; line-height: 1; border-radius: 0.35em; vertical-align: middle; margin-left: 0.5rem\">location</span>\n",
       "</mark>\n",
       " are Dobin Ice Cave, Koniar plateau, Pleivec plateau, and a component neighbouring Silica and Jasov.', 'The Caves and Ice Age Art in the Swabian Jura are a collection of six caves in southern Germany which were used by Ice Age humans for shelter about 33,000 to 43,000 years ago.', 'Within the \n",
       "<mark class=\"entity\" style=\"background: #ddd; padding: 0.45em 0.6em; margin: 0 0.25em; line-height: 1; border-radius: 0.35em;\">\n",
       "    caves\n",
       "    <span style=\"font-size: 0.8em; font-weight: bold; line-height: 1; border-radius: 0.35em; vertical-align: middle; margin-left: 0.5rem\">type</span>\n",
       "</mark>\n",
       " were found the oldest non-stationary works of human art yet discovered, in the form of carved animal and humanoid figurines, in addition to the oldest musical instruments ever found.', 'One statuette of a female form, carved figurines of animals (including cave lions, mammoths, horses and cattle), musical instruments and items of personal adornment have been discovered.', 'Some of the figurines depict creatures that are half animal, half human.', 'Because of their testimony to the development of Paleolithic art and culture, the six caves were inscribed on the UNESCO World Heritage List in 2017.', 'The Cave of Altamira and Paleolithic Cave Art of Northern Spain () is a grouping of 18 caves of northern Spain, which together represent the apogee of Upper Paleolithic cave art in Europe between 35,000 and 11,000 years ago (Aurignacian, Gravettian, Solutrean, Magdalenian, Azilian).', 'In 2008, they were collectively designated a World Heritage Site by UNESCO.Chief among these caves is Altamira, located within the town of Santillana del Mar in Cantabria.', 'It remains one of the most important painting cycles of prehistory, originating in the Magdalenian and Solutrean periods of the Upper Paleolithic.', &quot;This cave's artistic style represents the Franco-cantabrian school, characterized by the realism of its figural representation.&quot;, 'Altamira Cave was declared a World Heritage Site in 1985.', 'In 2008, the World Heritage Site was expanded to include \n",
       "<mark class=\"entity\" style=\"background: #ddd; padding: 0.45em 0.6em; margin: 0 0.25em; line-height: 1; border-radius: 0.35em;\">\n",
       "    17\n",
       "    <span style=\"font-size: 0.8em; font-weight: bold; line-height: 1; border-radius: 0.35em; vertical-align: middle; margin-left: 0.5rem\">number</span>\n",
       "</mark>\n",
       " additional caves located in three autonomous communities of northern Spain: Asturias, Cantabria and the Basque Country.', 'The Churches of the Vall de Bo are a set of nine Early Romanesque churches declared World Heritage Site by UNESCO and located in the Vall de Bo, in the Catalan comarca of Alta Ribagora (Province of Lleida).World Heritage Site.UNESCO declared World Heritage Sites in 2000 to nine churches:History of the frescoes of the Vall de Bo.During the early 20th century there was a major effort to study and catalog the Romanesque wall paintings in the churches of the Vall de Bo area.', 'This activity was driven by both the academic interests of scholars, and by art dealers (whose motives were financial gain).', 'The \n",
       "<mark class=\"entity\" style=\"background: lightred; padding: 0.45em 0.6em; margin: 0 0.25em; line-height: 1; border-radius: 0.35em;\">\n",
       "    Casbah\n",
       "    <span style=\"font-size: 0.8em; font-weight: bold; line-height: 1; border-radius: 0.35em; vertical-align: middle; margin-left: 0.5rem\">landmark_name</span>\n",
       "</mark>\n",
       " (, &quot;qaba&quot;, meaning citadel) is the citadel of Algiers in Algeria and the traditional quarter clustered around it.', 'In 1992, the United Nations Educational, Scientific and Cultural Organization (UNESCO) proclaimed &quot;Kasbah of Algiers&quot; a World Cultural Heritage Site, as &quot;There are the remains of the citadel, old mosques and Ottoman-style palaces as well as the remains of a traditional urban structure associated with a deep-rooted sense of community.', '&quot;Etymology.More generally, a kasbah is the walled citadel of many North African cities and towns.', 'The name made its way into English from French in the late 19th century (the &quot;Oxford English Dictionary&quot; states 1895), and can be spelled &quot;kasbah&quot; or &quot;casbah.&quot;', 'Carlsbad Caverns National Park is an American national park in the Guadalupe Mountains of southeastern New Mexico.', 'The primary attraction of the \n",
       "<mark class=\"entity\" style=\"background: #ddd; padding: 0.45em 0.6em; margin: 0 0.25em; line-height: 1; border-radius: 0.35em;\">\n",
       "    park\n",
       "    <span style=\"font-size: 0.8em; font-weight: bold; line-height: 1; border-radius: 0.35em; vertical-align: middle; margin-left: 0.5rem\">type</span>\n",
       "</mark>\n",
       " is the show cave Carlsbad Cavern.', 'Visitors to the cave can hike in on their own via the natural entrance or take an elevator from the visitor center.The park entrance is located on US Highway 62/180, approximately southwest of Carlsbad, New Mexico.', 'The \n",
       "<mark class=\"entity\" style=\"background: #ddd; padding: 0.45em 0.6em; margin: 0 0.25em; line-height: 1; border-radius: 0.35em;\">\n",
       "    park\n",
       "    <span style=\"font-size: 0.8em; font-weight: bold; line-height: 1; border-radius: 0.35em; vertical-align: middle; margin-left: 0.5rem\">type</span>\n",
       "</mark>\n",
       " has two entries on the National Register of Historic Places: The Caverns Historic District and the Rattlesnake Springs Historic District.', 'Approximately two-thirds of the \n",
       "<mark class=\"entity\" style=\"background: #ddd; padding: 0.45em 0.6em; margin: 0 0.25em; line-height: 1; border-radius: 0.35em;\">\n",
       "    park\n",
       "    <span style=\"font-size: 0.8em; font-weight: bold; line-height: 1; border-radius: 0.35em; vertical-align: middle; margin-left: 0.5rem\">type</span>\n",
       "</mark>\n",
       " has been set aside as a wilderness area, helping to ensure no future changes will be made to the habitat.', &quot;The Capital Cities and Tombs of the Ancient Koguryo Kingdom is an UNESCO World Heritage Site which includes a number of archaeological sites currently in Ji'an, Jilin Province and Huanren, Liaoning Province in Northeast China.&quot;, 'Goguryeo (or Koguryo, &quot;Gaogouli&quot; in Chinese), (37 BCE  668 CE) was a Korean Kingdom located in the northern and central parts of the Korean Peninsula and the southern and central parts of Manchuria.The archaeological sites were collectively designated a cultural World Heritage Site in 2004, qualifying as such under the first five of the six criteria for cultural heritage sites.', 'The designation includes the archaeological remains of three fortress-cities: Wun Mountain City, Gungnae and Hwando, and forty identified tombs of Goguryeo imperial and noble families.', 'The \n",
       "<mark class=\"entity\" style=\"background: lightred; padding: 0.45em 0.6em; margin: 0 0.25em; line-height: 1; border-radius: 0.35em;\">\n",
       "    Canal du Midi\n",
       "    <span style=\"font-size: 0.8em; font-weight: bold; line-height: 1; border-radius: 0.35em; vertical-align: middle; margin-left: 0.5rem\">landmark_name</span>\n",
       "</mark>\n",
       " (; ) is a long canal in Southern France ().', 'Originally named the &quot;\n",
       "<mark class=\"entity\" style=\"background: lightred; padding: 0.45em 0.6em; margin: 0 0.25em; line-height: 1; border-radius: 0.35em;\">\n",
       "    Canal Royal en Languedoc\n",
       "    <span style=\"font-size: 0.8em; font-weight: bold; line-height: 1; border-radius: 0.35em; vertical-align: middle; margin-left: 0.5rem\">landmark_name</span>\n",
       "</mark>\n",
       "&quot; (Royal Canal in Languedoc) and renamed by French revolutionaries to &quot;Canal du Midi&quot; in 1789, the canal is considered one of the greatest construction works of the 17th century.The canal connects the Garonne to the tang de Thau on the Mediterranean and, along with the long Canal de Garonne, forms the Canal des Deux Mers, joining the Atlantic to the Mediterranean.', 'Strictly speaking, &quot;Canal du Midi&quot; refers to the portion initially constructed from Toulouse to the Mediterranean  the Deux-Mers canal project aimed to link together several sections of navigable waterways to join the Mediterranean and the Atlantic: first the Canal du Midi, then the Garonne which was more or less navigable between Toulouse and Bordeaux, then the Garonne Lateral Canal built later, and finally the Gironde estuary after Bordeaux.', 'Byblos ( ; ), also known as Jbeil or Jubayl (, ; , , ), is a city in the Keserwan-Jbeil Governorate of Lebanon.', 'It is believed to have been first occupied between 8800 and 7000BC and continuously inhabited since 5000BC, making it one of the oldest continuously inhabited cities in the world.', 'During its history, \n",
       "<mark class=\"entity\" style=\"background: lightred; padding: 0.45em 0.6em; margin: 0 0.25em; line-height: 1; border-radius: 0.35em;\">\n",
       "    Byblos\n",
       "    <span style=\"font-size: 0.8em; font-weight: bold; line-height: 1; border-radius: 0.35em; vertical-align: middle; margin-left: 0.5rem\">landmark_name</span>\n",
       "</mark>\n",
       " was part of numerous civilizations, including Egyptian, Phoenician, Assyrian, Persian, Hellenistic, Roman, Fatimid, Genoese, Mamluk and Ottoman.', 'The \n",
       "<mark class=\"entity\" style=\"background: #ddd; padding: 0.45em 0.6em; margin: 0 0.25em; line-height: 1; border-radius: 0.35em;\">\n",
       "    city\n",
       "    <span style=\"font-size: 0.8em; font-weight: bold; line-height: 1; border-radius: 0.35em; vertical-align: middle; margin-left: 0.5rem\">type</span>\n",
       "</mark>\n",
       " is a UNESCO World Heritage Site.', 'Buffalo National Park was created near the town of Wainwright in east central Alberta on .', 'It was closed in and delisted in 1947 when the land was transferred to the Department of National Defence.', 'The park land was developed for use by Canadian Forces Base Wainwright and comprises the majority of its space.', 'The first Park Warden was Bud Cotton, who served from 1912 through 1940.Buffalo National Park, with a focus on plains bison (often referred to as buffalo), was one of several national parks created in the Canadian Prairies expressly to protect and regenerate dangerously low populations of bison and pronghorns.', &quot;Other 'regeneration' parks, which were considered to have achieved their goals by the 1940s, were also delisted in 1947, including \n",
       "<mark class=\"entity\" style=\"background: lightred; padding: 0.45em 0.6em; margin: 0 0.25em; line-height: 1; border-radius: 0.35em;\">\n",
       "    Wawaskesy National Park\n",
       "    <span style=\"font-size: 0.8em; font-weight: bold; line-height: 1; border-radius: 0.35em; vertical-align: middle; margin-left: 0.5rem\">landmark_name</span>\n",
       "</mark>\n",
       ", Nemiskam National Park (both in Alberta), and Menissawok National Park in Saskatchewan.&quot;, 'Bryggen (&quot;the dock&quot;), also known as Tyskebryggen (, &quot;the German dock&quot;), is a series of Hanseatic heritage commercial buildings lining up the eastern side of the Vgen harbour in the city of Bergen, Norway.', '\n",
       "<mark class=\"entity\" style=\"background: lightred; padding: 0.45em 0.6em; margin: 0 0.25em; line-height: 1; border-radius: 0.35em;\">\n",
       "    Bryggen\n",
       "    <span style=\"font-size: 0.8em; font-weight: bold; line-height: 1; border-radius: 0.35em; vertical-align: middle; margin-left: 0.5rem\">landmark_name</span>\n",
       "</mark>\n",
       " has been on the UNESCO list for World Cultural Heritage sites since 1979.The city of Bergen was founded around 1070 within the boundaries of Tyskebryggen.', 'Around 1350 a &quot;Kontor&quot; of the Hanseatic League was established there, and Tyskebryggen became the centre of the Hanseatic commercial activities in Norway.', 'Today, \n",
       "<mark class=\"entity\" style=\"background: lightred; padding: 0.45em 0.6em; margin: 0 0.25em; line-height: 1; border-radius: 0.35em;\">\n",
       "    Bryggen\n",
       "    <span style=\"font-size: 0.8em; font-weight: bold; line-height: 1; border-radius: 0.35em; vertical-align: middle; margin-left: 0.5rem\">landmark_name</span>\n",
       "</mark>\n",
       " houses museums, shops, restaurants and pubs.', 'Brimstone Hill Fortress National Park is a UNESCO World Heritage Site, a well-preserved fortress on a hill on the island of St. Kitts in the Federation of St. Christopher (St. Kitts) and Nevis in the Eastern Caribbean.', 'It was designed by British military engineers, and was built and maintained by enslaved Africans.', 'It is one of the best preserved historical fortifications in the Americas.The complex of fortifications were constructed on Brimstone Hill, a very steeply sloping hill situated close to the sea on the Western, Caribbean coast of St. Kitts.', 'The Boyana Church (, &quot;Boyanska tsrkva&quot;) is a medieval Bulgarian Orthodox church situated on the outskirts of Sofia, the capital of Bulgaria, in the Boyana quarter.', 'In 1979, the building was added to the UNESCO World Heritage List.The east wing of the two-story church was originally constructed in the late 10th or early 11th century, then the central wing was added in the 13th century under the Second Bulgarian Empire, the whole building being finished with a further expansion to the west in the middle of the 19th century.', 'A total of \n",
       "<mark class=\"entity\" style=\"background: #ddd; padding: 0.45em 0.6em; margin: 0 0.25em; line-height: 1; border-radius: 0.35em;\">\n",
       "    89\n",
       "    <span style=\"font-size: 0.8em; font-weight: bold; line-height: 1; border-radius: 0.35em; vertical-align: middle; margin-left: 0.5rem\">number</span>\n",
       "</mark>\n",
       " scenes with 240 human images are depicted on the walls of the church.', 'Bourges Cathedral (French: &quot;Cathdrale Saint-tienne de Bourges&quot;) is a Roman Catholic church located in Bourges, France.', 'The \n",
       "<mark class=\"entity\" style=\"background: #ddd; padding: 0.45em 0.6em; margin: 0 0.25em; line-height: 1; border-radius: 0.35em;\">\n",
       "    cathedral\n",
       "    <span style=\"font-size: 0.8em; font-weight: bold; line-height: 1; border-radius: 0.35em; vertical-align: middle; margin-left: 0.5rem\">type</span>\n",
       "</mark>\n",
       " is dedicated to Saint Stephen and is the seat of the Archbishop of Bourges.', 'Built atop an earlier Romanesque church \n",
       "<mark class=\"entity\" style=\"background: #bfe1d9; padding: 0.45em 0.6em; margin: 0 0.25em; line-height: 1; border-radius: 0.35em;\">\n",
       "    from 1195\n",
       "    <span style=\"font-size: 0.8em; font-weight: bold; line-height: 1; border-radius: 0.35em; vertical-align: middle; margin-left: 0.5rem\">date</span>\n",
       "</mark>\n",
       " until 1230, it is largely in the Classic Gothic architectural style and was constructed at about the same time as Chartres Cathedral.', 'The \n",
       "<mark class=\"entity\" style=\"background: #ddd; padding: 0.45em 0.6em; margin: 0 0.25em; line-height: 1; border-radius: 0.35em;\">\n",
       "    cathedral\n",
       "    <span style=\"font-size: 0.8em; font-weight: bold; line-height: 1; border-radius: 0.35em; vertical-align: middle; margin-left: 0.5rem\">type</span>\n",
       "</mark>\n",
       " is particularly known for the great size and unity of its interior, the sculptural decoration of its portals, and the large collection of 13th century stained glass windows.', 'Owing to its quintessential Gothic architecture, the cathedral was declared a UNESCO World Heritage Site in 1992.', 'Biaowiea Forest is a forest on the border between Belarus and Poland.', 'It is one of the last and largest remaining parts of the immense primeval forest that once stretched across the European Plain.', &quot;The forest is home to 800 European bison, Europe's heaviest land animal.&quot;, &quot;UNESCO's Man and the Biosphere Programme designated the Polish Biosphere Reserve ' in 1976 and the Belarusian Biosphere Reserve ' in 1993.In 2015, the Belarusian Biosphere Reserve occupied the area of , subdivided into transition, buffer and core zones.&quot;, 'The \n",
       "<mark class=\"entity\" style=\"background: #ddd; padding: 0.45em 0.6em; margin: 0 0.25em; line-height: 1; border-radius: 0.35em;\">\n",
       "    forest\n",
       "    <span style=\"font-size: 0.8em; font-weight: bold; line-height: 1; border-radius: 0.35em; vertical-align: middle; margin-left: 0.5rem\">type</span>\n",
       "</mark>\n",
       " has been designated a UNESCO World Heritage Site and an EU Natura 2000 Special Area of Conservation.', 'The World Heritage Committee by its decision of June 2014 approved the extension of the UNESCO World Heritage site &quot;Belovezhskaya Pushcha/Biaowiea Forest, Belarus, Poland&quot;, which became &quot;Biaowiea Forest, Belarus, Poland&quot;.', 'It straddles the border between Poland (Podlaskie Voivodeship) and Belarus (Brest and Grodno &quot;&quot;s), and is north of Brest, Belarus and southeast of Biaystok, Poland.', 'The Biaowiea Forest World Heritage site covers a total area of .', 'Berlin Modernism Housing Estates () is a World Heritage Site designated in 2008, comprising six separate subsidized housing estates in Berlin.', 'Dating mainly from the years of the Weimar Republic (19191933), when the city of Berlin was particularly progressive socially, politically and culturally, they are outstanding examples of the building reform movement that contributed to improving housing and living conditions for people with low incomes through innovative approaches to architecture and urban planning.', 'The estates also provide exceptional examples of new urban and architectural typologies, featuring fresh design solutions, as well as technical and aesthetic innovations.', 'Bergpark Wilhelmshhe is a landscape park in Kassel, Germany.', 'The area of the park is , making it the largest European hillside park, and second largest park on a hill slope in the world.', 'Construction of the &quot;Bergpark&quot;, or &quot;mountain park&quot;, began in 1689 at the behest of the Landgraves of Hesse-Kassel and took about 150 years.', 'The \n",
       "<mark class=\"entity\" style=\"background: #ddd; padding: 0.45em 0.6em; margin: 0 0.25em; line-height: 1; border-radius: 0.35em;\">\n",
       "    park\n",
       "    <span style=\"font-size: 0.8em; font-weight: bold; line-height: 1; border-radius: 0.35em; vertical-align: middle; margin-left: 0.5rem\">type</span>\n",
       "</mark>\n",
       " is open to the public today.', 'Since 2013, it has been a UNESCO World Heritage Site because of its monumental Baroque architecture and its unique fountains and water features.', &quot;The \n",
       "<mark class=\"entity\" style=\"background: lightred; padding: 0.45em 0.6em; margin: 0 0.25em; line-height: 1; border-radius: 0.35em;\">\n",
       "    Banc d'Arguin National Park\n",
       "    <span style=\"font-size: 0.8em; font-weight: bold; line-height: 1; border-radius: 0.35em; vertical-align: middle; margin-left: 0.5rem\">landmark_name</span>\n",
       "</mark>\n",
       " (, ) of Bay of Arguin lies in Western Africa on the west coast of Mauritania between Nouakchott and Nouadhibou and is the former mouth of the Tamanrasset River.&quot;, 'The World Heritage Site is a major site for migratory birds and breeding birds, including flamingos, pelicans and terns.', 'Much of the breeding is on sand banks including the islands of Tidra, Niroumi, Nair, Kijji and Arguim.', 'The surrounding waters are some of the richest fishing waters in western Africa and serve as nesting grounds for the entire western region.', &quot;Bahla Fort () is one of four historic fortresses situated at the foot of the Jebel Akhdar highlands in Oman and the country's only UNESCO-listed fort added in 1987.The fort underwent massive restoration efforts and reopened in 2012.&quot;, 'However, the complex lacks in visitor information.', 'There are no exhibits or brochures available to learn more about this large space or guides at hand to provide further details, so people either need to go on a tour or explore on their own.History of Bahla Fort.The fort is believed to have been built between the 12th and 15th century by the Banu Nebhan tribe who inhabited the area at the time and were known for controlling the trade of frankincense at the time.', 'Bagan (, ; formerly Pagan) is an ancient city and a UNESCO World Heritage Site in the Mandalay Region of Myanmar.', 'From the 9th to 13th centuries, the city was the capital of the Bagan Kingdom, the first kingdom that unified the regions that would later constitute Myanmar.', &quot;During the kingdom's height between the 11th and 13th centuries, more than 10,000 Buddhist temples, pagodas and monasteries were constructed in the Bagan plains alone, of which the remains of over 2200 temples and pagodas survive.&quot;, &quot;Baalbek (; ; Syriac-Aramaic: ) is a city located east of the Litani River in Lebanon's Beqaa Valley, about northeast of Beirut.&quot;, 'It is the capital of Baalbek-Hermel Governorate.', 'In Greek and Roman times, Baalbek was also known as Heliopolis (, Greek for &quot;Sun City&quot;).', 'In 1998, Baalbek had a population of 82,608, mostly Shia Muslims, followed by Sunni Muslims and Christians.It is home to the Baalbek temple complex which includes two of the largest and grandest Roman temple ruins: the Temple of Bacchus and the Temple of Jupiter.', 'It was inscribed in 1984 as an UNESCO World Heritage site.', 'Antigua Guatemala (), commonly known as Antigua or La Antigua, is a city in the central highlands of Guatemala.', 'The \n",
       "<mark class=\"entity\" style=\"background: #ddd; padding: 0.45em 0.6em; margin: 0 0.25em; line-height: 1; border-radius: 0.35em;\">\n",
       "    city\n",
       "    <span style=\"font-size: 0.8em; font-weight: bold; line-height: 1; border-radius: 0.35em; vertical-align: middle; margin-left: 0.5rem\">type</span>\n",
       "</mark>\n",
       " was the capital of the Captaincy General of Guatemala from 1543 through 1773, with much of its Baroque-influenced architecture and layout dating from that period.', 'These characteristics had it designated as a UNESCO World Heritage Site in 1979.', 'Antigua Guatemala serves as the capital of the homonymous municipality and the Sacatepquez Department.Population.The city had a peak population of some 65,000 in the 1770s; the bulk of the population moved away in the late 18th century.', 'Despite significant population growth in the late 20th century, the city had only reached half that number by the 1990s.', 'At the time of the 2007 census, the city had \n",
       "<mark class=\"entity\" style=\"background: #ddd; padding: 0.45em 0.6em; margin: 0 0.25em; line-height: 1; border-radius: 0.35em;\">\n",
       "    34,685\n",
       "    <span style=\"font-size: 0.8em; font-weight: bold; line-height: 1; border-radius: 0.35em; vertical-align: middle; margin-left: 0.5rem\">number</span>\n",
       "</mark>\n",
       " inhabitants.', 'The Immigration Depot (, ISO: &quot;pravs Ghta&quot;) is a building complex located in Port Louis on the Indian Ocean island of Mauritius, the first British colony to receive indentured, or contracted, labour workforce from many countries.', 'From 1849 to 1923, half a million Indian indentured labourers passed through the Immigration Depot, to be transported to plantations throughout the British Empire.', 'The large-scale migration of the labourers left an indelible mark on the societies of many former British colonies, with Indians constituting a substantial proportion of their national populations.', 'In Mauritius alone, 68 percent of the current total population is of Indian ancestry.', 'The Immigration Depot has thus become an important reference point in the history and cultural identity of Mauritius.', 'Santa Mara de Regla de Len Cathedral is a Catholic church, the episcopal see of the diocese of Len in north-western Spain, consecrated under the name of the Virgin Mary.', 'It was the first monument declared by the Royal Order of Spain on August 28, 1844 (confirmed by the Royal Order on September 24, 1845).Initiated in the 13th century, it is one of the greatest works of the Gothic style, with French influences.', 'Also known as the &quot;Pulchra Leonina&quot;, which means \\'Beautiful Leonese\\', it is located on the Way of Saint James, or &quot;Camino de Santiago&quot;.', 'Jodrell Bank Observatory ( ) in Cheshire, England, hosts a number of radio telescopes as part of the Jodrell Bank Centre for Astrophysics at the University of Manchester.', 'The observatory was established in 1945 by Bernard Lovell, a radio astronomer at the university, to investigate cosmic rays after his work on radar in the Second World War.', 'It has since played an important role in the research of meteoroids, quasars, pulsars, masers and gravitational lenses, and was heavily involved with the tracking of space probes at the start of the Space Age.', 'The Jesuit Block and Estancias of Crdoba () are a former Jesuit reduction built by missionaries in the province of Crdoba, Argentina, named a World Heritage Site in 2000.The &quot;Manzana Jesutica&quot; contains the University of Crdoba, one of the oldest in South America, the Monserrat Secondary School, a church, and residence buildings.', 'To maintain such a project, the Jesuits operated six &quot;Estancias&quot; (residences) around the province of Crdoba, named Caroya, Jess Mara, Santa Catalina, Alta Gracia, Candelaria, and San Ignacio.', 'Hwaseong Fortress or Suwon Hwaseong is a fortification surrounding the centre of Suwon, the provincial capital of Gyeonggi-do, in South Korea.', 'It was built from 1794 to 1796 by King Jeongjo of the Joseon dynasty to house and honour the remains of his father, Prince Sado.', 'Sado had been executed by being locked alive inside a rice chest by his own father King Yeongjo after failing to obey a command to commit suicide.', &quot;Located south of Seoul and enclosing much of central Suwon, the fortress includes King Jeongjo's palace Haenggung.&quot;, 'The fortress and enclosed palace were designated as a World Heritage site by UNESCO in 1997.', &quot;It comprises among many other features the palace, a perimeter wall, four main gates, and two sluicegates over the Suwoncheon, Suwon's main stream, which flows through the centre of the fortress.&quot;, 'Historic Centre of Guimares is an urban space of the city of Guimares, in Portugal, tracing back to medieval age covering an area of 16 hectares and retaining many buildings from the medieval age until 19th century.', 'Since 2001, it is declared as a World Heritage Site of UNESCO.Guimares is closely linked to the formation of national identity and of Portuguese language in 12th century.', 'It is the native city of Afonso Henriques, the first king of Portugal, who in 1139, declared independence of the country.', 'The historic centre of Florence is part of quartiere 1 of the Italian city of Florence.', 'This quarter was named a World Heritage Site by UNESCO in 1982.Built on the site of an Etruscan settlement, Florence, the symbol of the Renaissance, rose to economic and cultural pre-eminence under the Medici in the 15th and 16th centuries.', 'Its 600 years of extraordinary artistic activity can be seen above all in the 13th-century cathedral (Santa Maria del Fiore), the Church of Santa Croce, the Uffizi and the Pitti Palace, the work of great masters such as Giotto, Filippo Brunelleschi, Sandro Botticelli and Michelangelo.', 'Hidden Christian Sites in the Nagasaki Region () is a group of twelve sites in Nagasaki Prefecture and Kumamoto Prefecture relating to the history of Christianity in Japan.', 'The Nagasaki churches are unique in the sense that each tells a story about the revival of Christianity after a long period of official suppression.Proposed jointly in 2007 for inscription on the UNESCO World Heritage List under criteria ii, iii, iv, v, and vi, the submission named at the time Churches and Christian Sites in Nagasaki on the Tentative List, was recognized on January 30, 2018, as a World Heritage Site.', 'Great Smoky Mountains National Park is an American national park in the southeastern United States, with parts in North Carolina and Tennessee.', 'The \n",
       "<mark class=\"entity\" style=\"background: #ddd; padding: 0.45em 0.6em; margin: 0 0.25em; line-height: 1; border-radius: 0.35em;\">\n",
       "    park\n",
       "    <span style=\"font-size: 0.8em; font-weight: bold; line-height: 1; border-radius: 0.35em; vertical-align: middle; margin-left: 0.5rem\">type</span>\n",
       "</mark>\n",
       " straddles the ridgeline of the Great Smoky Mountains, part of the Blue Ridge Mountains, which are a division of the larger Appalachian Mountain chain.', 'The \n",
       "<mark class=\"entity\" style=\"background: #ddd; padding: 0.45em 0.6em; margin: 0 0.25em; line-height: 1; border-radius: 0.35em;\">\n",
       "    park\n",
       "    <span style=\"font-size: 0.8em; font-weight: bold; line-height: 1; border-radius: 0.35em; vertical-align: middle; margin-left: 0.5rem\">type</span>\n",
       "</mark>\n",
       " contains some of the highest mountains in eastern North America, including Clingmans Dome, Mount Guyot, and Mount Le Conte.', 'The border between the two states runs northeast to southwest through the center of the park.', 'The Appalachian Trail passes through the center of the park on its route from Georgia to Maine.', 'With 14.1 million visitors in 2021, the Great Smoky Mountains National Park is the most visited national park in the United States.', 'The Great Living Chola Temples is a UNESCO World Heritage Site designation for a group of Chola dynasty era Hindu temples in the Indian state of Tamil Nadu.', 'Completed between early 11th and the 12th century CE, the monuments include:World Heritage Site recognition.The Temple Complex at Thanjavur was recognised in 1987.', 'The Temple Complex at Gangaikonda Cholapuram and the Airavatesvara Temple Complex were added as extensions to the site in 2004.', 'Fatehpur Sikri () is a town in the Agra District of Uttar Pradesh, India.', 'Situated from the district headquarters of Agra, Fatehpur Sikri itself was founded as the capital of the Mughal Empire in 1571 by Emperor Akbar, serving this role from 1571 to 1585, when Akbar abandoned it due to a campaign in Punjab and was later completely abandoned in 1610.The name of the city is derived from the village called &quot;Sikri&quot; which previously occupied the location.', 'An Archaeological Survey of India (ASI) excavation from 1999 to 2000 indicated that there was housing, temples and commercial centres here before Akbar built his capital.', 'The region was settled by \n",
       "<mark class=\"entity\" style=\"background: lightred; padding: 0.45em 0.6em; margin: 0 0.25em; line-height: 1; border-radius: 0.35em;\">\n",
       "    Sungas\n",
       "    <span style=\"font-size: 0.8em; font-weight: bold; line-height: 1; border-radius: 0.35em; vertical-align: middle; margin-left: 0.5rem\">landmark_name</span>\n",
       "</mark>\n",
       " following their expansion.', 'It was controlled by \n",
       "<mark class=\"entity\" style=\"background: lightred; padding: 0.45em 0.6em; margin: 0 0.25em; line-height: 1; border-radius: 0.35em;\">\n",
       "    Sakarwar Rajputs\n",
       "    <span style=\"font-size: 0.8em; font-weight: bold; line-height: 1; border-radius: 0.35em; vertical-align: middle; margin-left: 0.5rem\">landmark_name</span>\n",
       "</mark>\n",
       " from the 7th to 16th century CE until the Battle of Khanwa (1527).', 'Los Katos National Natural Park () is a protected area located in northwest Colombia which covers about .', 'It is a part of the Darin Gap, a densely forested area shared by Panama and Colombia, and is contiguous with the Darin National Park in Panama.', 'The Pan-American Highway, when completed as proposed, would pass near or through Los Katos.', 'The \n",
       "<mark class=\"entity\" style=\"background: #ddd; padding: 0.45em 0.6em; margin: 0 0.25em; line-height: 1; border-radius: 0.35em;\">\n",
       "    park\n",
       "    <span style=\"font-size: 0.8em; font-weight: bold; line-height: 1; border-radius: 0.35em; vertical-align: middle; margin-left: 0.5rem\">type</span>\n",
       "</mark>\n",
       " was declared a UNESCO World Heritage Site in 1994 due to the extraordinary diversity of plant and animal species represented.', 'The Roman Monuments, Cathedral of St. Peter and Church of Our Lady in Trier are buildings and monuments of particular historical importance in Trier, Germany, that were together listed as a UNESCO World Heritage Site in 1986.', 'These sites demonstrate the political, economic, and historical importance of Trier during the Roman Empire as one of the four capital during the Tetrarchy period, and as a prominent city during the early days of the Holy Roman Empire in the Middle Ages.', 'The rock drawings in Valcamonica (Camonica Valley) are located in the Province of Brescia, Italy, and constitute the largest collections of prehistoric petroglyphs in the world.', &quot;The \n",
       "<mark class=\"entity\" style=\"background: #ddd; padding: 0.45em 0.6em; margin: 0 0.25em; line-height: 1; border-radius: 0.35em;\">\n",
       "    collection\n",
       "    <span style=\"font-size: 0.8em; font-weight: bold; line-height: 1; border-radius: 0.35em; vertical-align: middle; margin-left: 0.5rem\">type</span>\n",
       "</mark>\n",
       " was recognized by UNESCO in 1979 and was Italy's first recognized World Heritage Site.&quot;, 'UNESCO has formally recognized more than 140,000 figures and symbols, but new discoveries have increased the number of catalogued incisions to between 200,000 and 300,000.', 'The petroglyphs are spread on all surfaces of the valley, but concentrated in the areas of Darfo Boario Terme, Capo di Ponte, Nadro, Cimbergo and Paspardo.', 'Robben Island () is an island in Table Bay, 6.9 kilometres (4.3mi) west of the coast of Bloubergstrand, north of Cape Town, South Africa.', 'It takes its name from the Dutch word for seals (&quot;robben&quot;), hence the Dutch/Afrikaans name &quot;Robbeneiland&quot;, which translates to &quot;Seal(s) Island&quot;.Robben Island is roughly oval in shape, long northsouth, and wide, with an area of .', 'It is flat and only a few metres above sea level, as a result of an ancient erosion event.', 'It was fortified and used as a prison from the late-seventeenth century until 1996, after the end of apartheid.', 'The Quebrada de Humahuaca is a narrow mountain valley located in the province of Jujuy in northwest Argentina, north of Buenos Aires ().', 'It is about long, oriented northsouth, bordered by the Altiplano in the west and north, by the Sub-Andean hills in the east, and by the warm valleys (&quot;Valles Templados&quot;) in the south.The name &quot;quebrada&quot; (literally &quot;broken&quot;) translates as a deep valley or ravine.', 'It receives its name from \n",
       "<mark class=\"entity\" style=\"background: lightyellow; padding: 0.45em 0.6em; margin: 0 0.25em; line-height: 1; border-radius: 0.35em;\">\n",
       "    Humahuaca\n",
       "    <span style=\"font-size: 0.8em; font-weight: bold; line-height: 1; border-radius: 0.35em; vertical-align: middle; margin-left: 0.5rem\">location</span>\n",
       "</mark>\n",
       ", a small city of 11,000 inhabitants.', 'The Grande River (&quot;Ro Grande&quot;), which is dry in winter, flows copiously through the Quebrada in the summer.', 'Paphos ( ; ; ) is a coastal city in southwest Cyprus and the capital of Paphos District.', 'In classical antiquity, two locations were called Paphos: Old Paphos, today known as Kouklia, and New Paphos.The current city of Paphos lies on the Mediterranean coast, about west of Limassol (the biggest port on the island), both of which are connected by the A6 highway.', &quot;Paphos International Airport is the country's second-largest airport.&quot;, 'The \n",
       "<mark class=\"entity\" style=\"background: #ddd; padding: 0.45em 0.6em; margin: 0 0.25em; line-height: 1; border-radius: 0.35em;\">\n",
       "    city\n",
       "    <span style=\"font-size: 0.8em; font-weight: bold; line-height: 1; border-radius: 0.35em; vertical-align: middle; margin-left: 0.5rem\">type</span>\n",
       "</mark>\n",
       " has a subtropical-Mediterranean climate, with the mildest temperatures on the island.', 'The Old Towns of Djenn (, ) is an archaeological and urban ensemble located in the city of Djenn, in Mali.', 'It comprises \n",
       "<mark class=\"entity\" style=\"background: #ddd; padding: 0.45em 0.6em; margin: 0 0.25em; line-height: 1; border-radius: 0.35em;\">\n",
       "    four\n",
       "    <span style=\"font-size: 0.8em; font-weight: bold; line-height: 1; border-radius: 0.35em; vertical-align: middle; margin-left: 0.5rem\">number</span>\n",
       "</mark>\n",
       " archaeological sites, namely Djenn-Djeno, Hambarktolo, Kaniana and Tonomba.', 'In 1988, it was inscribed by the UNESCO on the World Heritage list.History.Inhabited since 250 B.C., Djenn became a market centre and an important link in the trans-Saharan gold trade.', 'In the 15th and 16th centuries, it was one of the centres for the propagation of Islam.', 'Its traditional houses, of which nearly 2,000 have survived, are built on hillocks (&quot;toguere&quot;) as protection from the seasonal floods.', 'The \n",
       "<mark class=\"entity\" style=\"background: lightred; padding: 0.45em 0.6em; margin: 0 0.25em; line-height: 1; border-radius: 0.35em;\">\n",
       "    Nord-Pas-de-Calais Mining Basin\n",
       "    <span style=\"font-size: 0.8em; font-weight: bold; line-height: 1; border-radius: 0.35em; vertical-align: middle; margin-left: 0.5rem\">landmark_name</span>\n",
       "</mark>\n",
       " is a mining basin in Northern France that stretches across the Nord and Pas-de-Calais departments.', 'The region is famous for its long history of coal extraction and its testimony to a significant period in the history of industrialisation in Europe, and as a result it was inscribed on the UNESCO World Heritage List in 2012.', 'This area has been shaped by three centuries of coal extraction from the late 17th century through the 20th century, and demonstrates the evolution of coal mining techniques and worker conditions during that time.', 'The Niokolo-Koba National Park (, PNNK) is a World Heritage Site and natural protected area in south eastern Senegal near the Guinea border.', 'It is served by Niokolo-Koba Airport, an unpaved airstrip.National Park.Established as a reserve in 1925, Niokolo-Koba was declared a Senegalese national park on 1 January 1954.', 'Expanded in 1969, it was inscribed as a World Heritage Site in 1981 as a UNESCO-MAB Biosphere Reserve.', 'In 2007 it was added to the UNESCO List of Endangered World Heritage sites.Since 2005, the protected area is considered a Lion Conservation Unit.', &quot;Nelson's Dockyard is a cultural heritage site and marina in English Harbour, located in Saint Paul Parish on the island of Antigua, in Antigua and Barbuda.It is part of Nelson's Dockyard National Park, which also contains Clarence House and Shirley Heights, and is a UNESCO World Heritage Site.It is named after Admiral Horatio Nelson, who lived in the Royal Navy Dockyard from 1784 through 1787.Nelson's Dockyard is also home to some of Antigua's sailing and yachting events such as Antigua Sailing Week and the Antigua Charter Yacht Meeting, as well as the 2015 and 2016 International Optimist North American Championships.&quot;, 'Naumburg Cathedral (, ), located in Naumburg, Germany, is the former cathedral of the Bishopric of Naumburg-Zeitz.', 'The church building, most of which dates back to the 13th century, is a renowned landmark of the German late Romanesque and was recognised as a UNESCO World Heritage Site in 2018.', 'The west choir with the famous donor portrait statues of the twelve cathedral founders (&quot;Stifterfiguren&quot;) and the &quot;Lettner&quot;, works of the Naumburg Master, is one of the most significant early Gothic monuments.', &quot;Mount Kenya National Park was established in 1949 to protect Mount Kenya, the wildlife, and the surrounding environment, which forms a habitat for wild animals, as well as acting as an area for the catchment of water, to supply Kenya's water.History.Initially, it was a forest reserve, before being announced as a national park.&quot;, 'Currently, the national park is encircled by the forest reserve.', 'Combined, the national park and forest reserve became a UNESCO World Heritage Site in 1997.', 'Morne Trois Pitons National Park is a national park in Dominica established in July 1975, the first to be legally established in the country.', 'It became a World Heritage Site in 1997.', 'The \n",
       "<mark class=\"entity\" style=\"background: #ddd; padding: 0.45em 0.6em; margin: 0 0.25em; line-height: 1; border-radius: 0.35em;\">\n",
       "    park\n",
       "    <span style=\"font-size: 0.8em; font-weight: bold; line-height: 1; border-radius: 0.35em; vertical-align: middle; margin-left: 0.5rem\">type</span>\n",
       "</mark>\n",
       " is named after its highest mountain, Morne Trois Pitons, meaning mountain of three peaks.', 'The \n",
       "<mark class=\"entity\" style=\"background: #ddd; padding: 0.45em 0.6em; margin: 0 0.25em; line-height: 1; border-radius: 0.35em;\">\n",
       "    park\n",
       "    <span style=\"font-size: 0.8em; font-weight: bold; line-height: 1; border-radius: 0.35em; vertical-align: middle; margin-left: 0.5rem\">type</span>\n",
       "</mark>\n",
       " is an area of significant volcanic activity.', 'Features within the park include the Valley of Desolation, a region of boiling mud ponds and small geysers; the Boiling Lake; Titou Gorge; and Emerald Pool.', 'The mountain is the second-highest peak in Dominica, being exceeded only by Morne Diablotins ().', 'Masada ( \\', &quot;fortress&quot;) is an ancient fortification in the Southern District of Israel situated on top of an isolated rock plateau, akin to a mesa.', 'It is located on the eastern edge of the Judaean Desert, overlooking the Dead Sea east of Arad.Herod the Great built two palaces for himself on the mountain and fortified Masada between 37 and 31 BCE.According to Josephus, the siege of Masada by Roman troops from 73 to 74 CE, at the end of the First JewishRoman War, ended in the mass suicide of the 960 Sicarii rebels who were hiding there.', 'However, the archaeological evidence relevant to a mass suicide event is ambiguous at best and rejected entirely by some scholars.', 'Man National Park () is a national park and biosphere reserve located in the regions of Madre de Dios and Cusco in Peru.', 'It protects a diverse number of ecosystems including lowland rainforests, cloud forests and Andean grasslands.History.Man National Park was established by decree on 29 May 1973; during the dictatorship of General Juan Velasco.', 'In 1977, UNESCO recognised it as a Biosphere Reserve and in 1987, as a World Heritage Site.', 'In 2002, the Peruvian government increased the extension of the park to its current area.', 'Mammoth Cave National Park is a national park in south-central Kentucky, encompassing portions of Mammoth Cave, the longest cave system known in the world.', &quot;The \n",
       "<mark class=\"entity\" style=\"background: #ddd; padding: 0.45em 0.6em; margin: 0 0.25em; line-height: 1; border-radius: 0.35em;\">\n",
       "    park\n",
       "    <span style=\"font-size: 0.8em; font-weight: bold; line-height: 1; border-radius: 0.35em; vertical-align: middle; margin-left: 0.5rem\">type</span>\n",
       "</mark>\n",
       "'s are located primarily in Edmonson County, with small areas extending eastward into Hart and Barren counties.&quot;, 'The Green River runs through the park, with a tributary called the Nolin River feeding into the Green just inside the park.The cave system has formally been known as the MammothFlint Ridge Cave System since 1972, when a connection was discovered between Mammoth Cave and the even-longer system under Flint Ridge to the north.', &quot;As of 2022, more than of passageways had been surveyed, over 1.5 times longer than the second-longest cave system, Mexico's Sac Actun underwater cave.&quot;, 'The \n",
       "<mark class=\"entity\" style=\"background: lightred; padding: 0.45em 0.6em; margin: 0 0.25em; line-height: 1; border-radius: 0.35em;\">\n",
       "    Maloti-Drakensberg Park\n",
       "    <span style=\"font-size: 0.8em; font-weight: bold; line-height: 1; border-radius: 0.35em; vertical-align: middle; margin-left: 0.5rem\">landmark_name</span>\n",
       "</mark>\n",
       " is a World Heritage Site, established on 11 June 2001 by linking the Sehlabathebe National Park in the Kingdom of Lesotho and the uKhahlamba Drakensberg Park in KwaZulu-Natal, South Africa.', 'The highest peak is Thaba Ntlenyana rising to 3.482 m.The merged park includes Golden Gate Highlands National Park, QwaQwa National Park and Sterkfontein Dam Nature Reserve, (Free State); uKhahlamba Drakensberg Park and Royal Natal National Park (KwaZulu-Natal) and Sehlabathebe National Park (Lesotho).', 'The Madriu-Perafita-Claror Valley () is a glacial valley in the southeast of Andorra.', 'It covers an area of 42.47km, approximately 9% of the total area of Andorra, and is part of the second largest watershed basin in Andorra.', 'The isolated valley is recognised as a haven for rare or endangered wildlife, and the undeveloped valley has recently been considered to be the &quot;spiritual heart&quot; of Andorra.', &quot;It became \n",
       "<mark class=\"entity\" style=\"background: lightyellow; padding: 0.45em 0.6em; margin: 0 0.25em; line-height: 1; border-radius: 0.35em;\">\n",
       "    Andorra\n",
       "    <span style=\"font-size: 0.8em; font-weight: bold; line-height: 1; border-radius: 0.35em; vertical-align: middle; margin-left: 0.5rem\">location</span>\n",
       "</mark>\n",
       "'s first, and to date its only, UNESCO World Heritage Site in 2004, with a small extension in 2006.&quot;, 'Sangha Trinational () is a forest divided between the nations of Central African Republic, Cameroon and Congo-Brazzaville.', 'It was added as a UNESCO World Heritage Site in 2012 because of its outstanding biodiversity and unique biological communities.', 'The site includes 3 contiguous national parks within the humid tropical forests of Central Africa: Nouabal-Ndoki National Park in Congo, Lobk National Park in Cameroon, and Dzanga-Ndoki National Park in Central African Republic.', 'The large size of the site and the relatively limited amount of deforestation within the three parks has allowed populations of vulnerable species such as African forest elephants, gorillas, sitatunga, and chimpanzees to thrive.', &quot;In addition, populations of critically endangered plant species such as Mukulungu are protected within the site's borders.&quot;, '\n",
       "<mark class=\"entity\" style=\"background: lightred; padding: 0.45em 0.6em; margin: 0 0.25em; line-height: 1; border-radius: 0.35em;\">\n",
       "    Sangay National Park\n",
       "    <span style=\"font-size: 0.8em; font-weight: bold; line-height: 1; border-radius: 0.35em; vertical-align: middle; margin-left: 0.5rem\">landmark_name</span>\n",
       "</mark>\n",
       " () is a national park located in the Morona-Santiago, Chimborazo, Tungurahua, Caar, and Azuay provinces of Ecuador.', 'The \n",
       "<mark class=\"entity\" style=\"background: #ddd; padding: 0.45em 0.6em; margin: 0 0.25em; line-height: 1; border-radius: 0.35em;\">\n",
       "    park\n",
       "    <span style=\"font-size: 0.8em; font-weight: bold; line-height: 1; border-radius: 0.35em; vertical-align: middle; margin-left: 0.5rem\">type</span>\n",
       "</mark>\n",
       " contains two active volcanoes (Tungurahua and Sangay), one extinct volcano El Altar (Kapak Urku).', 'Protecting a range of elevations from above sea level, \n",
       "<mark class=\"entity\" style=\"background: lightred; padding: 0.45em 0.6em; margin: 0 0.25em; line-height: 1; border-radius: 0.35em;\">\n",
       "    Sangay National Park\n",
       "    <span style=\"font-size: 0.8em; font-weight: bold; line-height: 1; border-radius: 0.35em; vertical-align: middle; margin-left: 0.5rem\">landmark_name</span>\n",
       "</mark>\n",
       " contains a wide variety of habitats, including glaciers, volcanic landscapes, tropical rainforests, cloud forests, wetlands, grasslands, and one of the largest regions of pramo (high elevation moorlands) in Ecuador.', '327 lakes feed into a vast wetland system covering .', &quot;Sanahin Monastery () is an Armenian monastery founded in the 10th century in Sanahin in the Lori Province of Armenia.The name Sanahin literally translates from Armenian as 'this one is older than that one', presumably representing a claim to being an older monastery than the neighbouring Haghpat Monastery, together with which it forms a UNESCO World Heritage Site.&quot;, 'The two villages and their monasteries are similar in many ways, and lie in plain view of each other on a dissected plateau formation, separated by a deep crack formed by a small river flowing into the Debed river.', 'The \n",
       "<mark class=\"entity\" style=\"background: lightred; padding: 0.45em 0.6em; margin: 0 0.25em; line-height: 1; border-radius: 0.35em;\">\n",
       "    Monarch Butterfly Biosphere Reserve\n",
       "    <span style=\"font-size: 0.8em; font-weight: bold; line-height: 1; border-radius: 0.35em; vertical-align: middle; margin-left: 0.5rem\">landmark_name</span>\n",
       "</mark>\n",
       " () is a World Heritage Site containing most of the overwintering sites of the eastern population of the monarch butterfly.', 'The reserve is located in the Trans-Mexican Volcanic Belt pine-oak forests ecoregion on the border of Michoacn and State of Mexico, 100km (62 miles), northwest of Mexico City.', 'Millions of butterflies arrive in the reserve annually.', 'Butterflies only inhabit a fraction of the 56,000 hectares of the reserve from OctoberMarch.', &quot;The biosphere's mission is to protect the butterfly species and its habitat.&quot;, 'Miguasha Provincial Park (French: &quot;Parc national de Miguasha&quot;) is a protected area near Carleton-sur-Mer on the Gasp Peninsula of Quebec in Canada.', 'Created in 1985 by the Government of Quebec, Miguasha was designated a World Heritage Site in 1999 in recognition of its wealth of fossils, which display a crucial time during the evolution of life on Earth.', 'Other names for this site are the Miguasha Fossil Site, the Bay of Escuminac Fossil Site, the Upper Devonian Escuminac Formation, and the Hugh-Miller Cliffs.', &quot;It is also sometimes referred to on fossil specimens as 'Scaumenac Bay' or 'Scaumenac Bay P.Q.'&quot;, 'The Medina of Tunis is the medina quarter of Tunis, the capital of Tunisia.', 'It has been a UNESCO World Heritage Site since 1979.The Medina contains some 700 monuments, including palaces, mosques, mausoleums, madrasas and fountains dating from the Almohad and the Hafsid periods.History.Founded in 698 around the original core of the Zitouna Mosque, the Medina of Tunis developed throughout the Middle Ages.', 'The main axis was between the mosque and the centre of government to the west in the kasbah.', 'To the east this same main road extended to the Bab el Bhar.', 'Expansions to the north and south divided the main Medina into two suburbs north (Bab Souika) and south (Bab El Jazira).', 'Medieval Town of Toru () is the oldest historic district of the city of Toru.', &quot;It is one of Poland's World Heritage Sites (added in 1997).&quot;, 'According to UNESCO, its value lies in its being &quot;a small historic trading city that preserves to a remarkable extent its original street pattern and outstanding early buildings, and which provides an exceptionally complete picture of the medieval way of life&quot;.', 'The Medieval Town has an area of 60 ha and a buffer zone of 300 ha.', 'It is composed of the Toru Old Town, Toru New Town, and the Toru Castle.', 'The Wadden Sea ( ; ; or ; ; ; ) is an intertidal zone in the southeastern part of the North Sea.', 'It lies between the coast of northwestern continental Europe and the range of low-lying Frisian Islands, forming a shallow body of water with tidal flats and wetlands.', 'It has a high biological diversity and is an important area for both breeding and migrating birds.', &quot;In 2009, the Dutch and German parts of the Wadden Sea were inscribed on UNESCO's World Heritage List and the Danish part was added in June 2014.&quot;, 'Urnes Stave Church () is a 12th-century stave church at Ornes, along the Lustrafjorden in the municipality of Luster in Vestland county, Norway.The church sits on the eastern side of the fjord, directly across the fjord from the village of Solvorn and about east of the village of Hafslo.', 'It is among the oldest stave churches in Norway, with parts of the lumber construction dating from the latter half of the 11th century.', 'The \n",
       "<mark class=\"entity\" style=\"background: #ddd; padding: 0.45em 0.6em; margin: 0 0.25em; line-height: 1; border-radius: 0.35em;\">\n",
       "    church\n",
       "    <span style=\"font-size: 0.8em; font-weight: bold; line-height: 1; border-radius: 0.35em; vertical-align: middle; margin-left: 0.5rem\">type</span>\n",
       "</mark>\n",
       " was built in a long church basilica plan inspired by medieval Christian churches, with cylindrical columns and semi-circular arches inside.', &quot;The decoration on capitals of the columns and outside of the church embodies the visual evidence of the Viking culture's transformation, assimilation, and adoption of Christianity.&quot;, 'The north portal of the church is defined as the Urnes style, which contains decorations derived from Norwegian mythology dating back to the 12th century.', &quot;The Tomb of Askia, in Gao, Mali, is believed to be the burial place of Askia Mohammad I, one of the Songhai Empire's most prolific emperors.&quot;, 'It was built at the end of the fifteenth century and is designated as a UNESCO World Heritage Site.UNESCO describes the tomb as a fine example of the monumental mud-building traditions of the West African Sahel.', 'The complex includes the pyramidal tomb, two mosques, a cemetery and an assembly ground.', 'At in height it is the largest pre-colonial architectural monument in \n",
       "<mark class=\"entity\" style=\"background: lightyellow; padding: 0.45em 0.6em; margin: 0 0.25em; line-height: 1; border-radius: 0.35em;\">\n",
       "    Gao\n",
       "    <span style=\"font-size: 0.8em; font-weight: bold; line-height: 1; border-radius: 0.35em; vertical-align: middle; margin-left: 0.5rem\">location</span>\n",
       "</mark>\n",
       ".', 'It is a notable example of the Islamic architectural style that later spread throughout the region.', 'Timgad (, known as Marciana Traiana Thamugadi) was a Roman city in the Aurs Mountains of Algeria.', 'It was founded by the Roman Emperor Trajan around 100 CE.', 'The full name of the city was &quot;\n",
       "<mark class=\"entity\" style=\"background: lightred; padding: 0.45em 0.6em; margin: 0 0.25em; line-height: 1; border-radius: 0.35em;\">\n",
       "    Colonia Marciana Ulpia Traiana Thamugadi\n",
       "    <span style=\"font-size: 0.8em; font-weight: bold; line-height: 1; border-radius: 0.35em; vertical-align: middle; margin-left: 0.5rem\">landmark_name</span>\n",
       "</mark>\n",
       "&quot;.', 'Emperor Trajan named the city in commemoration of his mother Marcia, eldest sister Ulpia Marciana, and father Marcus Ulpius Traianus.Located in modern-day Algeria, about east of the city of Batna, the ruins are noteworthy for representing one of the best extant examples of the grid plan as used in Roman town planning.', 'Timgad was inscribed as a World Heritage Site by UNESCO in 1982.', 'The Thracian Tomb of Kazanlak (, &quot;Kazanlka grobnica&quot;) is a vaulted-brickwork &quot;beehive&quot; (tholos) tomb that is located near the town of Kazanlak in central Bulgaria.The tomb is part of a large royal Thracian necropolis in the Valley of the Thracian Rulers near their ancient capital of Seuthopolis in a region where more than a thousand tombs of royalty and members of the Thracian aristocracy can be found.The monument dates back to the fourth century BC and has been on the UNESCO protected World Heritage Site list since 1979.', &quot;The paintings in this small tomb are Bulgaria's best-preserved artistic masterpieces from the Hellenistic period.&quot;, ' Surtsey (&quot;Surtr\\'s island&quot; in Icelandic, ) is a volcanic island located in the Vestmannaeyjar archipelago off the southern coast of Iceland.', 'At Surtsey is the southernmost point of Iceland.', 'It was formed in a volcanic eruption which began below sea level, and reached the surface on 14 November 1963.', 'The eruption lasted until \n",
       "<mark class=\"entity\" style=\"background: #bfe1d9; padding: 0.45em 0.6em; margin: 0 0.25em; line-height: 1; border-radius: 0.35em;\">\n",
       "    5 June 1967\n",
       "    <span style=\"font-size: 0.8em; font-weight: bold; line-height: 1; border-radius: 0.35em; vertical-align: middle; margin-left: 0.5rem\">date</span>\n",
       "</mark>\n",
       ", when the island reached its maximum size of .', 'Since then, wave erosion has caused the island to steadily diminish in size: , its surface area was .', &quot;The most recent survey (2007) shows the island's maximum elevation at above sea level.&quot;, 'The Statue of Liberty (Liberty Enlightening the World; French: &quot;La Libert clairant le monde&quot;) is a colossal neoclassical sculpture on Liberty Island in New York Harbor in New York City, in the United States.', 'The copper statue, a gift from the people of France, was designed by French sculptor Frdric Auguste Bartholdi and its metal framework was built by Gustave Eiffel.', 'The statue was dedicated on October 28, 1886.The statue is a figure of Libertas, the Roman Goddess of Liberty.', 'The Srebarna Nature Reserve (, transliterated as &quot;Priroden rezervat Srebarna&quot;) is a nature reserve in northeastern Bulgaria (Southern Dobruja), near the village of the same name, west of Silistra and south of the Danube.', 'It comprises \n",
       "<mark class=\"entity\" style=\"background: #ddd; padding: 0.45em 0.6em; margin: 0 0.25em; line-height: 1; border-radius: 0.35em;\">\n",
       "    Lake Srebarna\n",
       "    <span style=\"font-size: 0.8em; font-weight: bold; line-height: 1; border-radius: 0.35em; vertical-align: middle; margin-left: 0.5rem\">component</span>\n",
       "</mark>\n",
       " and its surroundings and is an important wetland located on the Via Pontica, a bird migration route between Europe and Africa.', 'As a result, it provides nesting and migratory habitat for many endangered bird species.The reserve embraces of protected area and a buffer zone of .', &quot;The \n",
       "<mark class=\"entity\" style=\"background: #ddd; padding: 0.45em 0.6em; margin: 0 0.25em; line-height: 1; border-radius: 0.35em;\">\n",
       "    lake\n",
       "    <span style=\"font-size: 0.8em; font-weight: bold; line-height: 1; border-radius: 0.35em; vertical-align: middle; margin-left: 0.5rem\">type</span>\n",
       "</mark>\n",
       "'s depth varies from .&quot;, 'There is a museum constructed, where a collection of stuffed species typical for the reserve is arranged.', 'The \n",
       "<mark class=\"entity\" style=\"background: lightred; padding: 0.45em 0.6em; margin: 0 0.25em; line-height: 1; border-radius: 0.35em;\">\n",
       "    South China Karst\n",
       "    <span style=\"font-size: 0.8em; font-weight: bold; line-height: 1; border-radius: 0.35em; vertical-align: middle; margin-left: 0.5rem\">landmark_name</span>\n",
       "</mark>\n",
       " (), a UNESCO World Heritage Site since June 2007, spans the provinces of Chongqing, Guangxi, Guizhou, and Yunnan.', 'It is noted for its karst features and landscapes as well as rich biodiversity.', 'The site comprises seven clusters Phase I: Libo Karst, Shilin Karst, and Wulong Karst inscribed in 2007, and Phase II: Guilin Karst, Shibing Karst, Jinfoshan Karst, and Huanjiang Karst inscribed in 2014.', 'UNESCO describes the \n",
       "<mark class=\"entity\" style=\"background: lightred; padding: 0.45em 0.6em; margin: 0 0.25em; line-height: 1; border-radius: 0.35em;\">\n",
       "    South China Karst\n",
       "    <span style=\"font-size: 0.8em; font-weight: bold; line-height: 1; border-radius: 0.35em; vertical-align: middle; margin-left: 0.5rem\">landmark_name</span>\n",
       "</mark>\n",
       " as &quot;unrivalled in terms of the diversity of its karst features and landscapes.&quot;', 'The White Monuments of Vladimir and Suzdal in Vladimir Oblast, Russia, have been designated as a UNESCO World Heritage Site.', 'The \n",
       "<mark class=\"entity\" style=\"background: #ddd; padding: 0.45em 0.6em; margin: 0 0.25em; line-height: 1; border-radius: 0.35em;\">\n",
       "    patrimony\n",
       "    <span style=\"font-size: 0.8em; font-weight: bold; line-height: 1; border-radius: 0.35em; vertical-align: middle; margin-left: 0.5rem\">type</span>\n",
       "</mark>\n",
       " embraces eight medieval limestone monuments of Zalesye from the late 12th and early 13th centuries.', 'They include Russian Orthodox churches and a monastery, as well as a castle and gate:', 'W-Arly-Pendjari Complex, also known as the &quot;WAP Complex&quot;, is a transboundary Natural UNESCO World Heritage Site in Benin, Burkina Faso and Niger covering:\\nSince 2005, the protected area is considered a Lion Conservation Unit and a potential lion stronghold.']</div></span>"
      ],
      "text/plain": [
       "<IPython.core.display.HTML object>"
      ]
     },
     "metadata": {},
     "output_type": "display_data"
    },
    {
     "name": "stdout",
     "output_type": "stream",
     "text": [
      "Emas National Park landmark_name\n",
      "park type\n",
      "17 number\n",
      "park type\n",
      "Djoudj National Bird Sanctuary landmark_name\n",
      "400 number\n",
      "Reserve landmark_name\n",
      "park type\n",
      "park type\n",
      "cemeteries type\n",
      "350,000 number\n",
      "Danube Delta landmark_name\n",
      "Kaliningrad Oblast location\n",
      "Russia location\n",
      "Lithuania location\n",
      "city type\n",
      "Como National Park landmark_name\n",
      "Germany location\n",
      "26 July 2021 date\n",
      "churches landmark_name\n",
      "Moldavia location\n",
      "Churches of Chilo landmark_name\n",
      "churches type\n",
      "park type\n",
      "seven number\n",
      "Slovakia location\n",
      "caves type\n",
      "17 number\n",
      "Casbah landmark_name\n",
      "park type\n",
      "park type\n",
      "park type\n",
      "Canal du Midi landmark_name\n",
      "Canal Royal en Languedoc landmark_name\n",
      "Byblos landmark_name\n",
      "city type\n",
      "Wawaskesy National Park landmark_name\n",
      "Bryggen landmark_name\n",
      "Bryggen landmark_name\n",
      "89 number\n",
      "cathedral type\n",
      "from 1195 date\n",
      "cathedral type\n",
      "forest type\n",
      "park type\n",
      "Banc d'Arguin National Park landmark_name\n",
      "city type\n",
      "34,685 number\n",
      "park type\n",
      "park type\n",
      "Sungas landmark_name\n",
      "Sakarwar Rajputs landmark_name\n",
      "park type\n",
      "collection type\n",
      "Humahuaca location\n",
      "city type\n",
      "four number\n",
      "Nord-Pas-de-Calais Mining Basin landmark_name\n",
      "park type\n",
      "park type\n",
      "park type\n",
      "Maloti-Drakensberg Park landmark_name\n",
      "Andorra location\n",
      "Sangay National Park landmark_name\n",
      "park type\n",
      "Sangay National Park landmark_name\n",
      "Monarch Butterfly Biosphere Reserve landmark_name\n",
      "church type\n",
      "Gao location\n",
      "Colonia Marciana Ulpia Traiana Thamugadi landmark_name\n",
      "5 June 1967 date\n",
      "Lake Srebarna component\n",
      "lake type\n",
      "South China Karst landmark_name\n",
      "South China Karst landmark_name\n",
      "patrimony type\n"
     ]
    }
   ],
   "source": [
    "options = {\n",
    "    \"colors\": {\"location\": \"lightyellow\",\n",
    "               \"person_name\": \"lightgreen\",\n",
    "               \"landmark_name\": \"lightred\",\n",
    "               \"condition\": \"lightblue\"}\n",
    "}\n",
    "\n",
    "# Now test teh newly created spacy model on a sample text and visualize it using spacy\n",
    "nlp = spacy.load(\"ner_model/training/model-best/\")\n",
    "\n",
    "example_text = str([text[0] for i, text in enumerate(training_data) if text != \"\"])\n",
    "doc = nlp(example_text)\n",
    "\n",
    "displacy.render(doc, style=\"ent\", jupyter=True, options=options)\n",
    "\n",
    "# Show the tokens, their labels and their entities\n",
    "for ent in doc.ents:\n",
    "    print(ent.text, ent.label_)"
   ]
  }
 ],
 "metadata": {
  "kernelspec": {
   "display_name": "Python 3",
   "language": "python",
   "name": "python3"
  },
  "language_info": {
   "codemirror_mode": {
    "name": "ipython",
    "version": 3
   },
   "file_extension": ".py",
   "mimetype": "text/x-python",
   "name": "python",
   "nbconvert_exporter": "python",
   "pygments_lexer": "ipython3",
   "version": "3.10.2"
  },
  "orig_nbformat": 4
 },
 "nbformat": 4,
 "nbformat_minor": 2
}
