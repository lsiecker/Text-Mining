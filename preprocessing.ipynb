{
 "cells": [
  {
   "cell_type": "code",
   "execution_count": 1,
   "metadata": {},
   "outputs": [],
   "source": [
    "%load_ext autoreload\n",
    "%autoreload 2"
   ]
  },
  {
   "cell_type": "markdown",
   "metadata": {},
   "source": [
    "# Pre-Processing Wikipedia data\n",
    "This notebook is a workflow for pre-processing the wikipedia data. This includes cleaning the data before it is used further. Shortening the texts based on some criteria and finally saving the data in a format that can be used by the labeling program and training of the model."
   ]
  },
  {
   "cell_type": "code",
   "execution_count": 2,
   "metadata": {},
   "outputs": [],
   "source": [
    "import preprocessor\n",
    "from preprocessor import Preprocessor\n",
    "import os\n",
    "import spacy\n",
    "import pandas as pd\n",
    "from datetime import date\n",
    "\n",
    "ROOT_DIR = preprocessor.ROOT_DIR\n",
    "DATA_PATH = preprocessor.DATA_PATH\n",
    "\n",
    "preprocessor = Preprocessor(ROOT_DIR)"
   ]
  },
  {
   "cell_type": "markdown",
   "metadata": {},
   "source": [
    "## 1. Importing and filtering the UNESCO WORLD HERITAGE sites\n",
    "### 1.1 Importing the UNESCO data\n",
    "We start he preprocessing with retrieving the unesco world heritage sites from a dataset and filtering these sites in the large wikipedia dataset. \n",
    "\n",
    "The data is read from a csv file, followed by making a set of all the names in this column with english names. This is done for further processing using the set of names in stead of a dataframe.\n",
    "\n",
    "To see what kind of data we are using, a head of the dataframe is printed."
   ]
  },
  {
   "cell_type": "code",
   "execution_count": 3,
   "metadata": {},
   "outputs": [
    {
     "data": {
      "text/html": [
       "<div>\n",
       "<style scoped>\n",
       "    .dataframe tbody tr th:only-of-type {\n",
       "        vertical-align: middle;\n",
       "    }\n",
       "\n",
       "    .dataframe tbody tr th {\n",
       "        vertical-align: top;\n",
       "    }\n",
       "\n",
       "    .dataframe thead th {\n",
       "        text-align: right;\n",
       "    }\n",
       "</style>\n",
       "<table border=\"1\" class=\"dataframe\">\n",
       "  <thead>\n",
       "    <tr style=\"text-align: right;\">\n",
       "      <th></th>\n",
       "      <th>landmark_name</th>\n",
       "    </tr>\n",
       "  </thead>\n",
       "  <tbody>\n",
       "    <tr>\n",
       "      <th>0</th>\n",
       "      <td>Cultural Landscape and Archaeological Remains ...</td>\n",
       "    </tr>\n",
       "    <tr>\n",
       "      <th>1</th>\n",
       "      <td>Minaret and Archaeological Remains of Jam</td>\n",
       "    </tr>\n",
       "    <tr>\n",
       "      <th>2</th>\n",
       "      <td>Historic Centres of Berat and Gjirokastra</td>\n",
       "    </tr>\n",
       "    <tr>\n",
       "      <th>3</th>\n",
       "      <td>Butrint</td>\n",
       "    </tr>\n",
       "    <tr>\n",
       "      <th>4</th>\n",
       "      <td>Al Qal'a of Beni Hammad</td>\n",
       "    </tr>\n",
       "  </tbody>\n",
       "</table>\n",
       "</div>"
      ],
      "text/plain": [
       "                                       landmark_name\n",
       "0  Cultural Landscape and Archaeological Remains ...\n",
       "1          Minaret and Archaeological Remains of Jam\n",
       "2         Historic Centres of Berat and Gjirokastra \n",
       "3                                            Butrint\n",
       "4                            Al Qal'a of Beni Hammad"
      ]
     },
     "execution_count": 3,
     "metadata": {},
     "output_type": "execute_result"
    }
   ],
   "source": [
    "df_unesco = pd.read_csv(os.path.join(DATA_PATH, \"unesco_names.csv\"), header=0, names=[\"landmark_name\"])\n",
    "landmark_names = set(df_unesco[\"landmark_name\"].to_list())\n",
    "\n",
    "df_unesco.head()"
   ]
  },
  {
   "cell_type": "markdown",
   "metadata": {},
   "source": [
    "### 1.2 Embedding the UNESCO data\n",
    "For filtering of the wikipedia pages based on the landmark names, the landmark names need to be embedded such that we can do a similarity search. This is needed since the titels of the wikipedia pages are rarely exactly like the landmark names described in the UNESCO dataset.\n",
    "\n",
    "For embedding the names, we are using spacy."
   ]
  },
  {
   "cell_type": "code",
   "execution_count": 4,
   "metadata": {},
   "outputs": [
    {
     "name": "stdout",
     "output_type": "stream",
     "text": [
      "Number of embedded landmarks:  1157\n"
     ]
    }
   ],
   "source": [
    "landmark_embeddings = []\n",
    "\n",
    "for landmark_name in landmark_names:\n",
    "    landmark_embeddings.append(preprocessor.ner_spacy(landmark_name))\n",
    "\n",
    "print(\"Number of embedded landmarks: \", len(landmark_embeddings))"
   ]
  },
  {
   "cell_type": "markdown",
   "metadata": {},
   "source": [
    "### 1.3 Filtering the wikipedia pages\n",
    "Now that we have the embedding for all the landmark names, it is important to see if we can match this embedding to the embedding of the wikipedia page titles. \n",
    "\n",
    "To be able to do this we need two functions. The data is stored in multiple files in two different directories. We can process the data per directory and read each file to get the data for each webpage. The function `process_file` is used for this. The function `process_folder` is used to process all the files in a directory using the `process_file` function.\n"
   ]
  },
  {
   "cell_type": "code",
   "execution_count": 5,
   "metadata": {},
   "outputs": [
    {
     "name": "stderr",
     "output_type": "stream",
     "text": [
      "Processing 'test_set' in folder 'tests\\data\\TT':   0%|          | 0/1 [00:00<?, ?it/s]d:\\TUe\\2AMM30 - Text Mining\\Text-Mining\\preprocessor.py:105: UserWarning: [W007] The model you're using has no word vectors loaded, so the result of the Doc.similarity method will be based on the tagger, parser and NER, which may not give useful similarity judgements. This may happen if you're using one of the small models, e.g. `en_core_web_sm`, which don't ship with word vectors and only use context-sensitive tensors. You can always add your own word vectors, or use one of the larger models instead if available.\n",
      "  similarity_score = title_embedding.similarity(landmark)\n",
      "Processing 'test_set' in folder 'tests\\data\\TT': 100%|██████████| 1/1 [00:03<00:00,  3.23s/it]"
     ]
    },
    {
     "name": "stdout",
     "output_type": "stream",
     "text": [
      "\n",
      "There are \u001b[32m4\u001b[0m wikipedia pages found with a title similar to a landmark name\n"
     ]
    },
    {
     "name": "stderr",
     "output_type": "stream",
     "text": [
      "\n"
     ]
    }
   ],
   "source": [
    "folders = [\"AA\", \"AB\"]\n",
    "page_list = []\n",
    "\n",
    "for folder in folders:\n",
    "    page_list.append(preprocessor.process_folder(folder, landmark_embeddings, debug=False))\n",
    "\n",
    "print(f\"\\nThere are \\x1b[32m{len(page_list)}\\x1b[0m wikipedia pages found with a title similar to a landmark name\")"
   ]
  },
  {
   "cell_type": "markdown",
   "metadata": {},
   "source": [
    "Every wikipedia text has the following raw format:"
   ]
  },
  {
   "cell_type": "code",
   "execution_count": 6,
   "metadata": {},
   "outputs": [
    {
     "data": {
      "text/plain": [
       "[{'id': '2750841',\n",
       "  'revid': '182902',\n",
       "  'url': 'https://en.wikipedia.org/wiki?curid=2750841',\n",
       "  'title': 'Alejandro de Humboldt National Park',\n",
       "  'text': 'Alejandro de Humboldt National Park () is a national park in the Cuban provinces of Holguín and Guantánamo. It is named after the German scientist Alexander von Humboldt who visited the island in 1800 and 1801. The park was inscribed as a UNESCO World Heritage Site in 2001 for of its size, altitude range, complex lithology, landform diversity, and wealth of endemic flora and fauna.\\nGeography.\\nThe rivers that flow off the peaks of the park are some of the largest in the insular Caribbean. The park is said to be the most humid place in Cuba and this causes a high biological diversity. The park has an area of , of which land area and marine area. Elevation ranges from sea level to on \"El Toldo\" Peak.\\nThe region around Alejandro de Humboldt National Park is geologically complex, containing karst landscapes that originated from oceanic crust in the Cretaceous period. Unique to this region, the landscape is ultrabasic, dominated by serpentine soils and peridotites. \\nWildlife.\\nThe area comprising the national park was a Pleistocene refugium, retaining a relatively stable climate through the repeated glaciation events. This has allowed for remarkably high rates of endemism and biodiversity in the park. In addition, the ultra-basic rocks are relatively toxic to plants, driving rapid speciation. 16 of Cuba\\'s 28 endemic plant species are protected in the park including such flora as \"Dracaena cubensis\" and \"Podocarpus ekman\". Fauna present in the park includes various species of parrots, lizards, hummingbirds, the endangered Cuban solenodon (endemic), hutia and snails.\\nOver 900 total plant species have been recorded at the park, along with 45 species of reptiles, 21 amphibian species, and 10 mammal species.\\nImportant Bird Area.\\nThe park has been recognised as an Important Bird Area (IBA) by BirdLife International because it supports populations of northern bobwhites, white crowned and plain pigeons, grey-fronted and blue-headed quail-doves, Antillean nighthawks, Cuban nightjars, Antillean palm-swifts, Cuban emeralds, bee hummingbirds, great lizard cuckoos, Cuban pygmy owls, bare-legged owls, Cuban kites, Gundlach\\'s hawks, Cuban trogons and todies, ivory-billed, Cuban green and West Indian woodpeckers, Cuban amazons and parakeets, loggerhead and giant kingbirds, La Sagra\\'s flycatchers, Cuban pewees, vireos, crows, gnatcatchers and solitaires, Oriente warblers, Cuban orioles, tawny-shouldered and Cuban blackbirds, Greater Antillean grackles, western spindalises, and Cuban bullfinches and grassquits.\\nHistory.\\nThe Alexander von Humboldt National Park has historically been an area of land little used by man, with only one archaeological site from the pre-Columbian period being known; this is located in the coastal zone of Aguas Verdes. During the eighteenth and nineteenth centuries some peripheral places were used as refuges or camps by maroons.\\nThe park began to be laid out in the 1960s, with the declaration of the Jaguani and Cupeyal del Norte nature reserves. This continued into the 1980s with the proposal of the Ojito del Agua Refuge, associated with the last sighting of the royal woodpecker, a last remnant of this species which was already extinct in its other habitats in the United States and Mexico. In 1996 these protected areas were united to form a national park that was named after Alexander von Humboldt. Being one of the most important biosphere reserves in the Caribbean basin, the national park, along with Cuchillas del Toa was declared a UNESCO World Natural Heritage Site in 2001.\\nThere are unique flora and fauna elements in this unique ecosystem, with some of the highest indexes of endemicity in the archipelago.'},\n",
       " {'id': '214438',\n",
       "  'revid': '43830135',\n",
       "  'url': 'https://en.wikipedia.org/wiki?curid=214438',\n",
       "  'title': 'Aachen Cathedral',\n",
       "  'text': 'Aachen Cathedral () is a Roman Catholic church in Aachen, Germany and the seat of the Roman Catholic Diocese of Aachen.\\nOne of the oldest cathedrals in Europe, it was constructed by order of Emperor Charlemagne, who was buried there in 814. From 936 to 1531, the Palatine Chapel saw the coronation of thirty-one German kings and twelve queens. The church has been the mother church of the Diocese of Aachen since 1930. In 1978, Aachen Cathedral was one of the first 12 items to be listed on the UNESCO list of World Heritage sites, because of its exceptional artistry, architecture, and central importance in the history of the Holy Roman Empire.\\nHistory.\\nCharlemagne began the construction of the Palatine Chapel around 796, along with the rest of the palace structures. The construction is credited to Odo of Metz. The exact date of completion is unclear; however, a letter from Alcuin, in 798, states that it was nearing completion, and in 805, Pope Leo III consecrated the finished chapel. A foundry was brought to Aachen near the end of the 8th century and was utilized to cast multiple bronze pieces, from doors and the railings, to the horse and bear statues. Charlemagne was buried in the chapel in 814. It suffered a large amount of damage in a Viking raid in 881, and was restored in 983.\\nFollowing Charlemagne\\'s canonization by Antipope Paschal III in 1165, the chapel became a draw for pilgrims. Due to the enormous flow of pilgrims, in 1355 a Gothic choir hall was added, and a two-part Capella vitrea (glass chapel) was consecrated on the 600th anniversary of Charlemagne\\'s death. A cupola, several other chapels, and a steeple were also constructed at later dates. It was restored again in 1881, when the Baroque stucco was removed.\\nDuring World War II, Aachen, including its famed cathedral, was heavily damaged by Allied bombing attacks and artillery fire, but the cathedral\\'s basic structure survived. Many of the cathedral\\'s artistic objects had been removed to secure storage during the war, and some which could not be moved were protected within the church itself. However, the glazing of the 14th-century choir hall, the Neo-Gothic altar, a large part of the cloister, and the Holiness Chapel (\"Heiligtumskapelle\") were irretrievably destroyed. Reconstruction and restoration took place intermittently over more than 30 years, and cost an estimated €40 Million.\\nStructure.\\nThe cathedral uses two distinct architectural styles, with small portions of a third. First, the core of the cathedral is the Carolingian-Romanesque Palatine Chapel, which was modeled after San Vitale at Ravenna and is notably small in comparison to the later additions. Secondly, the choir was constructed in the Gothic style. Finally, there are portions that show Ottonian style, such as the area around the throne.\\nCarolingian Octagon (Palatine chapel).\\nThe octagon in the centre of the cathedral was erected as the chapel of the Palace of Aachen between 796 and 805 on the model of other contemporary Byzantine buildings (e.g. the Basilica of San Vitale in Ravenna and the Little Hagia Sophia in Constantinople). The architect was Odo of Metz, and the original design was of a domed octagonal inner room enveloped by a 16 sided outer wall. The span and height of Charlemagne\\'s Palatine chapel was unsurpassed north of the Alps for over two hundred years.\\nThe Palatine chapel consisted of a high octagonal room with a two-story circuit below. The inner octagon, with a diameter of , is made up of strong piers, on which an octagonal cloister vault lies, covering the central room. Around this inner octagon is a sixteen sided circuit of low groin vaults, supporting a high gallery above. This upper story was known as the \"Hochmünster\" (high church). The arched openings of the lower story are only about half as high as those of the \"Hochmünster\", as a result of which the lower story looks stocky and bulky. The two floors are separated from each other by an expansive cornice. The high altar and Imperial throne are located on the upper circuit of the Palatine chapel in an octagonal side room, covered by a barrel vault lying on an angle. This area was connected to the palace by a passage. Above the arches of the gallery, an octagonal drum with window openings rises, on top of which is the cupola. On the east end was a small apse that protruded and was, in later years, replaced by the choir. Opposite of this, was the tiered entrance to the rest of the now defunct palace, Westwork. Light is brought in by a three tiered system of circular arched windows. The corners of the octagonal dome are joined with the walls with a system of paired pilasters with corinthian capitals.\\nThe upper gallery openings are divided by a grid of columns. These columns are ancient and come from St. Gereon in Cologne. Charlemagne allowed further spolia to be brought to Aachen from Rome and Ravenna at the end of the 8th century. In 1794, during the French occupation of the Rheinland, they were removed to Paris, but in 1815 up to half the pieces remaining in the Louvre were brought back to Aachen. In the 1840s they were restored to their original places once more and new columns of Odenberg granite were substituted for the missing columns. The interior walls were initially lined with a marble facade. The round arched openings in the upper floor in the side walls of the octagon, between the columns, in front of a mezzanine, are decorated with a metre-high railing of Carolingian bronze rails. These bronze rails were cast 1200 years ago in a single piece according to Roman models. The original cupola mosaic was probably executed around 800 and known from Medieval sources depicted Christ as the triumphant lord of the world, surrounded by the symbols of the Four Evangelists, with the twenty-four elders from the Apocalypse of John offering their crowns to him. In 1880-81 it was recreated by the Venetian workshop of Antonio Salviati, according to the plans of the Belgian architect Jean-Baptiste de Béthune. The dome was intricately decorated with a mosaic tile.\\nThe exterior walls of the Carolingian octagon, made of quarry stone, are largely unjointed and lack further ornamentation. The only exception is that the projections of the pillars of the cupola are crowned by antique capitals. Above the Carolingian masonry, there is a Romanesque series of arches above a late Roman gable. The Octagon is crowned by unusual baroque vents.\\nAachen Cathedral was plastered red in the time of Charlemagne, according to the most recent findings of the Rheinish Office for Monuments. This plaster was made longer-lasting through the addition of crushed red brick. The colour was probably also a reference to the imperial associations of the work.\\nGeometry.\\nThe question of which geometric concepts and basic dimensions lie at the basis of the chapel\\'s construction is not entirely clear even today. Works of earlier cathedral architects mostly followed either the Drusian foot (334 mm) or the Roman foot (295.7 mm). However, these measurements require complex theories to explain the church\\'s actual dimensions. In 2012, the architectural historian Ulrike Heckner proposed a theory of a new, hitherto unknown unit of measure of 322.4\\xa0mm, the so-called Carolingian foot, to which all other measurements in the Palatine chapel can be traced back. This measurement is referred to as the \"Aachener Königsfuß\" (Aachen royal foot), after the similarly sized Parisian royal foot (324.8\\xa0mm).\\nBeyond this, there is a symbolic layer to the octagon. Eight was a symbol of the eighth day (Sunday as the sabbath) and therefore symbolised the Resurrection of Jesus Christ and the promise of eternal life. Likewise, ten, the number of perfection in Medieval architectural symbolism, is frequent in the Palatine Chapel: Its diameter (including the circuit surrounding the dome) measures a hundred Carolingian feet (i. e. ten by ten) – equivalent to the height of the dome.\\nWestwork.\\nThe westwork (western facade) of the cathedral is of Carolingian origin, flanked by two stair-towers. It is a two-story building, completed by a porch from the 18th century at the west end.\\nThe bronze leaves attached to this porch, the \"Wolfstür\" (Wolf\\'s Door), weigh 43 hundredweight altogether (cf. with this the Lousberg saga). The main entrance to the cathedral, the door was cast in Aachen around 800 and was located between the westwork and the octagon in the so-called hexadecagon up to 1788. The portal was restored in 1924. Each leaf is divided into eight rectangles – a number which had religious symbolism in Christianity, as a symbol of Sunday, the day of the Resurrection of Jesus Christ and also of perfection (as did twelve, also) and can be found in the measurements of the Palatine Chapel over and over again. These boxes were framed by decorative strips, which are made of egg-shaped decorations. The egg was considered a symbol of life and fertility from antiquity. In Christian belief it was imbued with the even wider symbolism of Eternal Life. The door-rings in the shape of lions\\' heads are wreathed by 24 (i.e. two times twelve or three times eight) acanthus scrolls – again to be understood at the deepest level through numerology. The Wolfstür\\'s imitation of the shape of the ancient Roman temple door signifies Charlemagne\\'s claim, to have established a New Rome in Aachen with the Palatine Chapel as the distinctive monumental building.\\nThere were multiple sculptures, made of bronze, including an equestrian piece probably meant as a parallel of a statue of Marcus Aurelius in Rome. In the forehall, there is a bronze sculpture of a bear, which was probably made in the 10th century, i.e. in Ottonian times. Opposite it is a bronze pine cone with 129 perforated scales, which stands 91\\xa0cm high (including its base); its date is controversial and ranges from the 3rd to the 10th century. Its base is clearly Ottonian and includes an inscription written in dactylic hexameter, which refers to the Tigris and Euphrates rivers of Mesopotamia. According to one view, the pine cone would originally have served as a waterspout on a fountain and would have been placed in the atrium of the Palatine chapel in Carolingian times.\\nThe upper level is characterised by an exceptionally fine brick western wall. Inside, it bulges outward, while the outside bulges inwards, so that the Carolingian west wall can be seen as a convex-concave bulge. Before the construction of the porch in the 18th century, the Carolingian west facade, when seen from the Narthex, was particularly evocative: a large niche, topped by a semicircular arch in the western upper level corresponded to the semicircle of the barrel vault of the lower level.\\nToday, the western wall is broken up by the large western window. The large window frame dates from the Gothic period and replaced a smaller window from Carolingian times, which was probably structured as a mullion (a double arch with a column in the centre). The modern window was designed by Ewald Mataré in 1956. Mataré\\'s design imitates, however abstractly, the structure of the Carolingian bronze gate inside the dome. Bronze and unprocessed quartz form the window itself.\\nThe function of the upstairs part of the west facade is not entirely clear. The right of baptism (long reserved for the Collegiate Church of Mary) was at a baptismal font, which was behind the marble throne, until the end of the \"Ancien Régime\". Possibly the space was involved in these ceremonies. Furthermore, in the western wall, under the great west window, there is a \"Fensetella\" (small window) even today, through which there is line of sight to the court below, the former atrium. It is certain that the so-called \"Carolingian Passage\" entered this room on its northern wall, connecting the Aula Regia (King\\'s Hall) in the north of the palace with the church.\\nThe lower, barrel-vaulted room in the west probably served as Charlemagne\\'s sepulchre after his death on 28 January 814 and his burial in the Persephone sarcophagus.\\nThe floors of the western facade lying above this room were remodelled in the first half of the 14th century and in the 17th century; the tower was completed between 1879 and 1884.\\nChoir.\\nBetween 1355 and 1414, on the initiative of the Marienstift and the mayor of Aachen Gerhard Chorus (1285–1367), a Gothic Choir was built to the east of the Octagon. Before this there must have been a rectangular Carolingian choir.\\nThe Gothic choir measures 25m in length, 13m wide and 32m high. Its external wall is broken, as much as possible, by windows – the surface area of the glass is more than 1,000m² and led to the name \"Glashaus\" (glass house). This was conceived as a glass reliquary for the holy relics of Aachen and for the body of Charlemagne. The design is arranged on the model of the Sainte-Chapelle in Paris, likewise a space for important relics and a royal palace chapel. For protection of the vault of the choir, iron rods were built in at the time of construction, to counter the lateral force on the narrow stone supports and to allow as much space as possible between them for window space.\\nSide chapels.\\nGathered around the octagon are several side chapels. Clockwise from the southeast, they are:\\nNotable items.\\nAachen Cathedral houses a collection of medieval art objects from the late Classical, Carolingian, Ottonian and Staufian periods which are exceptional in their artistic and religious meaning.\\nThrone of Charlemagne.\\nIn the western gallery on the lower floor, opposite the choir, the Throne of Charlemagne is to be found, which has been the object of new investigations in the past decades. The original Carolingian throne came from the spolia of the Church of the Holy Sepulchre in Jerusalem. The appearance of the throne and its location in the Palatine Chapel did not change with the passage of centuries. Between 936 and 1531, thirty one German kings ascended to this throne after their anointment and coronation at the Marienaltar (Altar of Mary). \\nMarienschrein.\\nThe \"Marienschrein\" (Shrine of St. Mary) rests in the choir of the church and dates from 1220 to 1239. Adorned with the figures of Christ, Mary, Charlemagne, Pope Leo III and the Twelve Apostles, the shrine contains the four great Aachen relics: St. Mary\\'s cloak, Christ\\'s swaddling clothes, St. John the Baptist\\'s beheading cloth and Christ\\'s loincloth. Following a custom begun in 1349, every seven years the relics are taken out of the shrine and put on display during the Great Aachen Pilgrimage. This pilgrimage most recently took place during June 2014.\\nBarbarossa chandelier.\\nFrom the vault of the dome, which is made up of eight curved faces, a wheel chandelier hangs on a long chain, about four metres above the ground, with a diameter of over four metres, which is known as the Barbarossa Chandelier (1165/1170). This artwork was a donation of Emperor Frederick Barbarossa and his wife Beatrice. The forty-eight candles of the chandelier are lit for solemnities of the Church.\\nAmbon of Henry II. (Heinrichskanzel).\\nBetween 1002 and 1014, Henry II had a pulpit erected as an ambon in the east passage, which is among the most magnificent artistic treasures of the Ottonian Renaissance. Its inscription on the upper and lower edges clearly identifies its donor as Henry II, referring to him as \"REX PIVS HEINRICVS\". The pulpit is made of an oak base and is decorated all over with filigree and precious stones, with many precious artefacts from antiquity, such as four repoussé copper reliefs with depictions of the Evangelists, as well as six ivory panels of the 6th century. The wooden staircase dates to 1782. The Ambon was thoroughly restored in 1816/1817 and again between 1926 and 1937. To this day, the pulpit is still in liturgical use for solemnities of the Church.\\nPala d\\'Oro.\\nA golden altarpiece, the Pala d\\'Oro which today forms the Antependium of the high altar was probably created around 1020 in Fulda. It consists of seventeen individual gold panels with reliefs in repoussé. In the centre, Christ is enthroned as Redeemer in a Mandorla, flanked by Mary and the Archangel Michael. Four round medallions with images of the Evangelists\\' symbols show the connection to the other twelve relief panels with depictions from the life of Jesus Christ. They begin with the entry into Jerusalem and end with the encounter of the women with the risen Christ in front of the open grave on Easter morning. The depictions are read from left to right, like a book.\\nStylistically, the Pala d\\'Oro is not uniform. The first five reliefs probably come from a goldsmith taught in the Rheinland and is distinguished by a strikingly joyful narration. It probably derives from a donation of Emperor Otto III. The other panels, together with the central group of Christ, Mary, and Michael, draws from Byzantine and late Carolingian predecessors and was likely first added under Otto\\'s successor, Henry II, who also donated the Ambo of Henry II.\\nPresumably, in the late 15th century, the golden altarpiece formed a massive altar system together with the twelve reliefs of apostles in the cathedral treasury, along with altarpieces with scenes from the life of Mary, which would have been dismantled in 1794 as the French Revolutionary troops approached Aachen.\\nTreasury.\\nThe Aachen cathedral treasury includes highly important objects including the Cross of Lothair, Bust of Charlemagne and the Persephone sarcophagus. The Cathedral Treasury in Aachen is regarded as one of the most important ecclesiastical treasuries in northern Europe. Pilgrims are able to see some of the relics every seven years when they are displayed.\\nOrgans.\\nThe organ system of Aachen Cathedral was installed in 1939. It consists in part of the earlier organ, installed 1845–1847, which was built by the organ builder Wilhelm Korfmacher of Linnich. This \"Korfmacher\" organ had 60 stops, distributed in three works.\\nThe current instrument was installed in 1939 by Johannes Klais (Bonn) and expanded to 65 stops, which were distributed thereafter in five works. To achieve a balanced sound throughout the cathedral, the parts were distributed through the cathedral: in the northwest and southwest niches of the choir are the works of the High organ, while a swallow\\'s nest organ was hung on the east pillar of the octagon.\\nIn 1991–1993, the organ was restored by the Klais organ company and increased to a total of 89 stops. At this time the swallow\\'s nest organ was turned into a new, independent instrument, which now stands in the upper church, between the octagon and the choir.\\nAs well as a chamber organ, the cathedral also has a small organ, called the \"Zoboli Organ\". This was built by the north Italian organ builder, Cesare Zomboli, probably some time around 1850. The pipeworks, windbox, and keyboard survive. The historic housing no longer exists, but the current housing was built later on the model of a north Italian cabinet organ in classicist style. The instrument is arranged in the classic Italian style, with the typical stops of the Roman style as well.\\nBells.\\nIn the belfry of the tower, eight bells hang on wooden yokes in a wooden bell frame. The bells were cast three years after the city fire of 1656 by Franz Von Trier and his son Jakob. This disposition, altered from that of Medieval times, has been maintained to this day, except that the Marybell has had to be replaced twice. The modern Marybell was made in 1958 and was cast by Petit &amp; Gebr. Edelbrock.\\nHistorical and religious significance.\\nFinal resting place of Charlemagne.\\nThe core of Aachen Cathedral, the Carolingian octagon, was originally erected as Charlemagne\\'s palace chapel and was also his grave. After his death, on 28 January 814, he was buried in his church; the exact spot is unknown, because of the lack of documentation and the ambiguity of the physical evidence. However, it is probable that he was buried in the Persephone sarcophagus under the west tower at the entrance to the octagon.\\nIn 1000, Otto III had Charlemagne\\'s vault opened. Otto of Lomello, one of the courtiers who accompanied him, recorded the event, which is reported in the Chronicle of Novalesia, written about 1026. The account reads:\\nA large picture representing Otto and his nobles gazing on the dead Emperor was painted on the wall of the great room in Aachen Town Hall.\\nIn 1165, on the occasion of Charlemagne\\'s canonisation, Emperor Frederick Barbarossa again opened the vault and reinterred his remains. In 1215, at his coronation, Frederick II had the remains reinterred for the last time, placing them in a casket of gold and silver, known as the Karlsschrein, where they remain to this day.\\nEmperor Otto III was buried in the cathedral as well.\\nCoronation church of German kings.\\nOn the explicit instructions of Charlemagne, his son Louis the Pious crowned himself king in the chapel. Between the coronation of Otto I in 936 and 1531, thirty German kings (out of ~40) were crowned in the chapel. The coronation itself occurred at the High Altar, followed by the enthronement on the Aachen Throne of Charlemagne (which can still be seen today). It is also notable that in this period, all German rulers, regardless of whether they were crowned in Aachen or not, took their position on Charlemagne\\'s throne.\\nAachen pilgrimage.\\nThe Aachen pilgrimage (\"Aachener Heiligtumsfahrt\"), a pilgrimage during which the four most important religious relics of the cathedral can be seen by believers, is attested from 1238. Since 1349, these relics have been displayed once every seven years. The last pilgrimage was in 2014, and had the motto \"Geh in das Land, das ich dir zeigen werde\" (\"Go to the land I will show you\"; cf. ).\\nInfluence.\\nAs early as the Middle Ages, Aachen Cathedral was admired and imitated, as in the case of Essen Minster, the Old Tower in Mettlach and in the Alsatian Abbey Church of Ottmarsheim. Construction elements of the octagon and choir were nominated as Historic landmarks of German civil engineering in 2007.\\nLegend.\\nAccording to legend, the people of Aachen ran out of funding to finish the construction of the cathedral. It is said that they made a deal with the devil to obtain the remaining funds, in exchange for the soul of the first to enter the cathedral. Upon completion, the locals sent a wolf into the cathedral and the devil quickly took the animal\\'s soul. Upon realizing the trick, the devil stormed from the cathedral, severing his thumb in the lion head door handles. A wolf statue sits in the entrance to the cathedral, and the \"devil\\'s thumb\" can be felt inside the lion\\'s mouth.\\nMiscellaneous.\\nThe German impressionist painter August von Brandis painted Aachen Cathedral in several works. Act III of Giuseppe Verdi\\'s \"Ernani\" is set at the tomb of Charlemagne.\\nThe \"Domwache\" (Cathedral watch), a youth self-help group, has been operated since 1957 by the Catholic students association of K.D.St.V. Franconia Aachen.\\nSince November 15th 2012, the Geological Service of North Rhine-Westphalia operates a station monitoring seismic activity in the Lower Rhine Basin. It is located in the foundations of the hexadecagon near the entry to the St Ann\\'s Chapel.'},\n",
       " {'id': '1115045',\n",
       "  'revid': '915833',\n",
       "  'url': 'https://en.wikipedia.org/wiki?curid=1115045',\n",
       "  'title': 'Agra Fort',\n",
       "  'text': 'The Agra Fort is a historical fort in the city of Agra, and also known as Agra\\'s Red Fort. Mughal emperor Humayun was crowned at this fort. It was later renovated by the Mughal emperor Akbar from 1565 and the present-day structure was completed in 1573. It served as the main residence of the rulers of the Mughal dynasty until 1638, when the capital was shifted from Agra to Delhi. It was also known as the \"Lal-Qila\" or \"Qila-i-Akbari\". Before capture by the British, the last Indian rulers to have occupied it were the Marathas. In 1983, the Agra fort was inscribed as a UNESCO World Heritage Site because of its importance during the Mughal Dynasty. It is about northwest of its more famous sister monument, the Taj Mahal. The fort can be more accurately described as a walled city. It was later renovated by Shah Jahan. \\nLike the rest of Agra, the history of Agra Fort prior to Mahmud of Ghazni\\'s invasion is unclear. However, in the 15th century, the Chauhan Rajputs occupied it. Soon after, Agra assumed the status of capital when Sikandar Khan Lodi (1487–1517\\xa0CE) shifted his capital from Delhi and constructed a few buildings in the preexisting fort at Agra. After the first battle of Panipat (1526\\xa0CE), Mughals captured the fort and ruled from it. In 1530\\xa0CE, Humayun was crowned in it. The fort was given its present appearance during the reign of Akbar (1556–1605\\xa0CE). Later, this fort was under the rule of Jats of Bharatpur for 13\\xa0years.\\nHistory.\\nAfter the First Battle of Panipat in 1526, Babur stayed in the fort, in the palace of Ibrahim Lodi. He later built a baoli (step well) in it. His successor, Humayun, was crowned in the fort in 1530. He was defeated at Bilgram in 1540 by Sher Shah Suri. The fort remained with the Suris till 1555, when Humayun recaptured it. Adil Shah Suri\\'s general, Hemu, recaptured Agra in 1556 and pursued its fleeing governor to Delhi where he met the Mughals in the Battle of Tughlaqabad.\\nRealising the importance of its central situation, Akbar made it his capital and arrived in Agra in 1558. His historian, Abul Fazl, recorded that this was a brick fort known as \\'Badalgarh\\'. It was in a ruined condition and Akbar had it rebuilt with red sandstone from Barauli area Dhaulpur district, in Rajasthan. Architects laid the foundation and it was built with bricks in the inner core with sandstone on external surfaces. Some 4,000 builders worked on it daily for eight years, completing it in 1573.\\nIt was only during the reign of Akbar\\'s grandson, Shah Jahan, that the site took on its current state. Shah Jahan built the Taj Mahal in the memory of his wife, Mumtaz Mahal. Unlike his grandfather, Shah Jahan tended to have buildings made from white marble. When Aurangzeb was victorious among his all brothers, then he imprisoned Shah Jahan in 1658 in the same fort only.\\nThe fort was under the Jat rulers of Bharatpur for 13 years. In the fort, they built the \\'Ratan Singh ki Haveli\\'. The fort was invaded and captured by the Maratha Empire in the early 18th century. Thereafter, it changed hands between the Marathas and their foes many times. After their catastrophic defeat at Third Battle of Panipat by Ahmad Shah Abdali in 1761, Marathas remained out of the region for the next decade. Finally Mahadji Shinde took the fort in 1785. It was lost by the Marathas to the British during the Second Anglo-Maratha War in 1803. The fort was the site of a battle during the Indian rebellion of 1857 which caused the end of the British East India Company\\'s rule in India and led to a century of direct rule in India by Britain.\\nOn 30 November 1871, thirty six people died when a cartridge factory located inside the fort exploded.\\nLayout.\\nThe fort has a semicircular plan, its chord lies parallel to the river Yamuna and its walls are seventy feet high. Double ramparts have massive circular bastions at intervals, with battlements, embrasures, machicolations and string courses. Four gates were provided on its four sides, one Khizri gate opening on to the river. Two of the fort\\'s gates are notable: the \"Delhi Gate\" and the \"Lahore Gate.\" The Lahore Gate is also popularly also known as the \"Amar Singh Gate,\" for Amar Singh Rathore.\\nThe monumental Delhi Gate, which faces the city on the western side of the fort, is considered the grandest of the four gates and a masterpiece of Akbar\\'s time. It was built circa 1568 both to enhance security and as the king\\'s formal gate, and includes features related to both. It is embellished with intricate inlay work in white marble. A wooden drawbridge was used to cross the moat and reach the gate from the mainland; inside, an inner gateway called Hathi Pol (\"Elephant Gate\") – guarded by two life-sized stone elephants with their riders – added another layer of security. The drawbridge, slight ascent, and 90-degree turn between the outer and inner gates make the entrance impregnable. During a siege, attackers would employ elephants to crush a fort\\'s gates. Without a level, straight run-up to gather speed, however, that is prevented by this layout.\\nThe northern portion of the fort is still used by the Indian military (the Parachute Brigade in particular), so the Delhi Gate cannot be used by the public. Tourists enter via the Amar Singh Gate.\\nThe site is very important in terms of architectural history. Abul Fazal recorded that five hundred buildings in the designs of Bengal and Gujarat were built in the fort. Some of them were demolished by Shah Jahan to make way for his white marble palaces. Most of the others were destroyed by the British troops of East India Company between 1803 and 1862 for raising barracks. Hardly thirty Mughal buildings have survived on the south-eastern side, facing the river, such as the Delhi Gate and Akbar Gate and one palace – \"Bengali Mahal\".\\nAkbar Darwazza (Akbar Gate) was renamed Amar Singh Gate by Shah Jahan. The gate is similar in design to the Delhi Gate. Both are built of red sandstone.\\nThe Bengali Mahal is built of red sandstone and is now split into Akbari Mahal and Jahangiri Mahal.'}]"
      ]
     },
     "execution_count": 6,
     "metadata": {},
     "output_type": "execute_result"
    }
   ],
   "source": [
    "page_list[:3]"
   ]
  },
  {
   "cell_type": "markdown",
   "metadata": {},
   "source": [
    "### 1.4 Exporting filtered data\n",
    "To be able to use the texts for further cleaning, the current filtered data is being stored as a json file to the disk."
   ]
  },
  {
   "cell_type": "code",
   "execution_count": 7,
   "metadata": {},
   "outputs": [],
   "source": [
    "preprocessor.writeFile(page_list, f\"unesco_wikipedia_pages_{date.today()}.json\")"
   ]
  },
  {
   "cell_type": "markdown",
   "metadata": {},
   "source": [
    "## 2. Clearning the wikipedia pages\n",
    "\n",
    "### 2.1 Shortening the wikipedia pages\n",
    "For the main purpose of the task, namely converting information from text to a knowledge graph, most important information of a heritage site is stored in the first few paragraphs. Therefore, we will first shorten all the texts to the first 2 paragraphs and with a minimum of 500 words (average paragraph length is 250 words).\n",
    "\n",
    "We start of by defining a function that can shorten a text to 2 paragraphs. This is done by splitting the text on the newline character and then joining the first two paragraphs together."
   ]
  },
  {
   "cell_type": "code",
   "execution_count": 8,
   "metadata": {},
   "outputs": [],
   "source": [
    "unesco_wikipedia_pages = preprocessor.loadFile(f\"unesco_wikipedia_pages_{date.today()}.json\")"
   ]
  },
  {
   "cell_type": "code",
   "execution_count": 9,
   "metadata": {},
   "outputs": [],
   "source": [
    "for page in unesco_wikipedia_pages:\n",
    "    splitted_text = page[\"text\"].split(\"\\n\")\n",
    "\n",
    "    # Get the lengths of every split and get the first index of the split where the total number is higher than 500\n",
    "    total_length = 0\n",
    "    for index, split in enumerate(splitted_text):\n",
    "        total_length += len(split)\n",
    "        if total_length > 500:\n",
    "            page[\"text\"] = ''.join(splitted_text[:index+1])\n",
    "            break"
   ]
  },
  {
   "cell_type": "markdown",
   "metadata": {},
   "source": [
    "At this point the unesco_wikipedia_pages are split per new line. The average paragraph length is 250 words. Therefore, we will shorten the texts with a minimum of 500 words.\n",
    "\n",
    "### 2.2 Removing unwanted characters and fixing unicode"
   ]
  },
  {
   "cell_type": "code",
   "execution_count": 10,
   "metadata": {},
   "outputs": [
    {
     "name": "stdout",
     "output_type": "stream",
     "text": [
      "Cleaning data with ftfy...\n"
     ]
    },
    {
     "name": "stderr",
     "output_type": "stream",
     "text": [
      "100%|██████████| 4/4 [00:00<00:00, 1996.81it/s]\n"
     ]
    },
    {
     "name": "stdout",
     "output_type": "stream",
     "text": [
      "Cleaning data with given regex...\n"
     ]
    },
    {
     "name": "stderr",
     "output_type": "stream",
     "text": [
      "100%|██████████| 4/4 [00:00<?, ?it/s]\n"
     ]
    }
   ],
   "source": [
    "unesco_wikipedia_pages_clean = preprocessor.fix_unicode(unesco_wikipedia_pages)\n",
    "unesco_wikipedia_pages_clean = preprocessor.clean_alphanumeric(unesco_wikipedia_pages_clean)"
   ]
  },
  {
   "cell_type": "markdown",
   "metadata": {},
   "source": [
    "An example of the cleaned text is shown below:"
   ]
  },
  {
   "cell_type": "code",
   "execution_count": 11,
   "metadata": {},
   "outputs": [
    {
     "data": {
      "text/plain": [
       "{'id': '2750841',\n",
       " 'revid': '182902',\n",
       " 'url': 'https://en.wikipedia.org/wiki?curid=2750841',\n",
       " 'title': 'Alejandro de Humboldt National Park',\n",
       " 'text': 'Alejandro de Humboldt National Park is a national park in the Cuban provinces of Holguín and Guantánamo It is named after the German scientist Alexander von Humboldt who visited the island in 1800 and 1801 The park was inscribed as a UNESCO World Heritage Site in 2001 for of its size altitude range complex lithology landform diversity and wealth of endemic flora and fauna Geography The rivers that flow off the peaks of the park are some of the largest in the insular Caribbean The park is said to be the most humid place in Cuba and this causes a high biological diversity The park has an area of of which land area and marine area Elevation ranges from sea level to on El Toldo Peak',\n",
       " 'original_text': 'Alejandro de Humboldt National Park () is a national park in the Cuban provinces of Holguín and Guantánamo. It is named after the German scientist Alexander von Humboldt who visited the island in 1800 and 1801. The park was inscribed as a UNESCO World Heritage Site in 2001 for of its size, altitude range, complex lithology, landform diversity, and wealth of endemic flora and fauna.Geography.The rivers that flow off the peaks of the park are some of the largest in the insular Caribbean. The park is said to be the most humid place in Cuba and this causes a high biological diversity. The park has an area of , of which land area and marine area. Elevation ranges from sea level to on \"El Toldo\" Peak.'}"
      ]
     },
     "execution_count": 11,
     "metadata": {},
     "output_type": "execute_result"
    }
   ],
   "source": [
    "unesco_wikipedia_pages_clean[0]"
   ]
  },
  {
   "cell_type": "markdown",
   "metadata": {},
   "source": [
    "### 2.3 Export the cleaned data in separate json files\n",
    "There is a export needed of separate json file for the annotation program."
   ]
  },
  {
   "cell_type": "code",
   "execution_count": 12,
   "metadata": {},
   "outputs": [],
   "source": [
    "preprocessor.save_file(unesco_wikipedia_pages_clean, \"subset_texts\")"
   ]
  }
 ],
 "metadata": {
  "kernelspec": {
   "display_name": "Text-Mining-xR8YyNgY",
   "language": "python",
   "name": "python3"
  },
  "language_info": {
   "codemirror_mode": {
    "name": "ipython",
    "version": 3
   },
   "file_extension": ".py",
   "mimetype": "text/x-python",
   "name": "python",
   "nbconvert_exporter": "python",
   "pygments_lexer": "ipython3",
   "version": "3.10.11"
  },
  "orig_nbformat": 4
 },
 "nbformat": 4,
 "nbformat_minor": 2
}
