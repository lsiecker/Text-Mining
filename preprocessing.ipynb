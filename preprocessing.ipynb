{
 "cells": [
  {
   "cell_type": "code",
   "execution_count": 1,
   "metadata": {},
   "outputs": [],
   "source": [
    "%load_ext autoreload\n",
    "%autoreload 2"
   ]
  },
  {
   "cell_type": "markdown",
   "metadata": {},
   "source": [
    "# Pre-Processing Wikipedia data\n",
    "This notebook is a workflow for pre-processing the wikipedia data. This includes cleaning the data before it is used further. Shortening the texts based on some criteria and finally saving the data in a format that can be used by the labeling program and training of the model."
   ]
  },
  {
   "cell_type": "code",
   "execution_count": 1,
   "metadata": {},
   "outputs": [
    {
     "name": "stderr",
     "output_type": "stream",
     "text": [
      "[nltk_data] Downloading package punkt to\n",
      "[nltk_data]     C:\\Users\\Beheerder\\AppData\\Roaming\\nltk_data...\n",
      "[nltk_data]   Package punkt is already up-to-date!\n"
     ]
    }
   ],
   "source": [
    "import preprocessor\n",
    "from preprocessor import Preprocessor\n",
    "import os\n",
    "import spacy\n",
    "import pandas as pd\n",
    "from datetime import date\n",
    "\n",
    "ROOT_DIR = preprocessor.ROOT_DIR\n",
    "DATA_PATH = preprocessor.DATA_PATH"
   ]
  },
  {
   "cell_type": "markdown",
   "metadata": {},
   "source": [
    "## 1. Importing and filtering the UNESCO WORLD HERITAGE sites\n",
    "### 1.1 Subset 1: Spacy embedding filtering\n",
    "#### 1.1.1 Importing the UNESCO data\n",
    "The first subset of the entire Wikipedia dataset will consists of articles for which we are positive that they contain UNESCO World Heritage Sites\n",
    "We start he preprocessing with retrieving the unesco world heritage sites from a dataset and filtering these sites in the large wikipedia dataset. \n",
    "\n",
    "The data is read from a csv file, followed by making a set of all the names in this column with english names. This is done for further processing using the set of names in stead of a dataframe.\n",
    "\n",
    "To see what kind of data we are using, a head of the dataframe is printed."
   ]
  },
  {
   "cell_type": "code",
   "execution_count": 2,
   "metadata": {},
   "outputs": [
    {
     "data": {
      "text/html": [
       "<div>\n",
       "<style scoped>\n",
       "    .dataframe tbody tr th:only-of-type {\n",
       "        vertical-align: middle;\n",
       "    }\n",
       "\n",
       "    .dataframe tbody tr th {\n",
       "        vertical-align: top;\n",
       "    }\n",
       "\n",
       "    .dataframe thead th {\n",
       "        text-align: right;\n",
       "    }\n",
       "</style>\n",
       "<table border=\"1\" class=\"dataframe\">\n",
       "  <thead>\n",
       "    <tr style=\"text-align: right;\">\n",
       "      <th></th>\n",
       "      <th>landmark_name</th>\n",
       "    </tr>\n",
       "  </thead>\n",
       "  <tbody>\n",
       "    <tr>\n",
       "      <th>0</th>\n",
       "      <td>Cultural Landscape and Archaeological Remains ...</td>\n",
       "    </tr>\n",
       "    <tr>\n",
       "      <th>1</th>\n",
       "      <td>Minaret and Archaeological Remains of Jam</td>\n",
       "    </tr>\n",
       "    <tr>\n",
       "      <th>2</th>\n",
       "      <td>Historic Centres of Berat and Gjirokastra</td>\n",
       "    </tr>\n",
       "    <tr>\n",
       "      <th>3</th>\n",
       "      <td>Butrint</td>\n",
       "    </tr>\n",
       "    <tr>\n",
       "      <th>4</th>\n",
       "      <td>Al Qal'a of Beni Hammad</td>\n",
       "    </tr>\n",
       "  </tbody>\n",
       "</table>\n",
       "</div>"
      ],
      "text/plain": [
       "                                       landmark_name\n",
       "0  Cultural Landscape and Archaeological Remains ...\n",
       "1          Minaret and Archaeological Remains of Jam\n",
       "2         Historic Centres of Berat and Gjirokastra \n",
       "3                                            Butrint\n",
       "4                            Al Qal'a of Beni Hammad"
      ]
     },
     "execution_count": 2,
     "metadata": {},
     "output_type": "execute_result"
    }
   ],
   "source": [
    "preprocessor1 = Preprocessor(ROOT_DIR)\n",
    "\n",
    "df_unesco = pd.read_csv(os.path.join(DATA_PATH, \"unesco_names.csv\"), header=0, names=[\"landmark_name\"])\n",
    "landmark_names = set(df_unesco[\"landmark_name\"].to_list())\n",
    "\n",
    "df_unesco.head()"
   ]
  },
  {
   "cell_type": "markdown",
   "metadata": {},
   "source": [
    "#### 1.1.2 Embedding the UNESCO data\n",
    "For filtering of the wikipedia pages based on the landmark names, the landmark names need to be embedded such that we can do a similarity search. This is needed since the titels of the wikipedia pages are rarely exactly like the landmark names described in the UNESCO dataset.\n",
    "\n",
    "For embedding the names, we are using spacy."
   ]
  },
  {
   "cell_type": "code",
   "execution_count": 3,
   "metadata": {},
   "outputs": [
    {
     "name": "stdout",
     "output_type": "stream",
     "text": [
      "Number of embedded landmarks:  1157\n"
     ]
    }
   ],
   "source": [
    "landmark_embeddings = []\n",
    "\n",
    "for landmark_name in landmark_names:\n",
    "    landmark_embeddings.append(preprocessor1.ner_spacy(landmark_name))\n",
    "\n",
    "print(\"Number of embedded landmarks: \", len(landmark_embeddings))"
   ]
  },
  {
   "cell_type": "markdown",
   "metadata": {},
   "source": [
    "#### 1.1.3 Subsetting the Wikipedia Dataset\n",
    "\n"
   ]
  },
  {
   "cell_type": "code",
   "execution_count": 5,
   "metadata": {},
   "outputs": [
    {
     "name": "stdout",
     "output_type": "stream",
     "text": [
      "1/100 - Started processing 'wiki_00' in folder 'AA'\n",
      "2/100 - Started processing 'wiki_01' in folder 'AA'\n",
      "3/100 - Started processing 'wiki_02' in folder 'AA'\n",
      "4/100 - Started processing 'wiki_03' in folder 'AA'\n",
      "5/100 - Started processing 'wiki_04' in folder 'AA'\n",
      "6/100 - Started processing 'wiki_05' in folder 'AA'\n",
      "7/100 - Started processing 'wiki_06' in folder 'AA'\n",
      "8/100 - Started processing 'wiki_07' in folder 'AA'\n",
      "9/100 - Started processing 'wiki_08' in folder 'AA'\n",
      "10/100 - Started processing 'wiki_09' in folder 'AA'\n",
      "11/100 - Started processing 'wiki_10' in folder 'AA'\n",
      "12/100 - Started processing 'wiki_11' in folder 'AA'\n",
      "13/100 - Started processing 'wiki_12' in folder 'AA'\n",
      "14/100 - Started processing 'wiki_13' in folder 'AA'\n",
      "15/100 - Started processing 'wiki_14' in folder 'AA'\n",
      "16/100 - Started processing 'wiki_15' in folder 'AA'\n",
      "17/100 - Started processing 'wiki_16' in folder 'AA'\n",
      "18/100 - Started processing 'wiki_17' in folder 'AA'\n",
      "19/100 - Started processing 'wiki_18' in folder 'AA'\n",
      "20/100 - Started processing 'wiki_19' in folder 'AA'\n",
      "21/100 - Started processing 'wiki_20' in folder 'AA'\n",
      "22/100 - Started processing 'wiki_21' in folder 'AA'\n",
      "23/100 - Started processing 'wiki_22' in folder 'AA'\n",
      "24/100 - Started processing 'wiki_23' in folder 'AA'\n",
      "25/100 - Started processing 'wiki_24' in folder 'AA'\n",
      "26/100 - Started processing 'wiki_25' in folder 'AA'\n",
      "27/100 - Started processing 'wiki_26' in folder 'AA'\n",
      "28/100 - Started processing 'wiki_27' in folder 'AA'\n",
      "29/100 - Started processing 'wiki_28' in folder 'AA'\n",
      "30/100 - Started processing 'wiki_29' in folder 'AA'\n",
      "31/100 - Started processing 'wiki_30' in folder 'AA'\n",
      "32/100 - Started processing 'wiki_31' in folder 'AA'\n",
      "33/100 - Started processing 'wiki_32' in folder 'AA'\n",
      "34/100 - Started processing 'wiki_33' in folder 'AA'\n",
      "35/100 - Started processing 'wiki_34' in folder 'AA'\n",
      "36/100 - Started processing 'wiki_35' in folder 'AA'\n",
      "37/100 - Started processing 'wiki_36' in folder 'AA'\n",
      "38/100 - Started processing 'wiki_37' in folder 'AA'\n",
      "39/100 - Started processing 'wiki_38' in folder 'AA'\n",
      "40/100 - Started processing 'wiki_39' in folder 'AA'\n",
      "41/100 - Started processing 'wiki_40' in folder 'AA'\n",
      "42/100 - Started processing 'wiki_41' in folder 'AA'\n",
      "43/100 - Started processing 'wiki_42' in folder 'AA'\n",
      "44/100 - Started processing 'wiki_43' in folder 'AA'\n",
      "45/100 - Started processing 'wiki_44' in folder 'AA'\n",
      "46/100 - Started processing 'wiki_45' in folder 'AA'\n",
      "47/100 - Started processing 'wiki_46' in folder 'AA'\n",
      "48/100 - Started processing 'wiki_47' in folder 'AA'\n",
      "49/100 - Started processing 'wiki_48' in folder 'AA'\n",
      "50/100 - Started processing 'wiki_49' in folder 'AA'\n",
      "51/100 - Started processing 'wiki_50' in folder 'AA'\n",
      "52/100 - Started processing 'wiki_51' in folder 'AA'\n",
      "53/100 - Started processing 'wiki_52' in folder 'AA'\n",
      "54/100 - Started processing 'wiki_53' in folder 'AA'\n",
      "55/100 - Started processing 'wiki_54' in folder 'AA'\n",
      "56/100 - Started processing 'wiki_55' in folder 'AA'\n",
      "57/100 - Started processing 'wiki_56' in folder 'AA'\n",
      "58/100 - Started processing 'wiki_57' in folder 'AA'\n",
      "59/100 - Started processing 'wiki_58' in folder 'AA'\n",
      "60/100 - Started processing 'wiki_59' in folder 'AA'\n",
      "61/100 - Started processing 'wiki_60' in folder 'AA'\n",
      "62/100 - Started processing 'wiki_61' in folder 'AA'\n",
      "63/100 - Started processing 'wiki_62' in folder 'AA'\n",
      "64/100 - Started processing 'wiki_63' in folder 'AA'\n",
      "65/100 - Started processing 'wiki_64' in folder 'AA'\n",
      "66/100 - Started processing 'wiki_65' in folder 'AA'\n",
      "67/100 - Started processing 'wiki_66' in folder 'AA'\n",
      "68/100 - Started processing 'wiki_67' in folder 'AA'\n",
      "69/100 - Started processing 'wiki_68' in folder 'AA'\n",
      "70/100 - Started processing 'wiki_69' in folder 'AA'\n",
      "71/100 - Started processing 'wiki_70' in folder 'AA'\n",
      "72/100 - Started processing 'wiki_71' in folder 'AA'\n",
      "73/100 - Started processing 'wiki_72' in folder 'AA'\n",
      "74/100 - Started processing 'wiki_73' in folder 'AA'\n",
      "75/100 - Started processing 'wiki_74' in folder 'AA'\n",
      "76/100 - Started processing 'wiki_75' in folder 'AA'\n",
      "77/100 - Started processing 'wiki_76' in folder 'AA'\n",
      "78/100 - Started processing 'wiki_77' in folder 'AA'\n",
      "79/100 - Started processing 'wiki_78' in folder 'AA'\n",
      "80/100 - Started processing 'wiki_79' in folder 'AA'\n",
      "81/100 - Started processing 'wiki_80' in folder 'AA'\n",
      "82/100 - Started processing 'wiki_81' in folder 'AA'\n",
      "83/100 - Started processing 'wiki_82' in folder 'AA'\n",
      "84/100 - Started processing 'wiki_83' in folder 'AA'\n",
      "85/100 - Started processing 'wiki_84' in folder 'AA'\n",
      "86/100 - Started processing 'wiki_85' in folder 'AA'\n",
      "87/100 - Started processing 'wiki_86' in folder 'AA'\n",
      "88/100 - Started processing 'wiki_87' in folder 'AA'\n",
      "89/100 - Started processing 'wiki_88' in folder 'AA'\n",
      "90/100 - Started processing 'wiki_89' in folder 'AA'\n",
      "91/100 - Started processing 'wiki_90' in folder 'AA'\n",
      "92/100 - Started processing 'wiki_91' in folder 'AA'\n",
      "93/100 - Started processing 'wiki_92' in folder 'AA'\n",
      "94/100 - Started processing 'wiki_93' in folder 'AA'\n",
      "95/100 - Started processing 'wiki_94' in folder 'AA'\n",
      "96/100 - Started processing 'wiki_95' in folder 'AA'\n",
      "97/100 - Started processing 'wiki_96' in folder 'AA'\n",
      "98/100 - Started processing 'wiki_97' in folder 'AA'\n",
      "99/100 - Started processing 'wiki_98' in folder 'AA'\n",
      "100/100 - Started processing 'wiki_99' in folder 'AA'\n",
      "Folder AA is processed\n",
      "1/77 - Started processing 'wiki_00' in folder 'AB'\n",
      "2/77 - Started processing 'wiki_01' in folder 'AB'\n",
      "3/77 - Started processing 'wiki_02' in folder 'AB'\n",
      "4/77 - Started processing 'wiki_03' in folder 'AB'\n",
      "5/77 - Started processing 'wiki_04' in folder 'AB'\n",
      "6/77 - Started processing 'wiki_05' in folder 'AB'\n",
      "7/77 - Started processing 'wiki_06' in folder 'AB'\n",
      "8/77 - Started processing 'wiki_07' in folder 'AB'\n",
      "9/77 - Started processing 'wiki_08' in folder 'AB'\n",
      "10/77 - Started processing 'wiki_09' in folder 'AB'\n",
      "11/77 - Started processing 'wiki_10' in folder 'AB'\n",
      "12/77 - Started processing 'wiki_11' in folder 'AB'\n",
      "13/77 - Started processing 'wiki_12' in folder 'AB'\n",
      "14/77 - Started processing 'wiki_13' in folder 'AB'\n",
      "15/77 - Started processing 'wiki_14' in folder 'AB'\n",
      "16/77 - Started processing 'wiki_15' in folder 'AB'\n",
      "17/77 - Started processing 'wiki_16' in folder 'AB'\n",
      "18/77 - Started processing 'wiki_17' in folder 'AB'\n",
      "19/77 - Started processing 'wiki_18' in folder 'AB'\n",
      "20/77 - Started processing 'wiki_19' in folder 'AB'\n",
      "21/77 - Started processing 'wiki_20' in folder 'AB'\n",
      "22/77 - Started processing 'wiki_21' in folder 'AB'\n",
      "23/77 - Started processing 'wiki_22' in folder 'AB'\n",
      "24/77 - Started processing 'wiki_23' in folder 'AB'\n",
      "25/77 - Started processing 'wiki_24' in folder 'AB'\n",
      "26/77 - Started processing 'wiki_25' in folder 'AB'\n",
      "27/77 - Started processing 'wiki_26' in folder 'AB'\n",
      "28/77 - Started processing 'wiki_27' in folder 'AB'\n",
      "29/77 - Started processing 'wiki_28' in folder 'AB'\n",
      "30/77 - Started processing 'wiki_29' in folder 'AB'\n",
      "31/77 - Started processing 'wiki_30' in folder 'AB'\n",
      "32/77 - Started processing 'wiki_31' in folder 'AB'\n",
      "33/77 - Started processing 'wiki_32' in folder 'AB'\n",
      "34/77 - Started processing 'wiki_33' in folder 'AB'\n",
      "35/77 - Started processing 'wiki_34' in folder 'AB'\n",
      "36/77 - Started processing 'wiki_35' in folder 'AB'\n",
      "37/77 - Started processing 'wiki_36' in folder 'AB'\n",
      "38/77 - Started processing 'wiki_37' in folder 'AB'\n",
      "39/77 - Started processing 'wiki_38' in folder 'AB'\n",
      "40/77 - Started processing 'wiki_39' in folder 'AB'\n",
      "41/77 - Started processing 'wiki_40' in folder 'AB'\n",
      "42/77 - Started processing 'wiki_41' in folder 'AB'\n",
      "43/77 - Started processing 'wiki_42' in folder 'AB'\n",
      "44/77 - Started processing 'wiki_43' in folder 'AB'\n",
      "45/77 - Started processing 'wiki_44' in folder 'AB'\n",
      "46/77 - Started processing 'wiki_45' in folder 'AB'\n",
      "47/77 - Started processing 'wiki_46' in folder 'AB'\n",
      "48/77 - Started processing 'wiki_47' in folder 'AB'\n",
      "49/77 - Started processing 'wiki_48' in folder 'AB'\n",
      "50/77 - Started processing 'wiki_49' in folder 'AB'\n",
      "51/77 - Started processing 'wiki_50' in folder 'AB'\n",
      "52/77 - Started processing 'wiki_51' in folder 'AB'\n",
      "53/77 - Started processing 'wiki_52' in folder 'AB'\n",
      "54/77 - Started processing 'wiki_53' in folder 'AB'\n",
      "55/77 - Started processing 'wiki_54' in folder 'AB'\n",
      "56/77 - Started processing 'wiki_55' in folder 'AB'\n",
      "57/77 - Started processing 'wiki_56' in folder 'AB'\n",
      "58/77 - Started processing 'wiki_57' in folder 'AB'\n",
      "59/77 - Started processing 'wiki_58' in folder 'AB'\n",
      "60/77 - Started processing 'wiki_59' in folder 'AB'\n",
      "61/77 - Started processing 'wiki_60' in folder 'AB'\n",
      "62/77 - Started processing 'wiki_61' in folder 'AB'\n",
      "63/77 - Started processing 'wiki_62' in folder 'AB'\n",
      "64/77 - Started processing 'wiki_63' in folder 'AB'\n",
      "65/77 - Started processing 'wiki_64' in folder 'AB'\n",
      "66/77 - Started processing 'wiki_65' in folder 'AB'\n",
      "67/77 - Started processing 'wiki_66' in folder 'AB'\n",
      "68/77 - Started processing 'wiki_67' in folder 'AB'\n",
      "69/77 - Started processing 'wiki_68' in folder 'AB'\n",
      "70/77 - Started processing 'wiki_69' in folder 'AB'\n",
      "71/77 - Started processing 'wiki_70' in folder 'AB'\n",
      "72/77 - Started processing 'wiki_71' in folder 'AB'\n",
      "73/77 - Started processing 'wiki_72' in folder 'AB'\n",
      "74/77 - Started processing 'wiki_73' in folder 'AB'\n",
      "75/77 - Started processing 'wiki_74' in folder 'AB'\n",
      "76/77 - Started processing 'wiki_75' in folder 'AB'\n",
      "77/77 - Started processing 'wiki_76' in folder 'AB'\n",
      "Folder AB is processed\n"
     ]
    }
   ],
   "source": [
    "folders = [\"AA\", \"AB\"]\n",
    "# Title for title filtering, trailing space is important for filtering\n",
    "title = \"UNESCO World Heritage Site \"\n",
    "\n",
    "page_list = preprocessor1.process_folders(folders = folders, landmarks = landmark_names, debug = True, title = title, title_based = False)"
   ]
  },
  {
   "cell_type": "markdown",
   "metadata": {},
   "source": [
    "#### 1.1.4 Export Wikipedia subset"
   ]
  },
  {
   "cell_type": "code",
   "execution_count": 6,
   "metadata": {},
   "outputs": [],
   "source": [
    "preprocessor1.writeFile(page_list, f\"unesco_first_subset.json\")"
   ]
  },
  {
   "cell_type": "code",
   "execution_count": 11,
   "metadata": {},
   "outputs": [
    {
     "data": {
      "text/plain": [
       "5160"
      ]
     },
     "execution_count": 11,
     "metadata": {},
     "output_type": "execute_result"
    }
   ],
   "source": [
    "unesco_wikipedia_pages = preprocessor1.loadFile(f\"unesco_first_subset.json\")"
   ]
  },
  {
   "cell_type": "markdown",
   "metadata": {},
   "source": [
    "#### 1.1.5 Embedding filtering on the Wikipedia subset"
   ]
  },
  {
   "cell_type": "code",
   "execution_count": null,
   "metadata": {},
   "outputs": [],
   "source": [
    "file_path = os.path.join(DATA_PATH, \"unesco_first_subset.json\")\n",
    "results = preprocessor1.process_file_nlp(file_path, landmark_embeddings)"
   ]
  },
  {
   "cell_type": "markdown",
   "metadata": {},
   "source": [
    "#### 1.1.6 Exporting filtered data\n",
    "To be able to use the texts for further cleaning, the current filtered data is being stored as a json file to the disk."
   ]
  },
  {
   "cell_type": "code",
   "execution_count": null,
   "metadata": {},
   "outputs": [],
   "source": [
    "preprocessor1.writeFile(results, f\"unesco_wikipedia_pages.json\")"
   ]
  },
  {
   "cell_type": "markdown",
   "metadata": {},
   "source": [
    "### 1.2 Subset 2: String matching filtering\n",
    "#### 1.2.1 Importing the UNESCO data"
   ]
  },
  {
   "cell_type": "code",
   "execution_count": null,
   "metadata": {},
   "outputs": [],
   "source": [
    "preprocessor2 = Preprocessor(ROOT_DIR)"
   ]
  },
  {
   "cell_type": "markdown",
   "metadata": {},
   "source": [
    "#### 1.2.2 Filtering the Wikipedia dataset"
   ]
  },
  {
   "cell_type": "code",
   "execution_count": null,
   "metadata": {},
   "outputs": [],
   "source": [
    "folders = [\"AA\", \"AB\"]\n",
    "# Title for title filtering, trailing space is important for filtering\n",
    "title = \"UNESCO World Heritage Site \"\n",
    "\n",
    "page_list = preprocessor1.process_folders(folders = folders, landmarks = landmark_names, debug = True, title = title, title_based = True)"
   ]
  },
  {
   "cell_type": "markdown",
   "metadata": {},
   "source": [
    "Every wikipedia text has the following raw format:"
   ]
  },
  {
   "cell_type": "markdown",
   "metadata": {},
   "source": [
    "#### 1.2.3 Exporting the second subset\n"
   ]
  },
  {
   "cell_type": "code",
   "execution_count": 7,
   "metadata": {},
   "outputs": [],
   "source": [
    "preprocessor2.writeFile(page_list, f\"unesco_wikipedia_titles.json\")"
   ]
  },
  {
   "cell_type": "markdown",
   "metadata": {},
   "source": [
    "## 2. Clearning the wikipedia pages\n",
    "\n",
    "### 2.1 Shortening the wikipedia pages\n",
    "For the main purpose of the task, namely converting information from text to a knowledge graph, most important information of a heritage site is stored in the first few paragraphs. Therefore, we will first shorten all the texts to the first 2 paragraphs and with a minimum of 500 words (average paragraph length is 250 words).\n",
    "\n",
    "We start of by defining a function that can shorten a text to 2 paragraphs. This is done by splitting the text on the newline character and then joining the first two paragraphs together."
   ]
  },
  {
   "cell_type": "code",
   "execution_count": 8,
   "metadata": {},
   "outputs": [],
   "source": [
    "unesco_wikipedia_pages = preprocessor.loadFile(f\"unesco_wikipedia_pages.json\")"
   ]
  },
  {
   "cell_type": "code",
   "execution_count": 9,
   "metadata": {},
   "outputs": [],
   "source": [
    "for page in unesco_wikipedia_pages:\n",
    "    splitted_text = page[\"text\"].split(\"\\n\")\n",
    "\n",
    "    # Get the lengths of every split and get the first index of the split where the total number is higher than 500\n",
    "    total_length = 0\n",
    "    for index, split in enumerate(splitted_text):\n",
    "        total_length += len(split)\n",
    "        if total_length > 500:\n",
    "            page[\"text\"] = ''.join(splitted_text[:index+1])\n",
    "            break"
   ]
  },
  {
   "cell_type": "markdown",
   "metadata": {},
   "source": [
    "At this point the unesco_wikipedia_pages are split per new line. The average paragraph length is 250 words. Therefore, we will shorten the texts with a minimum of 500 words.\n",
    "\n",
    "### 2.2 Removing unwanted characters and fixing unicode"
   ]
  },
  {
   "cell_type": "code",
   "execution_count": 10,
   "metadata": {},
   "outputs": [
    {
     "name": "stdout",
     "output_type": "stream",
     "text": [
      "Cleaning data with ftfy...\n"
     ]
    },
    {
     "name": "stderr",
     "output_type": "stream",
     "text": [
      "100%|██████████| 4/4 [00:00<00:00, 1996.81it/s]\n"
     ]
    },
    {
     "name": "stdout",
     "output_type": "stream",
     "text": [
      "Cleaning data with given regex...\n"
     ]
    },
    {
     "name": "stderr",
     "output_type": "stream",
     "text": [
      "100%|██████████| 4/4 [00:00<?, ?it/s]\n"
     ]
    }
   ],
   "source": [
    "unesco_wikipedia_pages_clean = preprocessor.fix_unicode(unesco_wikipedia_pages)"
   ]
  },
  {
   "cell_type": "markdown",
   "metadata": {},
   "source": [
    "An example of the cleaned text is shown below:"
   ]
  },
  {
   "cell_type": "code",
   "execution_count": 11,
   "metadata": {},
   "outputs": [
    {
     "data": {
      "text/plain": [
       "{'id': '2750841',\n",
       " 'revid': '182902',\n",
       " 'url': 'https://en.wikipedia.org/wiki?curid=2750841',\n",
       " 'title': 'Alejandro de Humboldt National Park',\n",
       " 'text': 'Alejandro de Humboldt National Park is a national park in the Cuban provinces of Holguín and Guantánamo It is named after the German scientist Alexander von Humboldt who visited the island in 1800 and 1801 The park was inscribed as a UNESCO World Heritage Site in 2001 for of its size altitude range complex lithology landform diversity and wealth of endemic flora and fauna Geography The rivers that flow off the peaks of the park are some of the largest in the insular Caribbean The park is said to be the most humid place in Cuba and this causes a high biological diversity The park has an area of of which land area and marine area Elevation ranges from sea level to on El Toldo Peak',\n",
       " 'original_text': 'Alejandro de Humboldt National Park () is a national park in the Cuban provinces of Holguín and Guantánamo. It is named after the German scientist Alexander von Humboldt who visited the island in 1800 and 1801. The park was inscribed as a UNESCO World Heritage Site in 2001 for of its size, altitude range, complex lithology, landform diversity, and wealth of endemic flora and fauna.Geography.The rivers that flow off the peaks of the park are some of the largest in the insular Caribbean. The park is said to be the most humid place in Cuba and this causes a high biological diversity. The park has an area of , of which land area and marine area. Elevation ranges from sea level to on \"El Toldo\" Peak.'}"
      ]
     },
     "execution_count": 11,
     "metadata": {},
     "output_type": "execute_result"
    }
   ],
   "source": [
    "unesco_wikipedia_pages_clean[0]"
   ]
  },
  {
   "cell_type": "markdown",
   "metadata": {},
   "source": [
    "### 2.3 Export the cleaned data in separate json files\n",
    "There is a export needed of separate json file for the annotation program."
   ]
  },
  {
   "cell_type": "code",
   "execution_count": 12,
   "metadata": {},
   "outputs": [],
   "source": [
    "preprocessor.save_file(unesco_wikipedia_pages_clean, \"subset_texts\")"
   ]
  }
 ],
 "metadata": {
  "kernelspec": {
   "display_name": "Text-Mining-xR8YyNgY",
   "language": "python",
   "name": "python3"
  },
  "language_info": {
   "codemirror_mode": {
    "name": "ipython",
    "version": 3
   },
   "file_extension": ".py",
   "mimetype": "text/x-python",
   "name": "python",
   "nbconvert_exporter": "python",
   "pygments_lexer": "ipython3",
   "version": "3.10.2"
  },
  "orig_nbformat": 4
 },
 "nbformat": 4,
 "nbformat_minor": 2
}
