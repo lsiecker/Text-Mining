{
 "cells": [
  {
   "cell_type": "code",
   "execution_count": 1,
   "metadata": {},
   "outputs": [],
   "source": [
    "%load_ext autoreload\n",
    "%autoreload 2"
   ]
  },
  {
   "cell_type": "markdown",
   "metadata": {},
   "source": [
    "# Pre-Processing Wikipedia data\n",
    "This notebook is a workflow for pre-processing the wikipedia data. This includes cleaning the data before it is used further. Shortening the texts based on some criteria and finally saving the data in a format that can be used by the labeling program and training of the model."
   ]
  },
  {
   "cell_type": "code",
   "execution_count": 1,
   "metadata": {},
   "outputs": [
    {
     "name": "stdout",
     "output_type": "stream",
     "text": [
      "Root directory: d:\\TUe\\2AMM30 - Text Mining\\Text-Mining\n"
     ]
    }
   ],
   "source": [
    "import preprocessor\n",
    "from preprocessor import Preprocessor\n",
    "import os\n",
    "import pandas as pd\n",
    "\n",
    "ROOT_DIR = preprocessor.ROOT_DIR\n",
    "DATA_PATH = preprocessor.DATA_PATH"
   ]
  },
  {
   "cell_type": "markdown",
   "metadata": {},
   "source": [
    "## 1. Importing and filtering the UNESCO WORLD HERITAGE sites\n",
    "### 1.1 Subset 1: Spacy embedding filtering\n",
    "#### 1.1.1 Importing the UNESCO data\n",
    "The first subset of the entire Wikipedia dataset will consists of articles for which we are positive that they contain UNESCO World Heritage Sites\n",
    "We start he preprocessing with retrieving the unesco world heritage sites from a dataset and filtering these sites in the large wikipedia dataset. \n",
    "\n",
    "The data is read from a csv file, followed by making a set of all the names in this column with english names. This is done for further processing using the set of names in stead of a dataframe.\n",
    "\n",
    "To see what kind of data we are using, a head of the dataframe is printed."
   ]
  },
  {
   "cell_type": "code",
   "execution_count": 3,
   "metadata": {},
   "outputs": [
    {
     "name": "stderr",
     "output_type": "stream",
     "text": [
      "c:\\Users\\20182640\\.virtualenvs\\Text-Mining-xR8YyNgY\\lib\\site-packages\\spacy\\util.py:910: UserWarning: [W095] Model 'en_core_web_sm' (3.6.0) was trained with spaCy v3.6.0 and may not be 100% compatible with the current version (3.7.2). If you see errors or degraded performance, download a newer compatible model or retrain your custom model with the current spaCy version. For more details and available updates, run: python -m spacy validate\n",
      "  warnings.warn(warn_msg)\n"
     ]
    },
    {
     "data": {
      "text/html": [
       "<div>\n",
       "<style scoped>\n",
       "    .dataframe tbody tr th:only-of-type {\n",
       "        vertical-align: middle;\n",
       "    }\n",
       "\n",
       "    .dataframe tbody tr th {\n",
       "        vertical-align: top;\n",
       "    }\n",
       "\n",
       "    .dataframe thead th {\n",
       "        text-align: right;\n",
       "    }\n",
       "</style>\n",
       "<table border=\"1\" class=\"dataframe\">\n",
       "  <thead>\n",
       "    <tr style=\"text-align: right;\">\n",
       "      <th></th>\n",
       "      <th>landmark_name</th>\n",
       "    </tr>\n",
       "  </thead>\n",
       "  <tbody>\n",
       "    <tr>\n",
       "      <th>0</th>\n",
       "      <td>Cultural Landscape and Archaeological Remains ...</td>\n",
       "    </tr>\n",
       "    <tr>\n",
       "      <th>1</th>\n",
       "      <td>Minaret and Archaeological Remains of Jam</td>\n",
       "    </tr>\n",
       "    <tr>\n",
       "      <th>2</th>\n",
       "      <td>Historic Centres of Berat and Gjirokastra</td>\n",
       "    </tr>\n",
       "    <tr>\n",
       "      <th>3</th>\n",
       "      <td>Butrint</td>\n",
       "    </tr>\n",
       "    <tr>\n",
       "      <th>4</th>\n",
       "      <td>Al Qal'a of Beni Hammad</td>\n",
       "    </tr>\n",
       "  </tbody>\n",
       "</table>\n",
       "</div>"
      ],
      "text/plain": [
       "                                       landmark_name\n",
       "0  Cultural Landscape and Archaeological Remains ...\n",
       "1          Minaret and Archaeological Remains of Jam\n",
       "2         Historic Centres of Berat and Gjirokastra \n",
       "3                                            Butrint\n",
       "4                            Al Qal'a of Beni Hammad"
      ]
     },
     "execution_count": 3,
     "metadata": {},
     "output_type": "execute_result"
    }
   ],
   "source": [
    "preprocessor = Preprocessor(ROOT_DIR)\n",
    "\n",
    "df_unesco = pd.read_csv(os.path.join(DATA_PATH, \"component_1\", \"unesco_names.csv\"), header=0, names=[\"landmark_name\"])\n",
    "landmark_names = set(df_unesco[\"landmark_name\"].to_list())\n",
    "\n",
    "df_unesco.head()"
   ]
  },
  {
   "cell_type": "markdown",
   "metadata": {},
   "source": [
    "#### 1.1.2 Embedding the UNESCO data\n",
    "For filtering of the wikipedia pages based on the landmark names, the landmark names need to be embedded such that we can do a similarity search. This is needed since the titels of the wikipedia pages are rarely exactly like the landmark names described in the UNESCO dataset.\n",
    "\n",
    "For embedding the names, we are using spacy."
   ]
  },
  {
   "cell_type": "code",
   "execution_count": 4,
   "metadata": {},
   "outputs": [
    {
     "name": "stdout",
     "output_type": "stream",
     "text": [
      "Number of embedded landmarks:  1157\n"
     ]
    }
   ],
   "source": [
    "landmark_embeddings = []\n",
    "\n",
    "for landmark_name in landmark_names:\n",
    "    landmark_embeddings.append(preprocessor.ner_spacy(landmark_name))\n",
    "\n",
    "print(\"Number of embedded landmarks: \", len(landmark_embeddings))"
   ]
  },
  {
   "cell_type": "markdown",
   "metadata": {},
   "source": [
    "#### 1.1.3 Subsetting the Wikipedia Dataset\n",
    "Comparisson with embeddings takes a lot of time and is hence not feasible for the entire Wikipedia dataset. Hence, we take a subset of the dataset by filtering on Wikipedia articles that occur in (parts of) the UNESCO landmarks list. This is done using the `process_folders` function, which can either be used to filter on title or on landmark names. Based on the variable `title_based`, it decides whether to run `process_file_regex` or `process_file_nlp` respectively.\n"
   ]
  },
  {
   "cell_type": "code",
   "execution_count": 6,
   "metadata": {},
   "outputs": [
    {
     "name": "stdout",
     "output_type": "stream",
     "text": [
      "1/100 - Started processing 'wiki_00' in folder 'component_1\\AA'\n",
      "2/100 - Started processing 'wiki_01' in folder 'component_1\\AA'\n",
      "3/100 - Started processing 'wiki_02' in folder 'component_1\\AA'\n",
      "4/100 - Started processing 'wiki_03' in folder 'component_1\\AA'\n",
      "5/100 - Started processing 'wiki_04' in folder 'component_1\\AA'\n",
      "6/100 - Started processing 'wiki_05' in folder 'component_1\\AA'\n",
      "7/100 - Started processing 'wiki_06' in folder 'component_1\\AA'\n",
      "8/100 - Started processing 'wiki_07' in folder 'component_1\\AA'\n",
      "9/100 - Started processing 'wiki_08' in folder 'component_1\\AA'\n",
      "10/100 - Started processing 'wiki_09' in folder 'component_1\\AA'\n",
      "11/100 - Started processing 'wiki_10' in folder 'component_1\\AA'\n",
      "12/100 - Started processing 'wiki_11' in folder 'component_1\\AA'\n",
      "13/100 - Started processing 'wiki_12' in folder 'component_1\\AA'\n",
      "14/100 - Started processing 'wiki_13' in folder 'component_1\\AA'\n",
      "15/100 - Started processing 'wiki_14' in folder 'component_1\\AA'\n",
      "16/100 - Started processing 'wiki_15' in folder 'component_1\\AA'\n",
      "17/100 - Started processing 'wiki_16' in folder 'component_1\\AA'\n",
      "18/100 - Started processing 'wiki_17' in folder 'component_1\\AA'\n",
      "19/100 - Started processing 'wiki_18' in folder 'component_1\\AA'\n",
      "20/100 - Started processing 'wiki_19' in folder 'component_1\\AA'\n",
      "21/100 - Started processing 'wiki_20' in folder 'component_1\\AA'\n",
      "22/100 - Started processing 'wiki_21' in folder 'component_1\\AA'\n",
      "23/100 - Started processing 'wiki_22' in folder 'component_1\\AA'\n",
      "24/100 - Started processing 'wiki_23' in folder 'component_1\\AA'\n",
      "25/100 - Started processing 'wiki_24' in folder 'component_1\\AA'\n",
      "26/100 - Started processing 'wiki_25' in folder 'component_1\\AA'\n",
      "27/100 - Started processing 'wiki_26' in folder 'component_1\\AA'\n",
      "28/100 - Started processing 'wiki_27' in folder 'component_1\\AA'\n",
      "29/100 - Started processing 'wiki_28' in folder 'component_1\\AA'\n",
      "30/100 - Started processing 'wiki_29' in folder 'component_1\\AA'\n",
      "31/100 - Started processing 'wiki_30' in folder 'component_1\\AA'\n",
      "32/100 - Started processing 'wiki_31' in folder 'component_1\\AA'\n",
      "33/100 - Started processing 'wiki_32' in folder 'component_1\\AA'\n",
      "34/100 - Started processing 'wiki_33' in folder 'component_1\\AA'\n",
      "35/100 - Started processing 'wiki_34' in folder 'component_1\\AA'\n",
      "36/100 - Started processing 'wiki_35' in folder 'component_1\\AA'\n",
      "37/100 - Started processing 'wiki_36' in folder 'component_1\\AA'\n",
      "38/100 - Started processing 'wiki_37' in folder 'component_1\\AA'\n",
      "39/100 - Started processing 'wiki_38' in folder 'component_1\\AA'\n",
      "40/100 - Started processing 'wiki_39' in folder 'component_1\\AA'\n",
      "41/100 - Started processing 'wiki_40' in folder 'component_1\\AA'\n",
      "42/100 - Started processing 'wiki_41' in folder 'component_1\\AA'\n",
      "43/100 - Started processing 'wiki_42' in folder 'component_1\\AA'\n",
      "44/100 - Started processing 'wiki_43' in folder 'component_1\\AA'\n",
      "45/100 - Started processing 'wiki_44' in folder 'component_1\\AA'\n",
      "46/100 - Started processing 'wiki_45' in folder 'component_1\\AA'\n",
      "47/100 - Started processing 'wiki_46' in folder 'component_1\\AA'\n",
      "48/100 - Started processing 'wiki_47' in folder 'component_1\\AA'\n",
      "49/100 - Started processing 'wiki_48' in folder 'component_1\\AA'\n",
      "50/100 - Started processing 'wiki_49' in folder 'component_1\\AA'\n",
      "51/100 - Started processing 'wiki_50' in folder 'component_1\\AA'\n",
      "52/100 - Started processing 'wiki_51' in folder 'component_1\\AA'\n",
      "53/100 - Started processing 'wiki_52' in folder 'component_1\\AA'\n",
      "54/100 - Started processing 'wiki_53' in folder 'component_1\\AA'\n",
      "55/100 - Started processing 'wiki_54' in folder 'component_1\\AA'\n",
      "56/100 - Started processing 'wiki_55' in folder 'component_1\\AA'\n",
      "57/100 - Started processing 'wiki_56' in folder 'component_1\\AA'\n",
      "58/100 - Started processing 'wiki_57' in folder 'component_1\\AA'\n",
      "59/100 - Started processing 'wiki_58' in folder 'component_1\\AA'\n",
      "60/100 - Started processing 'wiki_59' in folder 'component_1\\AA'\n",
      "61/100 - Started processing 'wiki_60' in folder 'component_1\\AA'\n",
      "62/100 - Started processing 'wiki_61' in folder 'component_1\\AA'\n",
      "63/100 - Started processing 'wiki_62' in folder 'component_1\\AA'\n",
      "64/100 - Started processing 'wiki_63' in folder 'component_1\\AA'\n",
      "65/100 - Started processing 'wiki_64' in folder 'component_1\\AA'\n",
      "66/100 - Started processing 'wiki_65' in folder 'component_1\\AA'\n",
      "67/100 - Started processing 'wiki_66' in folder 'component_1\\AA'\n",
      "68/100 - Started processing 'wiki_67' in folder 'component_1\\AA'\n",
      "69/100 - Started processing 'wiki_68' in folder 'component_1\\AA'\n",
      "70/100 - Started processing 'wiki_69' in folder 'component_1\\AA'\n",
      "71/100 - Started processing 'wiki_70' in folder 'component_1\\AA'\n",
      "72/100 - Started processing 'wiki_71' in folder 'component_1\\AA'\n",
      "73/100 - Started processing 'wiki_72' in folder 'component_1\\AA'\n",
      "74/100 - Started processing 'wiki_73' in folder 'component_1\\AA'\n",
      "75/100 - Started processing 'wiki_74' in folder 'component_1\\AA'\n",
      "76/100 - Started processing 'wiki_75' in folder 'component_1\\AA'\n",
      "77/100 - Started processing 'wiki_76' in folder 'component_1\\AA'\n",
      "78/100 - Started processing 'wiki_77' in folder 'component_1\\AA'\n",
      "79/100 - Started processing 'wiki_78' in folder 'component_1\\AA'\n",
      "80/100 - Started processing 'wiki_79' in folder 'component_1\\AA'\n",
      "81/100 - Started processing 'wiki_80' in folder 'component_1\\AA'\n",
      "82/100 - Started processing 'wiki_81' in folder 'component_1\\AA'\n",
      "83/100 - Started processing 'wiki_82' in folder 'component_1\\AA'\n",
      "84/100 - Started processing 'wiki_83' in folder 'component_1\\AA'\n",
      "85/100 - Started processing 'wiki_84' in folder 'component_1\\AA'\n",
      "86/100 - Started processing 'wiki_85' in folder 'component_1\\AA'\n",
      "87/100 - Started processing 'wiki_86' in folder 'component_1\\AA'\n",
      "88/100 - Started processing 'wiki_87' in folder 'component_1\\AA'\n",
      "89/100 - Started processing 'wiki_88' in folder 'component_1\\AA'\n",
      "90/100 - Started processing 'wiki_89' in folder 'component_1\\AA'\n",
      "91/100 - Started processing 'wiki_90' in folder 'component_1\\AA'\n",
      "92/100 - Started processing 'wiki_91' in folder 'component_1\\AA'\n",
      "93/100 - Started processing 'wiki_92' in folder 'component_1\\AA'\n",
      "94/100 - Started processing 'wiki_93' in folder 'component_1\\AA'\n",
      "95/100 - Started processing 'wiki_94' in folder 'component_1\\AA'\n",
      "96/100 - Started processing 'wiki_95' in folder 'component_1\\AA'\n",
      "97/100 - Started processing 'wiki_96' in folder 'component_1\\AA'\n",
      "98/100 - Started processing 'wiki_97' in folder 'component_1\\AA'\n",
      "99/100 - Started processing 'wiki_98' in folder 'component_1\\AA'\n",
      "100/100 - Started processing 'wiki_99' in folder 'component_1\\AA'\n",
      "Folder component_1\\AA is processed\n",
      "1/77 - Started processing 'wiki_00' in folder 'component_1\\AB'\n",
      "2/77 - Started processing 'wiki_01' in folder 'component_1\\AB'\n",
      "3/77 - Started processing 'wiki_02' in folder 'component_1\\AB'\n",
      "4/77 - Started processing 'wiki_03' in folder 'component_1\\AB'\n",
      "5/77 - Started processing 'wiki_04' in folder 'component_1\\AB'\n",
      "6/77 - Started processing 'wiki_05' in folder 'component_1\\AB'\n",
      "7/77 - Started processing 'wiki_06' in folder 'component_1\\AB'\n",
      "8/77 - Started processing 'wiki_07' in folder 'component_1\\AB'\n",
      "9/77 - Started processing 'wiki_08' in folder 'component_1\\AB'\n",
      "10/77 - Started processing 'wiki_09' in folder 'component_1\\AB'\n",
      "11/77 - Started processing 'wiki_10' in folder 'component_1\\AB'\n",
      "12/77 - Started processing 'wiki_11' in folder 'component_1\\AB'\n",
      "13/77 - Started processing 'wiki_12' in folder 'component_1\\AB'\n",
      "14/77 - Started processing 'wiki_13' in folder 'component_1\\AB'\n",
      "15/77 - Started processing 'wiki_14' in folder 'component_1\\AB'\n",
      "16/77 - Started processing 'wiki_15' in folder 'component_1\\AB'\n",
      "17/77 - Started processing 'wiki_16' in folder 'component_1\\AB'\n",
      "18/77 - Started processing 'wiki_17' in folder 'component_1\\AB'\n",
      "19/77 - Started processing 'wiki_18' in folder 'component_1\\AB'\n",
      "20/77 - Started processing 'wiki_19' in folder 'component_1\\AB'\n",
      "21/77 - Started processing 'wiki_20' in folder 'component_1\\AB'\n",
      "22/77 - Started processing 'wiki_21' in folder 'component_1\\AB'\n",
      "23/77 - Started processing 'wiki_22' in folder 'component_1\\AB'\n",
      "24/77 - Started processing 'wiki_23' in folder 'component_1\\AB'\n",
      "25/77 - Started processing 'wiki_24' in folder 'component_1\\AB'\n",
      "26/77 - Started processing 'wiki_25' in folder 'component_1\\AB'\n",
      "27/77 - Started processing 'wiki_26' in folder 'component_1\\AB'\n",
      "28/77 - Started processing 'wiki_27' in folder 'component_1\\AB'\n",
      "29/77 - Started processing 'wiki_28' in folder 'component_1\\AB'\n",
      "30/77 - Started processing 'wiki_29' in folder 'component_1\\AB'\n",
      "31/77 - Started processing 'wiki_30' in folder 'component_1\\AB'\n",
      "32/77 - Started processing 'wiki_31' in folder 'component_1\\AB'\n",
      "33/77 - Started processing 'wiki_32' in folder 'component_1\\AB'\n",
      "34/77 - Started processing 'wiki_33' in folder 'component_1\\AB'\n",
      "35/77 - Started processing 'wiki_34' in folder 'component_1\\AB'\n",
      "36/77 - Started processing 'wiki_35' in folder 'component_1\\AB'\n",
      "37/77 - Started processing 'wiki_36' in folder 'component_1\\AB'\n",
      "38/77 - Started processing 'wiki_37' in folder 'component_1\\AB'\n",
      "39/77 - Started processing 'wiki_38' in folder 'component_1\\AB'\n",
      "40/77 - Started processing 'wiki_39' in folder 'component_1\\AB'\n",
      "41/77 - Started processing 'wiki_40' in folder 'component_1\\AB'\n",
      "42/77 - Started processing 'wiki_41' in folder 'component_1\\AB'\n",
      "43/77 - Started processing 'wiki_42' in folder 'component_1\\AB'\n",
      "44/77 - Started processing 'wiki_43' in folder 'component_1\\AB'\n",
      "45/77 - Started processing 'wiki_44' in folder 'component_1\\AB'\n",
      "46/77 - Started processing 'wiki_45' in folder 'component_1\\AB'\n",
      "47/77 - Started processing 'wiki_46' in folder 'component_1\\AB'\n",
      "48/77 - Started processing 'wiki_47' in folder 'component_1\\AB'\n",
      "49/77 - Started processing 'wiki_48' in folder 'component_1\\AB'\n",
      "50/77 - Started processing 'wiki_49' in folder 'component_1\\AB'\n",
      "51/77 - Started processing 'wiki_50' in folder 'component_1\\AB'\n",
      "52/77 - Started processing 'wiki_51' in folder 'component_1\\AB'\n",
      "53/77 - Started processing 'wiki_52' in folder 'component_1\\AB'\n",
      "54/77 - Started processing 'wiki_53' in folder 'component_1\\AB'\n",
      "55/77 - Started processing 'wiki_54' in folder 'component_1\\AB'\n",
      "56/77 - Started processing 'wiki_55' in folder 'component_1\\AB'\n",
      "57/77 - Started processing 'wiki_56' in folder 'component_1\\AB'\n",
      "58/77 - Started processing 'wiki_57' in folder 'component_1\\AB'\n",
      "59/77 - Started processing 'wiki_58' in folder 'component_1\\AB'\n",
      "60/77 - Started processing 'wiki_59' in folder 'component_1\\AB'\n",
      "61/77 - Started processing 'wiki_60' in folder 'component_1\\AB'\n",
      "62/77 - Started processing 'wiki_61' in folder 'component_1\\AB'\n",
      "63/77 - Started processing 'wiki_62' in folder 'component_1\\AB'\n",
      "64/77 - Started processing 'wiki_63' in folder 'component_1\\AB'\n",
      "65/77 - Started processing 'wiki_64' in folder 'component_1\\AB'\n",
      "66/77 - Started processing 'wiki_65' in folder 'component_1\\AB'\n",
      "67/77 - Started processing 'wiki_66' in folder 'component_1\\AB'\n",
      "68/77 - Started processing 'wiki_67' in folder 'component_1\\AB'\n",
      "69/77 - Started processing 'wiki_68' in folder 'component_1\\AB'\n",
      "70/77 - Started processing 'wiki_69' in folder 'component_1\\AB'\n",
      "71/77 - Started processing 'wiki_70' in folder 'component_1\\AB'\n",
      "72/77 - Started processing 'wiki_71' in folder 'component_1\\AB'\n",
      "73/77 - Started processing 'wiki_72' in folder 'component_1\\AB'\n",
      "74/77 - Started processing 'wiki_73' in folder 'component_1\\AB'\n",
      "75/77 - Started processing 'wiki_74' in folder 'component_1\\AB'\n",
      "76/77 - Started processing 'wiki_75' in folder 'component_1\\AB'\n",
      "77/77 - Started processing 'wiki_76' in folder 'component_1\\AB'\n",
      "Folder component_1\\AB is processed\n"
     ]
    }
   ],
   "source": [
    "folders = [os.path.join(\"component_1\",\"AA\"), os.path.join(\"component_1\",\"AB\")]\n",
    "\n",
    "# Title for title filtering, trailing space is important for filtering\n",
    "title = \"UNESCO World Heritage Site \"\n",
    "\n",
    "page_list = preprocessor.process_folders(folders = folders, landmarks = landmark_names, debug = True, title = title, title_based = False)"
   ]
  },
  {
   "cell_type": "markdown",
   "metadata": {},
   "source": [
    "#### 1.1.4 Export Wikipedia subset\n",
    "The resulting subset has 5160 entries, which is more feasible for Spacy embedding filtering. The next step is to save this dataset to a JSON file which can be used later on in the workflow. This is done using the `writeFile` function of the `Preprocessor` class."
   ]
  },
  {
   "cell_type": "code",
   "execution_count": 7,
   "metadata": {},
   "outputs": [],
   "source": [
    "preprocessor.writeFile(page_list, f\"component_1/unesco_first_subset.json\")"
   ]
  },
  {
   "cell_type": "markdown",
   "metadata": {},
   "source": [
    "#### 1.1.5 Embedding filtering on the Wikipedia subset\n",
    "The next step is to process the subset by filtering based on title and UNESCO landmarks similarity. All article titles are embedded just like the landmarks. A cosine similarity comparrison between the embeddings then indicates whether to include the article. This is done if the similarity is at least `0.97`. The function which does this is `process_file_nlp`."
   ]
  },
  {
   "cell_type": "code",
   "execution_count": 8,
   "metadata": {},
   "outputs": [
    {
     "name": "stderr",
     "output_type": "stream",
     "text": [
      "  0%|          | 0/5160 [00:00<?, ?it/s]d:\\TUe\\2AMM30 - Text Mining\\Text-Mining\\preprocessor.py:182: UserWarning: [W007] The model you're using has no word vectors loaded, so the result of the Doc.similarity method will be based on the tagger, parser and NER, which may not give useful similarity judgements. This may happen if you're using one of the small models, e.g. `en_core_web_sm`, which don't ship with word vectors and only use context-sensitive tensors. You can always add your own word vectors, or use one of the larger models instead if available.\n",
      "  similarity_score = title_embedding.similarity(landmark)\n",
      "100%|██████████| 5160/5160 [01:50<00:00, 46.63it/s]\n"
     ]
    },
    {
     "name": "stdout",
     "output_type": "stream",
     "text": [
      "Results found: 373\n"
     ]
    }
   ],
   "source": [
    "file_path = os.path.join(DATA_PATH, \"component_1\", \"unesco_first_subset.json\")\n",
    "results = preprocessor.process_file_nlp(file_path, landmark_embeddings, similarity_threshold = 0.97)\n",
    "print(f\"Results found: {len(results)}\")"
   ]
  },
  {
   "cell_type": "markdown",
   "metadata": {},
   "source": [
    "#### 1.1.6 Exporting filtered data\n",
    "To be able to use the texts for further cleaning, the current filtered data is being stored as a json file to the disk."
   ]
  },
  {
   "cell_type": "code",
   "execution_count": 9,
   "metadata": {},
   "outputs": [],
   "source": [
    "preprocessor.writeFile(results, f\"component_1/unesco_wikipedia_titles.json\")"
   ]
  },
  {
   "cell_type": "markdown",
   "metadata": {},
   "source": [
    "## 1.2 Subset 2: Title filtering\n",
    "#### 1.2.1 Filtering the Wikipedia dataset\n",
    "The second subset is filtered using the `process_file_title` function, which is called in the `process_folders` function if the parameter `title_based` is set to True. The `process_file_title` function checks whether the string \"UNESCO World Heritage Site \" (trailing space to prevent plural versions) occurs in the article text. If so, the article is included in the subset. "
   ]
  },
  {
   "cell_type": "code",
   "execution_count": 10,
   "metadata": {},
   "outputs": [
    {
     "name": "stdout",
     "output_type": "stream",
     "text": [
      "1/100 - Started processing 'wiki_00' in folder 'component_1\\AA'\n",
      "2/100 - Started processing 'wiki_01' in folder 'component_1\\AA'\n",
      "3/100 - Started processing 'wiki_02' in folder 'component_1\\AA'\n",
      "4/100 - Started processing 'wiki_03' in folder 'component_1\\AA'\n",
      "5/100 - Started processing 'wiki_04' in folder 'component_1\\AA'\n",
      "6/100 - Started processing 'wiki_05' in folder 'component_1\\AA'\n",
      "7/100 - Started processing 'wiki_06' in folder 'component_1\\AA'\n",
      "8/100 - Started processing 'wiki_07' in folder 'component_1\\AA'\n",
      "9/100 - Started processing 'wiki_08' in folder 'component_1\\AA'\n",
      "10/100 - Started processing 'wiki_09' in folder 'component_1\\AA'\n",
      "11/100 - Started processing 'wiki_10' in folder 'component_1\\AA'\n",
      "12/100 - Started processing 'wiki_11' in folder 'component_1\\AA'\n",
      "13/100 - Started processing 'wiki_12' in folder 'component_1\\AA'\n",
      "14/100 - Started processing 'wiki_13' in folder 'component_1\\AA'\n",
      "15/100 - Started processing 'wiki_14' in folder 'component_1\\AA'\n",
      "16/100 - Started processing 'wiki_15' in folder 'component_1\\AA'\n",
      "17/100 - Started processing 'wiki_16' in folder 'component_1\\AA'\n",
      "18/100 - Started processing 'wiki_17' in folder 'component_1\\AA'\n",
      "19/100 - Started processing 'wiki_18' in folder 'component_1\\AA'\n",
      "20/100 - Started processing 'wiki_19' in folder 'component_1\\AA'\n",
      "21/100 - Started processing 'wiki_20' in folder 'component_1\\AA'\n",
      "22/100 - Started processing 'wiki_21' in folder 'component_1\\AA'\n",
      "23/100 - Started processing 'wiki_22' in folder 'component_1\\AA'\n",
      "24/100 - Started processing 'wiki_23' in folder 'component_1\\AA'\n",
      "25/100 - Started processing 'wiki_24' in folder 'component_1\\AA'\n",
      "26/100 - Started processing 'wiki_25' in folder 'component_1\\AA'\n",
      "27/100 - Started processing 'wiki_26' in folder 'component_1\\AA'\n",
      "28/100 - Started processing 'wiki_27' in folder 'component_1\\AA'\n",
      "29/100 - Started processing 'wiki_28' in folder 'component_1\\AA'\n",
      "30/100 - Started processing 'wiki_29' in folder 'component_1\\AA'\n",
      "31/100 - Started processing 'wiki_30' in folder 'component_1\\AA'\n",
      "32/100 - Started processing 'wiki_31' in folder 'component_1\\AA'\n",
      "33/100 - Started processing 'wiki_32' in folder 'component_1\\AA'\n",
      "34/100 - Started processing 'wiki_33' in folder 'component_1\\AA'\n",
      "35/100 - Started processing 'wiki_34' in folder 'component_1\\AA'\n",
      "36/100 - Started processing 'wiki_35' in folder 'component_1\\AA'\n",
      "37/100 - Started processing 'wiki_36' in folder 'component_1\\AA'\n",
      "38/100 - Started processing 'wiki_37' in folder 'component_1\\AA'\n",
      "39/100 - Started processing 'wiki_38' in folder 'component_1\\AA'\n",
      "40/100 - Started processing 'wiki_39' in folder 'component_1\\AA'\n",
      "41/100 - Started processing 'wiki_40' in folder 'component_1\\AA'\n",
      "42/100 - Started processing 'wiki_41' in folder 'component_1\\AA'\n",
      "43/100 - Started processing 'wiki_42' in folder 'component_1\\AA'\n",
      "44/100 - Started processing 'wiki_43' in folder 'component_1\\AA'\n",
      "45/100 - Started processing 'wiki_44' in folder 'component_1\\AA'\n",
      "46/100 - Started processing 'wiki_45' in folder 'component_1\\AA'\n",
      "47/100 - Started processing 'wiki_46' in folder 'component_1\\AA'\n",
      "48/100 - Started processing 'wiki_47' in folder 'component_1\\AA'\n",
      "49/100 - Started processing 'wiki_48' in folder 'component_1\\AA'\n",
      "50/100 - Started processing 'wiki_49' in folder 'component_1\\AA'\n",
      "51/100 - Started processing 'wiki_50' in folder 'component_1\\AA'\n",
      "52/100 - Started processing 'wiki_51' in folder 'component_1\\AA'\n",
      "53/100 - Started processing 'wiki_52' in folder 'component_1\\AA'\n",
      "54/100 - Started processing 'wiki_53' in folder 'component_1\\AA'\n",
      "55/100 - Started processing 'wiki_54' in folder 'component_1\\AA'\n",
      "56/100 - Started processing 'wiki_55' in folder 'component_1\\AA'\n",
      "57/100 - Started processing 'wiki_56' in folder 'component_1\\AA'\n",
      "58/100 - Started processing 'wiki_57' in folder 'component_1\\AA'\n",
      "59/100 - Started processing 'wiki_58' in folder 'component_1\\AA'\n",
      "60/100 - Started processing 'wiki_59' in folder 'component_1\\AA'\n",
      "61/100 - Started processing 'wiki_60' in folder 'component_1\\AA'\n",
      "62/100 - Started processing 'wiki_61' in folder 'component_1\\AA'\n",
      "63/100 - Started processing 'wiki_62' in folder 'component_1\\AA'\n",
      "64/100 - Started processing 'wiki_63' in folder 'component_1\\AA'\n",
      "65/100 - Started processing 'wiki_64' in folder 'component_1\\AA'\n",
      "66/100 - Started processing 'wiki_65' in folder 'component_1\\AA'\n",
      "67/100 - Started processing 'wiki_66' in folder 'component_1\\AA'\n",
      "68/100 - Started processing 'wiki_67' in folder 'component_1\\AA'\n",
      "69/100 - Started processing 'wiki_68' in folder 'component_1\\AA'\n",
      "70/100 - Started processing 'wiki_69' in folder 'component_1\\AA'\n",
      "71/100 - Started processing 'wiki_70' in folder 'component_1\\AA'\n",
      "72/100 - Started processing 'wiki_71' in folder 'component_1\\AA'\n",
      "73/100 - Started processing 'wiki_72' in folder 'component_1\\AA'\n",
      "74/100 - Started processing 'wiki_73' in folder 'component_1\\AA'\n",
      "75/100 - Started processing 'wiki_74' in folder 'component_1\\AA'\n",
      "76/100 - Started processing 'wiki_75' in folder 'component_1\\AA'\n",
      "77/100 - Started processing 'wiki_76' in folder 'component_1\\AA'\n",
      "78/100 - Started processing 'wiki_77' in folder 'component_1\\AA'\n",
      "79/100 - Started processing 'wiki_78' in folder 'component_1\\AA'\n",
      "80/100 - Started processing 'wiki_79' in folder 'component_1\\AA'\n",
      "81/100 - Started processing 'wiki_80' in folder 'component_1\\AA'\n",
      "82/100 - Started processing 'wiki_81' in folder 'component_1\\AA'\n",
      "83/100 - Started processing 'wiki_82' in folder 'component_1\\AA'\n",
      "84/100 - Started processing 'wiki_83' in folder 'component_1\\AA'\n",
      "85/100 - Started processing 'wiki_84' in folder 'component_1\\AA'\n",
      "86/100 - Started processing 'wiki_85' in folder 'component_1\\AA'\n",
      "87/100 - Started processing 'wiki_86' in folder 'component_1\\AA'\n",
      "88/100 - Started processing 'wiki_87' in folder 'component_1\\AA'\n",
      "89/100 - Started processing 'wiki_88' in folder 'component_1\\AA'\n",
      "90/100 - Started processing 'wiki_89' in folder 'component_1\\AA'\n",
      "91/100 - Started processing 'wiki_90' in folder 'component_1\\AA'\n",
      "92/100 - Started processing 'wiki_91' in folder 'component_1\\AA'\n",
      "93/100 - Started processing 'wiki_92' in folder 'component_1\\AA'\n",
      "94/100 - Started processing 'wiki_93' in folder 'component_1\\AA'\n",
      "95/100 - Started processing 'wiki_94' in folder 'component_1\\AA'\n",
      "96/100 - Started processing 'wiki_95' in folder 'component_1\\AA'\n",
      "97/100 - Started processing 'wiki_96' in folder 'component_1\\AA'\n",
      "98/100 - Started processing 'wiki_97' in folder 'component_1\\AA'\n",
      "99/100 - Started processing 'wiki_98' in folder 'component_1\\AA'\n",
      "100/100 - Started processing 'wiki_99' in folder 'component_1\\AA'\n",
      "Folder component_1\\AA is processed\n",
      "1/77 - Started processing 'wiki_00' in folder 'component_1\\AB'\n",
      "2/77 - Started processing 'wiki_01' in folder 'component_1\\AB'\n",
      "3/77 - Started processing 'wiki_02' in folder 'component_1\\AB'\n",
      "4/77 - Started processing 'wiki_03' in folder 'component_1\\AB'\n",
      "5/77 - Started processing 'wiki_04' in folder 'component_1\\AB'\n",
      "6/77 - Started processing 'wiki_05' in folder 'component_1\\AB'\n",
      "7/77 - Started processing 'wiki_06' in folder 'component_1\\AB'\n",
      "8/77 - Started processing 'wiki_07' in folder 'component_1\\AB'\n",
      "9/77 - Started processing 'wiki_08' in folder 'component_1\\AB'\n",
      "10/77 - Started processing 'wiki_09' in folder 'component_1\\AB'\n",
      "11/77 - Started processing 'wiki_10' in folder 'component_1\\AB'\n",
      "12/77 - Started processing 'wiki_11' in folder 'component_1\\AB'\n",
      "13/77 - Started processing 'wiki_12' in folder 'component_1\\AB'\n",
      "14/77 - Started processing 'wiki_13' in folder 'component_1\\AB'\n",
      "15/77 - Started processing 'wiki_14' in folder 'component_1\\AB'\n",
      "16/77 - Started processing 'wiki_15' in folder 'component_1\\AB'\n",
      "17/77 - Started processing 'wiki_16' in folder 'component_1\\AB'\n",
      "18/77 - Started processing 'wiki_17' in folder 'component_1\\AB'\n",
      "19/77 - Started processing 'wiki_18' in folder 'component_1\\AB'\n",
      "20/77 - Started processing 'wiki_19' in folder 'component_1\\AB'\n",
      "21/77 - Started processing 'wiki_20' in folder 'component_1\\AB'\n",
      "22/77 - Started processing 'wiki_21' in folder 'component_1\\AB'\n",
      "23/77 - Started processing 'wiki_22' in folder 'component_1\\AB'\n",
      "24/77 - Started processing 'wiki_23' in folder 'component_1\\AB'\n",
      "25/77 - Started processing 'wiki_24' in folder 'component_1\\AB'\n",
      "26/77 - Started processing 'wiki_25' in folder 'component_1\\AB'\n",
      "27/77 - Started processing 'wiki_26' in folder 'component_1\\AB'\n",
      "28/77 - Started processing 'wiki_27' in folder 'component_1\\AB'\n",
      "29/77 - Started processing 'wiki_28' in folder 'component_1\\AB'\n",
      "30/77 - Started processing 'wiki_29' in folder 'component_1\\AB'\n",
      "31/77 - Started processing 'wiki_30' in folder 'component_1\\AB'\n",
      "32/77 - Started processing 'wiki_31' in folder 'component_1\\AB'\n",
      "33/77 - Started processing 'wiki_32' in folder 'component_1\\AB'\n",
      "34/77 - Started processing 'wiki_33' in folder 'component_1\\AB'\n",
      "35/77 - Started processing 'wiki_34' in folder 'component_1\\AB'\n",
      "36/77 - Started processing 'wiki_35' in folder 'component_1\\AB'\n",
      "37/77 - Started processing 'wiki_36' in folder 'component_1\\AB'\n",
      "38/77 - Started processing 'wiki_37' in folder 'component_1\\AB'\n",
      "39/77 - Started processing 'wiki_38' in folder 'component_1\\AB'\n",
      "40/77 - Started processing 'wiki_39' in folder 'component_1\\AB'\n",
      "41/77 - Started processing 'wiki_40' in folder 'component_1\\AB'\n",
      "42/77 - Started processing 'wiki_41' in folder 'component_1\\AB'\n",
      "43/77 - Started processing 'wiki_42' in folder 'component_1\\AB'\n",
      "44/77 - Started processing 'wiki_43' in folder 'component_1\\AB'\n",
      "45/77 - Started processing 'wiki_44' in folder 'component_1\\AB'\n",
      "46/77 - Started processing 'wiki_45' in folder 'component_1\\AB'\n",
      "47/77 - Started processing 'wiki_46' in folder 'component_1\\AB'\n",
      "48/77 - Started processing 'wiki_47' in folder 'component_1\\AB'\n",
      "49/77 - Started processing 'wiki_48' in folder 'component_1\\AB'\n",
      "50/77 - Started processing 'wiki_49' in folder 'component_1\\AB'\n",
      "51/77 - Started processing 'wiki_50' in folder 'component_1\\AB'\n",
      "52/77 - Started processing 'wiki_51' in folder 'component_1\\AB'\n",
      "53/77 - Started processing 'wiki_52' in folder 'component_1\\AB'\n",
      "54/77 - Started processing 'wiki_53' in folder 'component_1\\AB'\n",
      "55/77 - Started processing 'wiki_54' in folder 'component_1\\AB'\n",
      "56/77 - Started processing 'wiki_55' in folder 'component_1\\AB'\n",
      "57/77 - Started processing 'wiki_56' in folder 'component_1\\AB'\n",
      "58/77 - Started processing 'wiki_57' in folder 'component_1\\AB'\n",
      "59/77 - Started processing 'wiki_58' in folder 'component_1\\AB'\n",
      "60/77 - Started processing 'wiki_59' in folder 'component_1\\AB'\n",
      "61/77 - Started processing 'wiki_60' in folder 'component_1\\AB'\n",
      "62/77 - Started processing 'wiki_61' in folder 'component_1\\AB'\n",
      "63/77 - Started processing 'wiki_62' in folder 'component_1\\AB'\n",
      "64/77 - Started processing 'wiki_63' in folder 'component_1\\AB'\n",
      "65/77 - Started processing 'wiki_64' in folder 'component_1\\AB'\n",
      "66/77 - Started processing 'wiki_65' in folder 'component_1\\AB'\n",
      "67/77 - Started processing 'wiki_66' in folder 'component_1\\AB'\n",
      "68/77 - Started processing 'wiki_67' in folder 'component_1\\AB'\n",
      "69/77 - Started processing 'wiki_68' in folder 'component_1\\AB'\n",
      "70/77 - Started processing 'wiki_69' in folder 'component_1\\AB'\n",
      "71/77 - Started processing 'wiki_70' in folder 'component_1\\AB'\n",
      "72/77 - Started processing 'wiki_71' in folder 'component_1\\AB'\n",
      "73/77 - Started processing 'wiki_72' in folder 'component_1\\AB'\n",
      "74/77 - Started processing 'wiki_73' in folder 'component_1\\AB'\n",
      "75/77 - Started processing 'wiki_74' in folder 'component_1\\AB'\n",
      "76/77 - Started processing 'wiki_75' in folder 'component_1\\AB'\n",
      "77/77 - Started processing 'wiki_76' in folder 'component_1\\AB'\n",
      "Folder component_1\\AB is processed\n"
     ]
    }
   ],
   "source": [
    "folders = [os.path.join(\"component_1\",\"AA\"), os.path.join(\"component_1\",\"AB\")]\n",
    "# Title for title filtering, trailing space is important for filtering\n",
    "title = \"UNESCO World Heritage Site \"\n",
    "\n",
    "page_list = preprocessor.process_folders(folders = folders, landmarks = landmark_names, debug = True, title = title, title_based = True)"
   ]
  },
  {
   "cell_type": "markdown",
   "metadata": {},
   "source": [
    "#### 1.2.2 Exporting the second subset\n",
    "The final step for the second subset is to export it to a JSON file so that it can be used later on."
   ]
  },
  {
   "cell_type": "code",
   "execution_count": 11,
   "metadata": {},
   "outputs": [],
   "source": [
    "preprocessor.writeFile(page_list, f\"component_1/unesco_wikipedia_pages.json\")"
   ]
  },
  {
   "cell_type": "markdown",
   "metadata": {},
   "source": [
    "## 2. Clearning the wikipedia pages\n",
    "\n",
    "### 2.1 Shortening the wikipedia pages\n",
    "For the main purpose of the task, namely converting information from text to a knowledge graph, most important information of a heritage site is stored in the first few paragraphs. Therefore, we will first shorten all the texts to the first 2 paragraphs and with a minimum of 500 words (average paragraph length is 250 words).\n",
    "\n",
    "We start of by defining a function that can shorten a text to 2 paragraphs. This is done by splitting the text on the newline character and then joining the first two paragraphs together."
   ]
  },
  {
   "cell_type": "code",
   "execution_count": 12,
   "metadata": {},
   "outputs": [],
   "source": [
    "unesco_wikipedia_pages = preprocessor.loadFile(f\"component_1/unesco_wikipedia_titles.json\")"
   ]
  },
  {
   "cell_type": "code",
   "execution_count": 13,
   "metadata": {},
   "outputs": [],
   "source": [
    "for page in unesco_wikipedia_pages:\n",
    "    splitted_text = page[\"text\"].split(\"\\n\")\n",
    "\n",
    "    # Get the lengths of every split and get the first index of the split where the total number is higher than 500\n",
    "    total_length = 0\n",
    "    for index, split in enumerate(splitted_text):\n",
    "        total_length += len(split)\n",
    "        if total_length > 500:\n",
    "            page[\"text\"] = ''.join(splitted_text[:index+1])\n",
    "            break"
   ]
  },
  {
   "cell_type": "markdown",
   "metadata": {},
   "source": [
    "At this point the unesco_wikipedia_pages are split per new line. The average paragraph length is 250 words. Therefore, we will shorten the texts with a minimum of 500 words.\n",
    "\n",
    "### 2.2 Removing unwanted characters and fixing unicode"
   ]
  },
  {
   "cell_type": "code",
   "execution_count": 14,
   "metadata": {},
   "outputs": [
    {
     "name": "stderr",
     "output_type": "stream",
     "text": [
      "100%|██████████| 373/373 [00:00<00:00, 2434.20it/s]\n"
     ]
    }
   ],
   "source": [
    "unesco_wikipedia_pages_clean = preprocessor.fix_unicode(unesco_wikipedia_pages)"
   ]
  },
  {
   "cell_type": "markdown",
   "metadata": {},
   "source": [
    "An example of the cleaned text is shown below:"
   ]
  },
  {
   "cell_type": "code",
   "execution_count": 15,
   "metadata": {},
   "outputs": [
    {
     "data": {
      "text/plain": [
       "{'id': '2642',\n",
       " 'revid': '22970011',\n",
       " 'url': 'https://en.wikipedia.org/wiki?curid=2642',\n",
       " 'title': 'Ajanta Caves',\n",
       " 'text': 'The Ajanta Caves are 29 rock-cut Buddhist cave monuments dating from the second century BCE to about 480 CE in the Aurangabad District of Maharashtra state in India. Ajanta Caves are a UNESCO World Heritage Site. Universally regarded as masterpieces of Buddhist religious art, the caves include paintings and rock-cut sculptures described as among the finest surviving examples of ancient Indian art, particularly expressive paintings that present emotions through gesture, pose and form.The caves were built in two phases, the first starting around the second century BCE and the second occurring from 400 to 650 CE, according to older accounts, or in a brief period of 460–480 CE according to later scholarship. ',\n",
       " 'original_text': 'The Ajanta Caves are 29 rock-cut Buddhist cave monuments dating from the second century BCE to about 480 CE in the Aurangabad District of Maharashtra state in India. Ajanta Caves are a UNESCO World Heritage Site. Universally regarded as masterpieces of Buddhist religious art, the caves include paintings and rock-cut sculptures described as among the finest surviving examples of ancient Indian art, particularly expressive paintings that present emotions through gesture, pose and form.The caves were built in two phases, the first starting around the second century BCE and the second occurring from 400 to 650 CE, according to older accounts, or in a brief period of 460–480 CE according to later scholarship. '}"
      ]
     },
     "execution_count": 15,
     "metadata": {},
     "output_type": "execute_result"
    }
   ],
   "source": [
    "unesco_wikipedia_pages_clean[0]"
   ]
  },
  {
   "cell_type": "markdown",
   "metadata": {},
   "source": [
    "### 2.3 Export the cleaned data in separate json files\n",
    "There is a export needed of separate json file for the annotation program."
   ]
  },
  {
   "cell_type": "code",
   "execution_count": 16,
   "metadata": {},
   "outputs": [],
   "source": [
    "preprocessor.save_file(unesco_wikipedia_pages_clean, \"component_1/subset_texts\")"
   ]
  },
  {
   "cell_type": "markdown",
   "metadata": {},
   "source": [
    "## 3 Calculating precision and recall\n",
    "The precision and recall scores of the retrieved UNESCO articles are calculated. The precision is the number of retrieved relevant articles divided by the total number of retrieved articles. The recall is the number of retrieved relevant articles divided by the total number of relevant articles. This lets us determine how well the filtering worked for the first and second subset."
   ]
  },
  {
   "cell_type": "code",
   "execution_count": 18,
   "metadata": {},
   "outputs": [],
   "source": [
    "import requests\n",
    "from bs4 import BeautifulSoup"
   ]
  },
  {
   "cell_type": "markdown",
   "metadata": {},
   "source": [
    "### 3.1 Scraping Wikipedia\n",
    "The list of UNESCO landmarks is retrieved by scraping the Wikipedia page. The list is then used to determine the confusion matrix."
   ]
  },
  {
   "cell_type": "code",
   "execution_count": 19,
   "metadata": {},
   "outputs": [],
   "source": [
    "page = requests.get(\"https://en.wikipedia.org/wiki/List_of_World_Heritage_Sites_by_year_of_inscription\")\n",
    "soup = BeautifulSoup(page.content, 'html.parser')\n",
    "\n",
    "tables = soup.find_all('table')\n",
    "titles = []\n",
    "\n",
    "for table in tables:\n",
    "    for row in table.find_all('tr')[1:]:\n",
    "        flag_icon = row.find('span', {'class': 'flagicon'})\n",
    "        \n",
    "        # Select the appropriate column based on the presence of 'flagicon'\n",
    "        title_column_index = 1 if flag_icon else 0\n",
    "        \n",
    "        # Check if there is a hyperref title element\n",
    "        title = row.find_all('td')[title_column_index].find('a')\n",
    "        \n",
    "        if title:\n",
    "            title = title.get('title')\n",
    "            titles.append(title)"
   ]
  },
  {
   "cell_type": "markdown",
   "metadata": {},
   "source": [
    "### 3.2.1 Getting titles subset 1 (Spacy) \n",
    "Retrieving the titles from the document subsets for subset 1, which was created with spacy embedding filtering."
   ]
  },
  {
   "cell_type": "code",
   "execution_count": 20,
   "metadata": {},
   "outputs": [],
   "source": [
    "import json \n",
    "\n",
    "titles_found_set1 = []\n",
    "folder_path = \"data/component_1/subset_texts\"\n",
    "for filename in os.listdir(folder_path):\n",
    "    file_path = os.path.join(folder_path, filename)\n",
    "\n",
    "    with open(file_path, \"r\", encoding=\"utf-8\") as file:\n",
    "            json_data = json.load(file)\n",
    "            title = json_data.get('title')\n",
    "            titles_found_set1.append(title)"
   ]
  },
  {
   "cell_type": "markdown",
   "metadata": {},
   "source": [
    "### 3.2.2 Getting titles subset 2 (\"UNESCO World Heritage Site \" checks)\n",
    "Retrieving the titles from subset 2, which was created with checking whether 'UNESCO World Heritage Site ' occured in the text."
   ]
  },
  {
   "cell_type": "code",
   "execution_count": 21,
   "metadata": {},
   "outputs": [],
   "source": [
    "titles_found_set2 = []\n",
    "unesco_wikipedia_pages = preprocessor.loadFile(f\"component_1/unesco_wikipedia_pages.json\")\n",
    "for item in unesco_wikipedia_pages:\n",
    "    title = item.get('title')\n",
    "    titles_found_set2.append(title)"
   ]
  },
  {
   "cell_type": "markdown",
   "metadata": {},
   "source": [
    "### 3.3.1 Calculating precision and recall subset 1 (Spacy)\n",
    "First we calculate the precision and recall for subset 1, done by retrieving the true positives, false positives and false negatives. The precision and recall are then calculated using these values."
   ]
  },
  {
   "cell_type": "code",
   "execution_count": 22,
   "metadata": {},
   "outputs": [],
   "source": [
    "true_positives_set1 = 0\n",
    "false_positives_set1 = 0\n",
    "\n",
    "for title in titles_found_set1:\n",
    "    if title in titles:\n",
    "        true_positives_set1 += 1\n",
    "    else:\n",
    "        false_positives_set1 +=1\n",
    "\n",
    "##list we used has 1158 UNESCO items so that is the maximum we could find\n",
    "false_negatives_set1 = 1158 - false_positives_set1\n",
    "\n",
    "precision_set1 = true_positives_set1 / (true_positives_set1 + false_positives_set1)\n",
    "recall_set1 = true_positives_set1 / (true_positives_set1 + false_negatives_set1)"
   ]
  },
  {
   "cell_type": "markdown",
   "metadata": {},
   "source": [
    "### 3.3.2 Calculating precision and recall subset 2 (\"UNESCO World Heritage Site \" checks)\n",
    "First we calculate the precision and recall for subset 2, done by retrieving the true positives, false positives and false negatives. The precision and recall are then calculated using these values."
   ]
  },
  {
   "cell_type": "code",
   "execution_count": 23,
   "metadata": {},
   "outputs": [],
   "source": [
    "true_positives_set2 = 0\n",
    "false_positives_set2 = 0\n",
    "\n",
    "for title in titles_found_set2:\n",
    "    if title in titles:\n",
    "        true_positives_set2 += 1\n",
    "    else:\n",
    "        false_positives_set2 +=1\n",
    "\n",
    "#list we used has 1158 UNESCO items so that is the maximum we could find\n",
    "false_negatives_set2 = max(0, 1158 - false_positives_set2)\n",
    "\n",
    "precision_set2 = true_positives_set2 / (true_positives_set2 + false_positives_set2)\n",
    "recall_set2 = true_positives_set2 / (true_positives_set2 + false_negatives_set2)"
   ]
  },
  {
   "cell_type": "markdown",
   "metadata": {},
   "source": [
    "### 3.3.3 Results\n",
    "The results indicate the desired outcome for subset 1, where the precision is 1.0. The low value for the recall was expected since only 373 of the 1158 articles were included. The results for subset 2 are not as good, with a precision of 0.1 and a recall of -0.4. This is due to the fact that the check for 'UNESCO World Heritage Site ' in the text is not very accurate. However, this subset is mainly used to test the model on and create the knowledge graph, so the results are not as important as for subset 1."
   ]
  },
  {
   "cell_type": "code",
   "execution_count": 24,
   "metadata": {},
   "outputs": [
    {
     "name": "stdout",
     "output_type": "stream",
     "text": [
      "Precision set 1: 1.0\n",
      "Recall set 1: 0.2446183953033268\n",
      "Precision set 2: 0.08346547498918841\n",
      "Recall set 2: -0.1252975546418524\n"
     ]
    }
   ],
   "source": [
    "print(f\"Precision set 1: {precision_set1}\")\n",
    "print(f\"Recall set 1: {recall_set1}\")\n",
    "print(f\"Precision set 2: {precision_set2}\")\n",
    "print(f\"Recall set 2: {recall_set2}\")"
   ]
  }
 ],
 "metadata": {
  "kernelspec": {
   "display_name": "Text-Mining-xR8YyNgY",
   "language": "python",
   "name": "python3"
  },
  "language_info": {
   "codemirror_mode": {
    "name": "ipython",
    "version": 3
   },
   "file_extension": ".py",
   "mimetype": "text/x-python",
   "name": "python",
   "nbconvert_exporter": "python",
   "pygments_lexer": "ipython3",
   "version": "3.10.11"
  },
  "orig_nbformat": 4
 },
 "nbformat": 4,
 "nbformat_minor": 2
}
