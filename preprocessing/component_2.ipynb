{
 "cells": [
  {
   "cell_type": "code",
   "execution_count": 111,
   "metadata": {},
   "outputs": [
    {
     "name": "stdout",
     "output_type": "stream",
     "text": [
      "The autoreload extension is already loaded. To reload it, use:\n",
      "  %reload_ext autoreload\n"
     ]
    },
    {
     "name": "stderr",
     "output_type": "stream",
     "text": [
      "[nltk_data] Downloading package punkt to\n",
      "[nltk_data]     C:\\Users\\20182640\\AppData\\Roaming\\nltk_data...\n",
      "[nltk_data]   Package punkt is already up-to-date!\n"
     ]
    }
   ],
   "source": [
    "%load_ext autoreload\n",
    "%autoreload 2"
   ]
  },
  {
   "cell_type": "markdown",
   "metadata": {},
   "source": [
    "# Pre-Processing Texts Part 2"
   ]
  },
  {
   "cell_type": "markdown",
   "metadata": {},
   "source": [
    "We start with importing the necessary libraries and the the module"
   ]
  },
  {
   "cell_type": "code",
   "execution_count": 112,
   "metadata": {},
   "outputs": [
    {
     "name": "stderr",
     "output_type": "stream",
     "text": [
      "c:\\Users\\20182640\\.virtualenvs\\Text-Mining-xR8YyNgY\\lib\\site-packages\\spacy\\util.py:910: UserWarning: [W095] Model 'en_core_web_sm' (3.6.0) was trained with spaCy v3.6.0 and may not be 100% compatible with the current version (3.7.0). If you see errors or degraded performance, download a newer compatible model or retrain your custom model with the current spaCy version. For more details and available updates, run: python -m spacy validate\n",
      "  warnings.warn(warn_msg)\n"
     ]
    }
   ],
   "source": [
    "from preprocessor import Preprocessor\n",
    "import preprocessor\n",
    "\n",
    "import os\n",
    "import pandas as pd\n",
    "\n",
    "ROOT_DIR = preprocessor.ROOT_DIR\n",
    "DATA_PATH = preprocessor.DATA_PATH\n",
    "\n",
    "preprocessor = Preprocessor(ROOT_DIR)"
   ]
  },
  {
   "cell_type": "markdown",
   "metadata": {},
   "source": [
    "# 1 Importing and cleaning\n",
    "\n",
    "## 1.1. Importing the raw text data from the XLSX file"
   ]
  },
  {
   "cell_type": "code",
   "execution_count": 113,
   "metadata": {},
   "outputs": [
    {
     "data": {
      "text/html": [
       "<div>\n",
       "<style scoped>\n",
       "    .dataframe tbody tr th:only-of-type {\n",
       "        vertical-align: middle;\n",
       "    }\n",
       "\n",
       "    .dataframe tbody tr th {\n",
       "        vertical-align: top;\n",
       "    }\n",
       "\n",
       "    .dataframe thead th {\n",
       "        text-align: right;\n",
       "    }\n",
       "</style>\n",
       "<table border=\"1\" class=\"dataframe\">\n",
       "  <thead>\n",
       "    <tr style=\"text-align: right;\">\n",
       "      <th></th>\n",
       "      <th>Docket</th>\n",
       "      <th>LERNuma</th>\n",
       "      <th>EventDt</th>\n",
       "      <th>IPFCode</th>\n",
       "      <th>IPFShortDesc</th>\n",
       "      <th>A_Blackout</th>\n",
       "      <th>B_LOOP</th>\n",
       "      <th>C_Bus</th>\n",
       "      <th>D_Pneumatic</th>\n",
       "      <th>E_CoolingWater</th>\n",
       "      <th>...</th>\n",
       "      <th>L3_BypUnavailable</th>\n",
       "      <th>MX_ATWS</th>\n",
       "      <th>NX_ISLOCA</th>\n",
       "      <th>PX_LossOfFeed</th>\n",
       "      <th>RptName</th>\n",
       "      <th>PLANT_TYPE</th>\n",
       "      <th>VENDOR</th>\n",
       "      <th>UnitMode</th>\n",
       "      <th>PowerLevel</th>\n",
       "      <th>Abstract</th>\n",
       "    </tr>\n",
       "  </thead>\n",
       "  <tbody>\n",
       "    <tr>\n",
       "      <th>0</th>\n",
       "      <td>29</td>\n",
       "      <td>291987003.0</td>\n",
       "      <td>1987-02-18</td>\n",
       "      <td>QR3</td>\n",
       "      <td>Reactivity Control Imbalance</td>\n",
       "      <td>NaN</td>\n",
       "      <td>NaN</td>\n",
       "      <td>NaN</td>\n",
       "      <td>NaN</td>\n",
       "      <td>NaN</td>\n",
       "      <td>...</td>\n",
       "      <td>NaN</td>\n",
       "      <td>NaN</td>\n",
       "      <td>NaN</td>\n",
       "      <td>NaN</td>\n",
       "      <td>Yankee-Rowe</td>\n",
       "      <td>P</td>\n",
       "      <td>WE</td>\n",
       "      <td>PO</td>\n",
       "      <td>100.0</td>\n",
       "      <td>On 2/18/87, at 0001 hours, during normal stead...</td>\n",
       "    </tr>\n",
       "    <tr>\n",
       "      <th>1</th>\n",
       "      <td>29</td>\n",
       "      <td>291987012.0</td>\n",
       "      <td>1987-07-06</td>\n",
       "      <td>QR0</td>\n",
       "      <td>RCS High Pressure (RPS Trip)</td>\n",
       "      <td>NaN</td>\n",
       "      <td>NaN</td>\n",
       "      <td>NaN</td>\n",
       "      <td>NaN</td>\n",
       "      <td>NaN</td>\n",
       "      <td>...</td>\n",
       "      <td>NaN</td>\n",
       "      <td>NaN</td>\n",
       "      <td>NaN</td>\n",
       "      <td>NaN</td>\n",
       "      <td>Yankee-Rowe</td>\n",
       "      <td>P</td>\n",
       "      <td>WE</td>\n",
       "      <td>SU</td>\n",
       "      <td>1.0</td>\n",
       "      <td>On July 6, 1987, with the plant in Mode 2 at 5...</td>\n",
       "    </tr>\n",
       "    <tr>\n",
       "      <th>2</th>\n",
       "      <td>29</td>\n",
       "      <td>291988002.0</td>\n",
       "      <td>1988-03-22</td>\n",
       "      <td>QR8</td>\n",
       "      <td>Spurious Reactor Trip</td>\n",
       "      <td>NaN</td>\n",
       "      <td>NaN</td>\n",
       "      <td>NaN</td>\n",
       "      <td>NaN</td>\n",
       "      <td>NaN</td>\n",
       "      <td>...</td>\n",
       "      <td>NaN</td>\n",
       "      <td>NaN</td>\n",
       "      <td>NaN</td>\n",
       "      <td>NaN</td>\n",
       "      <td>Yankee-Rowe</td>\n",
       "      <td>P</td>\n",
       "      <td>WE</td>\n",
       "      <td>PO</td>\n",
       "      <td>100.0</td>\n",
       "      <td>On 3/22/88, at 0042, with the Plant operating ...</td>\n",
       "    </tr>\n",
       "    <tr>\n",
       "      <th>3</th>\n",
       "      <td>29</td>\n",
       "      <td>291988003.0</td>\n",
       "      <td>1988-03-26</td>\n",
       "      <td>QP2</td>\n",
       "      <td>Partial Loss of Feedwater Flow</td>\n",
       "      <td>NaN</td>\n",
       "      <td>NaN</td>\n",
       "      <td>NaN</td>\n",
       "      <td>NaN</td>\n",
       "      <td>NaN</td>\n",
       "      <td>...</td>\n",
       "      <td>NaN</td>\n",
       "      <td>NaN</td>\n",
       "      <td>NaN</td>\n",
       "      <td>NaN</td>\n",
       "      <td>Yankee-Rowe</td>\n",
       "      <td>P</td>\n",
       "      <td>WE</td>\n",
       "      <td>PO</td>\n",
       "      <td>85.0</td>\n",
       "      <td>On March 26, 1988, while at 85% power and retu...</td>\n",
       "    </tr>\n",
       "    <tr>\n",
       "      <th>4</th>\n",
       "      <td>29</td>\n",
       "      <td>291988008.0</td>\n",
       "      <td>1988-05-17</td>\n",
       "      <td>QR5</td>\n",
       "      <td>Turbine Trip</td>\n",
       "      <td>NaN</td>\n",
       "      <td>NaN</td>\n",
       "      <td>NaN</td>\n",
       "      <td>NaN</td>\n",
       "      <td>NaN</td>\n",
       "      <td>...</td>\n",
       "      <td>NaN</td>\n",
       "      <td>NaN</td>\n",
       "      <td>NaN</td>\n",
       "      <td>NaN</td>\n",
       "      <td>Yankee-Rowe</td>\n",
       "      <td>P</td>\n",
       "      <td>WE</td>\n",
       "      <td>PO</td>\n",
       "      <td>100.0</td>\n",
       "      <td>At 2323 hours, 17 May 1988, in Mode 1 at full ...</td>\n",
       "    </tr>\n",
       "  </tbody>\n",
       "</table>\n",
       "<p>5 rows × 56 columns</p>\n",
       "</div>"
      ],
      "text/plain": [
       "  Docket      LERNuma    EventDt IPFCode                    IPFShortDesc  \\\n",
       "0     29  291987003.0 1987-02-18     QR3    Reactivity Control Imbalance   \n",
       "1     29  291987012.0 1987-07-06     QR0    RCS High Pressure (RPS Trip)   \n",
       "2     29  291988002.0 1988-03-22     QR8           Spurious Reactor Trip   \n",
       "3     29  291988003.0 1988-03-26     QP2  Partial Loss of Feedwater Flow   \n",
       "4     29  291988008.0 1988-05-17     QR5                    Turbine Trip   \n",
       "\n",
       "   A_Blackout B_LOOP C_Bus D_Pneumatic E_CoolingWater  ... L3_BypUnavailable  \\\n",
       "0         NaN    NaN   NaN         NaN            NaN  ...               NaN   \n",
       "1         NaN    NaN   NaN         NaN            NaN  ...               NaN   \n",
       "2         NaN    NaN   NaN         NaN            NaN  ...               NaN   \n",
       "3         NaN    NaN   NaN         NaN            NaN  ...               NaN   \n",
       "4         NaN    NaN   NaN         NaN            NaN  ...               NaN   \n",
       "\n",
       "  MX_ATWS NX_ISLOCA PX_LossOfFeed      RptName PLANT_TYPE  VENDOR  UnitMode  \\\n",
       "0     NaN       NaN           NaN  Yankee-Rowe          P      WE        PO   \n",
       "1     NaN       NaN           NaN  Yankee-Rowe          P      WE        SU   \n",
       "2     NaN       NaN           NaN  Yankee-Rowe          P      WE        PO   \n",
       "3     NaN       NaN           NaN  Yankee-Rowe          P      WE        PO   \n",
       "4     NaN       NaN           NaN  Yankee-Rowe          P      WE        PO   \n",
       "\n",
       "  PowerLevel                                           Abstract  \n",
       "0      100.0  On 2/18/87, at 0001 hours, during normal stead...  \n",
       "1        1.0  On July 6, 1987, with the plant in Mode 2 at 5...  \n",
       "2      100.0  On 3/22/88, at 0042, with the Plant operating ...  \n",
       "3       85.0  On March 26, 1988, while at 85% power and retu...  \n",
       "4      100.0  At 2323 hours, 17 May 1988, in Mode 1 at full ...  \n",
       "\n",
       "[5 rows x 56 columns]"
      ]
     },
     "execution_count": 113,
     "metadata": {},
     "output_type": "execute_result"
    }
   ],
   "source": [
    "df_events_summary = pd.read_excel(os.path.join(DATA_PATH, \"component_2\", \"initiating-events-summary-2021.xlsx\"), sheet_name=\"2021 IE Events\")\n",
    "\n",
    "df_events_summary.head()"
   ]
  },
  {
   "cell_type": "markdown",
   "metadata": {},
   "source": [
    "## 1.2. Cleaning the raw data\n",
    "We will drop the not necessary columns from the dataframe, rename the columsn we need and clean the texts from the description column\n"
   ]
  },
  {
   "cell_type": "code",
   "execution_count": 114,
   "metadata": {},
   "outputs": [
    {
     "name": "stdout",
     "output_type": "stream",
     "text": [
      "There are duplicates in the data\n",
      "There are 3791 unique events in the data\n",
      "There are 3713 unique events in the data after dropping duplicates and nan\n"
     ]
    },
    {
     "data": {
      "text/html": [
       "<div>\n",
       "<style scoped>\n",
       "    .dataframe tbody tr th:only-of-type {\n",
       "        vertical-align: middle;\n",
       "    }\n",
       "\n",
       "    .dataframe tbody tr th {\n",
       "        vertical-align: top;\n",
       "    }\n",
       "\n",
       "    .dataframe thead th {\n",
       "        text-align: right;\n",
       "    }\n",
       "</style>\n",
       "<table border=\"1\" class=\"dataframe\">\n",
       "  <thead>\n",
       "    <tr style=\"text-align: right;\">\n",
       "      <th></th>\n",
       "      <th>description</th>\n",
       "    </tr>\n",
       "  </thead>\n",
       "  <tbody>\n",
       "    <tr>\n",
       "      <th>0</th>\n",
       "      <td>On 2/18/87, at 0001 hours, during normal stead...</td>\n",
       "    </tr>\n",
       "    <tr>\n",
       "      <th>1</th>\n",
       "      <td>On July 6, 1987, with the plant in Mode 2 at 5...</td>\n",
       "    </tr>\n",
       "    <tr>\n",
       "      <th>2</th>\n",
       "      <td>On 3/22/88, at 0042, with the Plant operating ...</td>\n",
       "    </tr>\n",
       "    <tr>\n",
       "      <th>3</th>\n",
       "      <td>On March 26, 1988, while at 85% power and retu...</td>\n",
       "    </tr>\n",
       "    <tr>\n",
       "      <th>4</th>\n",
       "      <td>At 2323 hours, 17 May 1988, in Mode 1 at full ...</td>\n",
       "    </tr>\n",
       "  </tbody>\n",
       "</table>\n",
       "</div>"
      ],
      "text/plain": [
       "                                         description\n",
       "0  On 2/18/87, at 0001 hours, during normal stead...\n",
       "1  On July 6, 1987, with the plant in Mode 2 at 5...\n",
       "2  On 3/22/88, at 0042, with the Plant operating ...\n",
       "3  On March 26, 1988, while at 85% power and retu...\n",
       "4  At 2323 hours, 17 May 1988, in Mode 1 at full ..."
      ]
     },
     "execution_count": 114,
     "metadata": {},
     "output_type": "execute_result"
    }
   ],
   "source": [
    "df_events_short = df_events_summary[[\"Abstract\"]]\n",
    "\n",
    "# Some checks and print statements\n",
    "print(\"There are duplicates in the data\") if any(df_events_short.duplicated()) else print(\"There are no duplicates in the data\")\n",
    "print(f\"There are {len(df_events_short)} unique events in the data\")\n",
    "\n",
    "# Remove duplicates from data\n",
    "df_events_short = df_events_short.drop_duplicates()\n",
    "df_events_short = df_events_short.dropna()\n",
    "df_events_short = df_events_short.reset_index(drop=True)\n",
    "print(f\"There are {len(df_events_short)} unique events in the data after dropping duplicates and nan\")\n",
    "\n",
    "# Rename the columns\n",
    "df_events_short.columns = [\"description\"]\n",
    "\n",
    "df_events_short.head()"
   ]
  },
  {
   "cell_type": "code",
   "execution_count": 115,
   "metadata": {},
   "outputs": [
    {
     "name": "stdout",
     "output_type": "stream",
     "text": [
      "There are 3713 unique events in the data before cleaning html\n",
      "Cleaning data with ftfy...\n"
     ]
    },
    {
     "name": "stderr",
     "output_type": "stream",
     "text": [
      "100%|██████████| 3713/3713 [00:01<00:00, 2592.14it/s]"
     ]
    },
    {
     "name": "stdout",
     "output_type": "stream",
     "text": [
      "There are 3713 unique events in the data after cleaning html\n"
     ]
    },
    {
     "name": "stderr",
     "output_type": "stream",
     "text": [
      "\n"
     ]
    },
    {
     "data": {
      "text/html": [
       "<div>\n",
       "<style scoped>\n",
       "    .dataframe tbody tr th:only-of-type {\n",
       "        vertical-align: middle;\n",
       "    }\n",
       "\n",
       "    .dataframe tbody tr th {\n",
       "        vertical-align: top;\n",
       "    }\n",
       "\n",
       "    .dataframe thead th {\n",
       "        text-align: right;\n",
       "    }\n",
       "</style>\n",
       "<table border=\"1\" class=\"dataframe\">\n",
       "  <thead>\n",
       "    <tr style=\"text-align: right;\">\n",
       "      <th></th>\n",
       "      <th>description</th>\n",
       "    </tr>\n",
       "  </thead>\n",
       "  <tbody>\n",
       "    <tr>\n",
       "      <th>0</th>\n",
       "      <td>On 2/18/87, at 0001 hours, during normal stead...</td>\n",
       "    </tr>\n",
       "    <tr>\n",
       "      <th>1</th>\n",
       "      <td>On July 6, 1987, with the plant in Mode 2 at 5...</td>\n",
       "    </tr>\n",
       "    <tr>\n",
       "      <th>2</th>\n",
       "      <td>On 3/22/88, at 0042, with the Plant operating ...</td>\n",
       "    </tr>\n",
       "    <tr>\n",
       "      <th>3</th>\n",
       "      <td>On March 26, 1988, while at 85% power and retu...</td>\n",
       "    </tr>\n",
       "    <tr>\n",
       "      <th>4</th>\n",
       "      <td>At 2323 hours, 17 May 1988, in Mode 1 at full ...</td>\n",
       "    </tr>\n",
       "  </tbody>\n",
       "</table>\n",
       "</div>"
      ],
      "text/plain": [
       "                                         description\n",
       "0  On 2/18/87, at 0001 hours, during normal stead...\n",
       "1  On July 6, 1987, with the plant in Mode 2 at 5...\n",
       "2  On 3/22/88, at 0042, with the Plant operating ...\n",
       "3  On March 26, 1988, while at 85% power and retu...\n",
       "4  At 2323 hours, 17 May 1988, in Mode 1 at full ..."
      ]
     },
     "execution_count": 115,
     "metadata": {},
     "output_type": "execute_result"
    }
   ],
   "source": [
    "# For all description in every row, clean the text\n",
    "print(f\"There are {len(df_events_short)} unique events in the data before cleaning html\")\n",
    "df_events_short_clean = preprocessor.clean_html(df_events_short, \"description\")\n",
    "print(f\"There are {len(df_events_short_clean)} unique events in the data after cleaning html\")\n",
    "df_events_short_clean.head()"
   ]
  },
  {
   "cell_type": "markdown",
   "metadata": {},
   "source": [
    "## 1.3 Save the data to a text file\n",
    "The text file can be imported as one file to label studio which makes  it easier because of the cap of 100 files per import"
   ]
  },
  {
   "cell_type": "code",
   "execution_count": 116,
   "metadata": {},
   "outputs": [],
   "source": [
    "# Save the column as a text file\n",
    "import numpy as np\n",
    "\n",
    "\n",
    "np.savetxt(os.path.join(DATA_PATH, \"component_2\", \"initiating-events-summary-2021.txt\"), df_events_short[\"description\"].values, fmt='%s', encoding='utf-8')"
   ]
  }
 ],
 "metadata": {
  "kernelspec": {
   "display_name": "Text-Mining-xR8YyNgY",
   "language": "python",
   "name": "python3"
  },
  "language_info": {
   "codemirror_mode": {
    "name": "ipython",
    "version": 3
   },
   "file_extension": ".py",
   "mimetype": "text/x-python",
   "name": "python",
   "nbconvert_exporter": "python",
   "pygments_lexer": "ipython3",
   "version": "3.10.11"
  }
 },
 "nbformat": 4,
 "nbformat_minor": 2
}
